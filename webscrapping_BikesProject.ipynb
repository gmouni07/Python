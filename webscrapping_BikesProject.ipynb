{
 "cells": [
  {
   "cell_type": "code",
   "execution_count": 200,
   "metadata": {},
   "outputs": [],
   "source": [
    "#class_: this underscore is used because class is a keyword in python\n",
    "#Response200 -- then only webscrapping is possible and we can get the data\n",
    "#Response503-server unavailable and we cannot get data\n",
    "#These are status codes::\n",
    "# fn+f12 to do inspect directly\n",
    "import requests\n",
    "from bs4 import BeautifulSoup"
   ]
  },
  {
   "cell_type": "code",
   "execution_count": 201,
   "metadata": {},
   "outputs": [
    {
     "data": {
      "text/plain": [
       "<Response [200]>"
      ]
     },
     "execution_count": 201,
     "metadata": {},
     "output_type": "execute_result"
    }
   ],
   "source": [
    "s=requests.get(\"https://www.bikewale.com/royalenfield-bikes/\")\n",
    "s"
   ]
  },
  {
   "cell_type": "code",
   "execution_count": 202,
   "metadata": {},
   "outputs": [
    {
     "data": {
      "text/plain": [
       "<!DOCTYPE html>\n",
       "<html lang=\"en\"><head prefix=\"og:http://ogp.me/ns#\"><meta charset=\"utf-8\"/><meta content=\"IE=edge\" http-equiv=\"X-UA-Compatible\"/><meta content=\"text/html; charset=utf-8\" http-equiv=\"Content-Type\"/><link href=\"//imgd.aeplcdn.com\" rel=\"preconnect\"/><link href=\"//stb.aeplcdn.com\" rel=\"preconnect\"/><link href=\"//bhrigu.bikewale.com\" rel=\"preconnect\"/> <title>Royal Enfield Bikes Price in India - New Royal Enfield Models 2020, Images &amp; Specs - BikeWale</title> <meta content=\"Royal Enfield bikes offers 19 models in India with price starting from ₹ 1,14,755. Check on-road price, mileage, colours, reviews &amp; upcoming Royal Enfield models\" name=\"description\"/> <meta content=\"Royal Enfield, Royal Enfield Bikes , Royal Enfield Bikes prices, Royal Enfield Bikes reviews, Royal Enfield Images, new Royal Enfield Bikes\" name=\"keywords\"/> <link href=\"https://www.bikewale.com/royalenfield-bikes/\" rel=\"canonical\"/> <meta content=\"Royal Enfield Bikes Price in India - New Royal Enfield Models 2020, Images &amp; Specs - BikeWale\" property=\"og:title\"/><meta content=\"website\" property=\"og:type\"/><meta content=\"Royal Enfield bikes offers 19 models in India with price starting from ₹ 1,14,755. Check on-road price, mileage, colours, reviews &amp; upcoming Royal Enfield models\" property=\"og:description\"/><meta content=\"https://imgd.aeplcdn.com/0x0/bw/static/design15/mailer-images/bw-logo.png\" property=\"og:image\"/> <meta content=\"https://www.bikewale.com/royalenfield-bikes/\" property=\"og:url\"/> <link href=\"https://www.bikewale.com/m/royalenfield-bikes/amp/\" rel=\"amphtml\"/> <script type=\"application/ld+json\"> {\"@type\":\"WebPage\",\"name\":\"Royal Enfield Bikes Price in India - New Royal Enfield Models 2020, Images & Specs - BikeWale\",\"description\":\"Royal Enfield bikes offers 19 models in India with price starting from &#x20b9; 1,14,755. Check on-road price, mileage, colours, reviews & upcoming Royal Enfield models\",\"keywords\":\"Royal Enfield, Royal Enfield Bikes , Royal Enfield Bikes prices, Royal Enfield Bikes reviews, Royal Enfield Images, new Royal Enfield Bikes\",\"breadcrumb\":{\"@type\":\"BreadcrumbList\",\"itemListElement\":[{\"item\":{\"@type\":\"Thing\",\"@id\":\"https://www.bikewale.com/\",\"name\":\"Home\"},\"@type\":\"ListItem\",\"position\":1}]},\"url\":\"https://www.bikewale.com/royalenfield-bikes/\",\"@context\":\"http://schema.org\"} </script> <script type=\"application/ld+json\"> {\"@type\":\"Brand\",\"name\":\"Royal Enfield\",\"url\":\"https://www.bikewale.com/royalenfield-bikes/\",\"logo\":\"https://imgd.aeplcdn.com/0x0/bw/brands/royalenfield_11.jpg?ismaster=1\",\"description\":\"Royal Enfield is one of the oldest surviving motorcycle manufacturers in the world. Established in 1901, the iconic British manufacturer started off by manufacturing motorcycles, bicycles, lawnmowers, stationary engines and more popularly, weapons. To this day, Royal Enfield continues to use the motto ‘Made like a gun’, in memory of its legacy. Royal Enfield bikes are known for the class they exude as much as for their signature thump. Royal Enfield was acquired by Eicher Motors in 1994, which proved to be a pivotal role in the resurgence of the manufacturer. Although the company continues to make classic-styled and old-school motorcycles which are essentially modernised versions of the early Bullet models from the 1950s, the fortunes of Royal Enfield have turned and it is one of the fastest growing bike makers in the country. However, while the Classic set the company on a path of unprecedented growth, a few Royal Enfield models like the now-discontinued single-cylinder Continental GT had to make do with a muted response. The Royal Enfield in India, was unchallenged, until the foray of International brands like Triumph and Indian Chief. Making the most of its image as a lifestyle motorcycle manufacturer, Royal Enfield has so far managed to hold its turf despite a line-up in which some models are outdated. Having established its foothold in the Indian market, Royal Enfield is now aiming at widening its footprint at a global level. Of late, the company has been making its presence felt on a global scale by setting up exclusive dealerships in Europe, Gulf and the US. The Royal Enfield portfolio currently comprises of the Bullet, Classic, Thunderbird, Himalayan, Interceptor 650 and Continental GT 650. Of these, the Bullet, Classic and Thunderbird are available in two versions powered by 350cc and 500cc engines. While all the models have stayed true to the company’s traditional character, a few specific models do get their share of modern tech in the form of fuel injection, projector headlamp and digital instrument cluster. ABS and a rear disc brake have recently been added to this list for the entire range. Things are expected to get a lot more exciting for the brand presently, with the launch of its first twin-cylinder motorcycles, the Interceptor 650 and Continental GT 650. These are twin-cylinder 650cc motorcycles that promise to bring in a new chapter for the brand not just in India, but globally too, with their aggressive pricing.<br>\",\"@context\":\"http://schema.org\"} </script> <link href=\"https://www.bikewale.com/m/royalenfield-bikes/\" media=\"handheld\" rel=\"alternate\" type=\"text/html\"/><link href=\"https://www.bikewale.com/m/royalenfield-bikes/\" media=\"only screen and (max-width: 640px)\" rel=\"alternate\" type=\"text/html\"/> <link as=\"font\" crossorigin=\"\" href=\"https://stb.aeplcdn.com/bikewale/fonts/OpenSans/open-sans-v15-latin-regular.woff\" rel=\"preload\" type=\"font/woff2\"/><link as=\"font\" crossorigin=\"\" href=\"https://stb.aeplcdn.com/bikewale/fonts/OpenSans/open-sans-v15-latin-600.woff\" rel=\"preload\" type=\"font/woff2\"/><link as=\"font\" crossorigin=\"\" href=\"https://stb.aeplcdn.com/bikewale/fonts/OpenSans/open-sans-v15-latin-700.woff\" rel=\"preload\" type=\"font/woff2\"/> <link href=\"//www.googletagservices.com\" rel=\"dns-prefetch\"/><link href=\"//ad.doubleclick.net\" rel=\"dns-prefetch\"/><link href=\"//www.googleadservices.com\" rel=\"dns-prefetch\"/><link href=\"//www.google-analytics.com\" rel=\"dns-prefetch\"/><link href=\"//tpc.googlesyndication.com\" rel=\"dns-prefetch\"/> <link href=\"/favicon.ico\" rel=\"SHORTCUT ICON\" type=\"image/x-icon\"/> <style type=\"text/css\">body,html{-webkit-overflow-scrolling:touch}h1,h2{color:#2a2a2a;font-weight:600}h1,h2,h3{font-weight:600}body,h3{color:#4d5057}.form-control,article,aside,details,figcaption,figure,footer,header,hgroup,main,menu,nav,section,summary{display:block}.btn,.form-control,html{line-height:1.42857143}.btn,.global-search{vertical-align:middle}.btn-truncate,.text-truncate{text-overflow:ellipsis;white-space:nowrap}.btn,.btn-truncate,.text-truncate{white-space:nowrap}breadcrumb-linkhtml{height:100%;-webkit-text-size-adjust:100%;-ms-text-size-adjust:100%}body{font-size:13px;font-family:'Open Sans',sans-serif,Arial;background:#f4f3f3;font-style:normal;min-width:960px}blockquote,body,code,dd,div,dl,dt,fieldset,form,h1,h2,h3,h4,h5,h6,input,label,legend,li,ol,p,pre,textarea,ul{margin:0;padding:0}ol,ul{list-style:none}a img{border:none}a{color:#0288d1;text-decoration:none}a:hover{text-decoration:underline}.btn,.btn-orange:hover,.btn-teal:hover,.btn:hover,.jcarousel-pagination a{text-decoration:none}#globalCity-input input[type=text],*,.global-search input[type=text],:after,:before{-webkit-box-sizing:border-box;-moz-box-sizing:border-box;box-sizing:border-box}h1{font-size:22px}h2{font-size:16px}h3{font-size:14px}h4{font-size:16px}h5{font-size:14px}h6{font-size:12px}.container{width:996px;margin:0 auto}.grid-1,.grid-10,.grid-11,.grid-12,.grid-2,.grid-3,.grid-4,.grid-5,.grid-6,.grid-7,.grid-8,.grid-9{float:left;position:relative;min-height:1px;padding-right:10px;padding-left:10px}.grid-12{width:100%}.grid-11{width:91.66666667%}.grid-10{width:83.33333333%}.grid-9{width:75%}.grid-8{width:66.66666667%}.grid-7{width:58.33333333%}.grid-6{width:50%}.grid-5{width:41.66666667%}.grid-4{width:33.33333333%}.grid-3{width:25%}.grid-2{width:16.66666667%}.grid-1{width:8.33333333%}.alpha{padding-left:0}.omega{padding-right:0}.clear{clear:both}button,input,select{border:none;outline:0}button{margin:0}button::-moz-focus-inner,button::-webkit-focus-inner,input::-moz-focus-inner,input::-webkit-focus-inner{border:0;padding:0;outline:0}.ui-autocomplete-input,input::-webkit-input-placeholder{color:#a8afb3;font-size:13px}.ui-autocomplete-input,input:-moz-placeholder{color:#a8afb3;font-size:13px;opacity:1}.ui-autocomplete-input,input::-moz-placeholder{color:#a8afb3;font-size:13px;opacity:1}.ui-autocomplete-input,input:-ms-input-placeholder{color:#a8afb3;font-size:13px}.ui-autocomplete-input:focus{color:#555}.form-control-box{position:relative}.form-control{width:100%;padding:10px;background-color:#fff;background-image:none;border:1px solid #ccc;border-radius:2px;-webkit-box-shadow:inset 0 1px 1px rgba(0,0,0,.075);box-shadow:inset 0 1px 1px rgba(0,0,0,.075);-webkit-transition:border-color ease-in-out .15s,-webkit-box-shadow ease-in-out .15s;-o-transition:border-color ease-in-out .15s,box-shadow ease-in-out .15s;transition:border-color ease-in-out .15s,box-shadow ease-in-out .15s}.form-control:focus{border-color:#66afe9;outline:0;-webkit-box-shadow:inset 0 1px 1px rgba(0,0,0,.075),0 0 8px rgba(102,175,233,.6);box-shadow:inset 0 1px 1px rgba(0,0,0,.075),0 0 8px rgba(102,175,233,.6)}select.form-control{-moz-appearance:none;-webkit-appearance:none;background:url(https://imgd.aeplcdn.com/0x0/bw/static/design15/old-images/d/dropArrowBg.png?v1=03Mar2016) 96% 50% no-repeat #fff;padding-right:30px;padding-right:5px}.input-xs{padding:5px 10px}.input-sm{padding:8px 10px}.input-md{padding:10px}.input-lg{padding:12px 10px}.input-xlg{padding:14px 10px}.btn{display:inline-block;padding:8px 42px;font-size:16px;text-align:center;border:1px solid transparent;border-radius:2px;outline:0;-ms-touch-action:manipulation;touch-action:manipulation;cursor:pointer;-webkit-user-select:none;-moz-user-select:none;-ms-user-select:none;user-select:none;background-image:none;-webkit-border-fit:border}.btn-orange{background:#f04031;color:#fff}.btn-orange:hover{background:#f85649}.btn-orange:focus{background:#df3828}.btn-teal{background:#41b4c4;color:#fff;border:1px solid #41b4c4}.btn-teal:hover{background:#58bdcb;border:1px solid #58bdcb}.btn-teal:focus{background:#37939f;border:1px solid #37939f}.btn-inv-teal,.view-all-target-btn{background:0 0;color:#3799a7;border:1px solid #3799a7}.view-all-target-btn{padding:5px 7px;font-size:14px}.btn-inv-teal:hover,.view-all-target-btn:hover{color:#fff;background:#41b4c4;border-color:#41b4c4}.btn-grey,.btn-white{background:#fff;color:#ef402f;border:1px solid #f04130}.btn-grey:hover,.btn-white:hover{background:#f04031;color:#fff;text-decoration:none}.btn-grey:focus,.btn-white:focus{background:#df3828;color:#fff;border:1px solid #f04130}.btn-disable{cursor:not-allowed;opacity:.5;-ms-filter:'progid:DXImageTransform.Microsoft.Alpha(Opacity=50)';filter:alpha(opacity=50);-moz-opacity:.5;-khtml-opacity:.5}.btn-whiteFixedRed{background:#f04031;color:#fff;border:1px solid #f04130}.btn-xxs{padding:5px 26px}.btn-xs{padding:8px}.btn-sm{padding:8px 25px}.btn-md{padding:8px 30px}.btn-lg{padding:10px 20px 8px}.btn-xlg{padding:12px 52px}.btn-full-width{display:block;width:100%}.btn-truncate{width:230px;padding-right:10px;padding-left:10px;text-align:center;overflow:hidden}.lock-browser-scroll{position:fixed;overflow-y:scroll;width:100%}.global-search{width:420px;position:relative;display:inline-block;margin-right:30px}.global-search span.search-icon-grey{position:absolute;right:10px;top:5px;cursor:pointer}#globalCity-input input[type=text],.global-search input[type=text]{width:100%;padding:7px 5px;border:none;outline:0}.gl-default-stage,.login-box{padding:4px 10px;cursor:pointer}#errNewBikeSearch.ui-autocomplete{width:470px;position:absolute;top:40px;left:3px;color:#4d5057;text-align:left}.error-tooltip-siblings{display:none}#new-global-recent-searches,#new-trending-bikes{left:0;color:#4d5057;text-align:left;background:#fff;z-index:202;border-top:0;width:470px;top:37px}.global-location,.login-box{color:#fff;vertical-align:middle}.bike-preview,.black-overlay,.imageWrapper{text-align:center}.global-location{position:relative;display:inline-block;margin-right:20px;z-index:5}.gl-default-stage{border:1px solid #e2e2e2}.gl-default-stage span.cross-md-lgt-grey{position:relative;top:2px;margin-left:20px}.globalCity-auto-desktop.ui-menu .ui-search-icon,.pincode-autocomplete.ui-menu .ui-search-icon{display:none}.back,.cardWrapper,.front,.login-box{display:inline-block}.login-box{margin-right:10px}.login-box:hover{color:#ccc}.bikeTitle a,a.bikeTitle{color:#2a2a2a;font-size:16px}.loginCloseBtn.cross-md-dark-grey{background-position:-62px -223px}.loginCloseBtn.cross-md-dark-grey:hover{background-position:-62px -246px}#nav,.loginPopUpWrapper{background:#fff;width:325px;position:fixed;top:0;right:0;bottom:0;left:-325px;overflow-y:hidden;z-index:210}.jcarousel-wrapper{position:relative;width:976px}.jcarousel{position:relative;overflow:hidden;padding:10px 0 20px}.jcarousel ul{width:20000em;position:relative}.jcarousel li{float:left;width:312px;height:330px;margin-right:20px;background:#fff}.used-bike-carousel{padding-bottom:20px}.used-bike-carousel li{height:320px}.compareCarsHomePage li{width:976px}.jcarousel-pagination a{display:inline-block;height:14px;width:14px;line-height:10px;background:#eeeff0;border:1px solid #ebebea;border-radius:15px;text-indent:-9999px;margin:5px 10px;cursor:pointer}.jcarousel-pagination a:hover{background:#82888b}.jcarousel-pagination a.active{background:#82888b;cursor:default;border:1px solid #ccc}.cardWrapper{width:100%;height:100%;overflow:hidden}.back,.front{height:290px;background:#fff;overflow:hidden;border-radius:3px;border:1px solid #ccc;-webkit-backface-visibility:hidden;-moz-backface-visibility:hidden;-ms-backface-visibility:hidden;backface-visibility:hidden}.contentWrapper,.formWrapper{position:relative;overflow:hidden;background:#fff}.imageWrapper{width:310px;height:174px;overflow:hidden;display:table}.imageWrapper a{display:table-cell;vertical-align:middle;background:url(https://imgd.aeplcdn.com/0x0/bw/static/sprites/d/loader.gif) center center no-repeat}.imageWrapper a img{max-width:100%;height:auto}.used-bike-carousel .imageWrapper a img{width:310px}.bikeDescWrapper{padding:15px;background:#fff}.bikeTitle a{display:block}.bikeTitle a:hover,a.bikeTitle:hover{text-decoration:underline}a.bikeTitle{font-weight:700;display:block;margin-bottom:10px}.formContent{padding:30px 20px 20px}.card-desc-block{padding:10px 20px 15px}.black-overlay{width:100%;height:100%;display:block;position:absolute;top:0;left:0;margin:0 auto;padding-top:20%;background:rgba(0,0,0,.4);z-index:1}.similar-bs6-tag{position:absolute;z-index:2;width:54px;border-radius:2px;background-color:#D9F0F3;height:20px;padding-top:2px;text-align:left;font-size:10px}.similar-bs6{width:18px;height:14px;color:#4d5057;margin-left:7px;position:absolute;font-weight:600;font-size:11px}.breadcrumb{font-size:13px}.breadcrumb li{position:relative;display:inline-block;margin-right:6px}.breadcrumb-link__label{padding-right:8px}.header-fixed,.header-landing,.header-not-fixed{padding:11px 20px;z-index:203}.breadcrumb-link::after{content:'';height:4px;width:4px;border:solid grey;border-width:0 1px 1px 0;-webkit-transform:rotate(-45deg);-moz-transform:rotate(-45deg);-o-transform:rotate(-45deg);transform:rotate(-45deg);display:inline-block;position:absolute;top:7px;right:0}.breadcrumb-link:hover{text-decoration:none}.breadcrumb-link:hover .breadcrumb-link__label{text-decoration:underline}.header-fixed,.header-landing{position:fixed;top:0;right:0;left:0}.header-fixed-inner{padding-top:55px}.header-fixed,.header-fixed-with-bg,.header-not-fixed{background:#333;height:50px}.header-landing{background:0 0!important}.welcome-box{margin-top:120px;text-align:center;color:#fff}.welcome-box h1{font-size:34px;color:#fff;margin-bottom:10px;text-transform:uppercase}.model-displacement-unit,.text-lowercase{text-transform:lowercase}.bw-tabs{display:block}.bw-tabs-flex{display:table;width:100%}.bw-tabs-flex ul{border-bottom:1px solid #ccc;margin-bottom:25px}.bw-tabs-flex li{display:table-cell;padding:10px;text-align:center;width:1%;cursor:pointer}.auto-expo-nav__logo,.bw-logo,.bwsprite,.nav-icon{display:inline-block}.bw-tabs-flex li h3,.home-tabs li h3{color:#82888b;font-size:18px;font-weight:400}.bw-tabs-flex li.active h3,.bw-tabs-flex li:hover h3,.home-tabs li h3{color:#4d5057}.bw-tabs-flex li.active{border-bottom:3px solid #ef3f30;cursor:default}.bw-tabs-panel[data-slide='1'] .bw-tabs__item{text-align:left;font-weight:600;color:#4d5057}.bw-tabs-panel[data-slide='1'] .sidebar-bike-list{max-height:320px;height:auto}.bw-tabs-panel[data-slide='1'] .bw-tabs-flex li.active{border:none;cursor:default}.bw-tabs-panel[data-slide='1'] .bw-tabs-flex li{cursor:default}.browse-bikes .bw-tabs-flex li.active h3{font-weight:600}.bwsprite{background:url(https://imgd.aeplcdn.com/0x0/bw/static/sprites/d/bwsprite-v3.png?august2019) no-repeat}.nav-icon{width:15px;height:16px;cursor:pointer;vertical-align:middle;margin-right:22px;background:url(https://imgd.aeplcdn.com/0x0/bw/static/icons/fff/hamburger.svg) no-repeat;background-size:cover}.nav-icon:hover{opacity:.6}.bw-logo{width:93px;height:27px;vertical-align:middle;font-size:0;background:url(https://imgd.aeplcdn.com/0x0/bw/static/icons/logo/fff/bikewale.svg) center no-repeat;background-size:contain;margin-top:1px}.search-icon-grey,.search-icon-white{width:18px;height:18px}.search-icon-grey{background-position:-34px -275px}.search-icon-white{background-position:-64px -278px}.login-no-photo-icon{background-position:-151px -121px;width:27px;height:29px}.auto-expo-nav__logo{width:81px;height:32px;background:url(https://imgd.aeplcdn.com/0x0/cw/es/auto-expo-2018/autoexpo-logo-white.png) 20px center no-repeat;background-size:61px;position:relative;margin-left:20px}.auto-expo-nav__logo:before{content:'';display:block;position:absolute;left:0;top:7px;height:21px;border-left:1px solid #fff}.inr-lg,.inr-xsm-grey{position:relative;top:1px}.inr-xsm-grey{width:7px;height:10px;background-position:-46px -427px}.inr-sm-dark{width:10px;height:12px;background-position:-128px -468px}.inr-md,.inr-md-light{width:9px;height:13px}.inr-md{background-position:-53px -490px}.inr-md-light{background-position:-129px -490px}.inr-lg,.inr-lg-thin{width:10px;height:14px}.inr-lg{background-position:-110px -491px}.inr-lg-thin{background-position:-71px -491px}.inr-xl{width:12px;height:17px;background-position:-40px -515px}.ui-helper-hidden-accessible{position:absolute;left:-9999px}.ui-autocomplete{z-index:211;margin:-1px 0 0 -3px;padding:0;width:auto;display:inline-block;background:#fff;border-radius:0 0 2px 2px;border:1px solid #e2e2e2;border-top:0;overflow:visible}.ui-autocomplete.source:hover{background:#ddd}.bw-ui-menu li,.ui-menu .ui-menu-item{padding:10px;background:#fff;font-size:13px;cursor:pointer;display:block}.bw-ui-menu li{padding-top:5px;padding-bottom:5px}.ui-menu .ui-menu-item.ui-state-focus,.ui-menu .ui-menu-item:hover{background:#eee}.ui-menu .ui-menu-item a{color:#333}.bw-ui-menu a{color:#333;text-decoration:none!important}.bw-ui-menu .target-popup-link,.ui-menu .ui-menu-item a.target-popup-link{display:none;float:right;color:#0288d1;font-size:13px}.bw-ui-menu li:hover .target-popup-link,.ui-menu .ui-menu-item.ui-state-focus a.target-popup-link,.ui-menu .ui-menu-item:hover a.target-popup-link{display:block}.bw-ui-menu span.upcoming-link,.ui-menu .ui-menu-item span.upcoming-link{float:right;color:#4d5057;font-size:13px}.loggedin-box,.login-with-photo{width:29px;height:29px;overflow:hidden;display:inline-block;vertical-align:middle}.login-with-photo img{width:100%}.globalchangecity-popup{display:none;width:360px;min-height:230px;background:#fff;margin:0 auto;overflow-y:auto;position:fixed;top:51px;right:72px;z-index:210}.globalchangecity-popup:before{content:'';border-right:8px solid transparent;border-bottom:8px solid #fff;border-left:8px solid transparent;position:fixed;top:43px;right:128px}.model-jcarousel-image-preview,.position-rel,.relative{position:relative}.globalchangecity-popup-data{padding:20px 10px}.globalchangecity-popup-data .cityPopup-icon{-webkit-transform:scale(.6);-moz-transform:scale(.6);-o-transform:scale(.6);-ms-transform:scale(.6);transform:scale(.6);position:relative;left:-3px;top:-2px;background-color:#fff}.globalchangecity-popup-data .icon-outer-circle{width:60px;height:60px;margin:0 auto;background:#fff;border:1px solid #ccc}.globalchangecity-popup-data .icon-inner-circle{width:54px;height:54px;margin:2px auto;background:#fff;border:1px solid #666}.icon-inner-circle,.icon-outer-circle{-moz-border-radius:50%;-webkit-border-radius:50%;-o-border-radius:50%;-ms-border-radius:50%;border-radius:50%}#changecity-accept{width:200px;text-align:center;padding:8px 10px;display:inline-block}.text-truncate{width:100%;text-align:left;overflow:hidden}.model-jcarousel-image-preview{width:100%;height:168px;display:table;text-align:center}.leftfloat{float:left}.rightfloat{float:right}.text-left{text-align:left}.text-right{text-align:right}.text-center{text-align:center}.text-justify{text-align:justify}.text-wrap{white-space:normal}.text-nowrap{white-space:nowrap}.text-uppercase{text-transform:uppercase}.text-capitalize{text-transform:capitalize}.text-bold{font-weight:700}.text-unbold{font-weight:400}.text-italic{font-style:italic}.text-default{color:#4d5057}.text-xt-light-grey{color:#a8afb3}.text-light-grey{color:#82888b}.text-medium-grey{color:#999}.text-grey{color:#666}.text-dark-grey{color:#333}.text-black{color:#2a2a2a}.text-red{color:#ef3f30}.text-white{color:#fff}.text-link{cursor:pointer;color:#0288d1}.text-orange{color:#f04031}.text-orange-light{color:#F88379}.text-medium-light-grey{color:#aaa}.font9{font-size:9px}.font10{font-size:10px}.font11,.search-title{font-size:11px}.font12{font-size:12px}.font14{font-size:14px}.font16{font-size:16px}.font18{font-size:18px}.font20{font-size:20px}.font22{font-size:22px}.font24{font-size:24px}.font25{font-size:25px}.font26{font-size:26px}.font27{font-size:27px}.font28{font-size:28px}.font29{font-size:29px}.font30{font-size:30px}.font32{font-size:32px}.line-height{line-height:1.8}.content-inner-block-5{padding:5px}.content-inner-block-10{padding:10px}.content-inner-block-15{padding:15px}.content-inner-block-20{padding:20px}.content-box-shadow{background:#fff;-moz-box-shadow:0 2px 2px #e2e2e2,0 1px 1px #f1f1f1;-webkit-box-shadow:0 2px 2px #e2e2e2,0 1px 1px #f1f1f1;-o-box-shadow:0 2px 2px #e2e2e2,0 1px 1px #f1f1f1;-ms-box-shadow:0 2px 2px #e2e2e2,0 1px 1px #f1f1f1;box-shadow:0 2px 2px #e2e2e2,0 1px 1px #f1f1f1}.padding-15-20{padding:15px 20px}.inline-block{display:inline-block;vertical-align:middle}.vertical-top{display:inline-block;vertical-align:top}.block{display:block}.ul-arrow li{margin-top:10px}.bg-white{background:#FFF}.bg-light-grey{background:#f5f5f5}.bg-light-grey-with-alpha{background:rgba(242,242,243,.9)}.bg-grey{background:#e1e1e1}.bg-dark-grey{background:#333}.card-bottom-margin,.section-bottom-margin{margin-bottom:20px}.vertical-baseline{vertical-align:-webkit-baseline-middle}.page-type-landing .view-all-btn-container{text-align:center}.hide{display:none}.show{display:block}.position-abt{position:absolute}.pos-top5{top:5px}.pos-right5{right:5px}.margin-left5{margin-left:5px}.margin-left10{margin-left:10px}.margin-left15{margin-left:15px}.margin-left20{margin-left:20px}.margin-top4{margin-top:4px}.margin-top5{margin-top:5px}.margin-top10{margin-top:10px}.margin-top12{margin-top:12px}.margin-top15{margin-top:15px}.margin-top20{margin-top:20px}.margin-top30{margin-top:30px}.margin-right5{margin-right:5px}.margin-right10{margin-right:10px}.margin-right15{margin-right:15px}.margin-right20{margin-right:20px}.margin-right25{margin-right:25px}.margin-bottom5{margin-bottom:5px}.margin-bottom10{margin-bottom:10px}.margin-bottom15{margin-bottom:15px}.margin-bottom20{margin-bottom:20px}.padding-left5{padding-left:5px}.padding-left10{padding-left:10px}.padding-left15{padding-left:15px}.padding-left20{padding-left:20px}.padding-top5{padding-top:5px}.padding-top10{padding-top:10px}.padding-top15{padding-top:15px}.padding-top20{padding-top:20px}.padding-top25{padding-top:25px}.padding-right5{padding-right:5px}.padding-right10{padding-right:10px}.padding-right15{padding-right:15px}.padding-right20{padding-right:20px}.padding-bottom5{padding-bottom:5px}.padding-bottom10{padding-bottom:10px}.padding-bottom15{padding-bottom:15px}.padding-bottom20{padding-bottom:20px}.review-contest-slidein-slug{width:160px;min-height:90px;padding:10px;background:#82888b;position:fixed;top:38%;right:-160px;-webkit-transition:right .5s;-moz-transition:right .5s;-o-transition:right .5s;transition:right .5s;text-align:center;z-index:1}.tooltip-bottom .bw-tooltip-text:after,.tooltip-bottom .bw-tooltip-text:before{top:-18px;border-right:10px solid transparent;border-left:10px solid transparent}.info-tooltip{display:none}.tooltip-bottom .bw-tooltip-text:after,.tooltip-bottom .bw-tooltip-text:before{content:'';width:9px;height:18px;display:block;position:absolute;left:200px}.tooltip-bottom .bw-tooltip-text:before{border-bottom:10px solid #e2e2e2}.tooltip-bottom .bw-tooltip-text:after{border-bottom:10px solid #f5f5f5}.search-title{padding:10px 10px 6px;color:#babfc3}#global-search-section,#new-global-search-section{position:absolute;width:100%;text-align:left;z-index:202;border:1px solid #ccc;overflow:hidden;padding-bottom:10px}#new-global-search-section{width:470px}#new-global-recent-searches{margin-bottom:5px}.trending-searches{width:16px;height:12px;margin-right:10px;display:inline-block;vertical-align:middle;background:url(https://imgd.aeplcdn.com/0x0/bw/static/icons/787878/trending.svg) no-repeat}.model-countdown{background-color:#fff;position:fixed;top:35%;right:-240px;-moz-transition:right .5s;-webkit-transition:right .5s;-o-transition:right .5s;transition:right .5s;z-index:1;width:170px}.model-countdown__sponsored-text{position:absolute;top:5px;right:5px;font-size:10px;color:#b7b7b7}.countdown--active.model-countdown{right:0}.model-countdown__content{text-align:center;padding:12px 0 0;font-size:14px;color:#000;line-height:18px}.countdown__heading{line-height:22px}.countdown-timer li{display:inline-block;padding:0 5px;text-align:center}.countdown-timer li .clock:after{content:'';width:1px;height:20px;background-color:#4d5057;display:inline-block;position:absolute;top:0;right:-7px}.countdown-timer li .clock:last-child:after{border-right:0}.countdown-timer li span{display:block}.mins-text{font-weight:400!important}.mins-text:after{background-color:transparent!important;width:0}.countdown-timer{margin-bottom:13px}.countdown-timer li .clock{font-size:22px;font-weight:700;position:relative}.count-down-text{font-size:11px}.button-cta-countdown{padding-bottom:10px;text-align:center}.model-countdown__know-more{padding:5px 16px;border-radius:3px;font-size:14px}.promotional-content{position:relative;z-index:0}#getUserLocation{display:none}.noMargin{margin-bottom:0!important}@font-face{font-family:'Open Sans';font-style:normal;font-display:swap;font-weight:400;src:local('Open Sans Regular'),local('OpenSans-Regular'),url(https://stb.aeplcdn.com/bikewale/fonts/OpenSans/open-sans-v15-latin-regular.woff) format('woff')}@font-face{font-family:'Open Sans';font-style:normal;font-weight:600;font-display:swap;src:local('Open Sans SemiBold'),local('OpenSans-SemiBold'),url(https://stb.aeplcdn.com/bikewale/fonts/OpenSans/open-sans-v15-latin-600.woff) format('woff')}@font-face{font-family:'Open Sans';font-style:normal;font-weight:700;font-display:swap;src:local('Open Sans Bold'),local('OpenSans-Bold'),url(https://stb.aeplcdn.com/bikewale/fonts/OpenSans/open-sans-v15-latin-700.woff) format('woff')}</style><style type=\"text/css\">.btn-inv-blue,.text-truncate{overflow:hidden;text-overflow:ellipsis}.content-inner-block-1420{padding:14px 20px}.text-x-black{color:#1a1a1a}#bikeMakeList .bikeDescWrapper{padding:15px 10px}.inner-content-card li{width:294px;min-height:390px;margin-right:15px;margin-bottom:5px}.inner-content-card li.front{border:none}.sort-div,.sort-selection-div{background:#fff;border:1px solid #e2e2e2}.inner-content-card li .imageWrapper{width:100%;height:166px}.sort-div{width:190px;height:36px;padding:7px;position:relative;cursor:pointer}.sort-by-title{width:150px}.sort-selection-div{width:190px;margin-top:10px;position:absolute;z-index:2}.sort-list-items ul::after,.sort-list-items ul::before{border-left:10px solid transparent;border-right:10px solid transparent;content:'';left:87px;position:absolute;z-index:1}.sort-selection-div ul li{padding:2px 0 2px 8px;margin-top:4px;margin-bottom:4px}.sort-selection-div ul li:hover{cursor:pointer;background:#82888b;color:#fff}.sort-selection-div ul li.selected{font-weight:700}.sort-list-items ul::before{border-bottom:10px solid #e2e2e2;top:-11px}.sort-list-items ul::after{border-bottom:10px solid #fff;top:-10px}#upDownArrow.fa-angle-down{transition:all .5s ease-in-out 0s;font-size:20px}.sort-div .fa-angle-down{transition:transform .3s;-moz-transition:transform .3s;-webkit-transition:transform .3s;-o-transition:transform .3s;-ms-transition:transform .3s}.sort-div.open .fa-angle-down{-moz-transform:rotateZ(180deg);-webkit-transform:rotateZ(180deg);-o-transform:rotateZ(180deg);-ms-transform:rotateZ(180deg);transform:rotateZ(180deg)}.sort-by-text p{height:35px;line-height:35px}#makeUpcomingBikesContent .jcarousel-control-left{left:0}#makeUpcomingBikesContent .jcarousel-control-right{right:0}.content-inner-block-2010{padding:20px 10px}#makeOverallTabsWrapper{width:100%;height:45px}.overall-floating-tabs{width:644px;background:#fff;border-bottom:1px solid #e2e2e2}#makeOverallTabs.fixed-tab{position:fixed;top:0;margin:0 auto;z-index:5;border-bottom:0;-moz-box-shadow:0 2px 2px #e2e2e2,0 1px 1px #f1f1f1;-webkit-box-shadow:0 2px 2px #e2e2e2,0 1px 1px #f1f1f1;-o-box-shadow:0 2px 2px #e2e2e2,0 1px 1px #f1f1f1;-ms-box-shadow:0 2px 2px #e2e2e2,0 1px 1px #f1f1f1;box-shadow:0 2px 2px #e2e2e2,0 1px 1px #f1f1f1}.overall-specs-tabs-wrapper{display:table;background:#fff}.overall-specs-tabs-wrapper span{padding:10px 20px;display:table-cell;font-size:14px;color:#82888b;cursor:pointer}.overall-specs-tabs-wrapper span:hover{text-decoration:none;color:#4d5057}.overall-specs-tabs-wrapper span.active{border-bottom:3px solid #ef3f30;font-weight:700;color:#4d5057}.content-details-wrapper h2{margin-bottom:15px}.content-details-wrapper h3{font-weight:700;margin-bottom:12px}#makeReviewsContent h3.model-section-subtitle{margin-bottom:20px}.preview-more-content{display:none}.border-divider{border-top:1px solid #e2e2e2}.line-height17{line-height:1.7}.model-preview-image-container{width:200px;height:113px;display:table;text-align:center}#makeUpcomingBikesContent .model-preview-image-container{border:none}.model-preview-image-container .article-target-image{width:100%;height:113px;display:block;background:url(https://imgd.aeplcdn.com/0x0/bw/static/sprites/d/loader.gif) center center no-repeat;cursor:pointer}.model-preview-image-container img{width:100%;height:113px}.border-light-right{border-right:1px solid #f1f1f1}.text-truncate{width:100%;text-align:left;white-space:nowrap}#makeReviewsContent .article-target-link,#makeVideosContent .article-target-link{margin-bottom:8px;line-height:1.5}.article--text-wrap .grid-4{padding-left:0;margin-right:10px}.mail-grey-icon,.phone-black-icon{margin-right:3px;position:relative}.article--text-wrap .grid-8{width:auto;float:none}.blue-right-arrow-icon{width:6px;height:10px;background-position:-74px -469px;position:relative;top:1px;left:7px}.model-user-review-rating-container{width:148px;height:84px;border:1px solid #e2e2e2;background:#f9f9f9;padding-top:17px;text-align:center}.model-user-review-title-container{width:308px}.content-details-wrapper .model-user-review-title-container h3{font-size:16px;color:#2a2a2a;line-height:1.7;margin-bottom:5px;position:relative;top:-6px}.dealer-card-target{display:block}.dealer-card-target:hover{text-decoration:none}.dealer-jcarousel-image-preview{width:292px;height:114px;display:block;margin-bottom:15px;text-align:center;padding-top:10px}.city-sprite{background:url(https://imgd.aeplcdn.com/0x0/bw/static/sprites/d/city-sprite.png?26Dec2016) no-repeat;display:inline-block}.ahmedabad-icon,.bangalore-icon,.chandigarh-icon,.chennai-icon,.delhi-icon,.hyderabad-icon,.india-icon,.kolkata-icon,.lucknow-icon,.mumbai-icon,.newdelhi-icon,.pune-icon{height:92px}.mumbai-icon{width:130px;background-position:0 0}.pune-icon{width:186px;background-position:-140px 0}.bangalore-icon{width:136px;background-position:-336px 0}.delhi-icon,.newdelhi-icon{width:70px;background-position:-482px 0}.chennai-icon{width:53px;background-position:-562px 0}.hyderabad-icon{width:65px;background-position:-625px 0}.kolkata-icon{width:182px;background-position:-700px 0}.lucknow-icon{width:174px;background-position:-892px 0}.ahmedabad-icon,.chandigarh-icon{width:0;background-position:0 0}.india-icon{width:81px;background-position:-1076px 0}.dealership-loc-icon{width:9px;height:12px;background-position:-52px -469px;position:relative;top:4px}.dealership-card-details{width:92%}.dealership-address,.dealership-email{width:87%}.phone-black-icon{width:11px;height:15px;top:5px;background-position:-73px -444px}.mail-grey-icon{width:12px;height:10px;background-position:-92px -446px;top:6px}.dealer-no-city a{width:184px;min-height:210px;display:block;padding:20px}#makeUsedBikeContent .grid-4{display:inline-block;vertical-align:top;width:315px;float:none}.card{width:292px;min-height:140px;border:1px solid #f6f6f6;-webkit-box-shadow:0 1px 2px 0 rgba(0,0,0,.2);-moz-box-shadow:0 1px 2px 0 rgba(0,0,0,.2);-ms-box-shadow:0 1px 2px 0 rgba(0,0,0,.2);-o-box-shadow:0 1px 2px 0 rgba(0,0,0,.2);box-shadow:0 1px 2px 0 rgba(0,0,0,.2);float:left;margin-left:30px;margin-bottom:20px}.card:first-child{margin-left:20px}.card .card-target{min-height:147px;display:block;padding:15px 20px}.card .card-target:hover{text-decoration:none}.card .text-truncate{width:100%}.details-column{width:92%}.inner-content-carousel.comparison-type-carousel .model-comparison-list li{width:457px;min-height:273px;border:1px solid #f5f5f5;margin-right:20px;position:relative}.inner-content-carousel.comparison-type-carousel .model-comparison-list a{width:100%;height:100%;padding:20px;display:block}.inner-content-carousel.comparison-type-carousel .model-comparison-list a:hover{text-decoration:none}.model-comparison-list .imageWrapper{width:160px;height:89px}.model-comparison-list .comparison-image{display:table-cell;vertical-align:middle;background:url(https://imgd.aeplcdn.com/0x0/bw/static/sprites/d/loader.gif) center center no-repeat}.model-comparison-list h3+.grid-6{position:relative}.model-comparison-list h3+.grid-6:after{content:'';position:absolute;right:-12px;top:30px;width:22px;height:21px;background:url(https://imgd.aeplcdn.com/0x0/bw/static/design15/comparison-divider.png) no-repeat;display:block}.comparison-type-carousel .jcarousel-control-left,.comparison-type-carousel .jcarousel-control-right{top:38%}.comparison-type-carousel.jcarousel-wrapper{width:644px}.comparison-type-carousel.inner-content-carousel .jcarousel{width:627px}.btn-size-1{font-size:14px;padding:5px 45px}.inr-md-lg{width:12px;height:17px;background-position:-64px -515px;position:relative;top:1px}.newBikes-latest-updates-container .home-tabs{background:#ccc}.newBikes-latest-updates-container .home-tabs li{width:170px;text-align:center;font-size:18px;padding:13px 14px;background:#f5f5f5}.about-make,.btn-160-36,.make-price{font-size:14px}.newBikes-latest-updates-container .home-tabs li:first-child{margin-right:-2px}.newBikes-latest-updates-container .home-tabs li.active{background:#fff;color:#2a2a2a}@media only screen and (max-width:1024px){#makeUsedBikeContent .grid-4{width:300px}}.inner-content-carousel.comparison-type-carousel .jcarousel{left:17px!important}.comparison-type-carousel.inner-content-carousel .jcarousel li{width:450px;min-height:295px;margin-right:20px;box-shadow:none;border:0}.comparison-type-carousel.inner-content-carousel .jcarousel li:last-child{width:470px;padding-right:20px}.comparison-type-carousel .card-target{padding:20px 10px;display:block;border:1px solid #f6f6f6;-webkit-box-shadow:0 1px 2px rgba(0,0,0,.2);-moz-box-shadow:0 1px 2px rgba(0,0,0,.2);-ms-box-shadow:0 1px 2px rgba(0,0,0,.2);box-shadow:0 1px 2px rgba(0,0,0,.2)}.comparison-type-carousel .jcarousel:after{content:'';position:absolute;top:0;right:0;background:linear-gradient(to right,rgba(255,255,255,0) 0,#fff 100%);width:20px;height:100%}.comparison-type-carousel .model-img-content{width:189px;height:106px;margin-bottom:10px}.comparison-type-carousel .model-img-content img{height:106px}.comparison-type-carousel .card-target .grid-6:first-of-type:after{content:'';position:absolute;width:32px;height:32px;background:url(https://imgd.aeplcdn.com/0x0/bw/static/sprites/d/vs-icon-32.png) no-repeat;-webkit-transform:scale(.7);-moz-transform:scale(.7);-o-transform:scale(.7);transform:scale(.7);top:40%;right:0}.btn-160-36{width:160px;padding:7px}.about-make__list-desc,.make-price-table td{padding-bottom:10px}.no-city-selection-carousel .jcarousel a:hover{text-decoration:none}.make-subfooter{background-color:#eee}.about-make{color:#787878}.make-price-table{text-align:left;width:100%;border-spacing:0}.about-make__list-title{margin-bottom:10px;padding-top:5px;display:block;font-weight:600}.foldable-content .truncatable-content[data-readTextFlag='0']{max-height:initial}.about-make .truncatable-content,.about-make .truncatable-content[data-readTextFlag='1']{max-height:232px}.make-price .truncatable-content,.make-price .truncatable-content[data-readTextFlag='1']{max-height:250px}.truncatable-content{overflow:hidden;position:relative;text-align:justify}.read-more-button{display:block;margin-top:10px}.about-make .truncatable-content:before{content:'...';position:absolute;right:0;bottom:-2px;padding-left:3px;background-color:#eee}.about-make .truncatable-content:after{content:'';position:absolute;right:0;width:14px;height:14px;margin-top:-8px;background-color:#eee}.about-make .truncatable-content{text-align:left}.preview-overlay{position:relative}.preview-overlay:before{content:'';width:100%;height:40px;position:absolute;top:-40px;left:0;z-index:1}.video-card__img,.video-carousel{position:relative}.overlay--grey:before{background:-webkit-linear-gradient(to bottom,rgba(238,238,238,0) 0,#eee 100%);background:-moz-linear-gradient(to bottom,rgba(238,238,238,0) 0,#eee 100%);background:linear-gradient(to bottom,rgba(238,238,238,0) 0,#eee 100%)}.truncatable-content[data-readTextFlag='0']~.preview-overlay:before{content:none}.make-price-table__title{display:table-cell;font-size:14px;color:#4d5057}.make-price-table__head{width:50%;font-weight:400;font-size:12px;color:#82888b;padding-top:10px;padding-bottom:10px;border-bottom:1px solid #e2e2e2}.make-price__model h3{font-weight:400;color:#787878}.make-price__model-price{font-weight:600}.make-price-table tr:nth-of-type(2) td{padding-top:10px}.make-subfooter .content__left-col{padding-right:20px;border-right:1px solid #e2e2e2}.make-subfooter .content__right-col{padding-left:20px}.rate-count-5{color:#198d55}.rate-count-4{color:#13b65d}.rate-count-3{color:#efd700}.rate-count-2{color:#fd971c}.rate-count-1{color:#ef3f30}.rate-star--small .star-icon{width:23px;height:22px;display:inline-block;vertical-align:middle;-webkit-transform:scale(.5);-moz-transform:scale(.5);transform:scale(.5)}.rate-count-5 .star-icon{background:url(https://imgd.aeplcdn.com/0x0/bw/static/icons/ratings/star-5-26x25.png) center no-repeat}.rate-count-4 .star-icon{background:url(https://imgd.aeplcdn.com/0x0/bw/static/icons/ratings/star-4-26x25.png) center no-repeat}.rate-count-3 .star-icon{background:url(https://imgd.aeplcdn.com/0x0/bw/static/icons/ratings/star-3-26x25.png) center no-repeat}.rate-count-2 .star-icon{background:url(https://imgd.aeplcdn.com/0x0/bw/static/icons/ratings/star-2-26x25.png) center no-repeat}.rate-count-1 .star-icon{background:url(https://imgd.aeplcdn.com/0x0/bw/static/icons/ratings/star-1-26x25.png) center no-repeat}.rate-star-count{font-size:14px;font-weight:700;display:inline-block;vertical-align:middle}.carousel-type-city .card-target-link{min-height:205px;display:block}.carousel-type-city .card-target-link:hover{text-decoration:none}.article-desc__title:hover,.video-card__title:hover{text-decoration:underline}.carousel-type-city .city-image-preview{padding:15px 0;margin-right:15px;margin-left:15px;border-bottom:1px solid #eee;text-align:center}.service-center-grey{width:28px;height:32px;background-position:-197px -705px;vertical-align:top}.dealer-grey{width:25px;height:29px;background-position:-105px -747px;vertical-align:top}.video-carousel:before{content:'';display:block;margin:20px 20px 0;border-top:1px solid #e2e2e2}.video-carousel .inner-content-carousel{width:644px;padding-top:20px}.carousel-type--videos.inner-content-carousel .video-article__card{width:292px;height:255px}.jcarousel .video-article__card:last-child .carousel-card{margin-right:0}.video-article__card .carousel-card{display:block;padding:15px 13px;color:#4d5057;cursor:pointer}.video-card__title{font-size:14px;font-weight:600;margin-bottom:10px;height:37.89px}.video-card__desc{padding-top:5px;font-size:14px;color:#82888b;display:table}.video-card__desc .video-card__desc-content{display:table-cell;white-space:nowrap;width:1%}.video-card__time-block{border-radius:2px;-webkit-border-radius:2px;-moz-border-radius:2px;font-size:14px;color:#fff;padding:2px 10px;background-color:#040404;opacity:.6}.video-card__img{height:154px;width:100%}.video-card__img img{height:auto;width:100%;max-width:100%}.video-card__img .video-card__time-block{position:absolute;bottom:10px;right:10px}.article-desc-wrapper{width:auto}.article-desc__title{font-size:15px;color:#2a2a2a;font-weight:600;cursor:pointer}.dealer-card-target a:hover,.sidebar-bike-list .bike-target-link:hover{text-decoration:none}.article-content .article-image-wrapper{width:292px;margin-right:20px;float:left;height:164px;overflow:hidden;-webkit-border-radius:3px;-moz-border-radius:3px;-ms-border-radius:3px;border-radius:3px}.article-content .article-image-wrapper a{width:292px;height:164px;display:block}.article-content .article-image-wrapper img{height:164px}.video-section .article-image-wrapper{width:340px;margin-right:20px;float:left;overflow:hidden;position:relative;padding-bottom:32.25%;height:0}.video-section iframe{position:absolute;top:0;left:0;width:100%;height:100%}.btn-inv-blue{background:#fff;color:#0288d1;border:1px solid #0288d1;padding:5px 10px;font-weight:600;font-size:14px;width:auto}.btn-inv-blue:hover{background-color:#0288d1;color:#fff}.carousel-type--videos.jcarousel-wrapper .jcarousel{width:600px;left:20px!important;padding-left:0;padding-right:0}.carousel-type--videos.inner-content-carousel .jcarousel li{margin-right:16px;-webkit-box-shadow:none;-moz-box-shadow:none;box-shadow:none;border:none}.jcarousel .carousel-card{border:1px solid #e2e2e2;-webkit-border-radius:3px;-moz-border-radius:3px;-ms-border-radius:3px;border-radius:3px}@media only screen and (max-width:1024px){.carousel-type--videos.inner-content-carousel .jcarousel li{width:280px!important;margin-right:16px!important}#makeOverallTabs.overall-floating-tabs{width:620px!important}.comparison-type-carousel .jcarousel li{width:453px!important}.grid-8 .inner-content-carousel .jcarousel{width:580px!important}}.sidebar-list--overflow .sidebar-bike-list{padding-right:20px;padding-left:20px;max-height:320px;overflow-y:scroll}.sidebar-bike-list::-webkit-scrollbar{width:8px}.sidebar-bike-list::-webkit-scrollbar-track{background:#fff}.sidebar-bike-list::-webkit-scrollbar-thumb{background:#ddd}.sidebar-bike-list::-webkit-scrollbar-thumb:hover{background:#ccc}.padding-15-20-10{padding:15px 20px 10px}.padding-10-20-20{padding:10px 20px 20px}.padding-15-20-20{padding:15px 20px 20px}.sidebar-list-heading{font-size:14px;font-weight:600;padding:10px;color:#4d5057;border-bottom:1px solid #ccc}.sidebar-bike-list .bike-target-image{line-height:0}.sidebar-bike-list .bike-target-image img{width:80px;height:45px;border:1px solid #f5f5f5}.sidebar-bike-list .bike-target-content{width:65%}.sidebar-bike-list .bike-target-link{display:block;color:#4d5057;padding-top:10px;padding-bottom:10px;border-top:1px solid #f5f5f5}.sidebar-bike-list li:first-child .bike-target-link{border-top:0}.sidebar-bike-list .bike-target-link h3{margin-bottom:3px}.sidebar-bike-container .sidebar-bike-list{max-height:415px;overflow:auto;padding-right:20px;padding-left:20px}.sidebar-bike-container .view-all-btn-container{padding-left:20px;padding-right:20px}.list-type-brand .bike-target-image{width:80px;height:45px;padding-top:7px;text-align:center;border:1px solid #f5f5f5}.research-more__list{padding:10px 20px}.research-more__list li{margin-top:10px}.research-more__list li:first-child{margin-top:0}.sidebar-dealer-list{margin:20px 20px 0}.dealer-card-target{margin-bottom:12px;border:1px solid #e2e2e2;padding:15px 20px}.dealer-card-target:last-child{margin-bottom:5px}.dealer-details__target{display:block}.dealer-details__target[href='javascript:void(0)']{cursor:default}.dealer-details__name{font-size:16px;margin-bottom:9px;color:#4d5057;display:block;text-align:left;overflow:hidden}.dealer-details__address{margin-bottom:10px;color:#82888b;overflow:hidden}.dealer-details__number{font-size:12px;display:inline-block;vertical-align:middle;color:#1ba273;padding-left:22px;background:url(https://imgd.aeplcdn.com/0x0/bw/static/icons/1ba273/phone.svg) left 2px no-repeat;background-size:12px;margin-right:25px}.dealer-details__direction{font-size:12px;display:inline-block;vertical-align:middle;color:#0288d1;padding-left:25px;background:url(https://imgd.aeplcdn.com/0x0/bw/static/icons/0288d1/direction.svg) left 2px no-repeat;background-size:12px}.dealer-showroom__city{font-size:16px;font-weight:600;margin-bottom:2px}.sidebar__city-list.sidebar-bike-list .bike-target-link{padding-top:15px;padding-bottom:15px}.sidebar__city-list h3{font-size:12px;color:#82888b}.sidebar__city-list.sidebar-bike-list .bike-target-image{width:43%;text-align:center}.sidebar__city-list.sidebar-bike-list .bike-target-content{width:55%}.bwm-city-sprite{background:url(https://imgd.aeplcdn.com/0x0/bw/static/sprites/m/bwm-city-sprite-v2.png?v07Oct2016) no-repeat;display:inline-block}.c-bangalore-icon,.c-chennai-icon,.c-delhi-icon,.c-hyderabad-icon,.c-kolkata-icon,.c-lucknow-icon,.c-mumbai-icon,.c-newdelhi-icon,.c-pune-icon{height:48px}.c-mumbai-icon{width:78px;background-position:0 0}.c-pune-icon{width:112px;background-position:-84px 0}.c-bangalore-icon{width:82px;background-position:-202px 0}.c-delhi-icon,.c-newdelhi-icon{width:38px;background-position:-290px 0}.c-chennai-icon{width:33px;background-position:-334px 0}.c-hyderabad-icon{width:34px;background-position:-373px 0}.c-kolkata-icon{width:110px;background-position:-413px 0}.c-lucknow-icon{width:106px;background-position:-529px 0}.c-india-icon{width:64px;height:70px;display:inline-block;background-image:url(https://imgd.aeplcdn.com/0x0/bw/static/icons/4d5057/india.png);background-repeat:no-repeat;opacity:.7}.jcarousel-wrapper.carousel__recently-added{width:644px;padding-right:0}.make-image-content{position:relative}.bs6,.bs6-tag{position:absolute}.make-image-content:after{content:'';display:block;top:0;left:0;right:0;border-bottom:1px solid #e2e2e2;margin:20px 20px 0}.bs6-tag{z-index:2;width:54px;border-radius:2px;background-color:#D9F0F3;height:20px}.bs6{width:18px;height:14px;font-size:11px;color:#4d5057;margin-left:7px;margin-top:1px;top:1px;font-weight:600}.bs6-tag .tooltip-top .bw-tooltip-text:after,.bs6-tag .tooltip-top .bw-tooltip-text:before{content:'';width:9px;height:18px;display:block;position:absolute;top:52px;border-left:10px solid transparent;border-top:10px solid #fff;border-right:10px solid transparent;left:25px}.bs6-tag .info-tooltip{top:-62px;left:-30px;bottom:auto}.brandlogosprite{background-image:url(https://imgd.aeplcdn.com/0x0/bw/static/sprites/m/brand-type-sprite.png?v=20191015);background-repeat:no-repeat;display:inline-block}.brand-1,.brand-10,.brand-11,.brand-12,.brand-13,.brand-14,.brand-15,.brand-16,.brand-17,.brand-19,.brand-2,.brand-20,.brand-21,.brand-22,.brand-23,.brand-3,.brand-34,.brand-37,.brand-38,.brand-39,.brand-4,.brand-40,.brand-41,.brand-42,.brand-5,.brand-6,.brand-7,.brand-71,.brand-72,.brand-73,.brand-74,.brand-75,.brand-76,.brand-77,.brand-79,.brand-8,.brand-80,.brand-81,.brand-82,.brand-83,.brand-84,.brand-85,.brand-86,.brand-87,.brand-88,.brand-89,.brand-9,.brand-90{height:30px}.brand-2{width:52px;background-position:0 0}.brand-7{width:34px;background-position:-58px 0}.brand-1{width:75px;background-position:-3078px 0}.brand-8{width:60px;background-position:-156px 0}.brand-12{width:40px;background-position:-222px 0}.brand-40{width:75px;background-position:-268px 0}.brand-34{width:73px;background-position:-349px 0}.brand-22{width:73px;background-position:-428px 0}.brand-3{width:26px;background-position:-507px 0}.brand-17{width:52px;background-position:-539px 0}.brand-15{width:71px;background-position:-597px 0}.brand-4{width:26px;background-position:-674px 0}.brand-9{width:59px;background-position:-706px 0}.brand-16{width:70px;background-position:-771px 0}.brand-5{width:35px;background-position:-847px 0}.brand-19{width:73px;background-position:-889px 0}.brand-13{width:73px;background-position:-968px 0}.brand-6{width:38px;background-position:-1047px 0}.brand-10{width:61px;background-position:-1091px 0}.brand-14{width:76px;background-position:-1159px 0}.brand-39{width:53px;background-position:-1242px 0}.brand-20{width:49px;background-position:-1300px 0}.brand-11{width:74px;background-position:-1354px 0}.brand-41{width:40px;background-position:-1432px 0}.brand-42{width:38px;background-position:-1481px 0}.brand-80{width:26px;background-position:-2477px 0}.brand-81{width:38px;background-position:-2513px 0}.brand-71{width:23px;background-position:-1577px 0}.brand-21{width:57px;background-position:-1737px 0}.brand-38{width:25px;background-position:-1804px 0}.brand-23{width:70px;background-position:-1839px 0}.brand-72{width:70px;background-position:-2396px 0}.brand-73{width:30px;background-position:-1958px 0}.brand-74{width:66px;background-position:-2000px 0}.brand-75{width:70px;background-position:-2076px 0}.brand-76{width:70px;background-position:-2156px 0}.brand-77{width:70px;background-position:-2236px 0}.brand-79{width:70px;background-position:-2316px 0}.brand-82{width:42px;background-position:-2561px 0}.brand-83{width:30px;background-position:-2613px 0}.brand-84{width:70px;background-position:-2653px 0}.brand-85{width:47px;background-position:-2814px 0}.brand-86{width:74px;background-position:-2732px 0}.brand-87{width:76px;background-position:-2912px 0}.brand-88{width:35px;background-position:-2869px 0}.brand-90{width:75px;background-position:-2998px 0}.brand-89{width:76px;background-position:-3166px 0}.brand-37{width:75px;background-position:-1608px 0}.readmore-content-collapsed{width:100%;height:80px;overflow:hidden;position:relative}.readmore-content-collapsed:after{content:'';position:absolute;height:60%;bottom:0;left:0;right:0;z-index:1;display:block;background:-webkit-linear-gradient(270deg,rgba(255,255,255,.001) 30%,#fff 90%);background:linear-gradient(180deg,rgba(255,255,255,.001) 30%,#fff 90%)}.readmore{color:#0288d1;cursor:pointer}</style> <script type=\"text/javascript\">!function (a, b) { \"use strict\"; function f() { if (!d) { d = !0; for (var a = 0; a < c.length; a++) c[a].fn.call(window, c[a].ctx); c = [] } } function g() { \"complete\" === document.readyState && f() } a = a || \"docReady\", b = b || window; var c = [], d = !1, e = !1; b[a] = function (a, b) { if (\"function\" != typeof a) throw new TypeError(\"callback for docReady(fn) must be a function\"); return d ? void setTimeout(function () { a(b) }, 1) : (c.push({ fn: a, ctx: b }), void (\"complete\" === document.readyState || !document.attachEvent && \"interactive\" === document.readyState ? setTimeout(f, 1) : e || (document.addEventListener ? (document.addEventListener(\"DOMContentLoaded\", f, !1), window.addEventListener(\"load\", f, !1)) : (document.attachEvent(\"onreadystatechange\", g), window.attachEvent(\"onload\", f)), e = !0))) } }(\"docReady\", window);</script><script defer=\"\" src=\"https://stb.aeplcdn.com/bikewale/min/ui/src/frameworks-791dfe490b.js\" type=\"text/javascript\"></script><!--[if lt IE 9]><script src=\"https://stb.aeplcdn.com/bikewale/min/ui/src/html5-e1019d667d.js\"></script><![endif]--> <script type=\"text/javascript\"> var gaObj = {'id':2, 'name': 'Make_Page', 'subPage': '0'}; var lotameData = {}; (function(){ window.dataLayer = [];   lotameData = {\"PageCategory\":null,\"SubCategory\":null,\"Brand\":\"Royal Enfield\",\"Model\":null,\"MinPrice\":0,\"MaxPrice\":0,\"FuelType\":null,\"BodyStyle\":null,\"City\":null};   lotameData.PageCategory = gaObj.id >= 41 && gaObj.id <= 44 ? \"Used\" : \"New\"; if(typeof(gaObj.subPage) !== \"undefined\" && gaObj.subPage !== \"0\"){ lotameData.SubCategory = gaObj.subPage + \"_\" + gaObj.name.split(\"_\").splice(1, 2).join(\"_\"); } else{ lotameData.SubCategory = gaObj.name; } if (lotameData.City == undefined || lotameData.City == null) { var locationCookie = \"\"; document.cookie.split(\";\").forEach(function(item){ if (item.includes(\"location\") ) locationCookie = item.split(\"=\")[1]; }); var city = locationCookie.split(\"_\")[1]; lotameData.City = city; } window.dataLayer.push(lotameData); })(); </script> <script type=\"text/javascript\"> (function (w, d, s, l, i) { w[l] = w[l] || []; w[l].push({ 'gtm.start': new Date().getTime(), event: 'gtm.js' }); var f = d.getElementsByTagName(s)[0], j = d.createElement(s), dl = l != 'dataLayer' ? '&l=' + l : ''; j.async = true; j.src = '//www.googletagmanager.com/gtm.js?id=' + i + dl; f.parentNode.insertBefore(j, f); })(window, document, 'script', 'dataLayer', 'GTM-5CSHD6'); !function (f, b, e, v, n, t, s) { if (f.fbq) return; n = f.fbq = function () { n.callMethod ? n.callMethod.apply(n, arguments) : n.queue.push(arguments) }; if (!f._fbq) f._fbq = n; n.push = n; n.loaded = !0; n.version = '2.0'; n.queue = []; t = b.createElement(e); t.async = !0; t.src = v; s = b.getElementsByTagName(e)[0]; s.parentNode.insertBefore(t, s) }(window, document, 'script', 'https://connect.facebook.net/en_US/fbevents.js'); fbq('set', 'autoConfig', 'false', '904915516356416'); fbq('init', '904915516356416'); fbq('track', 'PageView'); </script> <script type=\"text/javascript\"> var googletag = googletag || {}; googletag.cmd = googletag.cmd || []; (function () { var gads = document.createElement('script'); gads.async = true; gads.type = 'text/javascript'; var useSSL = 'https:' == document.location.protocol; gads.src = (useSSL ? 'https:' : 'http:') + '//www.googletagservices.com/tag/js/gpt.js?v=1.0'; var node = document.getElementsByTagName('script')[0]; node.parentNode.insertBefore(gads, node); })(); </script> <script type=\"text/javascript\"> var ga_pg_id = '0', cwHostUrl = \"https://www.carwale.com\"; var adSlot = {}; var FbPixelEvent = { pageView: 'PageView', viewContent: 'ViewContent', lead: 'Lead' }; var gaEnum = { \"Dealer_Locator_City_Page\": 15, \"Dealer_Locator_Details_Page\":16, \"Model_Page\":3, \"DealerPriceQuote_Page\":8, \"PriceInCity_Page\":39, \"EMIInCity_Page\":51 };  googletag.cmd.push(function () {   googletag.pubads().disableInitialLoad(); googletag.pubads().setCentering(true);   adSlot['div-gpt-ad-1516179232964-1'] = googletag.defineSlot('/1017752/Bikewale_Make_Top_970x90', [[970, 90], [970, 66], [970, 60], [960, 90], [960, 66], [960, 60], [728, 90]], 'div-gpt-ad-1516179232964-1').addService(googletag.pubads());;   adSlot['div-gpt-ad-1516179232964-2'] = googletag.defineSlot('/1017752/Bikewale_Make_ATF_300x250', [300,250], 'div-gpt-ad-1516179232964-2').addService(googletag.pubads());;   adSlot['div-gpt-ad-1516179232964-3'] = googletag.defineSlot('/1017752/Bikewale_Make_BTF_300x250', [300,250], 'div-gpt-ad-1516179232964-3').addService(googletag.pubads());;   adSlot['div-gpt-ad-1516179232964-4'] = googletag.defineSlot('/1017752/Bikewale_Make_Bottom_970x90', [[970, 90], [970, 66], [970, 60], [960, 90], [960, 66], [960, 60], [728, 90]], 'div-gpt-ad-1516179232964-4').addService(googletag.pubads());;    googletag.pubads().setTargeting(\"Make\", \"Royal Enfield\");       googletag.pubads().collapseEmptyDivs(); googletag.pubads().enableSingleRequest(); googletag.enableServices(); }); </script> </head> <body class=\"bg-light-grey skin-background-black\" data-page-id=\"2\" data-page-name=\"Make_Page\" data-pricemoney=\"2,000\"> <noscript><iframe height=\"0\" src=\"//www.googletagmanager.com/ns.html?id=GTM-5CSHD6\" style=\"display:none;visibility:hidden\" width=\"0\"></iframe><img height=\"1\" src=\"https://www.facebook.com/tr?id=904915516356416&amp;ev=PageView&amp;noscript=1\" width=\"1\"/></noscript> <noscript id=\"asynced-css\"><link href=\"https://stb.aeplcdn.com/bikewale/min/ui/css/bw-common-btf-ffe4e95d36.css\" rel=\"stylesheet\" type=\"text/css\"/> <link href=\"/UI/scss/pages/make/d/make-btf.css\" rel=\"stylesheet\" type=\"text/css\"/> </noscript><div class=\"header-not-fixed login-hide\" id=\"header\"> <div class=\"leftfloat\"><span class=\"navbarBtn nav-icon\"></span><a class=\"bw-logo\" href=\"/\" id=\"bwheader-logo\" title=\"BikeWale\">BikeWale</a></div> <div class=\"rightfloat\"><div class=\"global-search\"><span class=\"bwsprite search-icon-grey\" id=\"btnGlobalSearch\" style=\"z-index:2\"></span><input aria-label=\"Search\" autocomplete=\"off\" class=\"blur ui-autocomplete-input\" id=\"globalSearch\" name=\"globalSearch\" placeholder=\"Search\" type=\"text\"/><span class=\"fa fa-spinner fa-spin position-abt text-black\" style=\"display:none;right:14px;top:7px;background:#fff\"></span><ul class=\"ui-autocomplete ui-front ui-menu hide\" id=\"errGlobalSearch\" style=\"width:420px;position:absolute;top:30px;left:3px\"><li class=\"ui-menu-item\" tabindex=\"-1\"><span class=\"text-bold\">Oops! No suggestions found</span><br/><span class=\"text-light-grey font12\">Search by bike name e.g: Honda Activa</span></li></ul><div class=\"bg-white hide\" id=\"global-search-section\"><div id=\"history-search\"><div class=\"search-title\">Recently Viewed</div><ul class=\"recent-searches-dropdown bw-ui-menu\" id=\"global-recent-searches\"></ul></div><div id=\"trending-search\"><div class=\"search-title\">Trending Searches</div><ul class=\"recent-searches-dropdown bw-ui-menu\" id=\"trending-bikes\"></ul></div></div></div><div class=\"global-location\"><div class=\"gl-default-stage\"><div id=\"globalCity-text\"><span class=\"cityName\" id=\"cityName\">Select City</span><span class=\"bwsprite global-map-marker margin-left10\"></span></div></div></div> <div class=\"login-box firstLogin\">Log in</div> <div class=\"changecity-blackout-window\"></div><div class=\"clear\"></div></div><div class=\"clear\"></div> </div><div class=\"clear\"></div> <div class=\"bg-white skin-background-black\"><div class=\"container\"><div class=\"grid-12\"><div> <div class=\"margin-bottom15 text-center\" data-load-immediate=\"true\" id=\"div-gpt-ad-1516179232964-1\" style=\"width:970px; margin:0 auto;\"><script type=\"text/javascript\"> googletag.cmd.push(function () { googletag.display('div-gpt-ad-1516179232964-1'); }); </script></div> </div></div><div class=\"clear\"></div></div></div> <section class=\"container padding-top10\"><div class=\"grid-12\"><div class=\"breadcrumb margin-bottom15 text-truncate\"><ul> <li><a class=\"breadcrumb-link\" href=\"https://www.bikewale.com/\" title=\"BikeWale\"><span class=\"breadcrumb-link__label\">Home</span></a></li> <li class=\"current\"><span class=\"breadcrumb-link__label\">Royal Enfield</span></li> </ul><div class=\"clear\"></div></div></div><div class=\"clear\"></div></section> <section id=\"makeTabsContentWrapper\"><section class=\"container margin-bottom20\"><div class=\"padding-left10 margin-bottom15\"><h1 class=\"font24 skin-txt\">Royal Enfield Bikes</h1></div><div class=\"grid-8\"> <div id=\"makeOverallTabsWrapper\"><div class=\"overall-floating-tabs\" id=\"makeOverallTabs\"><div class=\"overall-specs-tabs-wrapper\"> <span class=\"navtab\" data-href=\"#makeAboutContent\" data-lab=\"Royal Enfield_About\">About</span> <span class=\"navtab\" data-href=\"#bikeMakeList\" data-lab=\"Royal Enfield_Models\">Bike Models</span> <span class=\"navtab\" data-href=\"#popularComparisonAndOtherBrands\" data-lab=\"Royal Enfield_TopComparisons\">Top Comparisons</span> <span class=\"navtab\" data-href=\"#modelNewsContent\" data-lab=\"Royal Enfield_News\">News</span> <span class=\"navtab\" data-href=\"#makeReviewsContent\" data-lab=\"Royal Enfield_Reviews\">Reviews</span> <span class=\"navtab\" data-href=\"#makeImagesVideosContent\" data-lab=\"Royal Enfield_Images\">Images</span> </div></div></div> <div class=\"content-box-shadow bw-model-tabs-data content-inner-block-2010 border-solid-bottom margin-bottom20\" id=\"makeAboutContent\"><div class=\"grid-12\" data-exspace=\"160\" data-height=\"80\" id=\"make-desc-wrapper\"><div class=\"font14 text-light-grey line-height17\" id=\"make-desc-container\"><div class=\"js-readmore-content readmore-content-collapsed\"> Royal Enfield is one of the oldest surviving motorcycle manufacturers in the world. Established in 1901, the iconic British manufacturer started off by manufacturing motorcycles, bicycles, lawnmowers, stationary engines and more popularly, weapons. To this day, Royal Enfield continues to use the motto ‘Made like a gun’, in memory of its legacy. Royal Enfield bikes are known for the class they exude as much as for their signature thump. Royal Enfield was acquired by Eicher Motors in 1994, which proved to be a pivotal role in the resurgence of the manufacturer. Although the company continues to make classic-styled and old-school motorcycles which are essentially modernised versions of the early Bullet models from the 1950s, the fortunes of Royal Enfield have turned and it is one of the fastest growing bike makers in the country. However, while the Classic set the company on a path of unprecedented growth, a few Royal Enfield models like the now-discontinued single-cylinder Continental GT had to make do with a muted response. The Royal Enfield in India, was unchallenged, until the foray of International brands like Triumph and Indian Chief. Making the most of its image as a lifestyle motorcycle manufacturer, Royal Enfield has so far managed to hold its turf despite a line-up in which some models are outdated. Having established its foothold in the Indian market, Royal Enfield is now aiming at widening its footprint at a global level. Of late, the company has been making its presence felt on a global scale by setting up exclusive dealerships in Europe, Gulf and the US. The Royal Enfield portfolio currently comprises of the Bullet, Classic, Thunderbird, Himalayan, Interceptor 650 and Continental GT 650. Of these, the Bullet, Classic and Thunderbird are available in two versions powered by 350cc and 500cc engines. While all the models have stayed true to the company’s traditional character, a few specific models do get their share of modern tech in the form of fuel injection, projector headlamp and digital instrument cluster. ABS and a rear disc brake have recently been added to this list for the entire range. Things are expected to get a lot more exciting for the brand presently, with the launch of its first twin-cylinder motorcycles, the Interceptor 650 and Continental GT 650. These are twin-cylinder 650cc motorcycles that promise to bring in a new chapter for the brand not just in India, but globally too, with their aggressive pricing.<br/> <div> <div class=\"model-price-list__container margin-bottom15 margin-top25\"><h2 class=\"model-price-list__container-title font16 margin-bottom20\">Royal Enfield Bikes Price List (2020) in India</h2><table class=\"model-price-list__table font14\"><thead class=\"model-price-list__table-head\"><tr class=\"model-price-list__table-row\"><th>Royal Enfield Bike Model</th><th>Ex-showroom price</th></tr></thead><tbody class=\"model-price-list__table-body\"> <tr class=\"model-price-list__table-row\"><td>Royal Enfield Classic 350</td> <td>₹ 1,65,025</td> </tr> <tr class=\"model-price-list__table-row\"><td>Royal Enfield Bullet 350</td> <td>₹ 1,14,755</td> </tr> <tr class=\"model-price-list__table-row\"><td>Royal Enfield Classic Signals</td> <td>₹ 1,64,095</td> </tr> <tr class=\"model-price-list__table-row\"><td>Royal Enfield Thunderbird 350X</td> <td>₹ 1,64,004</td> </tr> <tr class=\"model-price-list__table-row\"><td>Royal Enfield Himalayan</td> <td>₹ 1,80,951</td> </tr> <tr class=\"model-price-list__table-row\"><td>Royal Enfield Classic Stealth Black</td> <td>₹ 2,04,977</td> </tr> <tr class=\"model-price-list__table-row\"><td>Royal Enfield Interceptor 650</td> <td>₹ 2,64,919</td> </tr> <tr class=\"model-price-list__table-row\"><td>Royal Enfield Classic Gunmetal Grey</td> <td>₹ 1,55,740</td> </tr> <tr class=\"model-price-list__table-row\"><td>Royal Enfield Continental GT 650</td> <td>₹ 2,80,677</td> </tr> <tr class=\"model-price-list__table-row\"><td>Royal Enfield Thunderbird 350</td> <td>₹ 1,56,658</td> </tr> <tr class=\"model-price-list__table-row\"><td>Royal Enfield Thunderbird 500X</td> <td>₹ 2,15,178</td> </tr> <tr class=\"model-price-list__table-row\"><td>Royal Enfield Bullet 500</td> <td>₹ 1,88,803</td> </tr> <tr class=\"model-price-list__table-row\"><td>Royal Enfield Bullet Trials 350</td> <td>₹ 1,63,003</td> </tr> <tr class=\"model-price-list__table-row\"><td>Royal Enfield Classic 500</td> <td>₹ 2,02,046</td> </tr> <tr class=\"model-price-list__table-row\"><td>Royal Enfield Classic Chrome</td> <td>₹ 2,12,479</td> </tr> <tr class=\"model-price-list__table-row\"><td>Royal Enfield Classic Desert Storm</td> <td>₹ 2,04,977</td> </tr> <tr class=\"model-price-list__table-row\"><td>Royal Enfield Classic Squadron Blue</td> <td>₹ 2,04,977</td> </tr> <tr class=\"model-price-list__table-row\"><td>Royal Enfield Thunderbird 500</td> <td>₹ 2,07,307</td> </tr> <tr class=\"model-price-list__table-row\"><td>Royal Enfield Bullet Trials 500</td> <td>₹ 2,07,766</td> </tr> </tbody></table> </div> </div></div><div class=\"js-readmore readmore\"> Read more </div></div></div><div class=\"clear\"></div></div> <section class=\"bw-model-tabs-data\" id=\"bikeMakeList\"><div class=\"content-box-shadow content-inner-block-1420\"><div class=\"grid-6 alpha\"><h2 class=\"leftfloat text-x-black\">Royal Enfield Bikes Prices in India</h2></div><div class=\"grid-6 rightfloat omega font14\" id=\"sortByContainer\"><div class=\"leftfloat sort-by-text text-light-grey margin-left50\"><p>Sort by:</p></div><div class=\"rightfloat\"><div class=\"sort-div rounded-corner2\"><div class=\"sort-by-title\" id=\"sort-by-container\"><span class=\"leftfloat sort-select-btn text-truncate\">Popular</span><span class=\"clear\"></span></div><span class=\"rightfloat fa fa-angle-down position-abt pos-top15 pos-right10\" id=\"upDownArrow\"></span></div><div class=\"sort-selection-div sort-list-items hide\"><ul id=\"sortbike\"><li id=\"0\">Price: Low to High</li><li class=\"selected\" id=\"1\">Popular</li><li id=\"2\">Price: High to Low</li><li id=\"3\">Mileage: High to Low</li></ul></div></div></div><div class=\"clear\"></div></div><div class=\"content-box-shadow padding-top25 padding-left20 rounded-corner2 inner-content-card section-bottom-margin\"> <ul class=\"listitems\" id=\"listitems\"> <li class=\"front\" data-bike=\"Royal Enfield Classic 350\" data-mileage=\"0\" data-popularity=\"1\" data-price=\"165025\" title=\"Royal Enfield Classic 350\"> <div class=\"bs6-tag inline-block\"><div class=\"bs6 inline-block\"> BS6 </div><span class=\"bwsprite info-icon tooltip-icon-target tooltip-top margin-right10\"><span class=\"bw-tooltip info-tooltip\"><span class=\"bw-tooltip-text\">This bike complies to the BS6 Emission Standard. <a href=\"https://www.bikewale.com/news/43614-bsvi-and-bsiv-emission-norms-difference-explained.html\" target=\"_blank\" title=\"BS6 and BS4 emission norms: Difference explained\">Know more <img alt=\"Know more\" class=\"knowmore\" src=\"https://imgd.aeplcdn.com/0x0/cw/static/icons/svg/0288d1/external-link-icon.svg?v=201911\"/></a></span></span></span></div> <div class=\"contentWrapper\"><div class=\"imageWrapper\"><a class=\"modelurl\" href=\"/royalenfield-bikes/classic-350/\"><img alt=\"Classic 350\" src=\"https://imgd.aeplcdn.com/310x174/bw/models/royalenfield-classic-350.jpg?20192602155055&amp;q=75\" title=\"Royal Enfield Classic 350\"/></a></div><div class=\"bikeDescWrapper\"><h3 class=\"bikeTitle margin-bottom10\"><a class=\"modelurl\" href=\"/royalenfield-bikes/classic-350/\" title=\"Royal Enfield Classic 350\">Royal Enfield Classic 350</a></h3><div class=\"text-xt-light-grey font14 margin-bottom15\"> <span>346 cc</span>, <span>19.1 bhp</span>, <span>195 kg</span> </div> <div class=\"font14 text-light-grey margin-bottom5\">Ex-showroom, Mumbai</div> <div class=\"text-bold\"> <span class=\"font18\">₹</span> <span class=\"font18\">1,65,025</span><span class=\"font14\"> onwards</span> </div> <a class=\"btn btn-grey btn-sm margin-top15 font14 getquotation\" data-makename=\"Royal Enfield\" data-modelid=\"78\" data-modelname=\"Classic 350\" data-pagecatid=\"1\" data-pqsourceid=\"5\" href=\"Javascript:void(0)\" rel=\"nofollow\">Check on-road price</a> </div></div></li> <li class=\"front\" data-bike=\"Royal Enfield Bullet 350\" data-mileage=\"0\" data-popularity=\"2\" data-price=\"114755\" title=\"Royal Enfield Bullet 350\"> <div class=\"contentWrapper\"><div class=\"imageWrapper\"><a class=\"modelurl\" href=\"/royalenfield-bikes/bullet-350/\"><img alt=\"Bullet 350\" src=\"https://imgd.aeplcdn.com/310x174/bw/models/royal-enfield-bullet-350-ks--abs-new-colour-edition20190809160536.jpg?q=75\" title=\"Royal Enfield Bullet 350\"/></a></div><div class=\"bikeDescWrapper\"><h3 class=\"bikeTitle margin-bottom10\"><a class=\"modelurl\" href=\"/royalenfield-bikes/bullet-350/\" title=\"Royal Enfield Bullet 350\">Royal Enfield Bullet 350</a></h3><div class=\"text-xt-light-grey font14 margin-bottom15\"> <span>346 cc</span>, <span>19.8 bhp</span>, <span>180 kg</span> </div> <div class=\"font14 text-light-grey margin-bottom5\">Ex-showroom, Mumbai</div> <div class=\"text-bold\"> <span class=\"font18\">₹</span> <span class=\"font18\">1,14,755</span><span class=\"font14\"> onwards</span> </div> <a class=\"btn btn-grey btn-sm margin-top15 font14 getquotation\" data-makename=\"Royal Enfield\" data-modelid=\"81\" data-modelname=\"Bullet 350\" data-pagecatid=\"1\" data-pqsourceid=\"5\" href=\"Javascript:void(0)\" rel=\"nofollow\">Check on-road price</a> </div></div></li> <li class=\"front\" data-bike=\"Royal Enfield Classic Signals\" data-mileage=\"0\" data-popularity=\"3\" data-price=\"164095\" title=\"Royal Enfield Classic Signals\"> <div class=\"contentWrapper\"><div class=\"imageWrapper\"><a class=\"modelurl\" href=\"/royalenfield-bikes/signals/\"><img alt=\"Classic Signals\" src=\"https://imgd.aeplcdn.com/310x174/bw/models/royalenfield-classic-signals.jpg?20190103151915&amp;q=75\" title=\"Royal Enfield Classic Signals\"/></a></div><div class=\"bikeDescWrapper\"><h3 class=\"bikeTitle margin-bottom10\"><a class=\"modelurl\" href=\"/royalenfield-bikes/signals/\" title=\"Royal Enfield Classic Signals\">Royal Enfield Classic Signals</a></h3><div class=\"text-xt-light-grey font14 margin-bottom15\"> <span>346 cc</span>, <span>19.8 bhp</span>, <span>192 kg</span> </div> <div class=\"font14 text-light-grey margin-bottom5\">Ex-showroom, Mumbai</div> <div class=\"text-bold\"> <span class=\"font18\">₹</span> <span class=\"font18\">1,64,095</span><span class=\"font14\"> onwards</span> </div> <a class=\"btn btn-grey btn-sm margin-top15 font14 getquotation\" data-makename=\"Royal Enfield\" data-modelid=\"1177\" data-modelname=\"Classic Signals\" data-pagecatid=\"1\" data-pqsourceid=\"5\" href=\"Javascript:void(0)\" rel=\"nofollow\">Check on-road price</a> </div></div></li> <li class=\"front\" data-bike=\"Royal Enfield Thunderbird 350X\" data-mileage=\"0\" data-popularity=\"4\" data-price=\"164004\" title=\"Royal Enfield Thunderbird 350X\"> <div class=\"contentWrapper\"><div class=\"imageWrapper\"><a class=\"modelurl\" href=\"/royalenfield-bikes/thunderbird-350x/\"><img alt=\"Thunderbird 350X\" src=\"https://imgd.aeplcdn.com/310x174/bw/models/royalenfield-thunderbird-x-350.jpg?20190103151915&amp;q=75\" title=\"Royal Enfield Thunderbird 350X\"/></a></div><div class=\"bikeDescWrapper\"><h3 class=\"bikeTitle margin-bottom10\"><a class=\"modelurl\" href=\"/royalenfield-bikes/thunderbird-350x/\" title=\"Royal Enfield Thunderbird 350X\">Royal Enfield Thunderbird 350X</a></h3><div class=\"text-xt-light-grey font14 margin-bottom15\"> <span>346 cc</span>, <span>19.8 bhp</span>, <span>195 kg</span> </div> <div class=\"font14 text-light-grey margin-bottom5\">Ex-showroom, Mumbai</div> <div class=\"text-bold\"> <span class=\"font18\">₹</span> <span class=\"font18\">1,64,004</span><span class=\"font14\"> onwards</span> </div> <a class=\"btn btn-grey btn-sm margin-top15 font14 getquotation\" data-makename=\"Royal Enfield\" data-modelid=\"1158\" data-modelname=\"Thunderbird 350X\" data-pagecatid=\"1\" data-pqsourceid=\"5\" href=\"Javascript:void(0)\" rel=\"nofollow\">Check on-road price</a> </div></div></li> <li class=\"front\" data-bike=\"Royal Enfield Himalayan\" data-mileage=\"0\" data-popularity=\"5\" data-price=\"180951\" title=\"Royal Enfield Himalayan\"> <div class=\"bs6-tag inline-block\"><div class=\"bs6 inline-block\"> BS6 </div><span class=\"bwsprite info-icon tooltip-icon-target tooltip-top margin-right10\"><span class=\"bw-tooltip info-tooltip\"><span class=\"bw-tooltip-text\">This bike complies to the BS6 Emission Standard. <a href=\"https://www.bikewale.com/news/43614-bsvi-and-bsiv-emission-norms-difference-explained.html\" target=\"_blank\" title=\"BS6 and BS4 emission norms: Difference explained\">Know more <img alt=\"Know more\" class=\"knowmore\" src=\"https://imgd.aeplcdn.com/0x0/cw/static/icons/svg/0288d1/external-link-icon.svg?v=201911\"/></a></span></span></span></div> <div class=\"contentWrapper\"><div class=\"imageWrapper\"><a class=\"modelurl\" href=\"/royalenfield-bikes/himalayan/\"><img alt=\"Himalayan\" src=\"https://imgd.aeplcdn.com/310x174/bw/models/royal-enfield-himalayan-standard--bs-vi20200120132350.jpg?q=75\" title=\"Royal Enfield Himalayan\"/></a></div><div class=\"bikeDescWrapper\"><h3 class=\"bikeTitle margin-bottom10\"><a class=\"modelurl\" href=\"/royalenfield-bikes/himalayan/\" title=\"Royal Enfield Himalayan\">Royal Enfield Himalayan</a></h3><div class=\"text-xt-light-grey font14 margin-bottom15\"> <span>411 cc</span>, <span>24.5 bhp</span>, <span>182 kg</span> </div> <div class=\"font14 text-light-grey margin-bottom5\">Ex-showroom, Mumbai</div> <div class=\"text-bold\"> <span class=\"font18\">₹</span> <span class=\"font18\">1,80,951</span><span class=\"font14\"> onwards</span> </div> <a class=\"btn btn-grey btn-sm margin-top15 font14 getquotation\" data-makename=\"Royal Enfield\" data-modelid=\"673\" data-modelname=\"Himalayan\" data-pagecatid=\"1\" data-pqsourceid=\"5\" href=\"Javascript:void(0)\" rel=\"nofollow\">Check on-road price</a> </div></div></li> <li class=\"front\" data-bike=\"Royal Enfield Classic Stealth Black\" data-mileage=\"0\" data-popularity=\"6\" data-price=\"204977\" title=\"Royal Enfield Classic Stealth Black\"> <div class=\"contentWrapper\"><div class=\"imageWrapper\"><a class=\"modelurl\" href=\"/royalenfield-bikes/stealth-black/\"><img alt=\"Classic Stealth Black\" src=\"https://imgd.aeplcdn.com/310x174/bw/models/royalenfield-classic-500-stealth-black.jpg?20190103151915&amp;q=75\" title=\"Royal Enfield Classic Stealth Black\"/></a></div><div class=\"bikeDescWrapper\"><h3 class=\"bikeTitle margin-bottom10\"><a class=\"modelurl\" href=\"/royalenfield-bikes/stealth-black/\" title=\"Royal Enfield Classic Stealth Black\">Royal Enfield Classic Stealth Black</a></h3><div class=\"text-xt-light-grey font14 margin-bottom15\"> <span>499 cc</span>, <span>27.2 bhp</span>, <span>194 kg</span> </div> <div class=\"font14 text-light-grey margin-bottom5\">Ex-showroom, Mumbai</div> <div class=\"text-bold\"> <span class=\"font18\">₹</span> <span class=\"font18\">2,04,977</span><span class=\"font14\"> onwards</span> </div> <a class=\"btn btn-grey btn-sm margin-top15 font14 getquotation\" data-makename=\"Royal Enfield\" data-modelid=\"1093\" data-modelname=\"Classic Stealth Black\" data-pagecatid=\"1\" data-pqsourceid=\"5\" href=\"Javascript:void(0)\" rel=\"nofollow\">Check on-road price</a> </div></div></li> <li class=\"front\" data-bike=\"Royal Enfield Interceptor 650\" data-mileage=\"0\" data-popularity=\"7\" data-price=\"264919\" title=\"Royal Enfield Interceptor 650\"> <div class=\"contentWrapper\"><div class=\"imageWrapper\"><a class=\"modelurl\" href=\"/royalenfield-bikes/interceptor/\"><img alt=\"Interceptor 650\" src=\"https://imgd.aeplcdn.com/310x174/bw/models/royalenfield-interceptor-650.jpg?20190103151915&amp;q=75\" title=\"Royal Enfield Interceptor 650\"/></a></div><div class=\"bikeDescWrapper\"><h3 class=\"bikeTitle margin-bottom10\"><a class=\"modelurl\" href=\"/royalenfield-bikes/interceptor/\" title=\"Royal Enfield Interceptor 650\">Royal Enfield Interceptor 650</a></h3><div class=\"text-xt-light-grey font14 margin-bottom15\"> <span>648 cc</span>, <span>47 bhp</span>, <span>202 kg</span> </div> <div class=\"font14 text-light-grey margin-bottom5\">Ex-showroom, Mumbai</div> <div class=\"text-bold\"> <span class=\"font18\">₹</span> <span class=\"font18\">2,64,919</span><span class=\"font14\"> onwards</span> </div> <a class=\"btn btn-grey btn-sm margin-top15 font14 getquotation\" data-makename=\"Royal Enfield\" data-modelid=\"986\" data-modelname=\"Interceptor 650\" data-pagecatid=\"1\" data-pqsourceid=\"5\" href=\"Javascript:void(0)\" rel=\"nofollow\">Check on-road price</a> </div></div></li> <li class=\"front\" data-bike=\"Royal Enfield Classic Gunmetal Grey\" data-mileage=\"0\" data-popularity=\"8\" data-price=\"155740\" title=\"Royal Enfield Classic Gunmetal Grey\"> <div class=\"contentWrapper\"><div class=\"imageWrapper\"><a class=\"modelurl\" href=\"/royalenfield-bikes/gunmetal-grey/\"><img alt=\"Classic Gunmetal Grey\" src=\"https://imgd.aeplcdn.com/310x174/bw/models/royalenfield-classic-350-gunmetal-grey.jpg?20190103151915&amp;q=75\" title=\"Royal Enfield Classic Gunmetal Grey\"/></a></div><div class=\"bikeDescWrapper\"><h3 class=\"bikeTitle margin-bottom10\"><a class=\"modelurl\" href=\"/royalenfield-bikes/gunmetal-grey/\" title=\"Royal Enfield Classic Gunmetal Grey\">Royal Enfield Classic Gunmetal Grey</a></h3><div class=\"text-xt-light-grey font14 margin-bottom15\"> <span>346 cc</span>, <span>19.8 bhp</span>, <span>192 kg</span> </div> <div class=\"font14 text-light-grey margin-bottom5\">Ex-showroom, Mumbai</div> <div class=\"text-bold\"> <span class=\"font18\">₹</span> <span class=\"font18\">1,55,740</span><span class=\"font14\"> onwards</span> </div> <a class=\"btn btn-grey btn-sm margin-top15 font14 getquotation\" data-makename=\"Royal Enfield\" data-modelid=\"1092\" data-modelname=\"Classic Gunmetal Grey\" data-pagecatid=\"1\" data-pqsourceid=\"5\" href=\"Javascript:void(0)\" rel=\"nofollow\">Check on-road price</a> </div></div></li> <li class=\"front\" data-bike=\"Royal Enfield Continental GT 650\" data-mileage=\"0\" data-popularity=\"9\" data-price=\"280677\" title=\"Royal Enfield Continental GT 650\"> <div class=\"contentWrapper\"><div class=\"imageWrapper\"><a class=\"modelurl\" href=\"/royalenfield-bikes/continental-gt/\"><img alt=\"Continental GT 650\" src=\"https://imgd.aeplcdn.com/310x174/bw/models/royalenfield-continental-gt-650.jpg?20190103151915&amp;q=75\" title=\"Royal Enfield Continental GT 650\"/></a></div><div class=\"bikeDescWrapper\"><h3 class=\"bikeTitle margin-bottom10\"><a class=\"modelurl\" href=\"/royalenfield-bikes/continental-gt/\" title=\"Royal Enfield Continental GT 650\">Royal Enfield Continental GT 650</a></h3><div class=\"text-xt-light-grey font14 margin-bottom15\"> <span>648 cc</span>, <span>47 bhp</span>, <span>198 kg</span> </div> <div class=\"font14 text-light-grey margin-bottom5\">Ex-showroom, Mumbai</div> <div class=\"text-bold\"> <span class=\"font18\">₹</span> <span class=\"font18\">2,80,677</span><span class=\"font14\"> onwards</span> </div> <a class=\"btn btn-grey btn-sm margin-top15 font14 getquotation\" data-makename=\"Royal Enfield\" data-modelid=\"1086\" data-modelname=\"Continental GT 650\" data-pagecatid=\"1\" data-pqsourceid=\"5\" href=\"Javascript:void(0)\" rel=\"nofollow\">Check on-road price</a> </div></div></li> <li class=\"front\" data-bike=\"Royal Enfield Thunderbird 350\" data-mileage=\"0\" data-popularity=\"10\" data-price=\"156658\" title=\"Royal Enfield Thunderbird 350\"> <div class=\"contentWrapper\"><div class=\"imageWrapper\"><a class=\"modelurl\" href=\"/royalenfield-bikes/thunderbird/\"><img alt=\"Thunderbird 350\" src=\"https://imgd.aeplcdn.com/310x174/bw/models/royalenfield-thunderbird.jpg?20190103151915&amp;q=75\" title=\"Royal Enfield Thunderbird 350\"/></a></div><div class=\"bikeDescWrapper\"><h3 class=\"bikeTitle margin-bottom10\"><a class=\"modelurl\" href=\"/royalenfield-bikes/thunderbird/\" title=\"Royal Enfield Thunderbird 350\">Royal Enfield Thunderbird 350</a></h3><div class=\"text-xt-light-grey font14 margin-bottom15\"> <span>346 cc</span>, <span>19.8 bhp</span>, <span>192 kg</span> </div> <div class=\"font14 text-light-grey margin-bottom5\">Ex-showroom, Mumbai</div> <div class=\"text-bold\"> <span class=\"font18\">₹</span> <span class=\"font18\">1,56,658</span><span class=\"font14\"> onwards</span> </div> <a class=\"btn btn-grey btn-sm margin-top15 font14 getquotation\" data-makename=\"Royal Enfield\" data-modelid=\"215\" data-modelname=\"Thunderbird 350\" data-pagecatid=\"1\" data-pqsourceid=\"5\" href=\"Javascript:void(0)\" rel=\"nofollow\">Check on-road price</a> </div></div></li> <li class=\"front\" data-bike=\"Royal Enfield Thunderbird 500X\" data-mileage=\"0\" data-popularity=\"11\" data-price=\"215178\" title=\"Royal Enfield Thunderbird 500X\"> <div class=\"contentWrapper\"><div class=\"imageWrapper\"><a class=\"modelurl\" href=\"/royalenfield-bikes/thunderbird-500x/\"><img alt=\"Thunderbird 500X\" src=\"https://imgd.aeplcdn.com/310x174/bw/models/royalenfield-thunderbird-500x.jpg?20190103151915&amp;q=75\" title=\"Royal Enfield Thunderbird 500X\"/></a></div><div class=\"bikeDescWrapper\"><h3 class=\"bikeTitle margin-bottom10\"><a class=\"modelurl\" href=\"/royalenfield-bikes/thunderbird-500x/\" title=\"Royal Enfield Thunderbird 500X\">Royal Enfield Thunderbird 500X</a></h3><div class=\"text-xt-light-grey font14 margin-bottom15\"> <span>499 cc</span>, <span>27.2 bhp</span>, <span>197 kg</span> </div> <div class=\"font14 text-light-grey margin-bottom5\">Ex-showroom, Mumbai</div> <div class=\"text-bold\"> <span class=\"font18\">₹</span> <span class=\"font18\">2,15,178</span><span class=\"font14\"> onwards</span> </div> <a class=\"btn btn-grey btn-sm margin-top15 font14 getquotation\" data-makename=\"Royal Enfield\" data-modelid=\"1159\" data-modelname=\"Thunderbird 500X\" data-pagecatid=\"1\" data-pqsourceid=\"5\" href=\"Javascript:void(0)\" rel=\"nofollow\">Check on-road price</a> </div></div></li> <li class=\"front\" data-bike=\"Royal Enfield Bullet 500\" data-mileage=\"30\" data-popularity=\"12\" data-price=\"188803\" title=\"Royal Enfield Bullet 500\"> <div class=\"contentWrapper\"><div class=\"imageWrapper\"><a class=\"modelurl\" href=\"/royalenfield-bikes/bullet-500/\"><img alt=\"Bullet 500\" src=\"https://imgd.aeplcdn.com/310x174/bw/models/royal-enfield-bullet-500-standard-324.jpg?20190103151915&amp;q=75\" title=\"Royal Enfield Bullet 500\"/></a></div><div class=\"bikeDescWrapper\"><h3 class=\"bikeTitle margin-bottom10\"><a class=\"modelurl\" href=\"/royalenfield-bikes/bullet-500/\" title=\"Royal Enfield Bullet 500\">Royal Enfield Bullet 500</a></h3><div class=\"text-xt-light-grey font14 margin-bottom15\"> <span>499 cc</span>, <span>30 kmpl</span>, <span>26.1 bhp</span>, <span>193 kg</span> </div> <div class=\"font14 text-light-grey margin-bottom5\">Ex-showroom, Mumbai</div> <div class=\"text-bold\"> <span class=\"font18\">₹</span> <span class=\"font18\">1,88,803</span><span class=\"font14\"> onwards</span> </div> <a class=\"btn btn-grey btn-sm margin-top15 font14 getquotation\" data-makename=\"Royal Enfield\" data-modelid=\"229\" data-modelname=\"Bullet 500\" data-pagecatid=\"1\" data-pqsourceid=\"5\" href=\"Javascript:void(0)\" rel=\"nofollow\">Check on-road price</a> </div></div></li> <li class=\"front\" data-bike=\"Royal Enfield Bullet Trials 350\" data-mileage=\"0\" data-popularity=\"13\" data-price=\"163003\" title=\"Royal Enfield Bullet Trials 350\"> <div class=\"contentWrapper\"><div class=\"imageWrapper\"><a class=\"modelurl\" href=\"/royalenfield-bikes/bullet-trials/\"><img alt=\"Bullet Trials 350\" src=\"https://imgd.aeplcdn.com/310x174/bw/models/royalenfield-bullet-trials-350.jpg?20192703114518&amp;q=75\" title=\"Royal Enfield Bullet Trials 350\"/></a></div><div class=\"bikeDescWrapper\"><h3 class=\"bikeTitle margin-bottom10\"><a class=\"modelurl\" href=\"/royalenfield-bikes/bullet-trials/\" title=\"Royal Enfield Bullet Trials 350\">Royal Enfield Bullet Trials 350</a></h3><div class=\"text-xt-light-grey font14 margin-bottom15\"> <span>346 cc</span>, <span>19.8 bhp</span>, <span>187 kg</span> </div> <div class=\"font14 text-light-grey margin-bottom5\">Ex-showroom, Mumbai</div> <div class=\"text-bold\"> <span class=\"font18\">₹</span> <span class=\"font18\">1,63,003</span><span class=\"font14\"> onwards</span> </div> <a class=\"btn btn-grey btn-sm margin-top15 font14 getquotation\" data-makename=\"Royal Enfield\" data-modelid=\"1262\" data-modelname=\"Bullet Trials 350\" data-pagecatid=\"1\" data-pqsourceid=\"5\" href=\"Javascript:void(0)\" rel=\"nofollow\">Check on-road price</a> </div></div></li> <li class=\"front\" data-bike=\"Royal Enfield Classic 500\" data-mileage=\"0\" data-popularity=\"14\" data-price=\"202046\" title=\"Royal Enfield Classic 500\"> <div class=\"contentWrapper\"><div class=\"imageWrapper\"><a class=\"modelurl\" href=\"/royalenfield-bikes/classic-500/\"><img alt=\"Classic 500\" src=\"https://imgd.aeplcdn.com/310x174/bw/models/royalenfield-classic500.jpg?20190103151915&amp;q=75\" title=\"Royal Enfield Classic 500\"/></a></div><div class=\"bikeDescWrapper\"><h3 class=\"bikeTitle margin-bottom10\"><a class=\"modelurl\" href=\"/royalenfield-bikes/classic-500/\" title=\"Royal Enfield Classic 500\">Royal Enfield Classic 500</a></h3><div class=\"text-xt-light-grey font14 margin-bottom15\"> <span>499 cc</span>, <span>27.2 bhp</span>, <span>190 kg</span> </div> <div class=\"font14 text-light-grey margin-bottom5\">Ex-showroom, Mumbai</div> <div class=\"text-bold\"> <span class=\"font18\">₹</span> <span class=\"font18\">2,02,046</span><span class=\"font14\"> onwards</span> </div> <a class=\"btn btn-grey btn-sm margin-top15 font14 getquotation\" data-makename=\"Royal Enfield\" data-modelid=\"77\" data-modelname=\"Classic 500\" data-pagecatid=\"1\" data-pqsourceid=\"5\" href=\"Javascript:void(0)\" rel=\"nofollow\">Check on-road price</a> </div></div></li> <li class=\"front\" data-bike=\"Royal Enfield Classic Chrome\" data-mileage=\"0\" data-popularity=\"15\" data-price=\"212479\" title=\"Royal Enfield Classic Chrome\"> <div class=\"contentWrapper\"><div class=\"imageWrapper\"><a class=\"modelurl\" href=\"/royalenfield-bikes/chrome/\"><img alt=\"Classic Chrome\" src=\"https://imgd.aeplcdn.com/310x174/bw/models/royal-enfield-classic-chrome-standard-494.jpg?20190103151915&amp;q=75\" title=\"Royal Enfield Classic Chrome\"/></a></div><div class=\"bikeDescWrapper\"><h3 class=\"bikeTitle margin-bottom10\"><a class=\"modelurl\" href=\"/royalenfield-bikes/chrome/\" title=\"Royal Enfield Classic Chrome\">Royal Enfield Classic Chrome</a></h3><div class=\"text-xt-light-grey font14 margin-bottom15\"> <span>499 cc</span>, <span>27.2 bhp</span>, <span>187 kg</span> </div> <div class=\"font14 text-light-grey margin-bottom5\">Ex-showroom, Mumbai</div> <div class=\"text-bold\"> <span class=\"font18\">₹</span> <span class=\"font18\">2,12,479</span><span class=\"font14\"> onwards</span> </div> <a class=\"btn btn-grey btn-sm margin-top15 font14 getquotation\" data-makename=\"Royal Enfield\" data-modelid=\"378\" data-modelname=\"Classic Chrome\" data-pagecatid=\"1\" data-pqsourceid=\"5\" href=\"Javascript:void(0)\" rel=\"nofollow\">Check on-road price</a> </div></div></li> <li class=\"front\" data-bike=\"Royal Enfield Classic Desert Storm\" data-mileage=\"0\" data-popularity=\"16\" data-price=\"204977\" title=\"Royal Enfield Classic Desert Storm\"> <div class=\"contentWrapper\"><div class=\"imageWrapper\"><a class=\"modelurl\" href=\"/royalenfield-bikes/desert-storm/\"><img alt=\"Classic Desert Storm\" src=\"https://imgd.aeplcdn.com/310x174/bw/models/royalenfield-desert-storm.jpg?20190103151915&amp;q=75\" title=\"Royal Enfield Classic Desert Storm\"/></a></div><div class=\"bikeDescWrapper\"><h3 class=\"bikeTitle margin-bottom10\"><a class=\"modelurl\" href=\"/royalenfield-bikes/desert-storm/\" title=\"Royal Enfield Classic Desert Storm\">Royal Enfield Classic Desert Storm</a></h3><div class=\"text-xt-light-grey font14 margin-bottom15\"> <span>499 cc</span>, <span>27.2 bhp</span>, <span>187 kg</span> </div> <div class=\"font14 text-light-grey margin-bottom5\">Ex-showroom, Mumbai</div> <div class=\"text-bold\"> <span class=\"font18\">₹</span> <span class=\"font18\">2,04,977</span><span class=\"font14\"> onwards</span> </div> <a class=\"btn btn-grey btn-sm margin-top15 font14 getquotation\" data-makename=\"Royal Enfield\" data-modelid=\"377\" data-modelname=\"Classic Desert Storm\" data-pagecatid=\"1\" data-pqsourceid=\"5\" href=\"Javascript:void(0)\" rel=\"nofollow\">Check on-road price</a> </div></div></li> <li class=\"front\" data-bike=\"Royal Enfield Classic Squadron Blue\" data-mileage=\"0\" data-popularity=\"17\" data-price=\"204977\" title=\"Royal Enfield Classic Squadron Blue\"> <div class=\"contentWrapper\"><div class=\"imageWrapper\"><a class=\"modelurl\" href=\"/royalenfield-bikes/squadron-blue/\"><img alt=\"Classic Squadron Blue\" src=\"https://imgd.aeplcdn.com/310x174/bw/models/royalenfield-squadron-blue.jpg?20190103151915&amp;q=75\" title=\"Royal Enfield Classic Squadron Blue\"/></a></div><div class=\"bikeDescWrapper\"><h3 class=\"bikeTitle margin-bottom10\"><a class=\"modelurl\" href=\"/royalenfield-bikes/squadron-blue/\" title=\"Royal Enfield Classic Squadron Blue\">Royal Enfield Classic Squadron Blue</a></h3><div class=\"text-xt-light-grey font14 margin-bottom15\"> <span>499 cc</span>, <span>27.2 bhp</span>, <span>187 kg</span> </div> <div class=\"font14 text-light-grey margin-bottom5\">Ex-showroom, Mumbai</div> <div class=\"text-bold\"> <span class=\"font18\">₹</span> <span class=\"font18\">2,04,977</span><span class=\"font14\"> onwards</span> </div> <a class=\"btn btn-grey btn-sm margin-top15 font14 getquotation\" data-makename=\"Royal Enfield\" data-modelid=\"967\" data-modelname=\"Classic Squadron Blue\" data-pagecatid=\"1\" data-pqsourceid=\"5\" href=\"Javascript:void(0)\" rel=\"nofollow\">Check on-road price</a> </div></div></li> <li class=\"front\" data-bike=\"Royal Enfield Thunderbird 500\" data-mileage=\"0\" data-popularity=\"18\" data-price=\"207307\" title=\"Royal Enfield Thunderbird 500\"> <div class=\"contentWrapper\"><div class=\"imageWrapper\"><a class=\"modelurl\" href=\"/royalenfield-bikes/thunderbird-500/\"><img alt=\"Thunderbird 500\" src=\"https://imgd.aeplcdn.com/310x174/bw/models/royalenfield-thunderbird500.jpg?20190103151915&amp;q=75\" title=\"Royal Enfield Thunderbird 500\"/></a></div><div class=\"bikeDescWrapper\"><h3 class=\"bikeTitle margin-bottom10\"><a class=\"modelurl\" href=\"/royalenfield-bikes/thunderbird-500/\" title=\"Royal Enfield Thunderbird 500\">Royal Enfield Thunderbird 500</a></h3><div class=\"text-xt-light-grey font14 margin-bottom15\"> <span>499 cc</span>, <span>27.2 bhp</span>, <span>195 kg</span> </div> <div class=\"font14 text-light-grey margin-bottom5\">Ex-showroom, Mumbai</div> <div class=\"text-bold\"> <span class=\"font18\">₹</span> <span class=\"font18\">2,07,307</span><span class=\"font14\"> onwards</span> </div> <a class=\"btn btn-grey btn-sm margin-top15 font14 getquotation\" data-makename=\"Royal Enfield\" data-modelid=\"206\" data-modelname=\"Thunderbird 500\" data-pagecatid=\"1\" data-pqsourceid=\"5\" href=\"Javascript:void(0)\" rel=\"nofollow\">Check on-road price</a> </div></div></li> <li class=\"front\" data-bike=\"Royal Enfield Bullet Trials 500\" data-mileage=\"0\" data-popularity=\"19\" data-price=\"207766\" title=\"Royal Enfield Bullet Trials 500\"> <div class=\"contentWrapper\"><div class=\"imageWrapper\"><a class=\"modelurl\" href=\"/royalenfield-bikes/bullet-trials-500/\"><img alt=\"Bullet Trials 500\" src=\"https://imgd.aeplcdn.com/310x174/bw/models/royalenfield-bullet-trials-500.jpg?20192703114537&amp;q=75\" title=\"Royal Enfield Bullet Trials 500\"/></a></div><div class=\"bikeDescWrapper\"><h3 class=\"bikeTitle margin-bottom10\"><a class=\"modelurl\" href=\"/royalenfield-bikes/bullet-trials-500/\" title=\"Royal Enfield Bullet Trials 500\">Royal Enfield Bullet Trials 500</a></h3><div class=\"text-xt-light-grey font14 margin-bottom15\"> <span>499 cc</span>, <span>27.2 bhp</span>, <span>192 kg</span> </div> <div class=\"font14 text-light-grey margin-bottom5\">Ex-showroom, Mumbai</div> <div class=\"text-bold\"> <span class=\"font18\">₹</span> <span class=\"font18\">2,07,766</span><span class=\"font14\"> onwards</span> </div> <a class=\"btn btn-grey btn-sm margin-top15 font14 getquotation\" data-makename=\"Royal Enfield\" data-modelid=\"1263\" data-modelname=\"Bullet Trials 500\" data-pagecatid=\"1\" data-pqsourceid=\"5\" href=\"Javascript:void(0)\" rel=\"nofollow\">Check on-road price</a> </div></div></li> </ul> </div></section> <div class=\"bw-model-tabs-data\" id=\"popularComparisonAndOtherBrands\"> <section id=\"popularComparison\"><div class=\"section-bottom-margin\"><div class=\"content-box-shadow padding-top20 padding-bottom5\"><div class=\"carousel-heading-content\"><div class=\"swiper-heading-left-grid inline-block\"><h2>Popular Comparison of Royal Enfield Bikes</h2></div><div class=\"swiper-heading-right-grid inline-block text-right\"><a class=\"btn view-all-target-btn\" href=\"/comparebikes/\" title=\"View more comparisons\">View all</a></div><div class=\"clear\"></div></div> <div class=\"jcarousel-wrapper inner-content-carousel comparison-type-carousel padding-bottom20\"><div class=\"jcarousel\"><ul> <li><a class=\"card-target position-rel redirect-url\" data-url=\"/comparebikes/royalenfield-classic-350-vs-royalenfield-bullet-350/\" href=\"/comparebikes/royalenfield-classic-350-vs-royalenfield-bullet-350/\" title=\"Classic 350 vs Bullet 350\"><span class=\"text-light-grey position-abt pos-top5 pos-right5 font11\"></span><div class=\"grid-6\"><div class=\"model-img-content\"><img alt=\"Royal Enfield Classic 350\" class=\"lazy\" data-original=\"https://imgd.aeplcdn.com/210x118/bw/models/royal-enfield-classic-350-bs-vi-efi20200108130246.jpg?q=70\" src=\"\" title=\"Royal Enfield Classic 350\"/></div><h3 class=\"font15 text-black margin-bottom10 text-truncate\">Royal Enfield Classic 350</h3><p class=\"font14 text-light-grey margin-bottom5\"> Ex-showroom, Mumbai  </p> <span class=\"font18 text-default\"> ₹</span> <span class=\"font18 text-default text-bold\">1,65,025</span></div><div class=\"grid-6\"><div class=\"model-img-content\"><img alt=\"Royal Enfield Bullet 350\" class=\"lazy\" data-original=\"https://imgd.aeplcdn.com/210x118/bw/models/royal-enfield-bullet-350-ks--abs-new-colour-edition20190809160536.jpg?q=70\" src=\"\" title=\"Royal Enfield Bullet 350\"/></div><h3 class=\"font15 text-black margin-bottom10 text-truncate\">Royal Enfield Bullet 350</h3><p class=\"font14 text-light-grey margin-bottom5\"> Ex-showroom, Mumbai  </p> <span class=\"font18 text-default\"> ₹</span> <span class=\"font18 text-default text-bold\">1,14,755</span></div><div class=\"clear\"></div><div class=\"margin-top20 text-center\"><span class=\"btn btn-white btn-160-36\">Compare now</span></div></a></li> <li><a class=\"card-target position-rel redirect-url\" data-url=\"/comparebikes/royalenfield-bullet-350-vs-jawa-42/\" href=\"/comparebikes/royalenfield-bullet-350-vs-jawa-42/\" title=\"Bullet 350 vs 42\"><span class=\"text-light-grey position-abt pos-top5 pos-right5 font11\"></span><div class=\"grid-6\"><div class=\"model-img-content\"><img alt=\"Royal Enfield Bullet 350\" class=\"lazy\" data-original=\"https://imgd.aeplcdn.com/210x118/bw/models/royal-enfield-bullet-350-ks--abs-new-colour-edition20190809160536.jpg?q=70\" src=\"\" title=\"Royal Enfield Bullet 350\"/></div><h3 class=\"font15 text-black margin-bottom10 text-truncate\">Royal Enfield Bullet 350</h3><p class=\"font14 text-light-grey margin-bottom5\"> Ex-showroom, Mumbai  </p> <span class=\"font18 text-default\"> ₹</span> <span class=\"font18 text-default text-bold\">1,14,755</span></div><div class=\"grid-6\"><div class=\"model-img-content\"><img alt=\"Jawa 42\" class=\"lazy\" data-original=\"https://imgd.aeplcdn.com/210x118/bw/models/jawa-jawa-forty-two.jpg?20190103151915&amp;q=70\" src=\"\" title=\"Jawa 42\"/></div><h3 class=\"font15 text-black margin-bottom10 text-truncate\">Jawa 42</h3><p class=\"font14 text-light-grey margin-bottom5\"> Ex-showroom, Mumbai  </p> <span class=\"font18 text-default\"> ₹</span> <span class=\"font18 text-default text-bold\">1,56,300</span></div><div class=\"clear\"></div><div class=\"margin-top20 text-center\"><span class=\"btn btn-white btn-160-36\">Compare now</span></div></a></li> <li><a class=\"card-target position-rel redirect-url\" data-url=\"/comparebikes/royalenfield-classic-350-vs-royalenfield-signals/\" href=\"/comparebikes/royalenfield-classic-350-vs-royalenfield-signals/\" title=\"Classic Signals vs Classic 350\"><span class=\"text-light-grey position-abt pos-top5 pos-right5 font11\"></span><div class=\"grid-6\"><div class=\"model-img-content\"><img alt=\"Royal Enfield Classic Signals\" class=\"lazy\" data-original=\"https://imgd.aeplcdn.com/210x118/bw/models/royalenfield-classic-signals.jpg?20190103151915&amp;q=70\" src=\"\" title=\"Royal Enfield Classic Signals\"/></div><h3 class=\"font15 text-black margin-bottom10 text-truncate\">Royal Enfield Classic Signals</h3><p class=\"font14 text-light-grey margin-bottom5\"> Ex-showroom, Mumbai  </p> <span class=\"font18 text-default\"> ₹</span> <span class=\"font18 text-default text-bold\">1,64,095</span></div><div class=\"grid-6\"><div class=\"model-img-content\"><img alt=\"Royal Enfield Classic 350\" class=\"lazy\" data-original=\"https://imgd.aeplcdn.com/210x118/bw/models/royal-enfield-classic-350-bs-vi-efi20200108130246.jpg?q=70\" src=\"\" title=\"Royal Enfield Classic 350\"/></div><h3 class=\"font15 text-black margin-bottom10 text-truncate\">Royal Enfield Classic 350</h3><p class=\"font14 text-light-grey margin-bottom5\"> Ex-showroom, Mumbai  </p> <span class=\"font18 text-default\"> ₹</span> <span class=\"font18 text-default text-bold\">1,65,025</span></div><div class=\"clear\"></div><div class=\"margin-top20 text-center\"><span class=\"btn btn-white btn-160-36\">Compare now</span></div></a></li> <li><a class=\"card-target position-rel redirect-url\" data-url=\"/comparebikes/royalenfield-classic-350-vs-royalenfield-thunderbird-350x/\" href=\"/comparebikes/royalenfield-classic-350-vs-royalenfield-thunderbird-350x/\" title=\"Thunderbird 350X vs Classic 350\"><span class=\"text-light-grey position-abt pos-top5 pos-right5 font11\"></span><div class=\"grid-6\"><div class=\"model-img-content\"><img alt=\"Royal Enfield Thunderbird 350X\" class=\"lazy\" data-original=\"https://imgd.aeplcdn.com/210x118/bw/models/royalenfield-thunderbird-350x.jpg?20190103151915&amp;q=70\" src=\"\" title=\"Royal Enfield Thunderbird 350X\"/></div><h3 class=\"font15 text-black margin-bottom10 text-truncate\">Royal Enfield Thunderbird 350X</h3><p class=\"font14 text-light-grey margin-bottom5\"> Ex-showroom, Mumbai  </p> <span class=\"font18 text-default\"> ₹</span> <span class=\"font18 text-default text-bold\">1,64,004</span></div><div class=\"grid-6\"><div class=\"model-img-content\"><img alt=\"Royal Enfield Classic 350\" class=\"lazy\" data-original=\"https://imgd.aeplcdn.com/210x118/bw/models/royal-enfield-classic-350-bs-vi-efi20200108130246.jpg?q=70\" src=\"\" title=\"Royal Enfield Classic 350\"/></div><h3 class=\"font15 text-black margin-bottom10 text-truncate\">Royal Enfield Classic 350</h3><p class=\"font14 text-light-grey margin-bottom5\"> Ex-showroom, Mumbai  </p> <span class=\"font18 text-default\"> ₹</span> <span class=\"font18 text-default text-bold\">1,65,025</span></div><div class=\"clear\"></div><div class=\"margin-top20 text-center\"><span class=\"btn btn-white btn-160-36\">Compare now</span></div></a></li> <li><a class=\"card-target position-rel redirect-url\" data-url=\"/comparebikes/royalenfield-himalayan-vs-bajaj-dominar-400/\" href=\"/comparebikes/royalenfield-himalayan-vs-bajaj-dominar-400/\" title=\"Himalayan vs Dominar 400\"><span class=\"text-light-grey position-abt pos-top5 pos-right5 font11\"></span><div class=\"grid-6\"><div class=\"model-img-content\"><img alt=\"Royal Enfield Himalayan\" class=\"lazy\" data-original=\"https://imgd.aeplcdn.com/210x118/bw/models/royal-enfield-himalayan-fi-abs20190722175249.jpg?q=70\" src=\"\" title=\"Royal Enfield Himalayan\"/></div><h3 class=\"font15 text-black margin-bottom10 text-truncate\">Royal Enfield Himalayan</h3><p class=\"font14 text-light-grey margin-bottom5\"> Ex-showroom, Mumbai  </p> <span class=\"font18 text-default\"> ₹</span> <span class=\"font18 text-default text-bold\">1,80,951</span></div><div class=\"grid-6\"><div class=\"model-img-content\"><img alt=\"Bajaj Dominar 400\" class=\"lazy\" data-original=\"https://imgd.aeplcdn.com/210x118/bw/models/bajaj-dominar-400-2019.jpg?20190404131229&amp;q=70\" src=\"\" title=\"Bajaj Dominar 400\"/></div><h3 class=\"font15 text-black margin-bottom10 text-truncate\">Bajaj Dominar 400</h3><p class=\"font14 text-light-grey margin-bottom5\"> Ex-showroom, Mumbai  </p> <span class=\"font18 text-default\"> ₹</span> <span class=\"font18 text-default text-bold\">1,90,002</span></div><div class=\"clear\"></div><div class=\"margin-top20 text-center\"><span class=\"btn btn-white btn-160-36\">Compare now</span></div></a></li> <li><a class=\"card-target position-rel redirect-url\" data-url=\"/comparebikes/royalenfield-classic-350-vs-royalenfield-stealth-black/\" href=\"/comparebikes/royalenfield-classic-350-vs-royalenfield-stealth-black/\" title=\"Classic Stealth Black vs Classic 350\"><span class=\"text-light-grey position-abt pos-top5 pos-right5 font11\"></span><div class=\"grid-6\"><div class=\"model-img-content\"><img alt=\"Royal Enfield Classic Stealth Black\" class=\"lazy\" data-original=\"https://imgd.aeplcdn.com/210x118/bw/models/royalenfield-classic-stealth-black.jpg?20190103151915&amp;q=70\" src=\"\" title=\"Royal Enfield Classic Stealth Black\"/></div><h3 class=\"font15 text-black margin-bottom10 text-truncate\">Royal Enfield Classic Stealth Black</h3><p class=\"font14 text-light-grey margin-bottom5\"> Ex-showroom, Mumbai  </p> <span class=\"font18 text-default\"> ₹</span> <span class=\"font18 text-default text-bold\">2,04,977</span></div><div class=\"grid-6\"><div class=\"model-img-content\"><img alt=\"Royal Enfield Classic 350\" class=\"lazy\" data-original=\"https://imgd.aeplcdn.com/210x118/bw/models/royal-enfield-classic-350-bs-vi-efi20200108130246.jpg?q=70\" src=\"\" title=\"Royal Enfield Classic 350\"/></div><h3 class=\"font15 text-black margin-bottom10 text-truncate\">Royal Enfield Classic 350</h3><p class=\"font14 text-light-grey margin-bottom5\"> Ex-showroom, Mumbai  </p> <span class=\"font18 text-default\"> ₹</span> <span class=\"font18 text-default text-bold\">1,65,025</span></div><div class=\"clear\"></div><div class=\"margin-top20 text-center\"><span class=\"btn btn-white btn-160-36\">Compare now</span></div></a></li> <li><a class=\"card-target position-rel redirect-url\" data-url=\"/comparebikes/royalenfield-interceptor-vs-ktm-duke-390/\" href=\"/comparebikes/royalenfield-interceptor-vs-ktm-duke-390/\" title=\"Interceptor 650 vs 390 Duke\"><span class=\"text-light-grey position-abt pos-top5 pos-right5 font11\"></span><div class=\"grid-6\"><div class=\"model-img-content\"><img alt=\"Royal Enfield Interceptor 650\" class=\"lazy\" data-original=\"https://imgd.aeplcdn.com/210x118/bw/models/royal-enfield-interceptor-650-standard--bs-vi20200212180615.jpg?q=70\" src=\"\" title=\"Royal Enfield Interceptor 650\"/></div><h3 class=\"font15 text-black margin-bottom10 text-truncate\">Royal Enfield Interceptor 650</h3><p class=\"font14 text-light-grey margin-bottom5\"> Ex-showroom, Mumbai  </p> <span class=\"font18 text-default\"> ₹</span> <span class=\"font18 text-default text-bold\">2,64,919</span></div><div class=\"grid-6\"><div class=\"model-img-content\"><img alt=\"KTM 390 Duke\" class=\"lazy\" data-original=\"https://imgd.aeplcdn.com/210x118/bw/models/ktm-390-duke.jpg?20190103151915&amp;q=70\" src=\"\" title=\"KTM 390 Duke\"/></div><h3 class=\"font15 text-black margin-bottom10 text-truncate\">KTM 390 Duke</h3><p class=\"font14 text-light-grey margin-bottom5\"> Ex-showroom, Mumbai  </p> <span class=\"font18 text-default\"> ₹</span> <span class=\"font18 text-default text-bold\">2,47,819</span></div><div class=\"clear\"></div><div class=\"margin-top20 text-center\"><span class=\"btn btn-white btn-160-36\">Compare now</span></div></a></li> <li><a class=\"card-target position-rel redirect-url\" data-url=\"/comparebikes/royalenfield-classic-350-vs-royalenfield-gunmetal-grey/\" href=\"/comparebikes/royalenfield-classic-350-vs-royalenfield-gunmetal-grey/\" title=\"Classic Gunmetal Grey vs Classic 350\"><span class=\"text-light-grey position-abt pos-top5 pos-right5 font11\"></span><div class=\"grid-6\"><div class=\"model-img-content\"><img alt=\"Royal Enfield Classic Gunmetal Grey\" class=\"lazy\" data-original=\"https://imgd.aeplcdn.com/210x118/bw/models/royalenfield-classic-gunmetal-grey.jpg?20190103151915&amp;q=70\" src=\"\" title=\"Royal Enfield Classic Gunmetal Grey\"/></div><h3 class=\"font15 text-black margin-bottom10 text-truncate\">Royal Enfield Classic Gunmetal Grey</h3><p class=\"font14 text-light-grey margin-bottom5\"> Ex-showroom, Mumbai  </p> <span class=\"font18 text-default\"> ₹</span> <span class=\"font18 text-default text-bold\">1,55,740</span></div><div class=\"grid-6\"><div class=\"model-img-content\"><img alt=\"Royal Enfield Classic 350\" class=\"lazy\" data-original=\"https://imgd.aeplcdn.com/210x118/bw/models/royal-enfield-classic-350-bs-vi-efi20200108130246.jpg?q=70\" src=\"\" title=\"Royal Enfield Classic 350\"/></div><h3 class=\"font15 text-black margin-bottom10 text-truncate\">Royal Enfield Classic 350</h3><p class=\"font14 text-light-grey margin-bottom5\"> Ex-showroom, Mumbai  </p> <span class=\"font18 text-default\"> ₹</span> <span class=\"font18 text-default text-bold\">1,65,025</span></div><div class=\"clear\"></div><div class=\"margin-top20 text-center\"><span class=\"btn btn-white btn-160-36\">Compare now</span></div></a></li> <li><a class=\"card-target position-rel redirect-url\" data-url=\"/comparebikes/royalenfield-interceptor-vs-royalenfield-continental-gt/\" href=\"/comparebikes/royalenfield-interceptor-vs-royalenfield-continental-gt/\" title=\"Continental GT 650 vs Interceptor 650\"><span class=\"text-light-grey position-abt pos-top5 pos-right5 font11\"></span><div class=\"grid-6\"><div class=\"model-img-content\"><img alt=\"Royal Enfield Continental GT 650\" class=\"lazy\" data-original=\"https://imgd.aeplcdn.com/210x118/bw/models/royal-enfield-continental-gt-650-standard--bs-vi20200212182221.jpg?q=70\" src=\"\" title=\"Royal Enfield Continental GT 650\"/></div><h3 class=\"font15 text-black margin-bottom10 text-truncate\">Royal Enfield Continental GT 650</h3><p class=\"font14 text-light-grey margin-bottom5\"> Ex-showroom, Mumbai  </p> <span class=\"font18 text-default\"> ₹</span> <span class=\"font18 text-default text-bold\">2,80,677</span></div><div class=\"grid-6\"><div class=\"model-img-content\"><img alt=\"Royal Enfield Interceptor 650\" class=\"lazy\" data-original=\"https://imgd.aeplcdn.com/210x118/bw/models/royal-enfield-interceptor-650-standard--bs-vi20200212180615.jpg?q=70\" src=\"\" title=\"Royal Enfield Interceptor 650\"/></div><h3 class=\"font15 text-black margin-bottom10 text-truncate\">Royal Enfield Interceptor 650</h3><p class=\"font14 text-light-grey margin-bottom5\"> Ex-showroom, Mumbai  </p> <span class=\"font18 text-default\"> ₹</span> <span class=\"font18 text-default text-bold\">2,64,919</span></div><div class=\"clear\"></div><div class=\"margin-top20 text-center\"><span class=\"btn btn-white btn-160-36\">Compare now</span></div></a></li> </ul></div><span class=\"jcarousel-control-left\"><a class=\"bwsprite jcarousel-control-prev\" href=\"#\" rel=\"nofollow\"></a></span><span class=\"jcarousel-control-right\"><a class=\"bwsprite jcarousel-control-next\" href=\"#\" rel=\"nofollow\"></a></span></div> </div></div></section> </div> <section><div class=\"margin-bottom20 content-details-wrapper\"><div class=\"content-box-shadow\"> <div class=\"bw-model-tabs-data margin-right10 margin-left10 content-inner-block-2010 border-solid-bottom font14 article--text-wrap\" id=\"modelNewsContent\"><h2 class=\"margin-bottom20\">Royal Enfield News</h2> <ul> <li class=\"margin-bottom20\"><article><div class=\"grid-4 alpha\"><div class=\"model-preview-image-container\"><a class=\"article-target-image\" href=\"/news/45412-most-affordable-royal-enfield-classic-350-bs6-reaches-dealerships.html\"><img alt=\"Most affordable Royal Enfield Classic 350 BS6 reaches dealerships\" class=\"lazy\" data-original=\"https://imgd.aeplcdn.com/310x174/n/cw/ec/45412/royalenfield-classic-350-right-side1.jpeg?wm=2&amp;q=75\" src=\"\" title=\"Most affordable Royal Enfield Classic 350 BS6 reaches dealerships\"/></a></div></div><div class=\"grid-8\"><header><a class=\"article-target-link line-height\" href=\"/news/45412-most-affordable-royal-enfield-classic-350-bs6-reaches-dealerships.html\" title=\"Most affordable Royal Enfield Classic 350 BS6 reaches dealerships\"> Most affordable Royal Enfield Classic 350 BS6 reaches dealerships </a></header><div class=\"article-stats-left-grid\"><span class=\"bwsprite calender-grey-sm-icon\"></span><span class=\"article-stats-content\">18 February 2020</span></div><div class=\"article-stats-right-grid\"><span class=\"bwsprite author-grey-sm-icon\"></span><span class=\"article-stats-content\">Neil Nair</span></div><p class=\"line-height17 margin-top10 font14\"> The Royal Enfield Classic 350 BS6 Redditch edition is available at Rs 1.57 lakhs (ex-showroom, Pune). Moreover, the Gunmetal Grey variant also gets spoke wheels and is offered at Rs 1.66 lakhs; Rs 12,000 more affordable than the alloy wheel version.  </p><a class=\"article-target-read-more\" href=\"/news/45412-most-affordable-royal-enfield-classic-350-bs6-reaches-dealerships.html\" rel=\"nofollow\" title=\"Most affordable Royal Enfield Classic 350 BS6 reaches dealerships\">Read more</a></div><div class=\"clear\"></div></article></li> <li class=\"margin-bottom20\"><article><div class=\"grid-4 alpha\"><div class=\"model-preview-image-container\"><a class=\"article-target-image\" href=\"/news/45406-bs6-royal-enfield-interceptor-650-and-continental-gt-650-specs-revealed.html\"><img alt=\"BS6 Royal Enfield Interceptor 650 and Continental GT 650 specs revealed\" class=\"lazy\" data-original=\"https://imgd.aeplcdn.com/310x174/n/cw/ec/45406/royalenfield-interceptor-left-front-three-quarter1.jpeg?q=75\" src=\"\" title=\"BS6 Royal Enfield Interceptor 650 and Continental GT 650 specs revealed\"/></a></div></div><div class=\"grid-8\"><header><a class=\"article-target-link line-height\" href=\"/news/45406-bs6-royal-enfield-interceptor-650-and-continental-gt-650-specs-revealed.html\" title=\"BS6 Royal Enfield Interceptor 650 and Continental GT 650 specs revealed\"> BS6 Royal Enfield Interceptor 650 and Continental GT 650 specs revealed </a></header><div class=\"article-stats-left-grid\"><span class=\"bwsprite calender-grey-sm-icon\"></span><span class=\"article-stats-content\">18 February 2020</span></div><div class=\"article-stats-right-grid\"><span class=\"bwsprite author-grey-sm-icon\"></span><span class=\"article-stats-content\">Suvil Susvirkar</span></div><p class=\"line-height17 margin-top10 font14\"> The BS6 compliant Royal Enfield Interceptor 650 and Continental GT 650 will make 46.8bhp of maximum power. </p><a class=\"article-target-read-more\" href=\"/news/45406-bs6-royal-enfield-interceptor-650-and-continental-gt-650-specs-revealed.html\" rel=\"nofollow\" title=\"BS6 Royal Enfield Interceptor 650 and Continental GT 650 specs revealed\">Read more</a></div><div class=\"clear\"></div></article></li> </ul> <div class=\"more-article-target view-all-btn-container\"><a class=\"btn view-all-target-btn\" href=\"/royalenfield-bikes/news/\" title=\"Royal Enfield News\">Read all news<span class=\"bwsprite teal-right\"></span></a></div></div> <div class=\"reviews-section bw-model-tabs-data margin-right20 margin-left20 padding-top20 padding-bottom20 border-solid-bottom font14 article--text-wrap\" id=\"makeReviewsContent\"><h2>Royal Enfield Reviews</h2> <h3>Expert Reviews</h3> <article class=\"margin-bottom20\"><div class=\"grid-4\"><div class=\"model-preview-image-container\"><a class=\"article-target-image\" href=\"/expert-reviews/royal-enfield-interceptor-650-long-term-review-5000km-update-44057.html\" title=\"Royal Enfield Interceptor 650 Long Term Review: 5000km update\"><img alt=\"Royal Enfield Interceptor 650 Long Term Review: 5000km update\" class=\"lazy\" data-original=\"https://imgd.aeplcdn.com/310x174/n/cw/ec/44057/royal-enfield-interceptor-650-royal-enfield-interceptor-650-3.jpeg?wm=2&amp;q=75\" src=\"\" title=\"Royal Enfield Interceptor 650 Long Term Review: 5000km update\"/></a></div></div><div class=\"grid-8\"><header><h3><a class=\"article-target-link line-height\" href=\"/expert-reviews/royal-enfield-interceptor-650-long-term-review-5000km-update-44057.html\" title=\"Royal Enfield Interceptor 650 Long Term Review: 5000km update\">Royal Enfield Interceptor 650 Long Term Review: 5000km update</a></h3></header><div class=\"article-stats-left-grid\"><span class=\"bwsprite calender-grey-sm-icon\"></span><span class=\"article-stats-content\">13 December 2019</span></div><div class=\"article-stats-right-grid\"><span class=\"bwsprite author-grey-sm-icon\"></span><span class=\"article-stats-content\">Vikrant Singh</span></div><p class=\"line-height17 margin-top10 font14\"> Here is our update on what’s good and what’s not about the Interceptor 650 after having lived with it for 5,000km and six months. </p><a class=\"article-target-read-more\" href=\"/expert-reviews/royal-enfield-interceptor-650-long-term-review-5000km-update-44057.html\" rel=\"nofollow\" title=\"Royal Enfield Interceptor 650 Long Term Review: 5000km update\">Read more</a></div><div class=\"clear\"></div></article> <article class=\"margin-bottom20\"><div class=\"grid-4\"><div class=\"model-preview-image-container\"><a class=\"article-target-image\" href=\"/expert-reviews/royal-enfield-himalayan-bikewale-offroad-day-2019-43567.html\" title=\"Royal Enfield Himalayan Review: BikeWale Off-Road Day 2019\"><img alt=\"Royal Enfield Himalayan Review: BikeWale Off-Road Day 2019\" class=\"lazy\" data-original=\"https://imgd.aeplcdn.com/310x174/n/cw/ec/43567/royal-enfield-himalayan-right-front-three-quarter-0.jpeg?wm=2&amp;q=75\" src=\"\" title=\"Royal Enfield Himalayan Review: BikeWale Off-Road Day 2019\"/></a></div></div><div class=\"grid-8\"><header><h3><a class=\"article-target-link line-height\" href=\"/expert-reviews/royal-enfield-himalayan-bikewale-offroad-day-2019-43567.html\" title=\"Royal Enfield Himalayan Review: BikeWale Off-Road Day 2019\">Royal Enfield Himalayan Review: BikeWale Off-Road Day 2019</a></h3></header><div class=\"article-stats-left-grid\"><span class=\"bwsprite calender-grey-sm-icon\"></span><span class=\"article-stats-content\">18 November 2019</span></div><div class=\"article-stats-right-grid\"><span class=\"bwsprite author-grey-sm-icon\"></span><span class=\"article-stats-content\">Pratheek Kunder</span></div><p class=\"line-height17 margin-top10 font14\"> The Himalayan was the first proper ADV that was bestowed upon us by Royal Enfield a few years ago. The minimalistic styling along with the legendary name became an instant hit among the adventure-seeking Indian motorcycle enthusiasts. </p><a class=\"article-target-read-more\" href=\"/expert-reviews/royal-enfield-himalayan-bikewale-offroad-day-2019-43567.html\" rel=\"nofollow\" title=\"Royal Enfield Himalayan Review: BikeWale Off-Road Day 2019\">Read more</a></div><div class=\"clear\"></div></article> <div class=\"more-article-target view-all-btn-container\"><a class=\"btn view-all-target-btn\" href=\"/royalenfield-bikes/expert-reviews/\" title=\"Royal Enfield Expert Reviews\">Read all reviews<span class=\"bwsprite teal-right\"></span></a></div> <div class=\"padding-top20 border-solid-bottom margin-bottom20\"></div> <div><h3 class=\"section-subtitle\">User Reviews</h3> <div class=\"user-review-container\" id=\"userReviewContentDesktop\"><ul class=\"user-review-wrapper-list\"> <li class=\"user-review-wrapper__list-item\"><div class=\"user-review-wrapper-list__head\"><h3 class=\"user-review-wrapper-list__title\">Royal Enfield Classic 350</h3> <span class=\"margin-left5 rate-count-container rate-star--small rate-count-4\"><span class=\"star-icon\"></span><span class=\"rate-star-count\">4.5</span></span> <a class=\"user-review-wrapper-list__head-link\" href=\"/royalenfield-bikes/classic-350/reviews/\" title=\"Royal Enfield Classic 350 reviews\">(914 reviews)</a></div><div class=\"user-review-wrapper-list__body\"><a class=\"user-review-wrapper__media\" href=\"/royalenfield-bikes/classic-350/\"><img alt=\"Royal Enfield Classic 350 Model Image\" class=\"lazy\" data-original=\"https://imgd.aeplcdn.com/310x174/bw/models/royalenfield-classic-350.jpg?20192602155055&amp;q=75\" height=\"84\" src=\"\" title=\"Royal Enfield Classic 350\" width=\"150\"/></a><ul class=\"review-type-list\"> <li class=\"review-type-list__item\"><p class=\"review-item__label\">Most Popular Review</p><p class=\"review-item__preview\">I bought classic 350 in 2015 ash colour After riding 16,000km in 5 years It’s really good bike...</p><span class=\"review-popup__link text-link bw-ga\" data-act=\"Clicked_on_Full_Review \" data-cat=\"Make_Page\" data-lab=\"Royal Enfield Classic 350\" data-reviewid=\"113653\">Full review</span></li> <li class=\"review-type-list__item\"><p class=\"review-item__label\">Most Recent Review</p><p class=\"review-item__preview\">This is the best bike i have ever seen.Its engine and look is unbelievable. I am very interested in this...</p><span class=\"review-popup__link text-link bw-ga\" data-act=\"Clicked_on_Full_Review \" data-cat=\"Make_Page\" data-lab=\"Royal Enfield Classic 350\" data-reviewid=\"115917\">Full review</span></li> </ul><div class=\"clear\"></div></div></li> <li class=\"user-review-wrapper__list-item\"><div class=\"user-review-wrapper-list__head\"><h3 class=\"user-review-wrapper-list__title\">Royal Enfield Bullet 350</h3> <span class=\"margin-left5 rate-count-container rate-star--small rate-count-5\"><span class=\"star-icon\"></span><span class=\"rate-star-count\">4.6</span></span> <a class=\"user-review-wrapper-list__head-link\" href=\"/royalenfield-bikes/bullet-350/reviews/\" title=\"Royal Enfield Bullet 350 reviews\">(706 reviews)</a></div><div class=\"user-review-wrapper-list__body\"><a class=\"user-review-wrapper__media\" href=\"/royalenfield-bikes/bullet-350/\"><img alt=\"Royal Enfield Bullet 350 Model Image\" class=\"lazy\" data-original=\"https://imgd.aeplcdn.com/310x174/bw/models/royal-enfield-bullet-350-ks--abs-new-colour-edition20190809160536.jpg?q=75\" height=\"84\" src=\"\" title=\"Royal Enfield Bullet 350\" width=\"150\"/></a><ul class=\"review-type-list\"> <li class=\"review-type-list__item\"><p class=\"review-item__label\">Most Popular Review</p><p class=\"review-item__preview\">It's been just 1 month now i am suffering from bike issue from you guys..Royal enfield is a...</p><span class=\"review-popup__link text-link bw-ga\" data-act=\"Clicked_on_Full_Review \" data-cat=\"Make_Page\" data-lab=\"Royal Enfield Bullet 350\" data-reviewid=\"83902\">Full review</span></li> <li class=\"review-type-list__item\"><p class=\"review-item__label\">Most Recent Review</p><p class=\"review-item__preview\">Its everyone's dream bike but someone not afford to buy it. That is why waiting to win it by luck......</p><span class=\"review-popup__link text-link bw-ga\" data-act=\"Clicked_on_Full_Review \" data-cat=\"Make_Page\" data-lab=\"Royal Enfield Bullet 350\" data-reviewid=\"115905\">Full review</span></li> </ul><div class=\"clear\"></div></div></li> <li class=\"user-review-wrapper__list-item\"><div class=\"user-review-wrapper-list__head\"><h3 class=\"user-review-wrapper-list__title\">Royal Enfield Classic Signals</h3> <span class=\"margin-left5 rate-count-container rate-star--small rate-count-5\"><span class=\"star-icon\"></span><span class=\"rate-star-count\">4.7</span></span> <a class=\"user-review-wrapper-list__head-link\" href=\"/royalenfield-bikes/signals/reviews/\" title=\"Royal Enfield Classic Signals reviews\">(172 reviews)</a></div><div class=\"user-review-wrapper-list__body\"><a class=\"user-review-wrapper__media\" href=\"/royalenfield-bikes/signals/\"><img alt=\"Royal Enfield Classic Signals Model Image\" class=\"lazy\" data-original=\"https://imgd.aeplcdn.com/310x174/bw/models/royalenfield-classic-signals.jpg?20190103151915&amp;q=75\" height=\"84\" src=\"\" title=\"Royal Enfield Classic Signals\" width=\"150\"/></a><ul class=\"review-type-list\"> <li class=\"review-type-list__item\"><p class=\"review-item__label\">Most Popular Review</p><p class=\"review-item__preview\">I have very bad experience after buying my brand new classic 350 signals (storm rider sand) 19...</p><span class=\"review-popup__link text-link bw-ga\" data-act=\"Clicked_on_Full_Review \" data-cat=\"Make_Page\" data-lab=\"Royal Enfield Classic Signals\" data-reviewid=\"103435\">Full review</span></li> <li class=\"review-type-list__item\"><p class=\"review-item__label\">Most Recent Review</p><p class=\"review-item__preview\">This model of bullet as of my view is so much good. It gives a free and a smooth ride. There is no...</p><span class=\"review-popup__link text-link bw-ga\" data-act=\"Clicked_on_Full_Review \" data-cat=\"Make_Page\" data-lab=\"Royal Enfield Classic Signals\" data-reviewid=\"114854\">Full review</span></li> </ul><div class=\"clear\"></div></div></li> <li class=\"user-review-wrapper__list-item\"><div class=\"user-review-wrapper-list__head\"><h3 class=\"user-review-wrapper-list__title\">Royal Enfield Thunderbird 350X</h3> <span class=\"margin-left5 rate-count-container rate-star--small rate-count-5\"><span class=\"star-icon\"></span><span class=\"rate-star-count\">4.5</span></span> <a class=\"user-review-wrapper-list__head-link\" href=\"/royalenfield-bikes/thunderbird-350x/reviews/\" title=\"Royal Enfield Thunderbird 350X reviews\">(208 reviews)</a></div><div class=\"user-review-wrapper-list__body\"><a class=\"user-review-wrapper__media\" href=\"/royalenfield-bikes/thunderbird-350x/\"><img alt=\"Royal Enfield Thunderbird 350X Model Image\" class=\"lazy\" data-original=\"https://imgd.aeplcdn.com/310x174/bw/models/royalenfield-thunderbird-x-350.jpg?20190103151915&amp;q=75\" height=\"84\" src=\"\" title=\"Royal Enfield Thunderbird 350X\" width=\"150\"/></a><ul class=\"review-type-list\"> <li class=\"review-type-list__item\"><p class=\"review-item__label\">Most Popular Review</p><p class=\"review-item__preview\">Overall good. I had purchased it at launch day And it is first thunderbird 350x bike in...</p><span class=\"review-popup__link text-link bw-ga\" data-act=\"Clicked_on_Full_Review \" data-cat=\"Make_Page\" data-lab=\"Royal Enfield Thunderbird 350X\" data-reviewid=\"114888\">Full review</span></li> <li class=\"review-type-list__item\"><p class=\"review-item__label\">Most Recent Review</p><p class=\"review-item__preview\">Splendid bike first royal bike running without fear any speed. I have bought royal enfield classic 350...</p><span class=\"review-popup__link text-link bw-ga\" data-act=\"Clicked_on_Full_Review \" data-cat=\"Make_Page\" data-lab=\"Royal Enfield Thunderbird 350X\" data-reviewid=\"115619\">Full review</span></li> </ul><div class=\"clear\"></div></div></li> </ul><div class=\"view-all-btn-container\"> <a class=\"btn view-all-target-btn\" href=\"/royalenfield-bikes/reviews/\" title=\"Royal Enfield User Reviews\"> Read all reviews <span class=\"bwsprite teal-right\"></span></a> </div></div> </div> </div> <div class=\"bw-model-tabs-data\" id=\"makeImagesVideosContent\"><div class=\"padding-top20 font14 make-image-content\" id=\"makeimagescontent\"><div class=\"carousel-heading-content\"><div class=\"swiper-heading-left-grid inline-block\"><h2>Royal Enfield Images</h2></div><div class=\"swiper-heading-right-grid inline-block text-right\"><a class=\"btn view-all-target-btn\" href=\"/royalenfield-bikes/images/\" title=\"Royal Enfield Images\"> View all </a></div></div> <div class=\"jcarousel-wrapper carousel--full-width carousel__recently-added\"><div class=\"jcarousel\"><ul> <li class=\"carousel-slide\" title=\"Royal Enfield Classic 350 Images\"><a class=\"model-image__card\" href=\"/royalenfield-bikes/classic-350/images/\" title=\"Royal Enfield Classic 350 Images\"> <ul class=\"image-grid__list\" data-grid=\"7\"> <li class=\"image-grid-list__item\"><img alt=\"Classic\" src=\"https://imgd.aeplcdn.com/310x174/bw/ec/15278/Royal-Enfield-Classic-350-Side-87562.jpg?v=201711021421&amp;q=80\" title=\"Royal Enfield Classic 350 Images\"/></li> <li class=\"image-grid-list__item\"><img alt=\"Classic\" src=\"https://imgd.aeplcdn.com/310x174/bw/ec/15278/Royal-Enfield-Classic-350-Side-87561.jpg?v=201711021421&amp;q=80\" title=\"Royal Enfield Classic 350 Images\"/></li> <li class=\"image-grid-list__item\"><img alt=\"Classic\" src=\"https://imgd.aeplcdn.com/310x174/bw/ec/15278/Royal-Enfield-Classic-350-Side-87566.jpg?v=201711021421&amp;q=80\" title=\"Royal Enfield Classic 350 Images\"/></li> <li class=\"image-grid-list__item\"><img alt=\"Classic\" src=\"https://imgd.aeplcdn.com/310x174/bw/ec/15278/Royal-Enfield-Classic-350-Side-87567.jpg?v=201711021421&amp;q=80\" title=\"Royal Enfield Classic 350 Images\"/></li> <li class=\"image-grid-list__item\"><img alt=\"Classic\" src=\"https://imgd.aeplcdn.com/310x174/bw/ec/15278/Royal-Enfield-Classic-350-Exterior-87568.jpg?v=201711021421&amp;q=80\" title=\"Royal Enfield Classic 350 Images\"/></li> <li class=\"image-grid-list__item\"><img alt=\"Classic\" src=\"https://imgd.aeplcdn.com/310x174/bw/ec/15278/Royal-Enfield-Classic-350-Front-87564.jpg?v=201711021421&amp;q=80\" title=\"Royal Enfield Classic 350 Images\"/></li> <li class=\"image-grid-list__item\"><img alt=\"Classic\" src=\"https://imgd.aeplcdn.com/310x174/bw/ec/15278/Royal-Enfield-Classic-350-Rear-87565.jpg?v=201711021421&amp;q=80\" title=\"Royal Enfield Classic 350 Images\"/></li> </ul> <div class=\"card-image__details\"><h3 class=\"card-details__left-col\"><span class=\"card-details__make\">Royal Enfield</span><span class=\"card-details__model\">Classic 350</span></h3><div class=\"card-details__right-col\"><span class=\"card-details__image-count\">157</span></div></div> </a></li> <li class=\"carousel-slide\" title=\"Royal Enfield Bullet 350 Images\"><a class=\"model-image__card\" href=\"/royalenfield-bikes/bullet-350/images/\" title=\"Royal Enfield Bullet 350 Images\"> <ul class=\"image-grid__list\" data-grid=\"7\"> <li class=\"image-grid-list__item\"><img alt=\"Bullet\" src=\"https://imgd.aeplcdn.com/310x174/bw/ec/26288/Royal-Enfield-Bullet-350-Twinspark-Exterior-86198.jpg?v=201711021421&amp;q=80\" title=\"Royal Enfield Bullet 350 Images\"/></li> <li class=\"image-grid-list__item\"><img alt=\"Bullet\" src=\"https://imgd.aeplcdn.com/310x174/bw/ec/26288/Royal-Enfield-Bullet-350-Twinspark-Rear-threequarter-86199.jpg?v=201711021421&amp;q=80\" title=\"Royal Enfield Bullet 350 Images\"/></li> <li class=\"image-grid-list__item\"><img alt=\"Bullet\" src=\"https://imgd.aeplcdn.com/310x174/bw/ec/26288/Royal-Enfield-Bullet-350-Twinspark-Front-threequarter-86200.jpg?v=201711021421&amp;q=80\" title=\"Royal Enfield Bullet 350 Images\"/></li> <li class=\"image-grid-list__item\"><img alt=\"Bullet\" src=\"https://imgd.aeplcdn.com/310x174/bw/ec/26288/Royal-Enfield-Bullet-350-Twinspark-Rear-86201.jpg?v=201711021421&amp;q=80\" title=\"Royal Enfield Bullet 350 Images\"/></li> <li class=\"image-grid-list__item\"><img alt=\"Bullet\" src=\"https://imgd.aeplcdn.com/310x174/bw/ec/26288/Royal-Enfield-Bullet-350-Twinspark-Front-86202.jpg?v=201711021421&amp;q=80\" title=\"Royal Enfield Bullet 350 Images\"/></li> <li class=\"image-grid-list__item\"><img alt=\"Bullet\" src=\"https://imgd.aeplcdn.com/310x174/bw/ec/26288/Royal-Enfield-Bullet-350-Twinspark-Side-86203.jpg?v=201711021421&amp;q=80\" title=\"Royal Enfield Bullet 350 Images\"/></li> <li class=\"image-grid-list__item\"><img alt=\"Bullet\" src=\"https://imgd.aeplcdn.com/310x174/bw/ec/26288/Royal-Enfield-Bullet-350-Twinspark-Side-86204.jpg?v=201711021421&amp;q=80\" title=\"Royal Enfield Bullet 350 Images\"/></li> </ul> <div class=\"card-image__details\"><h3 class=\"card-details__left-col\"><span class=\"card-details__make\">Royal Enfield</span><span class=\"card-details__model\">Bullet 350</span></h3><div class=\"card-details__right-col\"><span class=\"card-details__image-count\">27</span></div></div> </a></li> <li class=\"carousel-slide\" title=\"Royal Enfield Classic Signals Images\"><a class=\"model-image__card\" href=\"/royalenfield-bikes/signals/images/\" title=\"Royal Enfield Classic Signals Images\"> <ul class=\"image-grid__list\" data-grid=\"7\"> <li class=\"image-grid-list__item\"><img alt=\"Classic\" signals=\"\" src=\"https://imgd.aeplcdn.com/310x174/bw/ec/35849/Royal-Enfield-Classic--350-Signals-Side-134409.jpg?wm=0&amp;q=80\" title=\"Royal Enfield Classic Signals Images\"/></li> <li class=\"image-grid-list__item\"><img alt=\"Classic\" signals=\"\" src=\"https://imgd.aeplcdn.com/310x174/bw/ec/35849/Royal-Enfield-Classic--350-Signals-Front-threequarter-134410.jpg?wm=0&amp;q=80\" title=\"Royal Enfield Classic Signals Images\"/></li> <li class=\"image-grid-list__item\"><img alt=\"Classic\" signals=\"\" src=\"https://imgd.aeplcdn.com/310x174/bw/ec/35849/Royal-Enfield-Classic--350-Signals-Side-134411.jpg?wm=0&amp;q=80\" title=\"Royal Enfield Classic Signals Images\"/></li> <li class=\"image-grid-list__item\"><img alt=\"Classic\" signals=\"\" src=\"https://imgd.aeplcdn.com/310x174/bw/ec/35849/Royal-Enfield-Classic--350-Signals-Side-134412.jpg?wm=0&amp;q=80\" title=\"Royal Enfield Classic Signals Images\"/></li> <li class=\"image-grid-list__item\"><img alt=\"Classic\" signals=\"\" src=\"https://imgd.aeplcdn.com/310x174/bw/ec/35849/Royal-Enfield-Classic--350-Signals-Front-threequarter-134413.jpg?wm=0&amp;q=80\" title=\"Royal Enfield Classic Signals Images\"/></li> <li class=\"image-grid-list__item\"><img alt=\"Classic\" signals=\"\" src=\"https://imgd.aeplcdn.com/310x174/bw/ec/35849/Royal-Enfield-Classic--350-Signals-Side-134414.jpg?wm=0&amp;q=80\" title=\"Royal Enfield Classic Signals Images\"/></li> <li class=\"image-grid-list__item\"><img alt=\"Royal\" classic=\"\" enfield=\"\" image=\"\" signals=\"\" src=\"https://imgd.aeplcdn.com/310x174/bw/models/royalenfield-classic-signals.jpg?20190103151915&amp;q=80\" title=\"Royal Enfield Classic Signals Images\"/></li> </ul> <div class=\"card-image__details\"><h3 class=\"card-details__left-col\"><span class=\"card-details__make\">Royal Enfield</span><span class=\"card-details__model\">Classic Signals</span></h3><div class=\"card-details__right-col\"><span class=\"card-details__image-count\">9</span></div></div> </a></li> <li class=\"carousel-slide\" title=\"Royal Enfield Thunderbird 350X Images\"><a class=\"model-image__card\" href=\"/royalenfield-bikes/thunderbird-x-350/images/\" title=\"Royal Enfield Thunderbird 350X Images\"> <ul class=\"image-grid__list\" data-grid=\"7\"> <li class=\"image-grid-list__item\"><img alt=\"Thunderbird\" src=\"https://imgd.aeplcdn.com/310x174/bw/ec/33557/Royal-Enfield-Thunderbird-350X-Side-122858.jpg?wm=0&amp;q=80\" title=\"Royal Enfield Thunderbird 350X Images\"/></li> <li class=\"image-grid-list__item\"><img alt=\"Thunderbird\" src=\"https://imgd.aeplcdn.com/310x174/bw/ec/33557/Royal-Enfield-Thunderbird-350X-Front-threequarter-122859.jpg?wm=0&amp;q=80\" title=\"Royal Enfield Thunderbird 350X Images\"/></li> <li class=\"image-grid-list__item\"><img alt=\"Thunderbird\" src=\"https://imgd.aeplcdn.com/310x174/bw/ec/33557/Royal-Enfield-Thunderbird-350X-Front-threequarter-122860.jpg?wm=0&amp;q=80\" title=\"Royal Enfield Thunderbird 350X Images\"/></li> <li class=\"image-grid-list__item\"><img alt=\"Thunderbird\" src=\"https://imgd.aeplcdn.com/310x174/bw/ec/33557/Royal-Enfield-Thunderbird-350X-Rear-threequarter-122861.jpg?wm=0&amp;q=80\" title=\"Royal Enfield Thunderbird 350X Images\"/></li> <li class=\"image-grid-list__item\"><img alt=\"Thunderbird\" src=\"https://imgd.aeplcdn.com/310x174/bw/ec/33557/Royal-Enfield-Thunderbird-350X-Front-122862.jpg?wm=0&amp;q=80\" title=\"Royal Enfield Thunderbird 350X Images\"/></li> <li class=\"image-grid-list__item\"><img alt=\"Thunderbird\" src=\"https://imgd.aeplcdn.com/310x174/bw/ec/33557/Royal-Enfield-Thunderbird-350X-Rear-122863.jpg?wm=0&amp;q=80\" title=\"Royal Enfield Thunderbird 350X Images\"/></li> <li class=\"image-grid-list__item\"><img alt=\"Thunderbird\" src=\"https://imgd.aeplcdn.com/310x174/bw/ec/33557/Royal-Enfield-Thunderbird-350X-Side-122864.jpg?wm=0&amp;q=80\" title=\"Royal Enfield Thunderbird 350X Images\"/></li> </ul> <div class=\"card-image__details\"><h3 class=\"card-details__left-col\"><span class=\"card-details__make\">Royal Enfield</span><span class=\"card-details__model\">Thunderbird 350X</span></h3><div class=\"card-details__right-col\"><span class=\"card-details__image-count\">54</span></div></div> </a></li> <li class=\"carousel-slide\" title=\"Royal Enfield Himalayan Images\"><a class=\"model-image__card\" href=\"/royalenfield-bikes/himalayan/images/\" title=\"Royal Enfield Himalayan Images\"> <ul class=\"image-grid__list\" data-grid=\"7\"> <li class=\"image-grid-list__item\"><img alt=\"Himalayan\" src=\"https://imgd.aeplcdn.com/310x174/bw/ec/21766/Royal-Enfield-Himalayan-Side-65433.jpg?v=201711021421&amp;q=80\" title=\"Royal Enfield Himalayan Images\"/></li> <li class=\"image-grid-list__item\"><img alt=\"Himalayan\" src=\"https://imgd.aeplcdn.com/310x174/bw/ec/21766/Royal-Enfield-Himalayan-Exterior-65434.jpg?v=201711021421&amp;q=80\" title=\"Royal Enfield Himalayan Images\"/></li> <li class=\"image-grid-list__item\"><img alt=\"Himalayan\" src=\"https://imgd.aeplcdn.com/310x174/bw/ec/21766/Royal-Enfield-Himalayan-Exterior-65435.jpg?v=201711021421&amp;q=80\" title=\"Royal Enfield Himalayan Images\"/></li> <li class=\"image-grid-list__item\"><img alt=\"Himalayan\" src=\"https://imgd.aeplcdn.com/310x174/bw/ec/21766/Royal-Enfield-Himalayan-Engine-65436.jpg?v=201711021421&amp;q=80\" title=\"Royal Enfield Himalayan Images\"/></li> <li class=\"image-grid-list__item\"><img alt=\"Himalayan\" src=\"https://imgd.aeplcdn.com/310x174/bw/ec/21766/Royal-Enfield-Himalayan-Tail-lamp-65437.jpg?v=201711021421&amp;q=80\" title=\"Royal Enfield Himalayan Images\"/></li> <li class=\"image-grid-list__item\"><img alt=\"Himalayan\" src=\"https://imgd.aeplcdn.com/310x174/bw/ec/21766/Royal-Enfield-Himalayan-Instrument-cluster-65439.jpg?v=201711021421&amp;q=80\" title=\"Royal Enfield Himalayan Images\"/></li> <li class=\"image-grid-list__item\"><img alt=\"Himalayan\" src=\"https://imgd.aeplcdn.com/310x174/bw/ec/21766/Royal-Enfield-Himalayan-Engine-65440.jpg?v=201711021421&amp;q=80\" title=\"Royal Enfield Himalayan Images\"/></li> </ul> <div class=\"card-image__details\"><h3 class=\"card-details__left-col\"><span class=\"card-details__make\">Royal Enfield</span><span class=\"card-details__model\">Himalayan</span></h3><div class=\"card-details__right-col\"><span class=\"card-details__image-count\">209</span></div></div> </a></li> <li class=\"carousel-slide\" title=\"Royal Enfield Classic Stealth Black Images\"><a class=\"model-image__card\" href=\"/royalenfield-bikes/stealth-black/images/\" title=\"Royal Enfield Classic Stealth Black Images\"> <ul class=\"image-grid__list\" data-grid=\"1\"> <li class=\"image-grid-list__item\"><img alt=\"Royal\" black=\"\" classic=\"\" enfield=\"\" image=\"\" src=\"https://imgd.aeplcdn.com/310x174/bw/models/royalenfield-classic-500-stealth-black.jpg?20190103151915&amp;q=80\" stealth=\"\" title=\"Royal Enfield Classic Stealth Black Image\"/></li> </ul> <div class=\"card-image__details\"><h3 class=\"card-details__left-col\"><span class=\"card-details__make\">Royal Enfield</span><span class=\"card-details__model\">Classic Stealth Black</span></h3><div class=\"card-details__right-col\"><span class=\"card-details__image-count\">2</span></div></div> </a></li> </ul></div><span class=\"jcarousel-control-left\"><span class=\"jcarousel-arrow-prev\"></span></span><span class=\"jcarousel-control-right\"><span class=\"jcarousel-arrow-next\"></span></span></div> <div class=\"clear\"></div></div> <section><div class=\"padding-top20 padding-bottom20 font14\" id=\"makeVideosContent\"><h2 class=\"padding-left20 padding-right20\">Royal Enfield Videos</h2> <div class=\"padding-left20 padding-right20 video-section\"><div class=\"article-image-wrapper\"><iframe frameborder=\"0\" height=\"294\" src=\"https://www.youtube.com/embed/gaTokLLgET8?rel=0&amp;showinfo=0&amp;autoplay=0\" width=\"522\"></iframe></div><div class=\"article-desc-wrapper\"><h3 class=\"font14 margin-bottom10\"><span class=\"article-desc__title redirect-url\" data-url=\"/bike-videos/bikewale-off-road-day-2019-top-advs-tested-43320/\" rel=\"bookmark\" title=\"BikeWale Off Road Day 2019 | Top ADVs Tested\">BikeWale Off Road Day 2019 | Top ADVs Tested</span></h3><div class=\"font14 text-light-grey margin-bottom20\"><span class=\"inline-block margin-right20\"> 06 November 2019 </span><span class=\"inline-block margin-right20\"> 34 Views </span><span class=\"inline-block margin-right20\"><span class=\"tumbsup-icon\"><svg height=\"15px\" version=\"1.1\" viewbox=\"0 0 15 15\" width=\"15px\" xmlns=\"http://www.w3.org/2000/svg\" xmlns:xlink=\"http://www.w3.org/1999/xlink\"><g fill=\"none\" fill-rule=\"evenodd\" id=\"Page-1\" stroke=\"none\" stroke-width=\"1\"><g id=\"review-copy-6\" stroke=\"#82888B\" transform=\"translate(-290.000000, -4233.000000)\"><g id=\"Group-24\" transform=\"translate(16.000000, 3959.000000)\"><g id=\"Group-20\"><g id=\"Group-23\" transform=\"translate(0.000000, 32.000000)\"><g id=\"Group-21\"><g id=\"Group-33\" transform=\"translate(4.000000, 242.000000)\"><g id=\"Group-32\" transform=\"translate(271.000000, 0.000000)\"><g id=\"Group-31\" transform=\"translate(0.000000, 1.000000)\"><g id=\"Page-1\"><path d=\"M2.48373667,11.1808992 C2.48373667,11.1808992 3.527745,12.5305158 5.44156167,12.3880575 C6.99343667,12.3881658 10.402795,12.3637908 10.402795,12.3637908 C10.60722,12.3336742 10.8030867,12.2302158 10.9477117,12.0530908 C11.1981783,11.7465075 11.2040283,11.2929158 10.96082,10.9804825 C10.8247533,10.8057408 10.6398283,10.6991408 10.4439617,10.6604658 L9.13323667,10.6595992\" id=\"Stroke-1\" stroke-linejoin=\"round\"></path><path d=\"M11.1990667,8.97784333 C11.3656833,9.00882667 11.5249333,9.06732667 11.6533083,9.196785 C11.9899,9.535435 11.959675,10.2320183 11.5408583,10.5167183 C11.3516,10.6972017 10.582325,10.622235 10.4439833,10.6604767\" id=\"Stroke-3\" stroke-linejoin=\"round\"></path><path d=\"M11.1606625,7.20007167 C11.1606625,7.20007167 11.8672125,7.19606333 12.0274375,7.32974667 C12.4877458,7.71422167 12.5576208,8.34786333 12.2188625,8.68434667 C12.0656792,8.83644667 11.8157542,8.97359667 11.6159875,8.98757167 L9.17144583,8.98952167\" id=\"Stroke-5\" stroke-linejoin=\"round\"></path><path d=\"M9.17755583,7.18822 L11.8533892,7.20002833 C12.1614892,7.16785333 12.4136892,6.96657 12.5825808,6.79876167 C12.9213392,6.46238667 12.8042308,5.83752 12.4677475,5.49887 C12.2995058,5.32943667 12.0785058,5.244395 11.8572892,5.24352833 L7.27381417,5.22825333 C7.27381417,5.22825333 7.94233917,3.060395 7.77073917,2.51872833\" id=\"Stroke-7\" stroke-linejoin=\"round\"></path><path d=\"M7.7982125,2.71752 C7.7982125,2.71752 8.08962917,-0.806563333 5.70337083,0.252828333 C6.28587917,2.51872833 4.76227917,5.17517 4.76227917,5.17517\" id=\"Stroke-9\" stroke-linejoin=\"round\"></path><path d=\"M2.50637833,5.7642325 L4.90097833,5.0498825\" id=\"Stroke-11\"></path><path d=\"M2.0464925,12.9921025 L0.486059167,12.9867942 C0.246750833,12.9860358 0.0533758333,12.7913608 0.0541341667,12.5520525 L0.0802425,4.7933275 C0.0810008333,4.55401917 0.275675833,4.36064417 0.514984167,4.36151083 L2.07552583,4.36671083 C2.31483417,4.3675775 2.50810083,4.5622525 2.5073425,4.80156083 L2.4813425,12.5602858 C2.48047583,12.7995942 2.28580083,12.9928608 2.0464925,12.9921025 Z\" id=\"Stroke-13\"></path></g></g></g></g></g></g></g></g></g></g></svg></span> 6 </span></div><div class=\"font14\"><span class=\"text-slate-grey\">Welcome to the first ever BikeWale Off Road Day 2019. The adventure bikes you see here are the Hero Xpulse200, BMW G 310 GS, Royal Enfield Himalayan, Suzuki V-Strom, Triumph Tiger 800 and the Honda Africa Twin. These were handpicked because they impressed us during our regular testing and reviews. But since we wanted to do something more serious, we put them to the test at Big Rock Dirt Park, just outside Bangalore!</span></div><span class=\"article-target-read-more margin-top10 redirect-url\" data-url=\"/bike-videos/bikewale-off-road-day-2019-top-advs-tested-43320/\" title=\"BikeWale Off Road Day 2019 | Top ADVs Tested\">Read more</span></div><div class=\"clear\"></div></div> <div class=\"video-carousel\"><div class=\"jcarousel-wrapper inner-content-carousel carousel-type--videos carousel--conditional-arrow\" data-overlay=\"none\"><div class=\"jcarousel\"><ul> <li class=\"video-article__card\"><div class=\"card-target carousel-card redirect-url\" data-url=\"/bike-videos/royal-enfield-interceptor-650-heres-why-it-is-worth-buying-bikewale-41658/\" title=\"Royal Enfield Interceptor 650 | Here’s Why It Is Worth Buying | BikeWale\"><h4 class=\"video-card__title\">Royal Enfield Interceptor 650 | Here’s Why It Is Worth Buying | BikeWale</h4><div class=\"video-card__img\"><img alt=\"Royal Enfield Interceptor 650 | Here’s Why It Is Worth Buying | BikeWale\" class=\"lazy\" data-original=\"https://img.youtube.com/vi/673nItoMm3A/mqdefault.jpg\" src=\"\" title=\"Royal Enfield Interceptor 650 | Here’s Why It Is Worth Buying | BikeWale\"/><span class=\"video-card__time-block\"> 04:38 </span></div><div class=\"video-card__desc\"><span class=\"video-card__desc-content\"> 12 Aug 2019 </span><span class=\"video-card__desc-content\"> 3.5k Views </span><span class=\"video-card__desc-content\"><span class=\"thumbsup-icon margin-right5\"><svg height=\"15px\" version=\"1.1\" viewbox=\"0 0 15 15\" width=\"15px\" xmlns=\"http://www.w3.org/2000/svg\" xmlns:xlink=\"http://www.w3.org/1999/xlink\"><g fill=\"none\" fill-rule=\"evenodd\" id=\"Page-1\" stroke=\"none\" stroke-width=\"1\"><g id=\"review-copy-6\" stroke=\"#82888B\" transform=\"translate(-290.000000, -4233.000000)\"><g id=\"Group-24\" transform=\"translate(16.000000, 3959.000000)\"><g id=\"Group-20\"><g id=\"Group-23\" transform=\"translate(0.000000, 32.000000)\"><g id=\"Group-21\"><g id=\"Group-33\" transform=\"translate(4.000000, 242.000000)\"><g id=\"Group-32\" transform=\"translate(271.000000, 0.000000)\"><g id=\"Group-31\" transform=\"translate(0.000000, 1.000000)\"><g id=\"Page-1\"><path d=\"M2.48373667,11.1808992 C2.48373667,11.1808992 3.527745,12.5305158 5.44156167,12.3880575 C6.99343667,12.3881658 10.402795,12.3637908 10.402795,12.3637908 C10.60722,12.3336742 10.8030867,12.2302158 10.9477117,12.0530908 C11.1981783,11.7465075 11.2040283,11.2929158 10.96082,10.9804825 C10.8247533,10.8057408 10.6398283,10.6991408 10.4439617,10.6604658 L9.13323667,10.6595992\" id=\"Stroke-1\" stroke-linejoin=\"round\"></path><path d=\"M11.1990667,8.97784333 C11.3656833,9.00882667 11.5249333,9.06732667 11.6533083,9.196785 C11.9899,9.535435 11.959675,10.2320183 11.5408583,10.5167183 C11.3516,10.6972017 10.582325,10.622235 10.4439833,10.6604767\" id=\"Stroke-3\" stroke-linejoin=\"round\"></path><path d=\"M11.1606625,7.20007167 C11.1606625,7.20007167 11.8672125,7.19606333 12.0274375,7.32974667 C12.4877458,7.71422167 12.5576208,8.34786333 12.2188625,8.68434667 C12.0656792,8.83644667 11.8157542,8.97359667 11.6159875,8.98757167 L9.17144583,8.98952167\" id=\"Stroke-5\" stroke-linejoin=\"round\"></path><path d=\"M9.17755583,7.18822 L11.8533892,7.20002833 C12.1614892,7.16785333 12.4136892,6.96657 12.5825808,6.79876167 C12.9213392,6.46238667 12.8042308,5.83752 12.4677475,5.49887 C12.2995058,5.32943667 12.0785058,5.244395 11.8572892,5.24352833 L7.27381417,5.22825333 C7.27381417,5.22825333 7.94233917,3.060395 7.77073917,2.51872833\" id=\"Stroke-7\" stroke-linejoin=\"round\"></path><path d=\"M7.7982125,2.71752 C7.7982125,2.71752 8.08962917,-0.806563333 5.70337083,0.252828333 C6.28587917,2.51872833 4.76227917,5.17517 4.76227917,5.17517\" id=\"Stroke-9\" stroke-linejoin=\"round\"></path><path d=\"M2.50637833,5.7642325 L4.90097833,5.0498825\" id=\"Stroke-11\"></path><path d=\"M2.0464925,12.9921025 L0.486059167,12.9867942 C0.246750833,12.9860358 0.0533758333,12.7913608 0.0541341667,12.5520525 L0.0802425,4.7933275 C0.0810008333,4.55401917 0.275675833,4.36064417 0.514984167,4.36151083 L2.07552583,4.36671083 C2.31483417,4.3675775 2.50810083,4.5622525 2.5073425,4.80156083 L2.4813425,12.5602858 C2.48047583,12.7995942 2.28580083,12.9928608 2.0464925,12.9921025 Z\" id=\"Stroke-13\"></path></g></g></g></g></g></g></g></g></g></g></svg></span> 56 </span></div></div></li> <li class=\"video-article__card\"><div class=\"card-target carousel-card redirect-url\" data-url=\"/bike-videos/royal-enfield-interceptor-650-features-explained-bikewale-41657/\" title=\"Royal Enfield Interceptor 650 | Features Explained | BikeWale\"><h4 class=\"video-card__title\">Royal Enfield Interceptor 650 | Features Explained | BikeWale</h4><div class=\"video-card__img\"><img alt=\"Royal Enfield Interceptor 650 | Features Explained | BikeWale\" class=\"lazy\" data-original=\"https://img.youtube.com/vi/P9AJ_7LeM_A/mqdefault.jpg\" src=\"\" title=\"Royal Enfield Interceptor 650 | Features Explained | BikeWale\"/><span class=\"video-card__time-block\"> 00:29 </span></div><div class=\"video-card__desc\"><span class=\"video-card__desc-content\"> 12 Aug 2019 </span><span class=\"video-card__desc-content\"> 125 Views </span><span class=\"video-card__desc-content\"><span class=\"thumbsup-icon margin-right5\"><svg height=\"15px\" version=\"1.1\" viewbox=\"0 0 15 15\" width=\"15px\" xmlns=\"http://www.w3.org/2000/svg\" xmlns:xlink=\"http://www.w3.org/1999/xlink\"><g fill=\"none\" fill-rule=\"evenodd\" id=\"Page-1\" stroke=\"none\" stroke-width=\"1\"><g id=\"review-copy-6\" stroke=\"#82888B\" transform=\"translate(-290.000000, -4233.000000)\"><g id=\"Group-24\" transform=\"translate(16.000000, 3959.000000)\"><g id=\"Group-20\"><g id=\"Group-23\" transform=\"translate(0.000000, 32.000000)\"><g id=\"Group-21\"><g id=\"Group-33\" transform=\"translate(4.000000, 242.000000)\"><g id=\"Group-32\" transform=\"translate(271.000000, 0.000000)\"><g id=\"Group-31\" transform=\"translate(0.000000, 1.000000)\"><g id=\"Page-1\"><path d=\"M2.48373667,11.1808992 C2.48373667,11.1808992 3.527745,12.5305158 5.44156167,12.3880575 C6.99343667,12.3881658 10.402795,12.3637908 10.402795,12.3637908 C10.60722,12.3336742 10.8030867,12.2302158 10.9477117,12.0530908 C11.1981783,11.7465075 11.2040283,11.2929158 10.96082,10.9804825 C10.8247533,10.8057408 10.6398283,10.6991408 10.4439617,10.6604658 L9.13323667,10.6595992\" id=\"Stroke-1\" stroke-linejoin=\"round\"></path><path d=\"M11.1990667,8.97784333 C11.3656833,9.00882667 11.5249333,9.06732667 11.6533083,9.196785 C11.9899,9.535435 11.959675,10.2320183 11.5408583,10.5167183 C11.3516,10.6972017 10.582325,10.622235 10.4439833,10.6604767\" id=\"Stroke-3\" stroke-linejoin=\"round\"></path><path d=\"M11.1606625,7.20007167 C11.1606625,7.20007167 11.8672125,7.19606333 12.0274375,7.32974667 C12.4877458,7.71422167 12.5576208,8.34786333 12.2188625,8.68434667 C12.0656792,8.83644667 11.8157542,8.97359667 11.6159875,8.98757167 L9.17144583,8.98952167\" id=\"Stroke-5\" stroke-linejoin=\"round\"></path><path d=\"M9.17755583,7.18822 L11.8533892,7.20002833 C12.1614892,7.16785333 12.4136892,6.96657 12.5825808,6.79876167 C12.9213392,6.46238667 12.8042308,5.83752 12.4677475,5.49887 C12.2995058,5.32943667 12.0785058,5.244395 11.8572892,5.24352833 L7.27381417,5.22825333 C7.27381417,5.22825333 7.94233917,3.060395 7.77073917,2.51872833\" id=\"Stroke-7\" stroke-linejoin=\"round\"></path><path d=\"M7.7982125,2.71752 C7.7982125,2.71752 8.08962917,-0.806563333 5.70337083,0.252828333 C6.28587917,2.51872833 4.76227917,5.17517 4.76227917,5.17517\" id=\"Stroke-9\" stroke-linejoin=\"round\"></path><path d=\"M2.50637833,5.7642325 L4.90097833,5.0498825\" id=\"Stroke-11\"></path><path d=\"M2.0464925,12.9921025 L0.486059167,12.9867942 C0.246750833,12.9860358 0.0533758333,12.7913608 0.0541341667,12.5520525 L0.0802425,4.7933275 C0.0810008333,4.55401917 0.275675833,4.36064417 0.514984167,4.36151083 L2.07552583,4.36671083 C2.31483417,4.3675775 2.50810083,4.5622525 2.5073425,4.80156083 L2.4813425,12.5602858 C2.48047583,12.7995942 2.28580083,12.9928608 2.0464925,12.9921025 Z\" id=\"Stroke-13\"></path></g></g></g></g></g></g></g></g></g></g></svg></span> 3 </span></div></div></li> <li class=\"video-article__card\"><div class=\"card-target carousel-card redirect-url\" data-url=\"/bike-videos/royal-enfield-interceptor-650-engine-performance-explained-bikewale-41656/\" title=\"Royal Enfield Interceptor 650 | Engine Performance Explained | BikeWale\"><h4 class=\"video-card__title\">Royal Enfield Interceptor 650 | Engine Performance Explained | BikeWale</h4><div class=\"video-card__img\"><img alt=\"Royal Enfield Interceptor 650 | Engine Performance Explained | BikeWale\" class=\"lazy\" data-original=\"https://img.youtube.com/vi/RrgQ23RtdDQ/mqdefault.jpg\" src=\"\" title=\"Royal Enfield Interceptor 650 | Engine Performance Explained | BikeWale\"/><span class=\"video-card__time-block\"> 00:50 </span></div><div class=\"video-card__desc\"><span class=\"video-card__desc-content\"> 12 Aug 2019 </span><span class=\"video-card__desc-content\"> 204 Views </span><span class=\"video-card__desc-content\"><span class=\"thumbsup-icon margin-right5\"><svg height=\"15px\" version=\"1.1\" viewbox=\"0 0 15 15\" width=\"15px\" xmlns=\"http://www.w3.org/2000/svg\" xmlns:xlink=\"http://www.w3.org/1999/xlink\"><g fill=\"none\" fill-rule=\"evenodd\" id=\"Page-1\" stroke=\"none\" stroke-width=\"1\"><g id=\"review-copy-6\" stroke=\"#82888B\" transform=\"translate(-290.000000, -4233.000000)\"><g id=\"Group-24\" transform=\"translate(16.000000, 3959.000000)\"><g id=\"Group-20\"><g id=\"Group-23\" transform=\"translate(0.000000, 32.000000)\"><g id=\"Group-21\"><g id=\"Group-33\" transform=\"translate(4.000000, 242.000000)\"><g id=\"Group-32\" transform=\"translate(271.000000, 0.000000)\"><g id=\"Group-31\" transform=\"translate(0.000000, 1.000000)\"><g id=\"Page-1\"><path d=\"M2.48373667,11.1808992 C2.48373667,11.1808992 3.527745,12.5305158 5.44156167,12.3880575 C6.99343667,12.3881658 10.402795,12.3637908 10.402795,12.3637908 C10.60722,12.3336742 10.8030867,12.2302158 10.9477117,12.0530908 C11.1981783,11.7465075 11.2040283,11.2929158 10.96082,10.9804825 C10.8247533,10.8057408 10.6398283,10.6991408 10.4439617,10.6604658 L9.13323667,10.6595992\" id=\"Stroke-1\" stroke-linejoin=\"round\"></path><path d=\"M11.1990667,8.97784333 C11.3656833,9.00882667 11.5249333,9.06732667 11.6533083,9.196785 C11.9899,9.535435 11.959675,10.2320183 11.5408583,10.5167183 C11.3516,10.6972017 10.582325,10.622235 10.4439833,10.6604767\" id=\"Stroke-3\" stroke-linejoin=\"round\"></path><path d=\"M11.1606625,7.20007167 C11.1606625,7.20007167 11.8672125,7.19606333 12.0274375,7.32974667 C12.4877458,7.71422167 12.5576208,8.34786333 12.2188625,8.68434667 C12.0656792,8.83644667 11.8157542,8.97359667 11.6159875,8.98757167 L9.17144583,8.98952167\" id=\"Stroke-5\" stroke-linejoin=\"round\"></path><path d=\"M9.17755583,7.18822 L11.8533892,7.20002833 C12.1614892,7.16785333 12.4136892,6.96657 12.5825808,6.79876167 C12.9213392,6.46238667 12.8042308,5.83752 12.4677475,5.49887 C12.2995058,5.32943667 12.0785058,5.244395 11.8572892,5.24352833 L7.27381417,5.22825333 C7.27381417,5.22825333 7.94233917,3.060395 7.77073917,2.51872833\" id=\"Stroke-7\" stroke-linejoin=\"round\"></path><path d=\"M7.7982125,2.71752 C7.7982125,2.71752 8.08962917,-0.806563333 5.70337083,0.252828333 C6.28587917,2.51872833 4.76227917,5.17517 4.76227917,5.17517\" id=\"Stroke-9\" stroke-linejoin=\"round\"></path><path d=\"M2.50637833,5.7642325 L4.90097833,5.0498825\" id=\"Stroke-11\"></path><path d=\"M2.0464925,12.9921025 L0.486059167,12.9867942 C0.246750833,12.9860358 0.0533758333,12.7913608 0.0541341667,12.5520525 L0.0802425,4.7933275 C0.0810008333,4.55401917 0.275675833,4.36064417 0.514984167,4.36151083 L2.07552583,4.36671083 C2.31483417,4.3675775 2.50810083,4.5622525 2.5073425,4.80156083 L2.4813425,12.5602858 C2.48047583,12.7995942 2.28580083,12.9928608 2.0464925,12.9921025 Z\" id=\"Stroke-13\"></path></g></g></g></g></g></g></g></g></g></g></svg></span> 5 </span></div></div></li> </ul></div><span class=\"jcarousel-control-left\"><a class=\"bwsprite jcarousel-control-prev\" href=\"#\" rel=\"nofollow\"></a></span><span class=\"jcarousel-control-right\"><a class=\"bwsprite jcarousel-control-next\" href=\"#\" rel=\"nofollow\"></a></span></div></div> <div class=\"margin-top10 padding-left20\"><a class=\"btn view-all-target-btn\" href=\"/royalenfield-bikes/videos/\" title=\"Royal Enfield Bike Videos\"> View all videos <span class=\"bwsprite teal-right\"></span></a></div></div></section> </div> <div id=\"overallMakeDetailsFooter\"></div></div></div><div class=\"clear\"></div></section> </div><div class=\"grid-4\"> <div class=\"content-box-shadow section-bottom-margin\"> <div class=\"content-box-shadow section-bottom-margin\"><h2 class=\"sidebar-list-heading\">Royal Enfield showrooms</h2><div class=\"sidebar-list--overflow\"> <ul class=\"sidebar-bike-list sidebar__city-list\"> <li><a class=\"bike-target-link\" href=\"/dealer-showrooms/royalenfield/bangalore/\" title=\"Royal Enfield showrooms in Bangalore\"><div class=\"bike-target-image inline-block\"><span class=\"bwm-city-sprite c-bangalore-icon\"></span></div><div class=\"bike-target-content inline-block padding-left10\"><p class=\"dealer-showroom__city\">Bangalore</p> <h3>28 Royal Enfield showrooms</h3> </div></a></li> <li><a class=\"bike-target-link\" href=\"/dealer-showrooms/royalenfield/chennai/\" title=\"Royal Enfield showrooms in Chennai\"><div class=\"bike-target-image inline-block\"><span class=\"bwm-city-sprite c-chennai-icon\"></span></div><div class=\"bike-target-content inline-block padding-left10\"><p class=\"dealer-showroom__city\">Chennai</p> <h3>27 Royal Enfield showrooms</h3> </div></a></li> <li><a class=\"bike-target-link\" href=\"/dealer-showrooms/royalenfield/delhi/\" title=\"Royal Enfield showrooms in Delhi\"><div class=\"bike-target-image inline-block\"><span class=\"bwm-city-sprite c-delhi-icon\"></span></div><div class=\"bike-target-content inline-block padding-left10\"><p class=\"dealer-showroom__city\">Delhi</p> <h3>23 Royal Enfield showrooms</h3> </div></a></li> <li><a class=\"bike-target-link\" href=\"/dealer-showrooms/royalenfield/hyderabad/\" title=\"Royal Enfield showrooms in Hyderabad\"><div class=\"bike-target-image inline-block\"><span class=\"bwm-city-sprite c-hyderabad-icon\"></span></div><div class=\"bike-target-content inline-block padding-left10\"><p class=\"dealer-showroom__city\">Hyderabad</p> <h3>19 Royal Enfield showrooms</h3> </div></a></li> <li><a class=\"bike-target-link\" href=\"/dealer-showrooms/royalenfield/pune/\" title=\"Royal Enfield showrooms in Pune\"><div class=\"bike-target-image inline-block\"><span class=\"bwm-city-sprite c-pune-icon\"></span></div><div class=\"bike-target-content inline-block padding-left10\"><p class=\"dealer-showroom__city\">Pune</p> <h3>14 Royal Enfield showrooms</h3> </div></a></li> <li><a class=\"bike-target-link\" href=\"/dealer-showrooms/royalenfield/mumbai/\" title=\"Royal Enfield showrooms in Mumbai\"><div class=\"bike-target-image inline-block\"><span class=\"bwm-city-sprite c-mumbai-icon\"></span></div><div class=\"bike-target-content inline-block padding-left10\"><p class=\"dealer-showroom__city\">Mumbai</p> <h3>12 Royal Enfield showrooms</h3> </div></a></li> <li><a class=\"bike-target-link\" href=\"/dealer-showrooms/royalenfield/kolkata/\" title=\"Royal Enfield showrooms in Kolkata\"><div class=\"bike-target-image inline-block\"><span class=\"bwm-city-sprite c-kolkata-icon\"></span></div><div class=\"bike-target-content inline-block padding-left10\"><p class=\"dealer-showroom__city\">Kolkata</p> <h3>11 Royal Enfield showrooms</h3> </div></a></li> <li><a class=\"bike-target-link\" href=\"/dealer-showrooms/royalenfield/lucknow/\" title=\"Royal Enfield showrooms in Lucknow\"><div class=\"bike-target-image inline-block\"><span class=\"bwm-city-sprite c-lucknow-icon\"></span></div><div class=\"bike-target-content inline-block padding-left10\"><p class=\"dealer-showroom__city\">Lucknow</p> <h3>6 Royal Enfield showrooms</h3> </div></a></li> <li><a class=\"bike-target-link\" href=\"/dealer-showrooms/royalenfield/\" title=\"Royal Enfield showrooms in India\"><div class=\"bike-target-image inline-block\"><span class=\"bwm-city-sprite c-india-icon\"></span></div><div class=\"bike-target-content inline-block padding-left10\"><p class=\"dealer-showroom__city\">India</p> <h3>769 Royal Enfield showrooms</h3> </div></a></li> </ul> <div class=\"view-all-btn-container padding-10-20-20\"><a class=\"btn view-all-target-btn\" href=\"/dealer-showrooms/royalenfield/\" title=\"Royal Enfield showrooms in India\">View all<span class=\"bwsprite teal-right\"></span></a></div></div></div> </div> <section><div class=\"sponsored-card promotional-content\"> <div class=\"margin-bottom15 text-center\" data-load-immediate=\"false\" id=\"div-gpt-ad-1516179232964-2\" style=\"width:300px; margin:0 auto;\"><script type=\"text/javascript\"> googletag.cmd.push(function () { googletag.display('div-gpt-ad-1516179232964-2'); }); </script></div> </div></section> <div class=\"content-box-shadow section-bottom-margin\"></div> <div class=\"content-box-shadow section-bottom-margin\"><p class=\"sidebar-list-heading\">Other popular brands</p><div class=\"sidebar-list--overflow\"> <ul class=\"sidebar-bike-list list-type-brand\"> <li><a class=\"bike-target-link\" href=\"/honda-bikes/\" title=\"Honda Bikes\"><div class=\"bike-target-image inline-block\"><span class=\"brandlogosprite brand-7\"></span></div><div class=\"bike-target-content inline-block padding-left10\"><h3>Honda</h3><p class=\"font12 text-slate-grey\">26 bikes</p></div></a></li> <li><a class=\"bike-target-link\" href=\"/yamaha-bikes/\" title=\"Yamaha Bikes\"><div class=\"bike-target-image inline-block\"><span class=\"brandlogosprite brand-13\"></span></div><div class=\"bike-target-content inline-block padding-left10\"><h3>Yamaha</h3><p class=\"font12 text-slate-grey\">17 bikes</p></div></a></li> <li><a class=\"bike-target-link\" href=\"/ktm-bikes/\" title=\"KTM Bikes\"><div class=\"bike-target-image inline-block\"><span class=\"brandlogosprite brand-9\"></span></div><div class=\"bike-target-content inline-block padding-left10\"><h3>KTM</h3><p class=\"font12 text-slate-grey\">9 bikes</p></div></a></li> <li><a class=\"bike-target-link\" href=\"/suzuki-bikes/\" title=\"Suzuki Bikes\"><div class=\"bike-target-image inline-block\"><span class=\"brandlogosprite brand-12\"></span></div><div class=\"bike-target-content inline-block padding-left10\"><h3>Suzuki</h3><p class=\"font12 text-slate-grey\">19 bikes</p></div></a></li> <li><a class=\"bike-target-link\" href=\"/jawa-bikes/\" title=\"Jawa Bikes\"><div class=\"bike-target-image inline-block\"><span class=\"brandlogosprite brand-82\"></span></div><div class=\"bike-target-content inline-block padding-left10\"><h3>Jawa</h3><p class=\"font12 text-slate-grey\">3 bikes</p></div></a></li> <li><a class=\"bike-target-link\" href=\"/tvs-bikes/\" title=\"TVS Bikes\"><div class=\"bike-target-image inline-block\"><span class=\"brandlogosprite brand-15\"></span></div><div class=\"bike-target-content inline-block padding-left10\"><h3>TVS</h3><p class=\"font12 text-slate-grey\">18 bikes</p></div></a></li> <li><a class=\"bike-target-link\" href=\"/bajaj-bikes/\" title=\"Bajaj Bikes\"><div class=\"bike-target-image inline-block\"><span class=\"brandlogosprite brand-1\"></span></div><div class=\"bike-target-content inline-block padding-left10\"><h3>Bajaj</h3><p class=\"font12 text-slate-grey\">19 bikes</p></div></a></li> <li><a class=\"bike-target-link\" href=\"/hero-bikes/\" title=\"Hero Bikes\"><div class=\"bike-target-image inline-block\"><span class=\"brandlogosprite brand-6\"></span></div><div class=\"bike-target-content inline-block padding-left10\"><h3>Hero</h3><p class=\"font12 text-slate-grey\">23 bikes</p></div></a></li> <li><a class=\"bike-target-link\" href=\"/mahindra-bikes/\" title=\"Mahindra Bikes\"><div class=\"bike-target-image inline-block\"><span class=\"brandlogosprite brand-10\"></span></div><div class=\"bike-target-content inline-block padding-left10\"><h3>Mahindra</h3><p class=\"font12 text-slate-grey\">5 bikes</p></div></a></li> </ul> </div><div class=\"view-all-btn-container padding-10-20-20\"><a class=\"btn view-all-target-btn\" href=\"/new-bikes-in-india/\" title=\"New Bikes in India\">View all<span class=\"bwsprite teal-right\"></span></a></div></div> <section><div class=\"promotional-content\"> <div class=\"margin-bottom15 text-center\" data-load-immediate=\"false\" id=\"div-gpt-ad-1516179232964-3\" style=\"width:300px; margin:0 auto;\"><script type=\"text/javascript\"> googletag.cmd.push(function () { googletag.display('div-gpt-ad-1516179232964-3'); }); </script></div> </div></section> <div class=\"content-box-shadow section-bottom-margin\"></div> <div class=\"content-box-shadow section-bottom-margin\"><h2 class=\"sidebar-list-heading\">Research More</h2> <ul class=\"research-more__list\"> <li><a href=\"/used/royalenfield-bikes-in-india/\" title=\"Used Royal Enfield Bikes in India\">Used Royal Enfield Bikes</a></li> <li><a href=\"/service-centers/royalenfield/\" title=\"Royal Enfield Service Centers in India\">Royal Enfield Service Centers</a></li> <li><a href=\"/best-bikes-in-india/\" title=\"Top 10 Bikes\"> Top 10 Bikes</a></li></ul> </div> </div><div class=\"clear\"></div></section></section> <section><div class=\"container\"><div class=\"grid-12\"><div id=\"discontinuedModels\"><div class=\"content-inner-block-10 margin-bottom20 font14\"><div id=\"discontinuedLess\"> Discontinued Royal Enfield models: - <span id=\"spnContent\"></span></div><div id=\"discontinuedMore\"> Discontinued Royal Enfield models: -  <a href=\"/royalenfield-bikes/machismo/\" title=\"Royal Enfield Machismo\">Royal Enfield Machismo</a> <a href=\"/royalenfield-bikes/thunderbirdtwinspark/\" title=\"Royal Enfield Thunderbird Twinspark\">Royal Enfield Thunderbird Twinspark</a> <a href=\"/royalenfield-bikes/continental-gt-2013-2018/\" title=\"Royal Enfield Continental GT [2013 - 2018]\">Royal Enfield Continental GT [2013 - 2018]</a> <a href=\"/royalenfield-bikes/electra-1995-1997/\" title=\"Royal Enfield Electra [1995-1997]\">Royal Enfield Electra [1995-1997]</a> <a href=\"/royalenfield-bikes/crusader/\" title=\"Royal Enfield Crusader\">Royal Enfield Crusader</a> <a href=\"/royalenfield-bikes/lightning/\" title=\"Royal Enfield Lightning\">Royal Enfield Lightning</a> <a href=\"/royalenfield-bikes/minibullet/\" title=\"Royal Enfield Mini Bullet\">Royal Enfield Mini Bullet</a> <a href=\"/royalenfield-bikes/superstar/\" title=\"Royal Enfield Superstar\">Royal Enfield Superstar</a> <a href=\"/royalenfield-bikes/bullet-350-2007-2011/\" title=\"Royal Enfield Bullet 350 [2007-2011]\">Royal Enfield Bullet 350 [2007-2011]</a> <a href=\"/royalenfield-bikes/electra-4-s/\" title=\"Royal Enfield Electra 4 S\">Royal Enfield Electra 4 S</a> <a href=\"/royalenfield-bikes/electra-5-s/\" title=\"Royal Enfield Electra 5 S\">Royal Enfield Electra 5 S</a> <a href=\"/royalenfield-bikes/electra-twinspark/\" title=\"Royal Enfield Electra Twinspark\">Royal Enfield Electra Twinspark</a> <a href=\"/royalenfield-bikes/classic-500-pegasus/\" title=\"Royal Enfield Classic 500 Pegasus\">Royal Enfield Classic 500 Pegasus</a> </div></div></div></div><div class=\"clear\"></div></div></section> <div class=\"review-popup hide\" data-csslink=\"/UI/scss/partials/review-popup.css\" id=\"reviewPopup\"></div> <script type=\"text/javascript\"> var suggestionText = \"Royal Enfield\" + \" Bikes\"; var pageData = { label: suggestionText, payload: { makeId: \"11\", modelId: \"0\", makeMaskingName: \"royalenfield\", modelMaskingName: \"\", futuristic: \"False\", isNew: \"True\", userRatingsCount: \"0\", expertReviewsCount: \"0\", type: \"1\" }, value: suggestionText }; docReady(function () { if (FbPixelEvent) { fbq('track', FbPixelEvent.viewContent); } }); </script> <!--bw popup code starts here--><div class=\"hide popup-loader-animate\" id=\"priceQuoteWidget\"><div class=\"bw-popup bw-popup-sm\" data-bind=\"css: IsLoading() ? 'location-loader-active' : ''\"><!-- ko if : IsLoading() --><div class=\"content-inner-block-20\"><div class=\"location-loader-container\"><div class=\"loader-flipper\"><div class=\"loader-front\"><span class=\"bwsprite red-marker\"></span></div><div class=\"loader-back\"><span class=\"bwsprite black-marker\"></span></div></div></div><p class=\"font14\" data-bind=\"text : LoadingText()\"></p></div><!-- /ko --><!-- ko ifnot : IsLoading() --><div class=\"popup-inner-container\"><div class=\"bwsprite popup-close-btn close-btn position-abt pos-top10 pos-right10 cur-pointer\"></div><div class=\"cityPop-icon-container\"><div class=\"icon-outer-container rounded-corner50 margin-bottom20\"><div class=\"icon-inner-container rounded-corner50\"><span class=\"bwsprite orp-location-icon margin-top20\"></span></div></div></div><p class=\"font20 margin-top15 text-capitalize text-center\">Please Tell Us Your Location</p><p class=\"text-light-grey margin-bottom15 margin-top15 text-capitalize text-center\">Get on-road prices by just sharing your location!</p><div class=\"padding-top10\" id=\"popupContent\"><div class=\"select-box margin-top10\"><p class=\"select-label\">City</p><select class=\"chosen-select\" data-bind=\"options: BookingCities(),value: SelectedCityId, optionsText: 'name', optionsValue: 'id',chosen: { width: '100%',search_contains: true },event : { change : selectCity }\" data-placeholder=\"Select city\" id=\"ddlCitiesPopup\" tabindex=\"2\"></select><span class=\"boundary\"></span><span class=\"error-text\" data-bind=\"validationMessage: SelectedCity\"></span></div><div class=\"select-box margin-top10\" data-bind=\"visible: SelectedCityId() &gt; 0 &amp;&amp; BookingAreas().length &gt; 0\" id=\"area-dropdown-field\"><p class=\"select-label\">Area</p><select class=\"chosen-select\" data-bind=\"options: BookingAreas(), value: SelectedAreaId, optionsText: 'name', optionsValue: 'id',chosen: { width: '100%',search_contains: true }, event: { change:selectArea }\" data-placeholder=\"Select area\" id=\"ddlAreaPopup\" tabindex=\"3\"></select><span class=\"boundary\"></span><span class=\"error-text\" data-bind=\"validationMessage: SelectedCity\"></span><p class=\"position-abt progress-bar\"></p><p class=\"position-abt progress-bar-label\"></p></div></div></div><!-- /ko --></div></div><!--bw popup code ends here--><script type=\"text/javascript\"> var onCookieObj = {}; var vmquotation, timeOutVariable, pqPopupContent, progressBar; docReady(function () { $(document).on(\"click\",\".blackOut-window, #priceQuoteWidget .close-btn\",function(){ pqPopupContent.close(); }); var chosenSelectBox = $('.chosen-select'); chosenSelectBox.each(function () { var text = $(this).attr('data-placeholder'); $(this).siblings('.chosen-container').find('input[type=text]').attr('placeholder', text); }); $(document).keydown(function(event){ if(event.keyCode == 27){ if($('#priceQuoteWidget').is(':visible')){ pqPopupContent.close(); } } }); $(document).on(\"click\", \".getquotation\", function (e) { var ele = $(this); e.stopPropagation(); e.preventDefault(); vmquotation.CheckCookies(); var options = { \"modelId\": ele.attr('data-modelid'), \"cityId\": onCookieObj.PQCitySelectedId, \"areaId\": onCookieObj.PQAreaSelectedId, \"city\": (onCookieObj.PQCitySelectedId > 0) ? { 'id': onCookieObj.PQCitySelectedId, 'name': onCookieObj.PQCitySelectedName } : null, \"area\": (onCookieObj.PQAreaSelectedId > 0) ? { 'id': onCookieObj.PQAreaSelectedId, 'name': onCookieObj.PQAreaSelectedName } : null, \"makename\": ele.attr('data-makeName'), \"modelname\": ele.attr('data-modelName'), \"pagecatid\": ele.attr('data-pagecatid'), \"pagesrcid\": ele.attr('data-pqsourceid'), \"ispersistent\": ele.attr('data-persistent') != null ? true : false, \"isreload\": ele.attr(\"data-reload\") != null ? true : false, \"redirectUrl\": ele.attr(\"data-redirectUrl\") != null ? ele.attr(\"data-redirectUrl\") : \"\", \"makemasking\": ele.attr(\"data-makemasking\"), \"modelmasking\": ele.attr(\"data-modelmasking\"), \"isModelInCityPage\": ele.attr(\"data-ismodelincitypage\") == \"True\", \"isFetchAllCities\": ele.hasClass(\"js-getallcities\") }; options.cityId = ele.attr('data-preselcity') || options.cityId; if(options.modelId > 0) { $('#priceQuoteWidget,#popupContent,.blackOut-window').show(); vmquotation.IsLoading(true); vmquotation.setOptions(options); } }); var mPopup = function () { var self = this; self.MakeName = \"\"; self.ModelName = \"\"; self.PageCatId = \"\"; self.PageSourceId = \"\"; self.SelectedModelId = ko.observable(); self.SelectedCity = ko.observable(); self.SelectedArea = ko.observable(); self.SelectedCityId = ko.observable(0); self.SelectedAreaId = ko.observable(0); self.BookingCities = ko.observableArray([]); self.BookingAreas = ko.observableArray([]); self.IsPersistance = ko.observable(false); self.IsReload = ko.observable(false); self.cityFilter = ko.observable(\"\"); self.areaFilter = ko.observable(\"\"); self.hasAreas = ko.observable(); self.LoadingText = ko.observable(\"Loading...\"); self.validate = ko.observable(false); self.IsLoading = ko.observable(false); self.IsOnRoadPriceClicked = ko.observable(true); self.DealerId = ko.observable(); self.VersionId = ko.observable(); self.RedirectUrl = ko.observable(\"\"); self.MakeMasking = \"\"; self.ModelMasking = \"\"; self.IsModelInCityPage = false; self.SelectedCityMaskingName = \"\"; var dummyOption = { id: 0, name: '', isPopular: false, hasAreas: false }; self.setOptions = function (options, event) { if (options != null) { self.IsLoading(true); self.SelectedModelId(options.modelId || 0); self.SelectedCityId(options.cityId || 0); if (self.SelectedCityId() == 0) self.LoadingText('Fetching Cities...'); self.SelectedAreaId(options.areaId || 0); self.SelectedCity(options.city || null); self.SelectedArea(options.area || null); self.ModelName = options.modelname || \"\"; self.MakeName = options.makename || \"\"; self.PageCatId = options.pagecatid || \"\"; self.PageSourceId = options.pagesrcid || \"\"; self.IsPersistance(options.ispersistent || false); self.IsReload(options.isreload || false); self.DealerId(options.dealerid || 0); self.VersionId(options.versionid || 0); self.RedirectUrl(options.redirectUrl || 0); self.MakeMasking = options.makemasking || \"\"; self.ModelMasking = options.modelmasking || \"\"; self.IsModelInCityPage = options.isModelInCityPage || false; self.FetchAllCities = options.isFetchAllCities; if (self.IsPersistance()) self.LoadingText(\"Loading locations...\"); if (self.SelectedModelId()) { self.InitializePQ(); } if (self.IsOnRoadPriceClicked()) { gtmCodeAppender(self.PageCatId, \"Get_On_Road_Price_Click\", self.MakeName + \"_\" + self.ModelName); } } }; self.createMPQ = function (pqId) { if (self.SelectedCityId() && self.SelectedModelId() && self.VersionId() && pqId) { return btoa(\"CityId=\" + self.SelectedCityId() + \"&AreaId=\" + +self.SelectedAreaId() + \"&PQId=\" + pqId + \"&VersionId=\" + self.VersionId() + \"&DealerId=\" + self.DealerId()); } }; self.InitializePQ = function () { if (self.SelectedModelId() != null && self.SelectedModelId() > 0) { var objData = { \"CityId\": self.SelectedCityId(), \"AreaId\": self.SelectedAreaId(), \"ModelId\": self.SelectedModelId(), \"ClientIP\": \"157.48.59.173\", \"SourceType\": \"1\", \"VersionId\": self.VersionId(), \"pQLeadId\": self.PageSourceId, 'deviceId': getCookie('BWC'), 'isPersistance': self.IsPersistance(), 'refPQId': typeof pqId != 'undefined' ? pqId : '', 'isReload': self.IsReload(), 'PlatformId': 1 }; $.ajax({ type: \"POST\", url: self.FetchAllCities ? \"/api/v3/generatepq/\" : \"/api/v2/generatepq/\", data: objData, dataType: 'json', beforeSend: function (xhr) { xhr.setRequestHeader('utma', getCookie('__utma')); xhr.setRequestHeader('utmz', getCookie('_bwutmz')); }, success: function (response) { var _responseData = ko.toJS(response); if (_responseData && _responseData.pqCities && _responseData.pqCities.length > 0) { var cities = ko.toJS(_responseData.pqCities); if (cities != null && cities.length > 0) { cities.splice(0, 0, dummyOption); self.BookingCities(cities); if (self.SelectedCityId() > 0) { self.SelectedCity(self.findItemById(self.BookingCities(), \"id\", self.SelectedCityId())); self.hasAreas((self.SelectedCity() != null && self.SelectedCity().hasAreas) ? true : false); var areas = ko.toJS(_responseData.pqAreas); progressBar.stopLoading('#area-dropdown-field'); if (areas != null && areas.length > 0) { areas.splice(0, 0, dummyOption); self.BookingAreas(areas); if (self.SelectedAreaId() > 0) { self.SelectedArea(self.findItemById(self.BookingAreas(), \"id\", self.SelectedAreaId())); } else self.SelectedArea(null); } else { self.BookingAreas([]); self.SelectedArea(null); self.SelectedAreaId(0); } } } self.IsLoading(false); pqPopupContent.active(); } else if (_responseData.priceQuote != null) { var jsonObj = _responseData.priceQuote; var platformId = 1; gaLabel = GetGlobalCityArea() + ', '; if (self.MakeName || self.ModelName) gaLabel += self.MakeName + ',' + self.ModelName + ','; if (self.SelectedCityId() > 0) { if (self.SelectedCity() && self.SelectedCity().id > 0) { lbtext = \"Fetching on-road price for \" + self.SelectedCity().name; cookieValue = self.SelectedCity().id + \"_\" + self.SelectedCity().name; if (self.SelectedArea() && jsonObj.isDealerAvailable) { cookieValue += (\"_\" + self.SelectedArea().id + \"_\" + self.SelectedArea().name); lbtext = \"Fetching on-road price for \" + (self.SelectedArea().name + \", \" + self.SelectedCity().name); } if (self.SelectedCityId() != onCookieObj.PQCitySelectedId || (self.SelectedAreaId() > 0 && jsonObj.isDealerAvailable)) SetCookieInDays(\"location\", cookieValue, 365); self.LoadingText(lbtext); } } if (jsonObj.dealerId > 0) gtmCodeAppender(self.PageCatId, 'Dealer_PriceQuote_Success_Submit', gaLabel); else gtmCodeAppender(self.PageCatId, 'BW_PriceQuote_Success_Submit', gaLabel); if (self.DealerId() > 0 && _responseData.qStr.length) { _responseData.qStr = self.createMPQ(_responseData.priceQuote.quoteId); } self.triggerABTestGA(); if (self.RedirectUrl() != \"\") { window.location.href = self.RedirectUrl(); } else if (!self.IsReload() && _responseData.qStr != '') { window.location = \"/pricequote/dealer/\" + \"?MPQ=\" + _responseData.qStr; } else window.location.reload(true); } else { if (self.SelectedCityId() > 0) { if (self.SelectedCity() && self.SelectedCity().id > 0) { lbtext = \"Fetching on-road price for \" + self.SelectedCity().name; cookieValue = self.SelectedCity().id + \"_\" + self.SelectedCity().name; if (self.SelectedArea() && self.SelectedArea().id > 0) { cookieValue += (\"_\" + self.SelectedArea().id + \"_\" + self.SelectedArea().name); lbtext = \"Fetching on-road price for \" + (self.SelectedArea().name + \", \" + self.SelectedCity().name); } if (self.SelectedCityId() != onCookieObj.PQCitySelectedId || self.SelectedAreaId() > 0) SetCookieInDays(\"location\", cookieValue, 365); self.LoadingText(lbtext); } } self.triggerABTestGA(); if (self.IsModelInCityPage) { window.location.href = window.location.origin.concat(\"/\" , self.MakeMasking , \"-bikes/\" , self.ModelMasking , \"-in-\" , self.SelectedCityMaskingName); } else { window.location.reload(true); } } }, complete: function () { if (self.SelectedCityId() > 0) { $('#ddlCitiesPopup').parent().addClass('done'); if (self.SelectedAreaId() > 0) { $('#ddlAreaPopup').parent().addClass('done'); } } pqPopupContent.updateChosen($('#ddlCitiesPopup')); pqPopupContent.updateChosen($('#ddlAreaPopup')); } }); } }; self.selectCity = function (nVal) { try { self.SelectedCity(self.findItemById(self.BookingCities(), \"id\", self.SelectedCityId())); if (self.SelectedCity() != null && self.SelectedCity().id > 0) { $('#ddlCitiesPopup').parent().addClass('done'); self.SelectedArea(null); self.SelectedAreaId(0); self.BookingAreas([]); pqPopupContent.updateChosen($('#ddlAreaPopup')); if (!self.SelectedCity().hasAreas) { self.LoadingText(\"Fetching on-road price for \" + self.SelectedCity().name); self.IsLoading(true); self.IsPersistance(false); } else { self.BookingAreas.push(dummyOption); progressBar.startLoading('#area-dropdown-field', 'Loading areas...'); self.LoadingText(\"Loading areas for \" + self.SelectedCity().name); } self.SelectedCityMaskingName = self.SelectedCity().cityMaskingName; if (gaObj && gaObj.id == gaEnum.EMIInCity_Page && self.SelectedCityMaskingName) { self.RedirectUrl(\"/\" + self.MakeMasking + \"-bikes/\" + self.ModelMasking + \"/emi-in-\" + self.SelectedCityMaskingName + \"/\"); } if (self.SelectedCity().hasAreas || self.SelectedCity().id != onCookieObj.PQCitySelectedId) { self.InitializePQ(); } else { self.IsLoading(false); } if (ga_pg_id != null && ga_pg_id == 2) { var actText = ''; if (self.SelectedCity().hasAreas) { actText = 'City_Selected_Has_Area'; } else { actText = 'City_Selected_Doesnt_Have_Area'; } dataLayer.push({ 'event': 'Bikewale_all', 'cat': 'Model_Page', 'act': actText, 'lab': getBikeVersion() + '_' + self.SelectedCity().name }); } } } catch (e) { console.warn(e); } }; self.selectArea = function (data, event) { try { self.SelectedArea(self.findItemById(self.BookingAreas(), \"id\", self.SelectedAreaId())); self.SelectedCityMaskingName = self.SelectedCity().cityMaskingName; if (self.SelectedArea() != null && self.SelectedArea().id > 0) { $('#ddlAreaPopup').trigger(\"chosen:updated\").parent().addClass('done'); self.IsPersistance(false); if (gaObj && gaObj.id == gaEnum.EMIInCity_Page && self.SelectedCity().cityMaskingName) { self.RedirectUrl(\"/\" + self.MakeMasking + \"-bikes/\" + self.ModelMasking + \"/emi-in-\" + self.SelectedCity().cityMaskingName + \"/\"); } if (self.SelectedArea().id != onCookieObj.PQAreaSelectedId) { self.LoadingText(\"Fetching on-road price for \" + self.SelectedArea().name + \", \" + self.SelectedCity().name); self.IsLoading(true); self.InitializePQ(); } if (ga_pg_id != null && ga_pg_id == 2) { dataLayer.push({ 'event': 'Bikewale_all', 'cat': 'Model_Page', 'act': 'Area_Selected', 'lab': self.MakeName + ' ' + self.ModelName + '_' + getBikeVersion() + '_' + self.SelectedCity().name + '_' + self.SelectedArea().name }); } } } catch (e) { console.warn(e); } }; self.CheckCookies = function () { try { c = document.cookie.split('; '); for (i = c.length - 1; i >= 0; i--) { C = c[i].split('='); if (C[0] == \"location\") { var cData = (String(C[1])).split('_'); onCookieObj.PQCitySelectedId = parseInt(cData[0]) || 0; onCookieObj.PQCitySelectedName = cData[1] || \"\"; onCookieObj.PQAreaSelectedId = parseInt(cData[2]) || 0; onCookieObj.PQAreaSelectedName = cData[3] || \"\"; break; } } } catch (e) { console.warn(e); } }; self.findItemById = function (items, attr, item) { return ko.utils.arrayFirst(items, function (child) { return (child[attr] == item); }); }; self.triggerABTestGA = function () { try { var abuser = getCookie(\"_bwtest\"), bikeandcity = self.MakeName + \"_\" + self.ModelName + \"_\" + (self.SelectedCity() ? self.SelectedCity().name : \"\"), pgSource = (gaObj ? gaObj.id : 0); bikeandcity = bikeandcity.replace(\"/\\s+/gi\", \"_\"); triggerGA(\"PQ_PopUP\", \"PQSuccess\", abuser + \"_\" + pgSource + \"_\" + bikeandcity); } catch (e) { console.log(e.message) } }; }; pqPopupContent = { active: function(){ timeOutVariable = setTimeout(function(){ $('#priceQuoteWidget').addClass('activate-popup-content'); }, 200); }, inactive: function(){ $('#priceQuoteWidget').removeClass('activate-popup-content'); clearTimeout(timeOutVariable); }, updateChosen: function(element){ $(element).trigger(\"chosen:updated\"); }, close: function(){ $('.getquotation').removeClass('ui-btn-active'); $(\"#popupContent,#priceQuoteWidget,.blackOut-window\").hide(); pqPopupContent.inactive(); } }; progressBar = { startLoading: function (element, message) { try { var _self = $(element).find(\".progress-bar\").css({ 'width': '0' }).show(); _self.animate({ width: '100%' }, 7000); $(element).find(\".progress-bar-label\").text(message); } catch (e) { return }; }, stopLoading: function (element) { try { var _self = $(element).find(\".progress-bar\"); _self.stop(true, true).css({ 'width': '100%' }).fadeOut(1000); $(element).find(\".progress-bar-label\").empty(); } catch (e) { return }; } }; vmquotation = new mPopup; ko.applyBindings(vmquotation, $(\"#priceQuoteWidget\")[0]); $('#ddlCitiesPopup,#ddlAreaPopup').chosen(); }); function gtmCodeAppender(pageId, action, label) { var category = ''; if (pageId != null) { switch (pageId) { case \"1\": category = 'Make_Page'; break; case \"2\": category = \"CheckPQ_Series\"; action = \"CheckPQ_Series_\" + action; break; case \"3\": category = \"Model_Page\"; action = \"CheckPQ_Model_\" + action; break; case '4': category = 'New_Bikes_Page'; break; case '5': category = 'HP'; break; case '6': category = 'Search_Page'; break; } if (label) { dataLayer.push({ 'event': 'Bikewale_all', 'cat': category, 'act': action, 'lab': label }); } else { dataLayer.push({ 'event': 'Bikewale_all', 'cat': category, 'act': action }); } } }; </script> <section class=\"container\"> <div class=\"margin-bottom15 text-center\" data-load-immediate=\"false\" id=\"div-gpt-ad-1516179232964-4\" style=\"width:970px; margin:0 auto;\"><script type=\"text/javascript\"> googletag.cmd.push(function () { googletag.display('div-gpt-ad-1516179232964-4'); }); </script></div> </section> <div class=\"blackOut-window\"></div><nav id=\"nav\"><ul class=\"navUL\"> <li><a href=\"/\" title=\"BikeWale\"><span class=\"bwsprite home-icon\"></span><span class=\"navbarTitle\">Home</span></a></li><li><a href=\"javascript:void(0)\" rel=\"nofollow\"><span class=\"newBikes-icon\"></span><span class=\"navbarTitle\">New Bikes</span><span class=\"nav-drop bwsprite fa-angle-down\"></span></a><ul class=\"nestedUL\"><li><a href=\"/new-bikes-in-india/\" title=\"New Bikes in India\">Find New Bikes</a></li><li><a href=\"/comparebikes/\" title=\"Compare Bikes\">Compare Bikes</a></li><li><a href=\"/pricequote/\" title=\"New Bikes On-Road Price\">Check On-Road Price</a></li><li><a href=\"/dealer-showrooms/\" title=\"Bike Showroom Locator\">Locate Showrooms</a></li><li><a href=\"/service-centers/\" title=\"Bike Service Center Locator\">Locate Service Center</a></li><li><a href=\"/upcoming-bikes/\" title=\"Upcoming Bikes\">Upcoming Bikes</a></li><li><a href=\"/new-bike-launches/\" title=\"New Bike Launches\">New Launches</a></li><li><a href=\"/electric-bikes/\" title=\"Electric Bikes\">Electric Bikes</a></li><li><a href=\"/new-bike-search/bs6-bikes/\" title=\"BS6 Bikes\">BS6 Bikes</a></li></ul></li><li><a href=\"javascript:void(0)\" rel=\"nofollow\"><span class=\"popularMakes-icon\"></span><span class=\"navbarTitle\">Popular Brands</span><span class=\"nav-drop bwsprite fa-angle-down\"></span></a><ul class=\"nestedUL\"> <li><a href=\"/bajaj-bikes/\" title=\"Bajaj Bikes\">Bajaj Bikes</a></li> <li><a href=\"/hero-bikes/\" title=\"Hero Bikes\">Hero Bikes</a></li> <li><a href=\"/honda-bikes/\" title=\"Honda Bikes\">Honda Bikes</a></li> <li><a href=\"/ktm-bikes/\" title=\"KTM Bikes\">KTM Bikes</a></li> <li><a href=\"/royalenfield-bikes/\" title=\"Royal Enfield Bikes\">Royal Enfield Bikes</a></li> <li><a href=\"/suzuki-bikes/\" title=\"Suzuki Bikes\">Suzuki Bikes</a></li> <li><a href=\"/tvs-bikes/\" title=\"TVS Bikes\">TVS Bikes</a></li> <li><a href=\"/yamaha-bikes/\" title=\"Yamaha Bikes\">Yamaha Bikes</a></li> <li><a href=\"/new-bikes-in-india/#bw-brands\" title=\"All Bikes in India\">All Bikes in India</a></li></ul></li><li><a href=\"javascript:void(0)\" rel=\"nofollow\"><span class=\"scooter-icon\"></span><span class=\"navbarTitle\">New Scooters</span><span class=\"nav-drop bwsprite fa-angle-down\"></span></a><ul class=\"nestedUL\"><li><a href=\"/scooters/\" title=\"Find New Scooters\">Find New Scooters</a></li><li><a href=\"/upcoming-scooters/\" title=\"Upcoming Scooters\">Upcoming Scooters</a></li></ul></li><li><a href=\"javascript:void(0)\" rel=\"nofollow\"><span class=\"bwsprite usedBikes-icon\"></span><span class=\"navbarTitle\">Buy &amp; Sell Used Bikes</span><span class=\"nav-drop bwsprite fa-angle-down\"></span></a><ul class=\"nestedUL\"><li><a href=\"/used/\" title=\"Used Bikes in India\">Find Used Bikes</a></li><li><a href=\"/used/bikes-in-india/\" title=\"Browse All Used Bikes\">All Used Bikes</a></li><li><a href=\"/used/sell/\" title=\"Sell Used Bike\">Sell Your Bike</a></li></ul></li><li><a href=\"/reviews/\" title=\"Bike Reviews\"><span class=\"reviews-icon\"></span><span class=\"navbarTitle\">Reviews</span></a></li><li><a href=\"javascript:void(0)\" rel=\"nofollow\"><span class=\"bwsprite news-icon\"></span><span class=\"navbarTitle\">News, Videos &amp; Tips</span><span class=\"nav-drop bwsprite fa-angle-down\"></span></a><ul class=\"nestedUL\"><li><a href=\"/news/\" title=\"Bike News\">News</a></li><li><a href=\"/expert-reviews/\" title=\"Bike Expert Reviews\">Expert Reviews</a></li><li><a href=\"/features/\" title=\"Features\">Features</a></li><li><a href=\"/bike-care/\" title=\"Bike Care\">Bike Care</a></li><li><a href=\"/bike-videos/\" title=\"Bike Videos\">Videos</a></li><li><a href=\"/images/\" title=\"Bike Images\">Images</a></li></ul></li> <li><a href=\"/bike-loan-emi-calculator/\" title=\"Bike Loan EMI Calculator\"><span class=\"bwsprite forum-icon\"></span><span class=\"navbarTitle\">EMI Calculator</span></a></li><li><a class=\"bw-ga\" data-act=\"Hamburger_Menu_Item_Click\" data-cat=\"other\" data-lab=\"Auto Expo\" href=\"https://www.bikewale.com/autoexpo/2020/\" title=\"Auto Expo\"><span class=\"autoexpo-icon\"></span><span class=\"navbarTitle\">Auto Expo</span></a></li><li> <a class=\"firstLogin\" href=\"javascript:void(0)\" rel=\"nofollow\" title=\"Login\"><span class=\"bwsprite myBikeWale-icon\"></span><span class=\"navbarTitle\">Login</span></a> </li></ul><div class=\"margin-top40 margin-bottom40 margin-left20\"><a class=\"gplay-icon margin-right5\" href=\"https://play.google.com/store/apps/details?id=com.bikewale.app&amp;referrer=utm_source%3DDesktopsite%26utm_medium%3DDrawer%26utm_campaign%3DBikeWale%2520Desktopsite%2520Drawer\" rel=\"noopener nofollow\" target=\"_blank\" title=\"BikeWale App on Google Play\">BikeWale App on Google Play</a></div></nav><div class=\"globalcity-popup rounded-corner2 hide\" id=\"globalcity-popup\"><div class=\"globalcity-popup-data text-center\"><div class=\"globalcity-close-btn position-abt pos-top10 pos-right10 bwsprite cross-lg-lgt-grey cur-pointer\"></div><div class=\"icon-outer-container rounded-corner50 margin-bottom20\"><div class=\"icon-inner-container rounded-corner50\"><span class=\"bwsprite cityPopup-icon margin-top15\"></span></div></div><p class=\"font20 margin-bottom15\">Please tell us your city</p><p class=\"text-light-grey margin-bottom15\">This allows us to provide relevant content for you.</p><div class=\"form-control-box globalcity-input-box\"><div class=\"margin-bottom20\"><span class=\"position-abt pos-right15 pos-top15 cwmsprite cross-sm-dark-grey cur-pointer\"></span><input autocomplete=\"new-password\" class=\"form-control padding-right30\" id=\"globalCityPopUp\" name=\"globalCityPopUp\" placeholder=\"Type to select city\" type=\"text\"/><span class=\"fa fa-spinner fa-spin position-abt pos-right10 pos-top15 text-black\" style=\"display:none\"></span><span class=\"bwsprite error-icon hide\"></span><div class=\"bw-blackbg-tooltip hide\">Please enter your city</div></div></div><div><a class=\"btn btn-orange font18\" id=\"btnGlobalCityPopup\">Confirm city</a></div></div><div class=\"clear\"></div></div><footer class=\"bg-footer padding-top10 padding-bottom20\" id=\"bg-footer\"><div class=\"container\"><div class=\"border-solid-bottom margin-bottom25 padding-top25 padding-bottom20\"><div class=\"grid-4\"><p class=\"font18 text-white margin-bottom20\">Join us on</p><div class=\"footer-social-icons\"><a class=\"margin-right30 fa-fb\" href=\"https://www.facebook.com/BikeWale.Official\" rel=\"noopener nofollow\" target=\"_blank\" title=\"Facebook\"><span class=\"bwsprite fa-facebook\"></span></a><a class=\"margin-right30 fa-tw\" href=\"https://twitter.com/bikewale\" rel=\"noopener nofollow\" target=\"_blank\" title=\"Twitter\"><span class=\"bwsprite fa-twitter\"></span></a></div></div><div class=\"grid-2 footer-company-section-one\"><p class=\"font18 text-white margin-bottom20\">Company</p><ul><li><a href=\"/sitemap.aspx\">Sitemap</a></li><li><a href=\"/contactus/\" rel=\"nofollow\">Contact Us</a></li></ul></div><div class=\"grid-3 footer-company-section-two\"><ul class=\"margin-top45\"><li><a href=\"/aboutus.aspx\" rel=\"nofollow\">About Us</a></li><li><a href=\"/advertisewithus/\" rel=\"nofollow\">Advertise with us</a></li></ul></div><div class=\"grid-3 footer-company-section-three\"><p class=\"font18 text-white margin-bottom30\">Download Mobile App</p><div class=\"margin-bottom15\"><a class=\"gplay-icon margin-right5\" href=\"https://play.google.com/store/apps/details?id=com.bikewale.app&amp;referrer=utm_source%3DDesktopsite%26utm_medium%3DFooter%26utm_campaign%3DBikeWale%2520Desktopsite%2520Footer\" rel=\"noopener nofollow\" target=\"_blank\" title=\"BikeWale App on Google Play\">BikeWale App on Google Play</a></div></div><div class=\"clear\"></div></div><div class=\"text-center padding-top10\"><div class=\"grid-4\"><span class=\"bw-footer-icon\" title=\"BikeWale\">BikeWale</span></div><div class=\"grid-4\"><span class=\"cw-footer-icon\" title=\"CarWale\">CarWale</span><p class=\"cw-logo-label\">ask the experts</p></div><div class=\"grid-4\"><span class=\"ct-footer-icon\" title=\"CarTrade\">CarTrade</span></div><div class=\"clear\"></div></div><div class=\"border-solid-top text-white margin-top25 padding-top25\"><div class=\"grid-6 alpha font16\">© BikeWale India</div><div class=\"grid-6 omega text-right font13\"><a class=\"text-white\" href=\"/visitoragreement.aspx\" rel=\"nofollow\">Visitor Agreement </a>&amp; <a class=\"text-white\" href=\"/privacypolicy.aspx\" rel=\"nofollow\">Privacy Policy</a></div></div><div class=\"clear\"></div></div></footer> <script defer=\"\" src=\"https://stb.aeplcdn.com/bikewale/min/ui/src/bwcache-8f54c6dad7.js\" type=\"text/javascript\"></script><script> var loadAsyncCss = function () { var a = document.getElementById(\"asynced-css\"); if (a) { var b = document.createElement(\"div\"); b.style.display = 'none', b.innerHTML = a.textContent, document.body.appendChild(b), a.parentElement.removeChild(a) } }, raf = window.requestAnimationFrame || window.mozRequestAnimationFrame || window.webkitRequestAnimationFrame || window.msRequestAnimationFrame; raf ? raf(function () { window.setTimeout(loadAsyncCss, 0) }) : window.addEventListener(\"load\", loadAsyncCss); </script><script defer=\"\" src=\"https://stb.aeplcdn.com/bikewale/min/ui/src/plugins-eaa28926c3.js\" type=\"text/javascript\"></script><script defer=\"\" src=\"https://stb.aeplcdn.com/bikewale/min/ui/src/cwtracking-28cf92d2d8.js\" type=\"text/javascript\"></script><script defer=\"\" src=\"https://stb.aeplcdn.com/bikewale/min/ui/src/common-b75ef8d52a.js\" type=\"text/javascript\"></script><script defer=\"\" src=\"https://stb.aeplcdn.com/bikewale/min/ui/src/utils/scrolllock-c8a706ba6a.js\" type=\"text/javascript\"></script><script defer=\"\" src=\"https://stb.aeplcdn.com/bikewale/min/ui/src/utils/popup-7df142ee82.js\" type=\"text/javascript\"></script><script defer=\"\" src=\"https://stb.aeplcdn.com/bikewale/min/ui/src/content/article-details-4e2ccdec32.js\" type=\"text/javascript\"></script> <script defer=\"\" src=\"https://www.gstatic.com/firebasejs/6.3.4/firebase-app.js\"></script><script defer=\"\" src=\"https://www.gstatic.com/firebasejs/6.3.4/firebase-messaging.js\"></script><script defer=\"\" src=\"https://stb.aeplcdn.com/bikewale/min/ui/src/firebasenotification-58589fad3b.js\" type=\"text/javascript\"></script><script defer=\"\" src=\"https://stb.aeplcdn.com/bikewale/min/ui/src/private-mode-feb2ea8557.js\" type=\"text/javascript\"></script><script defer=\"\" src=\"https://stb.aeplcdn.com/bikewale/min/ui/src/webpushnotifications-30a40d321d.js\" type=\"text/javascript\"></script><style type=\"text/css\">.subscription-popup-overlay .popup-container{width:100%}.subscription-popup-overlay .popup{display:-webkit-box;display:-moz-box;display:-ms-flexbox;display:-webkit-flex;display:flex;-webkit-box-direction:normal;-webkit-box-orient:vertical;-moz-box-direction:normal;-moz-box-orient:vertical;-webkit-flex-direction:column;-ms-flex-direction:column;flex-direction:column;-webkit-transform:translateX(110%);-moz-transform:translateX(110%);-ms-transform:translateX(110%);transform:translateX(110%);-webkit-transition-property:transform;-moz-transition-property:transform;-ms-transition-property:transform;transition-property:transform;-webkit-transition-timing-function:linear;-moz-transition-timing-function:linear;-ms-transition-timing-function:linear;transition-timing-function:linear;-webkit-transition-duration:0s;-moz-transition-duration:0s;-ms-transition-duration:0s;transition-duration:0s;width:100%;position:fixed;top:215px;left:70px;right:0;bottom:auto;background-color:#fff;z-index:203}.subscription-popup-overlay .popup-container[data-direction=right] .popup{-webkit-transition-duration:.5s;-moz-transition-duration:.5s;-ms-transition-duration:.5s;transition-duration:.5s}.subscription-popup-overlay .popup-overlay{width:100%;height:100%;position:fixed;top:0;right:0;bottom:0;left:0;background-color:#000;opacity:.5;z-index:203;display:none;cursor:pointer;overflow:hidden}.subscription-popup-overlay .popup-active .popup-overlay{display:block}.subscription-popup-overlay .popup-container.popup-active .popup{-webkit-transform:translate(0,0);-moz-transform:translate(0,0);-ms-transform:translate(0,0);transform:translate(0,0);will-change:transform}.subscription-popup-overlay .popup-close-button{background-color:#fff;width:35px;height:35px;border-radius:50%;box-shadow:0 4px 4px 0 rgba(0,0,0,.03);cursor:pointer}.subscription-popup-overlay .popup-close-button::after{background:url(https://imgd.aeplcdn.com/0x0/bw/static/icons/4d5057/cross.svg?v18Apr2018) center no-repeat;-webkit-transform:translate(-50%,-50%);-moz-transform:translate(-50%,-50%);-ms-transform:translate(-50%,-50%);transform:translate(-50%,-50%);content:'';position:absolute;width:16px;height:14px;display:block;top:50%;left:50%}.subscription-popup-overlay .popup-container{display:none}.subscription-popup-overlay .popup-container.popup-active{display:block}.subscription-popup-overlay .popup{max-width:320px;padding:20px 16px;border-radius:3px;height:auto}.subscription-popup-overlay .popup-close-button{position:absolute;top:-17.5px;right:10px}.subscription-popup-overlay .notification-popup__title{font-size:16px;font-weight:600;color:#2a2a2a;line-height:22px}.subscription-popup-overlay .notification-not-denied__container{display:-webkit-box;display:-moz-box;display:-ms-flexbox;display:-webkit-flex;display:flex;-webkit-box-align:center;-moz-box-align:center;-ms-flex-align:center;-webkit-align-items:center;align-items:center}.subscription-popup-overlay .notification-not-denied__bell-icon{background-image:url(https://imgd.aeplcdn.com/0x0/bw/static/icons/svg/black-bell.svg);background-repeat:no-repeat;background-position:center;background-size:contain;display:block;width:22px;height:25px;margin-right:20px}.notification-popoup__button{display:none}</style><template id=\"subscription-overlay\"><div class=\"subscription-popup-overlay\"><div class=\"popup-container js-notification-popup-container\" id=\"notificationPopup\"><div class=\"popup-overlay js-notification-popup-overlay\"></div><div class=\"popup\"><span class=\"popup-close-button js-popup-close-button\"></span><div id=\"notificationPopupContent\"><div class=\"notification-not-denied__container\"><span class=\"notification-not-denied__bell-icon\"></span><h2 class=\"notification-popup__title\">Click on 'Allow' to get latest updates</h2></div></div></div></div></div></template><button class=\"js-notification-popup-link notification-popoup__button js-optin-popup-button\" data-popup=\"notificationPopup\" type=\"button\"> Click to view popup </button> <script>var isMobile = false;</script> <script defer=\"\" src=\"https://stb.aeplcdn.com/bikewale/min/ui/src/lazyloadad-10fef21f97.js\" type=\"text/javascript\"></script> <script defer=\"\" src=\"https://stb.aeplcdn.com/bikewale/min/ui/src/new/bikemake-0eecb1c8bb.js\" type=\"text/javascript\"></script> <script defer=\"\" src=\"https://stb.aeplcdn.com/bikewale/min/ui/src/review-popup-fd33da0619.js\" type=\"text/javascript\"></script> <script defer=\"\" src=\"https://stb.aeplcdn.com/bikewale/min/ui/src/utils/seo-readmore-24c3202af8.js\" type=\"text/javascript\"></script> <script defer=\"\" src=\"//www.googleadservices.com/pagead/conversion_async.js\" type=\"text/javascript\"></script><noscript><div style=\"display:inline;\"><img alt=\"\" height=\"1\" src=\"//googleads.g.doubleclick.net/pagead/viewthroughconversion/998187973/?guid=ON&amp;script=0\" style=\"border-style:none;\" width=\"1\"/></div></noscript><script type=\"text/javascript\"> docReady(function () { try { window.google_trackConversion({ google_conversion_id: 998187973, google_custom_params: window.google_tag_params, google_remarketing_only: !0 }); } catch (e) { console.warn(e.message); } }); </script></body> </html>"
      ]
     },
     "execution_count": 202,
     "metadata": {},
     "output_type": "execute_result"
    }
   ],
   "source": [
    "soup=BeautifulSoup(s.text)\n",
    "soup"
   ]
  },
  {
   "cell_type": "code",
   "execution_count": 178,
   "metadata": {},
   "outputs": [
    {
     "data": {
      "text/plain": [
       "[<h3 class=\"bikeTitle margin-bottom10\"><a class=\"modelurl\" href=\"/royalenfield-bikes/classic-350/\" title=\"Royal Enfield Classic 350\">Royal Enfield Classic 350</a></h3>,\n",
       " <h3 class=\"bikeTitle margin-bottom10\"><a class=\"modelurl\" href=\"/royalenfield-bikes/bullet-350/\" title=\"Royal Enfield Bullet 350\">Royal Enfield Bullet 350</a></h3>,\n",
       " <h3 class=\"bikeTitle margin-bottom10\"><a class=\"modelurl\" href=\"/royalenfield-bikes/signals/\" title=\"Royal Enfield Classic Signals\">Royal Enfield Classic Signals</a></h3>,\n",
       " <h3 class=\"bikeTitle margin-bottom10\"><a class=\"modelurl\" href=\"/royalenfield-bikes/thunderbird-350x/\" title=\"Royal Enfield Thunderbird 350X\">Royal Enfield Thunderbird 350X</a></h3>,\n",
       " <h3 class=\"bikeTitle margin-bottom10\"><a class=\"modelurl\" href=\"/royalenfield-bikes/himalayan/\" title=\"Royal Enfield Himalayan\">Royal Enfield Himalayan</a></h3>,\n",
       " <h3 class=\"bikeTitle margin-bottom10\"><a class=\"modelurl\" href=\"/royalenfield-bikes/stealth-black/\" title=\"Royal Enfield Classic Stealth Black\">Royal Enfield Classic Stealth Black</a></h3>,\n",
       " <h3 class=\"bikeTitle margin-bottom10\"><a class=\"modelurl\" href=\"/royalenfield-bikes/interceptor/\" title=\"Royal Enfield Interceptor 650\">Royal Enfield Interceptor 650</a></h3>,\n",
       " <h3 class=\"bikeTitle margin-bottom10\"><a class=\"modelurl\" href=\"/royalenfield-bikes/gunmetal-grey/\" title=\"Royal Enfield Classic Gunmetal Grey\">Royal Enfield Classic Gunmetal Grey</a></h3>,\n",
       " <h3 class=\"bikeTitle margin-bottom10\"><a class=\"modelurl\" href=\"/royalenfield-bikes/continental-gt/\" title=\"Royal Enfield Continental GT 650\">Royal Enfield Continental GT 650</a></h3>,\n",
       " <h3 class=\"bikeTitle margin-bottom10\"><a class=\"modelurl\" href=\"/royalenfield-bikes/thunderbird/\" title=\"Royal Enfield Thunderbird 350\">Royal Enfield Thunderbird 350</a></h3>,\n",
       " <h3 class=\"bikeTitle margin-bottom10\"><a class=\"modelurl\" href=\"/royalenfield-bikes/thunderbird-500x/\" title=\"Royal Enfield Thunderbird 500X\">Royal Enfield Thunderbird 500X</a></h3>,\n",
       " <h3 class=\"bikeTitle margin-bottom10\"><a class=\"modelurl\" href=\"/royalenfield-bikes/bullet-500/\" title=\"Royal Enfield Bullet 500\">Royal Enfield Bullet 500</a></h3>,\n",
       " <h3 class=\"bikeTitle margin-bottom10\"><a class=\"modelurl\" href=\"/royalenfield-bikes/bullet-trials/\" title=\"Royal Enfield Bullet Trials 350\">Royal Enfield Bullet Trials 350</a></h3>,\n",
       " <h3 class=\"bikeTitle margin-bottom10\"><a class=\"modelurl\" href=\"/royalenfield-bikes/classic-500/\" title=\"Royal Enfield Classic 500\">Royal Enfield Classic 500</a></h3>,\n",
       " <h3 class=\"bikeTitle margin-bottom10\"><a class=\"modelurl\" href=\"/royalenfield-bikes/chrome/\" title=\"Royal Enfield Classic Chrome\">Royal Enfield Classic Chrome</a></h3>,\n",
       " <h3 class=\"bikeTitle margin-bottom10\"><a class=\"modelurl\" href=\"/royalenfield-bikes/desert-storm/\" title=\"Royal Enfield Classic Desert Storm\">Royal Enfield Classic Desert Storm</a></h3>,\n",
       " <h3 class=\"bikeTitle margin-bottom10\"><a class=\"modelurl\" href=\"/royalenfield-bikes/squadron-blue/\" title=\"Royal Enfield Classic Squadron Blue\">Royal Enfield Classic Squadron Blue</a></h3>,\n",
       " <h3 class=\"bikeTitle margin-bottom10\"><a class=\"modelurl\" href=\"/royalenfield-bikes/thunderbird-500/\" title=\"Royal Enfield Thunderbird 500\">Royal Enfield Thunderbird 500</a></h3>,\n",
       " <h3 class=\"bikeTitle margin-bottom10\"><a class=\"modelurl\" href=\"/royalenfield-bikes/bullet-trials-500/\" title=\"Royal Enfield Bullet Trials 500\">Royal Enfield Bullet Trials 500</a></h3>]"
      ]
     },
     "execution_count": 178,
     "metadata": {},
     "output_type": "execute_result"
    }
   ],
   "source": [
    "tag=soup.find_all('h3',class_=\"bikeTitle margin-bottom10\")\n",
    "tag"
   ]
  },
  {
   "cell_type": "code",
   "execution_count": 203,
   "metadata": {},
   "outputs": [
    {
     "data": {
      "text/plain": [
       "['Royal Enfield Classic 350',\n",
       " 'Royal Enfield Bullet 350',\n",
       " 'Royal Enfield Classic Signals',\n",
       " 'Royal Enfield Thunderbird 350X',\n",
       " 'Royal Enfield Himalayan',\n",
       " 'Royal Enfield Classic Stealth Black',\n",
       " 'Royal Enfield Interceptor 650',\n",
       " 'Royal Enfield Classic Gunmetal Grey',\n",
       " 'Royal Enfield Continental GT 650',\n",
       " 'Royal Enfield Thunderbird 350',\n",
       " 'Royal Enfield Thunderbird 500X',\n",
       " 'Royal Enfield Bullet 500',\n",
       " 'Royal Enfield Bullet Trials 350',\n",
       " 'Royal Enfield Classic 500',\n",
       " 'Royal Enfield Classic Chrome',\n",
       " 'Royal Enfield Classic Desert Storm',\n",
       " 'Royal Enfield Classic Squadron Blue',\n",
       " 'Royal Enfield Thunderbird 500',\n",
       " 'Royal Enfield Bullet Trials 500']"
      ]
     },
     "execution_count": 203,
     "metadata": {},
     "output_type": "execute_result"
    }
   ],
   "source": [
    "# intially did for one page so 19 records\n",
    "names=[]\n",
    "for i in tag:\n",
    "    names.append(i.text)\n",
    "names \n",
    "#len(names) # 19"
   ]
  },
  {
   "cell_type": "code",
   "execution_count": 204,
   "metadata": {},
   "outputs": [
    {
     "data": {
      "text/plain": [
       "[<div class=\"text-xt-light-grey font14 margin-bottom15\"> <span>346 cc</span>, <span>19.1 bhp</span>, <span>195 kg</span> </div>,\n",
       " <div class=\"text-xt-light-grey font14 margin-bottom15\"> <span>346 cc</span>, <span>19.8 bhp</span>, <span>180 kg</span> </div>,\n",
       " <div class=\"text-xt-light-grey font14 margin-bottom15\"> <span>346 cc</span>, <span>19.8 bhp</span>, <span>192 kg</span> </div>,\n",
       " <div class=\"text-xt-light-grey font14 margin-bottom15\"> <span>346 cc</span>, <span>19.8 bhp</span>, <span>195 kg</span> </div>,\n",
       " <div class=\"text-xt-light-grey font14 margin-bottom15\"> <span>411 cc</span>, <span>24.5 bhp</span>, <span>182 kg</span> </div>,\n",
       " <div class=\"text-xt-light-grey font14 margin-bottom15\"> <span>499 cc</span>, <span>27.2 bhp</span>, <span>194 kg</span> </div>,\n",
       " <div class=\"text-xt-light-grey font14 margin-bottom15\"> <span>648 cc</span>, <span>47 bhp</span>, <span>202 kg</span> </div>,\n",
       " <div class=\"text-xt-light-grey font14 margin-bottom15\"> <span>346 cc</span>, <span>19.8 bhp</span>, <span>192 kg</span> </div>,\n",
       " <div class=\"text-xt-light-grey font14 margin-bottom15\"> <span>648 cc</span>, <span>47 bhp</span>, <span>198 kg</span> </div>,\n",
       " <div class=\"text-xt-light-grey font14 margin-bottom15\"> <span>346 cc</span>, <span>19.8 bhp</span>, <span>192 kg</span> </div>,\n",
       " <div class=\"text-xt-light-grey font14 margin-bottom15\"> <span>499 cc</span>, <span>27.2 bhp</span>, <span>197 kg</span> </div>,\n",
       " <div class=\"text-xt-light-grey font14 margin-bottom15\"> <span>499 cc</span>, <span>30 kmpl</span>, <span>26.1 bhp</span>, <span>193 kg</span> </div>,\n",
       " <div class=\"text-xt-light-grey font14 margin-bottom15\"> <span>346 cc</span>, <span>19.8 bhp</span>, <span>187 kg</span> </div>,\n",
       " <div class=\"text-xt-light-grey font14 margin-bottom15\"> <span>499 cc</span>, <span>27.2 bhp</span>, <span>190 kg</span> </div>,\n",
       " <div class=\"text-xt-light-grey font14 margin-bottom15\"> <span>499 cc</span>, <span>27.2 bhp</span>, <span>187 kg</span> </div>,\n",
       " <div class=\"text-xt-light-grey font14 margin-bottom15\"> <span>499 cc</span>, <span>27.2 bhp</span>, <span>187 kg</span> </div>,\n",
       " <div class=\"text-xt-light-grey font14 margin-bottom15\"> <span>499 cc</span>, <span>27.2 bhp</span>, <span>187 kg</span> </div>,\n",
       " <div class=\"text-xt-light-grey font14 margin-bottom15\"> <span>499 cc</span>, <span>27.2 bhp</span>, <span>195 kg</span> </div>,\n",
       " <div class=\"text-xt-light-grey font14 margin-bottom15\"> <span>499 cc</span>, <span>27.2 bhp</span>, <span>192 kg</span> </div>]"
      ]
     },
     "execution_count": 204,
     "metadata": {},
     "output_type": "execute_result"
    }
   ],
   "source": [
    "soup.find_all('div',class_=\"text-xt-light-grey font14 margin-bottom15\")"
   ]
  },
  {
   "cell_type": "code",
   "execution_count": 205,
   "metadata": {},
   "outputs": [
    {
     "name": "stdout",
     "output_type": "stream",
     "text": [
      " 346 cc, 19.1 bhp, 195 kg \n",
      " 346 cc, 19.8 bhp, 180 kg \n",
      " 346 cc, 19.8 bhp, 192 kg \n",
      " 346 cc, 19.8 bhp, 195 kg \n",
      " 411 cc, 24.5 bhp, 182 kg \n",
      " 499 cc, 27.2 bhp, 194 kg \n",
      " 648 cc, 47 bhp, 202 kg \n",
      " 346 cc, 19.8 bhp, 192 kg \n",
      " 648 cc, 47 bhp, 198 kg \n",
      " 346 cc, 19.8 bhp, 192 kg \n",
      " 499 cc, 27.2 bhp, 197 kg \n",
      " 499 cc, 30 kmpl, 26.1 bhp, 193 kg \n",
      " 346 cc, 19.8 bhp, 187 kg \n",
      " 499 cc, 27.2 bhp, 190 kg \n",
      " 499 cc, 27.2 bhp, 187 kg \n",
      " 499 cc, 27.2 bhp, 187 kg \n",
      " 499 cc, 27.2 bhp, 187 kg \n",
      " 499 cc, 27.2 bhp, 195 kg \n",
      " 499 cc, 27.2 bhp, 192 kg \n"
     ]
    }
   ],
   "source": [
    "#names\n",
    "for i in soup.find_all('div',class_=\"text-xt-light-grey font14 margin-bottom15\"):\n",
    "    print(i.text)"
   ]
  },
  {
   "cell_type": "code",
   "execution_count": 206,
   "metadata": {},
   "outputs": [
    {
     "data": {
      "text/plain": [
       "[' 346 cc, 19.1 bhp, 195 kg ',\n",
       " ' 346 cc, 19.8 bhp, 180 kg ',\n",
       " ' 346 cc, 19.8 bhp, 192 kg ',\n",
       " ' 346 cc, 19.8 bhp, 195 kg ',\n",
       " ' 411 cc, 24.5 bhp, 182 kg ',\n",
       " ' 499 cc, 27.2 bhp, 194 kg ',\n",
       " ' 648 cc, 47 bhp, 202 kg ',\n",
       " ' 346 cc, 19.8 bhp, 192 kg ',\n",
       " ' 648 cc, 47 bhp, 198 kg ',\n",
       " ' 346 cc, 19.8 bhp, 192 kg ',\n",
       " ' 499 cc, 27.2 bhp, 197 kg ',\n",
       " ' 499 cc, 30 kmpl, 26.1 bhp, 193 kg ',\n",
       " ' 346 cc, 19.8 bhp, 187 kg ',\n",
       " ' 499 cc, 27.2 bhp, 190 kg ',\n",
       " ' 499 cc, 27.2 bhp, 187 kg ',\n",
       " ' 499 cc, 27.2 bhp, 187 kg ',\n",
       " ' 499 cc, 27.2 bhp, 187 kg ',\n",
       " ' 499 cc, 27.2 bhp, 195 kg ',\n",
       " ' 499 cc, 27.2 bhp, 192 kg ']"
      ]
     },
     "execution_count": 206,
     "metadata": {},
     "output_type": "execute_result"
    }
   ],
   "source": [
    "sam=[]\n",
    "for i in soup.find_all('div',class_=\"text-xt-light-grey font14 margin-bottom15\"):\n",
    "    sam.append(i.text)\n",
    "sam    "
   ]
  },
  {
   "cell_type": "code",
   "execution_count": 207,
   "metadata": {},
   "outputs": [
    {
     "data": {
      "text/plain": [
       "[[' 346 cc', ' 19.1 bhp', ' 195 kg '],\n",
       " [' 346 cc', ' 19.8 bhp', ' 180 kg '],\n",
       " [' 346 cc', ' 19.8 bhp', ' 192 kg '],\n",
       " [' 346 cc', ' 19.8 bhp', ' 195 kg '],\n",
       " [' 411 cc', ' 24.5 bhp', ' 182 kg '],\n",
       " [' 499 cc', ' 27.2 bhp', ' 194 kg '],\n",
       " [' 648 cc', ' 47 bhp', ' 202 kg '],\n",
       " [' 346 cc', ' 19.8 bhp', ' 192 kg '],\n",
       " [' 648 cc', ' 47 bhp', ' 198 kg '],\n",
       " [' 346 cc', ' 19.8 bhp', ' 192 kg '],\n",
       " [' 499 cc', ' 27.2 bhp', ' 197 kg '],\n",
       " [' 499 cc', ' 30 kmpl', ' 26.1 bhp', ' 193 kg '],\n",
       " [' 346 cc', ' 19.8 bhp', ' 187 kg '],\n",
       " [' 499 cc', ' 27.2 bhp', ' 190 kg '],\n",
       " [' 499 cc', ' 27.2 bhp', ' 187 kg '],\n",
       " [' 499 cc', ' 27.2 bhp', ' 187 kg '],\n",
       " [' 499 cc', ' 27.2 bhp', ' 187 kg '],\n",
       " [' 499 cc', ' 27.2 bhp', ' 195 kg '],\n",
       " [' 499 cc', ' 27.2 bhp', ' 192 kg ']]"
      ]
     },
     "execution_count": 207,
     "metadata": {},
     "output_type": "execute_result"
    }
   ],
   "source": [
    "s=[]\n",
    "for i in sam:\n",
    "    s.append(i.split(','))\n",
    "s    "
   ]
  },
  {
   "cell_type": "code",
   "execution_count": 327,
   "metadata": {},
   "outputs": [
    {
     "data": {
      "text/plain": [
       "19"
      ]
     },
     "execution_count": 327,
     "metadata": {},
     "output_type": "execute_result"
    }
   ],
   "source": [
    "cc=[]\n",
    "bhp=[]\n",
    "weight=[]\n",
    "for i in s:\n",
    "    #print(i)\n",
    "    cc.append(i[0])\n",
    "    bhp.append(i[1])\n",
    "    weight.append(i[2])\n",
    "#cc \n",
    "bhp[11]=' 26.1 bhp '\n",
    "bhp\n",
    "#weight\n",
    "weight[11]=' 193 kg '\n",
    "weight\n",
    "km=[]\n",
    "for i in range(0,45):\n",
    "    if i !=11:\n",
    "        km.append(' - ')\n",
    "    else:\n",
    "        km.append(' 30 kmpl ')\n",
    "km  \n",
    "len(km)"
   ]
  },
  {
   "cell_type": "code",
   "execution_count": null,
   "metadata": {},
   "outputs": [],
   "source": []
  },
  {
   "cell_type": "code",
   "execution_count": 185,
   "metadata": {},
   "outputs": [
    {
     "data": {
      "text/plain": [
       "19"
      ]
     },
     "execution_count": 185,
     "metadata": {},
     "output_type": "execute_result"
    }
   ],
   "source": [
    "prices=[]\n",
    "p=[]\n",
    "soup.find_all('span',class_=\"font18\")\n",
    "for i in soup.find_all('span',class_=\"font18\"):\n",
    "    p.append(i.text)\n",
    "for i in p:\n",
    "    if i!='₹':\n",
    "        prices.append(i)\n",
    "prices=prices[0:19]  \n",
    "len(prices)\n",
    "\n",
    "    "
   ]
  },
  {
   "cell_type": "code",
   "execution_count": 21,
   "metadata": {},
   "outputs": [],
   "source": [
    "#soup.find_all('div',class_=\"imageWrapper\")\n",
    "#for i in soup.find_all('div',class_=\"imageWrapper\"):\n",
    "    #i.image"
   ]
  },
  {
   "cell_type": "code",
   "execution_count": 186,
   "metadata": {},
   "outputs": [
    {
     "data": {
      "text/plain": [
       "['Ex-showroom, Mumbai',\n",
       " 'Ex-showroom, Mumbai',\n",
       " 'Ex-showroom, Mumbai',\n",
       " 'Ex-showroom, Mumbai',\n",
       " 'Ex-showroom, Mumbai',\n",
       " 'Ex-showroom, Mumbai',\n",
       " 'Ex-showroom, Mumbai',\n",
       " 'Ex-showroom, Mumbai',\n",
       " 'Ex-showroom, Mumbai',\n",
       " 'Ex-showroom, Mumbai',\n",
       " 'Ex-showroom, Mumbai',\n",
       " 'Ex-showroom, Mumbai',\n",
       " 'Ex-showroom, Mumbai',\n",
       " 'Ex-showroom, Mumbai',\n",
       " 'Ex-showroom, Mumbai',\n",
       " 'Ex-showroom, Mumbai',\n",
       " 'Ex-showroom, Mumbai',\n",
       " 'Ex-showroom, Mumbai',\n",
       " 'Ex-showroom, Mumbai']"
      ]
     },
     "execution_count": 186,
     "metadata": {},
     "output_type": "execute_result"
    }
   ],
   "source": [
    "showroom=[]\n",
    "for i in soup.find_all('div',class_=\"font14 text-light-grey margin-bottom5\"):\n",
    "    showroom.append(i.text)\n",
    "showroom    "
   ]
  },
  {
   "cell_type": "code",
   "execution_count": 67,
   "metadata": {},
   "outputs": [
    {
     "data": {
      "text/plain": [
       "<Response [200]>"
      ]
     },
     "execution_count": 67,
     "metadata": {},
     "output_type": "execute_result"
    }
   ],
   "source": [
    "data123=requests.get(\"https://www.bikewale.com/royalenfield-bikes/reviews/\")\n",
    "data123"
   ]
  },
  {
   "cell_type": "code",
   "execution_count": 76,
   "metadata": {},
   "outputs": [],
   "source": [
    "sp = BeautifulSoup(data123.text)"
   ]
  },
  {
   "cell_type": "code",
   "execution_count": 79,
   "metadata": {},
   "outputs": [
    {
     "name": "stdout",
     "output_type": "stream",
     "text": [
      "4.5\n",
      "(2843 ratings)\n",
      "4.6\n",
      "(2304 ratings)\n",
      "4.7\n",
      "(596 ratings)\n",
      "4.5\n",
      "(573 ratings)\n",
      "4.4\n",
      "(422 ratings)\n",
      "4.7\n",
      "(346 ratings)\n"
     ]
    }
   ],
   "source": [
    "reviews=[]\n",
    "for i in sp.find_all('span',class_='inline-block'):\n",
    "    print(i.text)"
   ]
  },
  {
   "cell_type": "code",
   "execution_count": null,
   "metadata": {},
   "outputs": [],
   "source": [
    "<span class=\"font26 text-bold inline-block\">4.6</span>"
   ]
  },
  {
   "cell_type": "code",
   "execution_count": 80,
   "metadata": {},
   "outputs": [],
   "source": [
    "data123=requests.get(\"https://www.bikewale.com/royalenfield-bikes/interceptor/reviews/\")"
   ]
  },
  {
   "cell_type": "code",
   "execution_count": 81,
   "metadata": {},
   "outputs": [
    {
     "data": {
      "text/plain": [
       "<Response [200]>"
      ]
     },
     "execution_count": 81,
     "metadata": {},
     "output_type": "execute_result"
    }
   ],
   "source": [
    "data123"
   ]
  },
  {
   "cell_type": "code",
   "execution_count": 82,
   "metadata": {},
   "outputs": [],
   "source": [
    "sp1 = BeautifulSoup(data123.text)"
   ]
  },
  {
   "cell_type": "code",
   "execution_count": 9,
   "metadata": {},
   "outputs": [],
   "source": [
    "#sp1\n",
    "list1=[]"
   ]
  },
  {
   "cell_type": "code",
   "execution_count": 34,
   "metadata": {},
   "outputs": [],
   "source": [
    "data123=requests.get(\"https://www.bikewale.com/royalenfield-bikes/bullet-trials-500/reviews/\")\n",
    "data123\n",
    "sp1 = BeautifulSoup(data123.text)\n",
    "for i in sp1.find_all('span',class_='font26 text-bold inline-block'):\n",
    "     list1.append(i.text)"
   ]
  },
  {
   "cell_type": "code",
   "execution_count": 50,
   "metadata": {},
   "outputs": [],
   "source": [
    "#list1\n",
    "reviews1=[]"
   ]
  },
  {
   "cell_type": "code",
   "execution_count": 57,
   "metadata": {},
   "outputs": [
    {
     "data": {
      "text/plain": [
       "['4.5', '4.6', '4.7', '4.5', '4.4', '4.7']"
      ]
     },
     "execution_count": 57,
     "metadata": {},
     "output_type": "execute_result"
    }
   ],
   "source": [
    "#data123=requests.get(\"https://www.bikewale.com/royalenfield-bikes/stealth-black/reviews/\")\n",
    "#data123\n",
    "#sp1 = BeautifulSoup(data123.text)\n",
    "#for i in sp1.find_all('span',class_='font26 text-bold inline-block'):\n",
    "    # reviews1.append(i.text)\n",
    "#reviews1        "
   ]
  },
  {
   "cell_type": "code",
   "execution_count": 16,
   "metadata": {},
   "outputs": [
    {
     "ename": "NameError",
     "evalue": "name 'reviews1' is not defined",
     "output_type": "error",
     "traceback": [
      "\u001b[1;31m---------------------------------------------------------------------------\u001b[0m",
      "\u001b[1;31mNameError\u001b[0m                                 Traceback (most recent call last)",
      "\u001b[1;32m<ipython-input-16-68add9347be1>\u001b[0m in \u001b[0;36m<module>\u001b[1;34m\u001b[0m\n\u001b[0;32m      1\u001b[0m \u001b[1;31m#for i in list1:\u001b[0m\u001b[1;33m\u001b[0m\u001b[1;33m\u001b[0m\u001b[1;33m\u001b[0m\u001b[0m\n\u001b[0;32m      2\u001b[0m    \u001b[1;31m# reviews1.append(i)\u001b[0m\u001b[1;33m\u001b[0m\u001b[1;33m\u001b[0m\u001b[1;33m\u001b[0m\u001b[0m\n\u001b[1;32m----> 3\u001b[1;33m \u001b[0mprint\u001b[0m\u001b[1;33m(\u001b[0m\u001b[0mreviews1\u001b[0m\u001b[1;33m)\u001b[0m\u001b[1;33m\u001b[0m\u001b[1;33m\u001b[0m\u001b[0m\n\u001b[0m",
      "\u001b[1;31mNameError\u001b[0m: name 'reviews1' is not defined"
     ]
    }
   ],
   "source": [
    "#for i in list1:\n",
    "   # reviews1.append(i)\n",
    "print(reviews1)    "
   ]
  },
  {
   "cell_type": "code",
   "execution_count": 105,
   "metadata": {},
   "outputs": [],
   "source": [
    "#len(reviews1)\n",
    "ratings=[]"
   ]
  },
  {
   "cell_type": "code",
   "execution_count": 126,
   "metadata": {},
   "outputs": [
    {
     "data": {
      "text/plain": [
       "['2849 ratings',\n",
       " '2310 ratings',\n",
       " '596 ratings',\n",
       " '573 ratings',\n",
       " '424 ratings',\n",
       " '347 ratings',\n",
       " '129 ratings',\n",
       " '636 ratings',\n",
       " '98 ratings',\n",
       " '589 ratings',\n",
       " '325 ratings',\n",
       " '100 ratings',\n",
       " '30 ratings',\n",
       " '310 ratings',\n",
       " '76 ratings',\n",
       " '178 ratings',\n",
       " '37 ratings',\n",
       " '105 ratings',\n",
       " '22 ratings']"
      ]
     },
     "execution_count": 126,
     "metadata": {},
     "output_type": "execute_result"
    }
   ],
   "source": [
    "data123=requests.get(\"https://www.bikewale.com/royalenfield-bikes/bullet-trials-500/reviews/\")\n",
    "data123\n",
    "sp1 = BeautifulSoup(data123.text)\n",
    "for i in sp1.find_all('span',class_='margin-bottom5'):\n",
    "     ratings.append(i.text)\n",
    "ratings   \n",
    "#colours=[]"
   ]
  },
  {
   "cell_type": "code",
   "execution_count": 112,
   "metadata": {},
   "outputs": [],
   "source": [
    "colors=[]\n",
    "data123=requests.get(\"https://www.bikewale.com/royalenfield-bikes/bullet-trials-500/\")\n",
    "data123\n",
    "sp1 = BeautifulSoup(data123.text)\n",
    "for i in sp1.find_all('li',class_='leftfloat'):\n",
    "    #print(i.text)\n",
    "    colors.append(i.text)\n",
    "   \n"
   ]
  },
  {
   "cell_type": "code",
   "execution_count": 320,
   "metadata": {},
   "outputs": [
    {
     "data": {
      "text/plain": [
       "[['Lagoon',\n",
       "  'Ash',\n",
       "  'Silver',\n",
       "  'Redditch Red',\n",
       "  'Redditch Green',\n",
       "  'Redditch Blue',\n",
       "  'Classic Black',\n",
       "  'Classic Chestnut',\n",
       "  'Pure Black',\n",
       "  'Mercury Silver',\n",
       "  'Gunmetal Grey',\n",
       "  'Stromrider Sand',\n",
       "  'Airborne Blue',\n",
       "  'Chrome',\n",
       "  'Stealth Black'],\n",
       " ['Silver',\n",
       "  'Maroon',\n",
       "  'Black ( KS )',\n",
       "  'Jet Black',\n",
       "  'Royal Blue',\n",
       "  'Regal Red',\n",
       "  'Bullet Silver',\n",
       "  'Sapphire Blue',\n",
       "  'Onyx Black',\n",
       "  'Black ( ES )'],\n",
       " ['Airborne Blue', 'Stormrider Sand'],\n",
       " ['Roving Red', 'Whimsical White'],\n",
       " ['Snow',\n",
       "  'Granite',\n",
       "  'Limited Edition',\n",
       "  'Sleet Grey',\n",
       "  'Gravel Grey',\n",
       "  'Lake Blue',\n",
       "  'Rock Red'],\n",
       " ['Stealth Black'],\n",
       " ['Mark Three',\n",
       "  'Glitter & Dust',\n",
       "  'Orange Crush',\n",
       "  'Ravishing Red',\n",
       "  'Silver Spectre',\n",
       "  'Baker Express'],\n",
       " ['Gunmetal Grey'],\n",
       " ['Black Magic', 'Ventura Blue', 'Mister Clean', 'Dr. Mayhem', 'Ice Queen'],\n",
       " ['Marine', 'Stone', 'Flicker'],\n",
       " ['Getaway Orange', 'Drifter Blue'],\n",
       " [],\n",
       " ['Red'],\n",
       " ['Classic Tan', 'Classic Black', 'Classic Silver'],\n",
       " ['Classic Black', 'Chrome Graphite'],\n",
       " ['Desert Storm'],\n",
       " ['Squadron Blue'],\n",
       " ['Marine', 'Flicker', 'Stone'],\n",
       " ['Green']]"
      ]
     },
     "execution_count": 320,
     "metadata": {},
     "output_type": "execute_result"
    }
   ],
   "source": [
    "#colours.append(colors)\n",
    "colours"
   ]
  },
  {
   "cell_type": "code",
   "execution_count": 131,
   "metadata": {},
   "outputs": [],
   "source": [
    "linklist=[]"
   ]
  },
  {
   "cell_type": "code",
   "execution_count": 150,
   "metadata": {},
   "outputs": [],
   "source": [
    "linklist.append(\"https://www.bikewale.com/royalenfield-bikes/bullet-trials-500/reviews/\") # consists of first 19 links"
   ]
  },
  {
   "cell_type": "code",
   "execution_count": 151,
   "metadata": {},
   "outputs": [
    {
     "data": {
      "text/plain": [
       "['https://www.bikewale.com/royalenfield-bikes/classic-350/reviews/',\n",
       " 'https://www.bikewale.com/royalenfield-bikes/bullet-350/reviews/',\n",
       " 'https://www.bikewale.com/royalenfield-bikes/signals/reviews/',\n",
       " 'https://www.bikewale.com/royalenfield-bikes/thunderbird-350x/reviews/',\n",
       " 'https://www.bikewale.com/royalenfield-bikes/himalayan/reviews/',\n",
       " 'https://www.bikewale.com/royalenfield-bikes/stealth-black/reviews/',\n",
       " 'https://www.bikewale.com/royalenfield-bikes/interceptor/reviews/',\n",
       " 'https://www.bikewale.com/royalenfield-bikes/gunmetal-grey/reviews/',\n",
       " 'https://www.bikewale.com/royalenfield-bikes/continental-gt/reviews/',\n",
       " 'https://www.bikewale.com/royalenfield-bikes/thunderbird/reviews/',\n",
       " 'https://www.bikewale.com/royalenfield-bikes/bullet-500/reviews/',\n",
       " 'https://www.bikewale.com/royalenfield-bikes/thunderbird-500x/reviews/',\n",
       " 'https://www.bikewale.com/royalenfield-bikes/bullet-trials/reviews/',\n",
       " 'https://www.bikewale.com/royalenfield-bikes/classic-500/reviews/',\n",
       " 'https://www.bikewale.com/royalenfield-bikes/chrome/reviews/',\n",
       " 'https://www.bikewale.com/royalenfield-bikes/desert-storm/reviews/',\n",
       " 'https://www.bikewale.com/royalenfield-bikes/squadron-blue/reviews/',\n",
       " 'https://www.bikewale.com/royalenfield-bikes/thunderbird-500/reviews/',\n",
       " 'https://www.bikewale.com/royalenfield-bikes/bullet-trials-500/reviews/']"
      ]
     },
     "execution_count": 151,
     "metadata": {},
     "output_type": "execute_result"
    }
   ],
   "source": [
    "linklist"
   ]
  },
  {
   "cell_type": "code",
   "execution_count": 156,
   "metadata": {},
   "outputs": [],
   "source": [
    "reviews1=[] # used to get reviews points out of 5 from 19 bikes"
   ]
  },
  {
   "cell_type": "code",
   "execution_count": 157,
   "metadata": {},
   "outputs": [
    {
     "data": {
      "text/plain": [
       "['4.5',\n",
       " '4.6',\n",
       " '4.7',\n",
       " '4.5',\n",
       " '4.4',\n",
       " '4.7',\n",
       " '4.6',\n",
       " '4.6',\n",
       " '4.8',\n",
       " '4.4',\n",
       " '4.6',\n",
       " '4.8',\n",
       " '4.7',\n",
       " '4.7',\n",
       " '4.6',\n",
       " '4.4',\n",
       " '4.4',\n",
       " '4.4',\n",
       " '4.4']"
      ]
     },
     "execution_count": 157,
     "metadata": {},
     "output_type": "execute_result"
    }
   ],
   "source": [
    "for i in linklist:\n",
    "    data123=requests.get(i)\n",
    "    data123\n",
    "    sp1 = BeautifulSoup(data123.text)\n",
    "    for i in sp1.find_all('span',class_='font26 text-bold inline-block'):\n",
    "        reviews1.append(i.text)\n",
    "reviews1      "
   ]
  },
  {
   "cell_type": "code",
   "execution_count": 161,
   "metadata": {},
   "outputs": [
    {
     "data": {
      "text/plain": [
       "['Royal Enfield Classic 350',\n",
       " 'Royal Enfield Bullet 350',\n",
       " 'Royal Enfield Classic Signals',\n",
       " 'Royal Enfield Thunderbird 350X',\n",
       " 'Royal Enfield Himalayan',\n",
       " 'Royal Enfield Classic Stealth Black',\n",
       " 'Royal Enfield Interceptor 650',\n",
       " 'Royal Enfield Classic Gunmetal Grey',\n",
       " 'Royal Enfield Continental GT 650',\n",
       " 'Royal Enfield Thunderbird 350',\n",
       " 'Royal Enfield Thunderbird 500X',\n",
       " 'Royal Enfield Bullet 500',\n",
       " 'Royal Enfield Bullet Trials 350',\n",
       " 'Royal Enfield Classic 500',\n",
       " 'Royal Enfield Classic Chrome',\n",
       " 'Royal Enfield Classic Desert Storm',\n",
       " 'Royal Enfield Classic Squadron Blue',\n",
       " 'Royal Enfield Thunderbird 500',\n",
       " 'Royal Enfield Bullet Trials 500']"
      ]
     },
     "execution_count": 161,
     "metadata": {},
     "output_type": "execute_result"
    }
   ],
   "source": [
    "len(reviews1)\n",
    "names"
   ]
  },
  {
   "cell_type": "code",
   "execution_count": 164,
   "metadata": {},
   "outputs": [],
   "source": [
    "data123=requests.get(\"https://www.bikewale.com/honda-bikes/\")\n",
    "data123\n",
    "sp1 = BeautifulSoup(data123.text)\n",
    "for i in sp1.find_all('a',class_='modelurl'):\n",
    "        names.append(i.text)        "
   ]
  },
  {
   "cell_type": "code",
   "execution_count": 168,
   "metadata": {},
   "outputs": [],
   "source": [
    "names1=[] # to get names of bikes in the othethat is honda model\n",
    "for i in names:\n",
    "    if i !='':\n",
    "        names1.append(i)"
   ]
  },
  {
   "cell_type": "code",
   "execution_count": 169,
   "metadata": {},
   "outputs": [
    {
     "data": {
      "text/plain": [
       "['Royal Enfield Classic 350',\n",
       " 'Royal Enfield Bullet 350',\n",
       " 'Royal Enfield Classic Signals',\n",
       " 'Royal Enfield Thunderbird 350X',\n",
       " 'Royal Enfield Himalayan',\n",
       " 'Royal Enfield Classic Stealth Black',\n",
       " 'Royal Enfield Interceptor 650',\n",
       " 'Royal Enfield Classic Gunmetal Grey',\n",
       " 'Royal Enfield Continental GT 650',\n",
       " 'Royal Enfield Thunderbird 350',\n",
       " 'Royal Enfield Thunderbird 500X',\n",
       " 'Royal Enfield Bullet 500',\n",
       " 'Royal Enfield Bullet Trials 350',\n",
       " 'Royal Enfield Classic 500',\n",
       " 'Royal Enfield Classic Chrome',\n",
       " 'Royal Enfield Classic Desert Storm',\n",
       " 'Royal Enfield Classic Squadron Blue',\n",
       " 'Royal Enfield Thunderbird 500',\n",
       " 'Royal Enfield Bullet Trials 500',\n",
       " 'Honda Activa 6G',\n",
       " 'Honda SP 125',\n",
       " 'Honda CB Shine',\n",
       " 'Honda Dio',\n",
       " 'Honda CB Hornet 160R',\n",
       " 'Honda CB Unicorn 150',\n",
       " 'Honda CB Shine SP',\n",
       " 'Honda Activa 5G',\n",
       " 'Honda CBR250R',\n",
       " 'Honda Activa 125',\n",
       " 'Honda X-Blade',\n",
       " 'Honda Livo',\n",
       " 'Honda CB300R',\n",
       " 'Honda CD 110 Dream',\n",
       " 'Honda Dream Yuga',\n",
       " 'Honda Grazia',\n",
       " 'Honda CBR650R',\n",
       " 'Honda Activa i',\n",
       " 'Honda Dream Neo',\n",
       " 'Honda Aviator',\n",
       " 'Honda Navi',\n",
       " 'Honda CBR1000RR Fireblade',\n",
       " 'Honda Cliq',\n",
       " 'Honda Gold Wing',\n",
       " 'Honda Africa Twin',\n",
       " 'Honda CB1000R+']"
      ]
     },
     "execution_count": 169,
     "metadata": {},
     "output_type": "execute_result"
    }
   ],
   "source": [
    "names1"
   ]
  },
  {
   "cell_type": "code",
   "execution_count": 331,
   "metadata": {},
   "outputs": [
    {
     "data": {
      "text/plain": [
       "[' 109.51 cc, 7.6 bhp, 107 kg ',\n",
       " ' 124 cc, 10.6 bhp, 117 kg ',\n",
       " ' 125 cc, 10 bhp, 120 kg ',\n",
       " ' 109.19 cc, 8 bhp, 105 kg ',\n",
       " ' 162.71 cc, 15.04 bhp, 140 kg ',\n",
       " ' 149.2 cc, 60 kmpl, 12.73 bhp, 146 kg ',\n",
       " ' 124.73 cc, 10.57 bhp, 124 kg ',\n",
       " ' 109.19 cc, 60 kmpl, 8 bhp, 109 kg ',\n",
       " ' 249.6 cc, 25.7 bhp, 167 kg ',\n",
       " ' 124 cc, 8.1 bhp, 111 kg ',\n",
       " ' 162.71 cc, 13.93 bhp, 140 kg ',\n",
       " ' 109.19 cc, 8.2 bhp, 111 kg ',\n",
       " ' 286.01 cc, 30 bhp, 147 kg ',\n",
       " ' 109.19 cc, 65 kmpl, 8.31 bhp, 109 kg ',\n",
       " ' 109 cc, 84 kmpl, 8 bhp, 108 kg ',\n",
       " ' 124.9 cc, 60 kmpl, 8.52 bhp, 107 kg ',\n",
       " ' 648.72 cc, 85.9 bhp, 210 kg ',\n",
       " ' 109.19 cc, 8 bhp, 103 kg ',\n",
       " ' 110 cc, 84 kmpl, 8.25 bhp, 105 kg ',\n",
       " ' 109.19 cc, 8 bhp, 109 kg ',\n",
       " ' 109.19 cc, 8 bhp, 99 kg ',\n",
       " ' 999 cc, 186.3 bhp, 195 kg ',\n",
       " ' 109.19 cc, 60 kmpl, 8 bhp, 102 kg ',\n",
       " ' 1,833 cc, 122.5 bhp, 379 kg ',\n",
       " ' 999.11 cc, 86.04 bhp, 245 kg ',\n",
       " ' 999 cc, 16 kmpl, 141.4 bhp, 217 kg ']"
      ]
     },
     "execution_count": 331,
     "metadata": {},
     "output_type": "execute_result"
    }
   ],
   "source": [
    "sam1=[] # is used to take cc bhp kmpl kg for honda bikes seperately\n",
    "d1=requests.get(\"https://www.bikewale.com/honda-bikes/\")\n",
    "sp1=BeautifulSoup(d1.text)\n",
    "for i in sp1.find_all('div',class_=\"text-xt-light-grey font14 margin-bottom15\"):\n",
    "    sam1.append(i.text)\n",
    "sam1    "
   ]
  },
  {
   "cell_type": "code",
   "execution_count": 332,
   "metadata": {},
   "outputs": [
    {
     "data": {
      "text/plain": [
       "[[' 109.51 cc', ' 7.6 bhp', ' 107 kg '],\n",
       " [' 124 cc', ' 10.6 bhp', ' 117 kg '],\n",
       " [' 125 cc', ' 10 bhp', ' 120 kg '],\n",
       " [' 109.19 cc', ' 8 bhp', ' 105 kg '],\n",
       " [' 162.71 cc', ' 15.04 bhp', ' 140 kg '],\n",
       " [' 149.2 cc', ' 60 kmpl', ' 12.73 bhp', ' 146 kg '],\n",
       " [' 124.73 cc', ' 10.57 bhp', ' 124 kg '],\n",
       " [' 109.19 cc', ' 60 kmpl', ' 8 bhp', ' 109 kg '],\n",
       " [' 249.6 cc', ' 25.7 bhp', ' 167 kg '],\n",
       " [' 124 cc', ' 8.1 bhp', ' 111 kg '],\n",
       " [' 162.71 cc', ' 13.93 bhp', ' 140 kg '],\n",
       " [' 109.19 cc', ' 8.2 bhp', ' 111 kg '],\n",
       " [' 286.01 cc', ' 30 bhp', ' 147 kg '],\n",
       " [' 109.19 cc', ' 65 kmpl', ' 8.31 bhp', ' 109 kg '],\n",
       " [' 109 cc', ' 84 kmpl', ' 8 bhp', ' 108 kg '],\n",
       " [' 124.9 cc', ' 60 kmpl', ' 8.52 bhp', ' 107 kg '],\n",
       " [' 648.72 cc', ' 85.9 bhp', ' 210 kg '],\n",
       " [' 109.19 cc', ' 8 bhp', ' 103 kg '],\n",
       " [' 110 cc', ' 84 kmpl', ' 8.25 bhp', ' 105 kg '],\n",
       " [' 109.19 cc', ' 8 bhp', ' 109 kg '],\n",
       " [' 109.19 cc', ' 8 bhp', ' 99 kg '],\n",
       " [' 999 cc', ' 186.3 bhp', ' 195 kg '],\n",
       " [' 109.19 cc', ' 60 kmpl', ' 8 bhp', ' 102 kg '],\n",
       " [' 1', '833 cc', ' 122.5 bhp', ' 379 kg '],\n",
       " [' 999.11 cc', ' 86.04 bhp', ' 245 kg '],\n",
       " [' 999 cc', ' 16 kmpl', ' 141.4 bhp', ' 217 kg ']]"
      ]
     },
     "execution_count": 332,
     "metadata": {},
     "output_type": "execute_result"
    }
   ],
   "source": [
    "s1=[] # splitting into cc,bhp,kg seperately\n",
    "for i in sam1:\n",
    "    s1.append(i.split(','))\n",
    "s1    "
   ]
  },
  {
   "cell_type": "code",
   "execution_count": 333,
   "metadata": {},
   "outputs": [],
   "source": [
    "cc1=[] # appending splitted values to a list and from cc1 to its original list cc\n",
    "bhp1=[]\n",
    "weight1=[]\n",
    "for i in s1:\n",
    "    #print(i)\n",
    "    cc1.append(i[0])\n",
    "    bhp1.append(i[1])\n",
    "    weight1.append(i[2])"
   ]
  },
  {
   "cell_type": "code",
   "execution_count": 337,
   "metadata": {},
   "outputs": [],
   "source": [
    "for i in bhp1:\n",
    "    bhp.append(i)"
   ]
  },
  {
   "cell_type": "code",
   "execution_count": 226,
   "metadata": {},
   "outputs": [
    {
     "data": {
      "text/plain": [
       "['65,535',\n",
       " '74,072',\n",
       " '61,665',\n",
       " '55,864',\n",
       " '92,661',\n",
       " '82,402',\n",
       " '67,214',\n",
       " '57,557',\n",
       " '1,67,070',\n",
       " '69,923',\n",
       " '90,797',\n",
       " '60,728',\n",
       " '2,41,000',\n",
       " '52,510',\n",
       " '58,116',\n",
       " '63,269',\n",
       " '7,70,000',\n",
       " '53,900',\n",
       " '53,415',\n",
       " '59,183',\n",
       " '49,226',\n",
       " '15,19,689',\n",
       " '46,952',\n",
       " '28,29,434',\n",
       " '13,50,000',\n",
       " '14,90,407']"
      ]
     },
     "execution_count": 226,
     "metadata": {},
     "output_type": "execute_result"
    }
   ],
   "source": [
    "prices123=[] # taking prices list for hondas\n",
    "p=[]\n",
    "for i in sp1.find_all('span',class_=\"font18\"):\n",
    "    prices123.append(i.text)\n",
    "for i in prices123:\n",
    "    if i!='₹':\n",
    "        p.append(i)\n",
    "p=p[0:26]  \n",
    "p\n",
    "\n",
    "    "
   ]
  },
  {
   "cell_type": "code",
   "execution_count": 227,
   "metadata": {},
   "outputs": [],
   "source": [
    "for i in p: # appending hondas prices for Royalfield bikes\n",
    "    prices.append(i)"
   ]
  },
  {
   "cell_type": "code",
   "execution_count": 229,
   "metadata": {},
   "outputs": [
    {
     "data": {
      "text/plain": [
       "['1,65,025',\n",
       " '1,14,755',\n",
       " '1,64,095',\n",
       " '1,64,004',\n",
       " '1,80,951',\n",
       " '2,04,977',\n",
       " '2,64,919',\n",
       " '1,55,740',\n",
       " '2,80,677',\n",
       " '1,56,658',\n",
       " '2,15,178',\n",
       " '1,88,803',\n",
       " '1,63,003',\n",
       " '2,02,046',\n",
       " '2,12,479',\n",
       " '2,04,977',\n",
       " '2,04,977',\n",
       " '2,07,307',\n",
       " '2,07,766',\n",
       " '65,535',\n",
       " '74,072',\n",
       " '61,665',\n",
       " '55,864',\n",
       " '92,661',\n",
       " '82,402',\n",
       " '67,214',\n",
       " '57,557',\n",
       " '1,67,070',\n",
       " '69,923',\n",
       " '90,797',\n",
       " '60,728',\n",
       " '2,41,000',\n",
       " '52,510',\n",
       " '58,116',\n",
       " '63,269',\n",
       " '7,70,000',\n",
       " '53,900',\n",
       " '53,415',\n",
       " '59,183',\n",
       " '49,226',\n",
       " '15,19,689',\n",
       " '46,952',\n",
       " '28,29,434',\n",
       " '13,50,000',\n",
       " '14,90,407']"
      ]
     },
     "execution_count": 229,
     "metadata": {},
     "output_type": "execute_result"
    }
   ],
   "source": [
    "prices"
   ]
  },
  {
   "cell_type": "code",
   "execution_count": 230,
   "metadata": {},
   "outputs": [],
   "source": [
    "linklist12=[] # contains review links of hondas for reviews and ratings"
   ]
  },
  {
   "cell_type": "code",
   "execution_count": 255,
   "metadata": {},
   "outputs": [],
   "source": [
    "#linklist12.append(\"https://www.bikewale.com/honda-bikes/africa-twin/reviews/\")\n",
    "reviews2=[]"
   ]
  },
  {
   "cell_type": "code",
   "execution_count": 256,
   "metadata": {},
   "outputs": [
    {
     "data": {
      "text/plain": [
       "['4.8',\n",
       " '4.3',\n",
       " '4.4',\n",
       " '4.6',\n",
       " '4.5',\n",
       " '4.5',\n",
       " '4.3',\n",
       " '4.4',\n",
       " '4.7',\n",
       " '4.5',\n",
       " '4.5',\n",
       " '4.4',\n",
       " '4.3',\n",
       " '4.2',\n",
       " '4.2',\n",
       " '4.3',\n",
       " '4.9',\n",
       " '4.5',\n",
       " '4.3',\n",
       " '4.6',\n",
       " '4.6',\n",
       " '5.0',\n",
       " '4.5',\n",
       " '4.8']"
      ]
     },
     "execution_count": 256,
     "metadata": {},
     "output_type": "execute_result"
    }
   ],
   "source": [
    "for i in linklist12:\n",
    "    data123=requests.get(i)\n",
    "    data123\n",
    "    sp1 = BeautifulSoup(data123.text)\n",
    "    for i in sp1.find_all('span',class_='font26 text-bold inline-block'):\n",
    "        reviews2.append(i.text)\n",
    "reviews2      "
   ]
  },
  {
   "cell_type": "code",
   "execution_count": 257,
   "metadata": {},
   "outputs": [
    {
     "data": {
      "text/plain": [
       "24"
      ]
     },
     "execution_count": 257,
     "metadata": {},
     "output_type": "execute_result"
    }
   ],
   "source": [
    "len(reviews2)"
   ]
  },
  {
   "cell_type": "code",
   "execution_count": 258,
   "metadata": {},
   "outputs": [],
   "source": [
    "reviews2.insert(23,'-') # inserting - for missing values"
   ]
  },
  {
   "cell_type": "code",
   "execution_count": 259,
   "metadata": {},
   "outputs": [
    {
     "data": {
      "text/plain": [
       "['4.8',\n",
       " '4.3',\n",
       " '4.4',\n",
       " '4.6',\n",
       " '4.5',\n",
       " '4.5',\n",
       " '4.3',\n",
       " '4.4',\n",
       " '4.7',\n",
       " '4.5',\n",
       " '4.5',\n",
       " '4.4',\n",
       " '4.3',\n",
       " '4.2',\n",
       " '4.2',\n",
       " '4.3',\n",
       " '4.9',\n",
       " '4.5',\n",
       " '4.3',\n",
       " '4.6',\n",
       " '4.6',\n",
       " '5.0',\n",
       " '4.5',\n",
       " '-',\n",
       " '4.8']"
      ]
     },
     "execution_count": 259,
     "metadata": {},
     "output_type": "execute_result"
    }
   ],
   "source": [
    "reviews2"
   ]
  },
  {
   "cell_type": "code",
   "execution_count": 260,
   "metadata": {},
   "outputs": [],
   "source": [
    "reviews2.append('-')"
   ]
  },
  {
   "cell_type": "code",
   "execution_count": 261,
   "metadata": {},
   "outputs": [
    {
     "data": {
      "text/plain": [
       "['4.8',\n",
       " '4.3',\n",
       " '4.4',\n",
       " '4.6',\n",
       " '4.5',\n",
       " '4.5',\n",
       " '4.3',\n",
       " '4.4',\n",
       " '4.7',\n",
       " '4.5',\n",
       " '4.5',\n",
       " '4.4',\n",
       " '4.3',\n",
       " '4.2',\n",
       " '4.2',\n",
       " '4.3',\n",
       " '4.9',\n",
       " '4.5',\n",
       " '4.3',\n",
       " '4.6',\n",
       " '4.6',\n",
       " '5.0',\n",
       " '4.5',\n",
       " '-',\n",
       " '4.8',\n",
       " '-']"
      ]
     },
     "execution_count": 261,
     "metadata": {},
     "output_type": "execute_result"
    }
   ],
   "source": [
    "reviews2"
   ]
  },
  {
   "cell_type": "code",
   "execution_count": 262,
   "metadata": {},
   "outputs": [],
   "source": [
    "for i in reviews2: # appending hondas reviews to the already collected royal field reviews\n",
    "    reviews1.append(i)"
   ]
  },
  {
   "cell_type": "code",
   "execution_count": 266,
   "metadata": {},
   "outputs": [],
   "source": [
    "#len(reviews1)\n",
    "ratings12=[] # for collecting hondas ratings"
   ]
  },
  {
   "cell_type": "code",
   "execution_count": 267,
   "metadata": {},
   "outputs": [
    {
     "data": {
      "text/plain": [
       "['56 ratings',\n",
       " '83 ratings',\n",
       " '1941 ratings',\n",
       " '1249 ratings',\n",
       " '1730 ratings',\n",
       " '1455 ratings',\n",
       " '1150 ratings',\n",
       " '2906 ratings',\n",
       " '266 ratings',\n",
       " '634 ratings',\n",
       " '572 ratings',\n",
       " '781 ratings',\n",
       " '23 ratings',\n",
       " '209 ratings',\n",
       " '476 ratings',\n",
       " '524 ratings',\n",
       " '16 ratings',\n",
       " '72 ratings',\n",
       " '159 ratings',\n",
       " '127 ratings',\n",
       " '60 ratings',\n",
       " '12 ratings',\n",
       " '97 ratings',\n",
       " '4 ratings']"
      ]
     },
     "execution_count": 267,
     "metadata": {},
     "output_type": "execute_result"
    }
   ],
   "source": [
    "for i in linklist12:\n",
    "    data123=requests.get(i)\n",
    "    data123\n",
    "    sp1 = BeautifulSoup(data123.text)\n",
    "    for i in sp1.find_all('span',class_='margin-bottom5'):\n",
    "        ratings12.append(i.text)\n",
    "ratings12       "
   ]
  },
  {
   "cell_type": "code",
   "execution_count": 269,
   "metadata": {},
   "outputs": [],
   "source": [
    "ratings12.insert(23,'-')"
   ]
  },
  {
   "cell_type": "code",
   "execution_count": 271,
   "metadata": {},
   "outputs": [],
   "source": [
    "ratings12.append('-')"
   ]
  },
  {
   "cell_type": "code",
   "execution_count": 272,
   "metadata": {},
   "outputs": [
    {
     "data": {
      "text/plain": [
       "['56 ratings',\n",
       " '83 ratings',\n",
       " '1941 ratings',\n",
       " '1249 ratings',\n",
       " '1730 ratings',\n",
       " '1455 ratings',\n",
       " '1150 ratings',\n",
       " '2906 ratings',\n",
       " '266 ratings',\n",
       " '634 ratings',\n",
       " '572 ratings',\n",
       " '781 ratings',\n",
       " '23 ratings',\n",
       " '209 ratings',\n",
       " '476 ratings',\n",
       " '524 ratings',\n",
       " '16 ratings',\n",
       " '72 ratings',\n",
       " '159 ratings',\n",
       " '127 ratings',\n",
       " '60 ratings',\n",
       " '12 ratings',\n",
       " '97 ratings',\n",
       " '-',\n",
       " '4 ratings',\n",
       " '-']"
      ]
     },
     "execution_count": 272,
     "metadata": {},
     "output_type": "execute_result"
    }
   ],
   "source": [
    "ratings12"
   ]
  },
  {
   "cell_type": "code",
   "execution_count": 273,
   "metadata": {},
   "outputs": [],
   "source": [
    "for i in ratings12: a# appending to the original ratings list\n",
    "    ratings.append(i)"
   ]
  },
  {
   "cell_type": "code",
   "execution_count": 275,
   "metadata": {},
   "outputs": [
    {
     "data": {
      "text/plain": [
       "45"
      ]
     },
     "execution_count": 275,
     "metadata": {},
     "output_type": "execute_result"
    }
   ],
   "source": [
    "len(ratings)"
   ]
  },
  {
   "cell_type": "code",
   "execution_count": 278,
   "metadata": {},
   "outputs": [
    {
     "data": {
      "text/plain": [
       "['Ex-showroom, Mumbai',\n",
       " 'Ex-showroom, Mumbai',\n",
       " 'Ex-showroom, Mumbai',\n",
       " 'Ex-showroom, Mumbai',\n",
       " 'Ex-showroom, Mumbai',\n",
       " 'Ex-showroom, Mumbai',\n",
       " 'Ex-showroom, Mumbai',\n",
       " 'Ex-showroom, Mumbai',\n",
       " 'Ex-showroom, Mumbai',\n",
       " 'Ex-showroom, Mumbai',\n",
       " 'Ex-showroom, Mumbai',\n",
       " 'Ex-showroom, Mumbai',\n",
       " 'Ex-showroom, Mumbai',\n",
       " 'Ex-showroom, Mumbai',\n",
       " 'Ex-showroom, Mumbai',\n",
       " 'Ex-showroom, Mumbai',\n",
       " 'Ex-showroom, Mumbai',\n",
       " 'Ex-showroom, Mumbai',\n",
       " 'Ex-showroom, Mumbai',\n",
       " 'Ex-showroom, Mumbai',\n",
       " 'Ex-showroom, Mumbai',\n",
       " 'Ex-showroom, Mumbai',\n",
       " 'Ex-showroom, Mumbai',\n",
       " 'Ex-showroom, Mumbai',\n",
       " 'Ex-showroom, Mumbai',\n",
       " 'Ex-showroom, Mumbai']"
      ]
     },
     "execution_count": 278,
     "metadata": {},
     "output_type": "execute_result"
    }
   ],
   "source": [
    "showroom1=[] # for hondas showroom\n",
    "data12=requests.get(\"https://www.bikewale.com/honda-bikes/\")\n",
    "sp1=BeautifulSoup(data12.text)\n",
    "for i in sp1.find_all('div',class_=\"font14 text-light-grey margin-bottom5\"):\n",
    "    showroom1.append(i.text)\n",
    "showroom1    "
   ]
  },
  {
   "cell_type": "code",
   "execution_count": 280,
   "metadata": {},
   "outputs": [],
   "source": [
    "for i in showroom1:\n",
    "    showroom.append(i)"
   ]
  },
  {
   "cell_type": "code",
   "execution_count": 293,
   "metadata": {},
   "outputs": [],
   "source": [
    "#len(showroom)\n",
    "colours2=[]"
   ]
  },
  {
   "cell_type": "code",
   "execution_count": 319,
   "metadata": {},
   "outputs": [
    {
     "data": {
      "text/plain": [
       "26"
      ]
     },
     "execution_count": 319,
     "metadata": {},
     "output_type": "execute_result"
    }
   ],
   "source": [
    "colors1=[]\n",
    "data123=requests.get(\"https://www.bikewale.com/honda-bikes/cb1000r/\")\n",
    "data123\n",
    "sp1 = BeautifulSoup(data123.text)\n",
    "for i in sp1.find_all('li',class_='leftfloat'):\n",
    "    #print(i.text)\n",
    "    colors1.append(i.text)\n",
    "colours2.append(colors1)\n",
    "len(colours2)"
   ]
  },
  {
   "cell_type": "code",
   "execution_count": 322,
   "metadata": {},
   "outputs": [],
   "source": [
    "for i in colours2:\n",
    "    colours.append(i)\n",
    "    "
   ]
  },
  {
   "cell_type": "code",
   "execution_count": 324,
   "metadata": {},
   "outputs": [
    {
     "data": {
      "text/plain": [
       "45"
      ]
     },
     "execution_count": 324,
     "metadata": {},
     "output_type": "execute_result"
    }
   ],
   "source": [
    "len(colours)"
   ]
  },
  {
   "cell_type": "code",
   "execution_count": 377,
   "metadata": {},
   "outputs": [
    {
     "data": {
      "text/html": [
       "<div>\n",
       "<style scoped>\n",
       "    .dataframe tbody tr th:only-of-type {\n",
       "        vertical-align: middle;\n",
       "    }\n",
       "\n",
       "    .dataframe tbody tr th {\n",
       "        vertical-align: top;\n",
       "    }\n",
       "\n",
       "    .dataframe thead th {\n",
       "        text-align: right;\n",
       "    }\n",
       "</style>\n",
       "<table border=\"1\" class=\"dataframe\">\n",
       "  <thead>\n",
       "    <tr style=\"text-align: right;\">\n",
       "      <th></th>\n",
       "      <th>Names</th>\n",
       "      <th>cc</th>\n",
       "      <th>bhp</th>\n",
       "      <th>weight</th>\n",
       "      <th>km</th>\n",
       "      <th>prices</th>\n",
       "      <th>showroom</th>\n",
       "      <th>reviews</th>\n",
       "      <th>ratings</th>\n",
       "      <th>colours</th>\n",
       "    </tr>\n",
       "  </thead>\n",
       "  <tbody>\n",
       "    <tr>\n",
       "      <td>0</td>\n",
       "      <td>Royal Enfield Classic 350</td>\n",
       "      <td>346 cc</td>\n",
       "      <td>19.1 bhp</td>\n",
       "      <td>195 kg</td>\n",
       "      <td>-</td>\n",
       "      <td>1,65,025</td>\n",
       "      <td>Ex-showroom, Mumbai</td>\n",
       "      <td>4.5</td>\n",
       "      <td>2849 ratings</td>\n",
       "      <td>[Lagoon, Ash, Silver, Redditch Red, Redditch G...</td>\n",
       "    </tr>\n",
       "    <tr>\n",
       "      <td>1</td>\n",
       "      <td>Royal Enfield Bullet 350</td>\n",
       "      <td>346 cc</td>\n",
       "      <td>19.8 bhp</td>\n",
       "      <td>180 kg</td>\n",
       "      <td>-</td>\n",
       "      <td>1,14,755</td>\n",
       "      <td>Ex-showroom, Mumbai</td>\n",
       "      <td>4.6</td>\n",
       "      <td>2310 ratings</td>\n",
       "      <td>[Silver, Maroon, Black ( KS ), Jet Black, Roya...</td>\n",
       "    </tr>\n",
       "    <tr>\n",
       "      <td>2</td>\n",
       "      <td>Royal Enfield Classic Signals</td>\n",
       "      <td>346 cc</td>\n",
       "      <td>19.8 bhp</td>\n",
       "      <td>192 kg</td>\n",
       "      <td>-</td>\n",
       "      <td>1,64,095</td>\n",
       "      <td>Ex-showroom, Mumbai</td>\n",
       "      <td>4.7</td>\n",
       "      <td>596 ratings</td>\n",
       "      <td>[Airborne Blue, Stormrider Sand]</td>\n",
       "    </tr>\n",
       "    <tr>\n",
       "      <td>3</td>\n",
       "      <td>Royal Enfield Thunderbird 350X</td>\n",
       "      <td>346 cc</td>\n",
       "      <td>19.8 bhp</td>\n",
       "      <td>195 kg</td>\n",
       "      <td>-</td>\n",
       "      <td>1,64,004</td>\n",
       "      <td>Ex-showroom, Mumbai</td>\n",
       "      <td>4.5</td>\n",
       "      <td>573 ratings</td>\n",
       "      <td>[Roving Red, Whimsical White]</td>\n",
       "    </tr>\n",
       "    <tr>\n",
       "      <td>4</td>\n",
       "      <td>Royal Enfield Himalayan</td>\n",
       "      <td>411 cc</td>\n",
       "      <td>24.5 bhp</td>\n",
       "      <td>182 kg</td>\n",
       "      <td>-</td>\n",
       "      <td>1,80,951</td>\n",
       "      <td>Ex-showroom, Mumbai</td>\n",
       "      <td>4.4</td>\n",
       "      <td>424 ratings</td>\n",
       "      <td>[Snow, Granite, Limited Edition, Sleet Grey, G...</td>\n",
       "    </tr>\n",
       "    <tr>\n",
       "      <td>5</td>\n",
       "      <td>Royal Enfield Classic Stealth Black</td>\n",
       "      <td>499 cc</td>\n",
       "      <td>27.2 bhp</td>\n",
       "      <td>194 kg</td>\n",
       "      <td>-</td>\n",
       "      <td>2,04,977</td>\n",
       "      <td>Ex-showroom, Mumbai</td>\n",
       "      <td>4.7</td>\n",
       "      <td>347 ratings</td>\n",
       "      <td>[Stealth Black]</td>\n",
       "    </tr>\n",
       "    <tr>\n",
       "      <td>6</td>\n",
       "      <td>Royal Enfield Interceptor 650</td>\n",
       "      <td>648 cc</td>\n",
       "      <td>47 bhp</td>\n",
       "      <td>202 kg</td>\n",
       "      <td>-</td>\n",
       "      <td>2,64,919</td>\n",
       "      <td>Ex-showroom, Mumbai</td>\n",
       "      <td>4.6</td>\n",
       "      <td>129 ratings</td>\n",
       "      <td>[Mark Three, Glitter &amp; Dust, Orange Crush, Rav...</td>\n",
       "    </tr>\n",
       "    <tr>\n",
       "      <td>7</td>\n",
       "      <td>Royal Enfield Classic Gunmetal Grey</td>\n",
       "      <td>346 cc</td>\n",
       "      <td>19.8 bhp</td>\n",
       "      <td>192 kg</td>\n",
       "      <td>-</td>\n",
       "      <td>1,55,740</td>\n",
       "      <td>Ex-showroom, Mumbai</td>\n",
       "      <td>4.6</td>\n",
       "      <td>636 ratings</td>\n",
       "      <td>[Gunmetal Grey]</td>\n",
       "    </tr>\n",
       "    <tr>\n",
       "      <td>8</td>\n",
       "      <td>Royal Enfield Continental GT 650</td>\n",
       "      <td>648 cc</td>\n",
       "      <td>47 bhp</td>\n",
       "      <td>198 kg</td>\n",
       "      <td>-</td>\n",
       "      <td>2,80,677</td>\n",
       "      <td>Ex-showroom, Mumbai</td>\n",
       "      <td>4.8</td>\n",
       "      <td>98 ratings</td>\n",
       "      <td>[Black Magic, Ventura Blue, Mister Clean, Dr. ...</td>\n",
       "    </tr>\n",
       "    <tr>\n",
       "      <td>9</td>\n",
       "      <td>Royal Enfield Thunderbird 350</td>\n",
       "      <td>346 cc</td>\n",
       "      <td>19.8 bhp</td>\n",
       "      <td>192 kg</td>\n",
       "      <td>-</td>\n",
       "      <td>1,56,658</td>\n",
       "      <td>Ex-showroom, Mumbai</td>\n",
       "      <td>4.4</td>\n",
       "      <td>589 ratings</td>\n",
       "      <td>[Marine, Stone, Flicker]</td>\n",
       "    </tr>\n",
       "    <tr>\n",
       "      <td>10</td>\n",
       "      <td>Royal Enfield Thunderbird 500X</td>\n",
       "      <td>499 cc</td>\n",
       "      <td>27.2 bhp</td>\n",
       "      <td>197 kg</td>\n",
       "      <td>-</td>\n",
       "      <td>2,15,178</td>\n",
       "      <td>Ex-showroom, Mumbai</td>\n",
       "      <td>4.6</td>\n",
       "      <td>325 ratings</td>\n",
       "      <td>[Getaway Orange, Drifter Blue]</td>\n",
       "    </tr>\n",
       "    <tr>\n",
       "      <td>11</td>\n",
       "      <td>Royal Enfield Bullet 500</td>\n",
       "      <td>499 cc</td>\n",
       "      <td>26.1 bhp</td>\n",
       "      <td>193 kg</td>\n",
       "      <td>30 kmpl</td>\n",
       "      <td>1,88,803</td>\n",
       "      <td>Ex-showroom, Mumbai</td>\n",
       "      <td>4.8</td>\n",
       "      <td>100 ratings</td>\n",
       "      <td>[]</td>\n",
       "    </tr>\n",
       "    <tr>\n",
       "      <td>12</td>\n",
       "      <td>Royal Enfield Bullet Trials 350</td>\n",
       "      <td>346 cc</td>\n",
       "      <td>19.8 bhp</td>\n",
       "      <td>187 kg</td>\n",
       "      <td>-</td>\n",
       "      <td>1,63,003</td>\n",
       "      <td>Ex-showroom, Mumbai</td>\n",
       "      <td>4.7</td>\n",
       "      <td>30 ratings</td>\n",
       "      <td>[Red]</td>\n",
       "    </tr>\n",
       "    <tr>\n",
       "      <td>13</td>\n",
       "      <td>Royal Enfield Classic 500</td>\n",
       "      <td>499 cc</td>\n",
       "      <td>27.2 bhp</td>\n",
       "      <td>190 kg</td>\n",
       "      <td>-</td>\n",
       "      <td>2,02,046</td>\n",
       "      <td>Ex-showroom, Mumbai</td>\n",
       "      <td>4.7</td>\n",
       "      <td>310 ratings</td>\n",
       "      <td>[Classic Tan, Classic Black, Classic Silver]</td>\n",
       "    </tr>\n",
       "    <tr>\n",
       "      <td>14</td>\n",
       "      <td>Royal Enfield Classic Chrome</td>\n",
       "      <td>499 cc</td>\n",
       "      <td>27.2 bhp</td>\n",
       "      <td>187 kg</td>\n",
       "      <td>-</td>\n",
       "      <td>2,12,479</td>\n",
       "      <td>Ex-showroom, Mumbai</td>\n",
       "      <td>4.6</td>\n",
       "      <td>76 ratings</td>\n",
       "      <td>[Classic Black, Chrome Graphite]</td>\n",
       "    </tr>\n",
       "    <tr>\n",
       "      <td>15</td>\n",
       "      <td>Royal Enfield Classic Desert Storm</td>\n",
       "      <td>499 cc</td>\n",
       "      <td>27.2 bhp</td>\n",
       "      <td>187 kg</td>\n",
       "      <td>-</td>\n",
       "      <td>2,04,977</td>\n",
       "      <td>Ex-showroom, Mumbai</td>\n",
       "      <td>4.4</td>\n",
       "      <td>178 ratings</td>\n",
       "      <td>[Desert Storm]</td>\n",
       "    </tr>\n",
       "    <tr>\n",
       "      <td>16</td>\n",
       "      <td>Royal Enfield Classic Squadron Blue</td>\n",
       "      <td>499 cc</td>\n",
       "      <td>27.2 bhp</td>\n",
       "      <td>187 kg</td>\n",
       "      <td>-</td>\n",
       "      <td>2,04,977</td>\n",
       "      <td>Ex-showroom, Mumbai</td>\n",
       "      <td>4.4</td>\n",
       "      <td>37 ratings</td>\n",
       "      <td>[Squadron Blue]</td>\n",
       "    </tr>\n",
       "    <tr>\n",
       "      <td>17</td>\n",
       "      <td>Royal Enfield Thunderbird 500</td>\n",
       "      <td>499 cc</td>\n",
       "      <td>27.2 bhp</td>\n",
       "      <td>195 kg</td>\n",
       "      <td>-</td>\n",
       "      <td>2,07,307</td>\n",
       "      <td>Ex-showroom, Mumbai</td>\n",
       "      <td>4.4</td>\n",
       "      <td>105 ratings</td>\n",
       "      <td>[Marine, Flicker, Stone]</td>\n",
       "    </tr>\n",
       "    <tr>\n",
       "      <td>18</td>\n",
       "      <td>Royal Enfield Bullet Trials 500</td>\n",
       "      <td>499 cc</td>\n",
       "      <td>27.2 bhp</td>\n",
       "      <td>192 kg</td>\n",
       "      <td>-</td>\n",
       "      <td>2,07,766</td>\n",
       "      <td>Ex-showroom, Mumbai</td>\n",
       "      <td>4.4</td>\n",
       "      <td>22 ratings</td>\n",
       "      <td>[Green]</td>\n",
       "    </tr>\n",
       "    <tr>\n",
       "      <td>19</td>\n",
       "      <td>Honda Activa 6G</td>\n",
       "      <td>109.51 cc</td>\n",
       "      <td>7.6 bhp</td>\n",
       "      <td>107 kg</td>\n",
       "      <td>-</td>\n",
       "      <td>65,535</td>\n",
       "      <td>Ex-showroom, Mumbai</td>\n",
       "      <td>4.8</td>\n",
       "      <td>56 ratings</td>\n",
       "      <td>[Glitter Blue Metallic, Pearl Spartan Red, Daz...</td>\n",
       "    </tr>\n",
       "    <tr>\n",
       "      <td>20</td>\n",
       "      <td>Honda SP 125</td>\n",
       "      <td>124 cc</td>\n",
       "      <td>10.6 bhp</td>\n",
       "      <td>117 kg</td>\n",
       "      <td>-</td>\n",
       "      <td>74,072</td>\n",
       "      <td>Ex-showroom, Mumbai</td>\n",
       "      <td>4.3</td>\n",
       "      <td>83 ratings</td>\n",
       "      <td>[Striking Green, Imperial Red Metallic, Pearl ...</td>\n",
       "    </tr>\n",
       "    <tr>\n",
       "      <td>21</td>\n",
       "      <td>Honda CB Shine</td>\n",
       "      <td>125 cc</td>\n",
       "      <td>10 bhp</td>\n",
       "      <td>120 kg</td>\n",
       "      <td>-</td>\n",
       "      <td>61,665</td>\n",
       "      <td>Ex-showroom, Mumbai</td>\n",
       "      <td>4.4</td>\n",
       "      <td>1941 ratings</td>\n",
       "      <td>[Black, Geny Grey Metallic, Rebel Red Metallic...</td>\n",
       "    </tr>\n",
       "    <tr>\n",
       "      <td>22</td>\n",
       "      <td>Honda Dio</td>\n",
       "      <td>109.19 cc</td>\n",
       "      <td>8 bhp</td>\n",
       "      <td>105 kg</td>\n",
       "      <td>-</td>\n",
       "      <td>55,864</td>\n",
       "      <td>Ex-showroom, Mumbai</td>\n",
       "      <td>4.6</td>\n",
       "      <td>1249 ratings</td>\n",
       "      <td>[Sports Red, Sports Yellow, Candy Jazzy Blue, ...</td>\n",
       "    </tr>\n",
       "    <tr>\n",
       "      <td>23</td>\n",
       "      <td>Honda CB Hornet 160R</td>\n",
       "      <td>162.71 cc</td>\n",
       "      <td>15.04 bhp</td>\n",
       "      <td>140 kg</td>\n",
       "      <td>-</td>\n",
       "      <td>92,661</td>\n",
       "      <td>Ex-showroom, Mumbai</td>\n",
       "      <td>4.5</td>\n",
       "      <td>1730 ratings</td>\n",
       "      <td>[Striking Green, Mars Orange, Athletic Blue Me...</td>\n",
       "    </tr>\n",
       "    <tr>\n",
       "      <td>24</td>\n",
       "      <td>Honda CB Unicorn 150</td>\n",
       "      <td>149.2 cc</td>\n",
       "      <td>12.73 bhp</td>\n",
       "      <td>146 kg</td>\n",
       "      <td>60 kmpl</td>\n",
       "      <td>82,402</td>\n",
       "      <td>Ex-showroom, Mumbai</td>\n",
       "      <td>4.5</td>\n",
       "      <td>1455 ratings</td>\n",
       "      <td>[]</td>\n",
       "    </tr>\n",
       "    <tr>\n",
       "      <td>25</td>\n",
       "      <td>Honda CB Shine SP</td>\n",
       "      <td>124.73 cc</td>\n",
       "      <td>10.57 bhp</td>\n",
       "      <td>124 kg</td>\n",
       "      <td>-</td>\n",
       "      <td>67,214</td>\n",
       "      <td>Ex-showroom, Mumbai</td>\n",
       "      <td>4.3</td>\n",
       "      <td>1150 ratings</td>\n",
       "      <td>[Athletic Blue Metallic, Geny Grey Metallic, B...</td>\n",
       "    </tr>\n",
       "    <tr>\n",
       "      <td>26</td>\n",
       "      <td>Honda Activa 5G</td>\n",
       "      <td>109.19 cc</td>\n",
       "      <td>8 bhp</td>\n",
       "      <td>109 kg</td>\n",
       "      <td>60 kmpl</td>\n",
       "      <td>57,557</td>\n",
       "      <td>Ex-showroom, Mumbai</td>\n",
       "      <td>4.4</td>\n",
       "      <td>2906 ratings</td>\n",
       "      <td>[]</td>\n",
       "    </tr>\n",
       "    <tr>\n",
       "      <td>27</td>\n",
       "      <td>Honda CBR250R</td>\n",
       "      <td>249.6 cc</td>\n",
       "      <td>25.7 bhp</td>\n",
       "      <td>167 kg</td>\n",
       "      <td>-</td>\n",
       "      <td>1,67,070</td>\n",
       "      <td>Ex-showroom, Mumbai</td>\n",
       "      <td>4.7</td>\n",
       "      <td>266 ratings</td>\n",
       "      <td>[Matte Axis  Gray Metallic with Mars Orange, M...</td>\n",
       "    </tr>\n",
       "    <tr>\n",
       "      <td>28</td>\n",
       "      <td>Honda Activa 125</td>\n",
       "      <td>124 cc</td>\n",
       "      <td>8.1 bhp</td>\n",
       "      <td>111 kg</td>\n",
       "      <td>-</td>\n",
       "      <td>69,923</td>\n",
       "      <td>Ex-showroom, Mumbai</td>\n",
       "      <td>4.5</td>\n",
       "      <td>634 ratings</td>\n",
       "      <td>[Rebel Red Metallic, Midnight Blue Metallic, P...</td>\n",
       "    </tr>\n",
       "    <tr>\n",
       "      <td>29</td>\n",
       "      <td>Honda X-Blade</td>\n",
       "      <td>162.71 cc</td>\n",
       "      <td>13.93 bhp</td>\n",
       "      <td>140 kg</td>\n",
       "      <td>-</td>\n",
       "      <td>90,797</td>\n",
       "      <td>Ex-showroom, Mumbai</td>\n",
       "      <td>4.5</td>\n",
       "      <td>572 ratings</td>\n",
       "      <td>[Pearl Spartan Red, Matte Frozen Silver, Matte...</td>\n",
       "    </tr>\n",
       "    <tr>\n",
       "      <td>30</td>\n",
       "      <td>Honda Livo</td>\n",
       "      <td>109.19 cc</td>\n",
       "      <td>8.2 bhp</td>\n",
       "      <td>111 kg</td>\n",
       "      <td>-</td>\n",
       "      <td>60,728</td>\n",
       "      <td>Ex-showroom, Mumbai</td>\n",
       "      <td>4.4</td>\n",
       "      <td>781 ratings</td>\n",
       "      <td>[Athletic Blue Metallic, Black, Sunset Brown M...</td>\n",
       "    </tr>\n",
       "    <tr>\n",
       "      <td>31</td>\n",
       "      <td>Honda CB300R</td>\n",
       "      <td>286.01 cc</td>\n",
       "      <td>30 bhp</td>\n",
       "      <td>147 kg</td>\n",
       "      <td>-</td>\n",
       "      <td>2,41,000</td>\n",
       "      <td>Ex-showroom, Mumbai</td>\n",
       "      <td>4.3</td>\n",
       "      <td>23 ratings</td>\n",
       "      <td>[Candy Chromosphere Red, Matte Axis Gray Metal...</td>\n",
       "    </tr>\n",
       "    <tr>\n",
       "      <td>32</td>\n",
       "      <td>Honda CD 110 Dream</td>\n",
       "      <td>109.19 cc</td>\n",
       "      <td>8.31 bhp</td>\n",
       "      <td>109 kg</td>\n",
       "      <td>65 kmpl</td>\n",
       "      <td>52,510</td>\n",
       "      <td>Ex-showroom, Mumbai</td>\n",
       "      <td>4.2</td>\n",
       "      <td>209 ratings</td>\n",
       "      <td>[]</td>\n",
       "    </tr>\n",
       "    <tr>\n",
       "      <td>33</td>\n",
       "      <td>Honda Dream Yuga</td>\n",
       "      <td>109 cc</td>\n",
       "      <td>8 bhp</td>\n",
       "      <td>108 kg</td>\n",
       "      <td>84 kmpl</td>\n",
       "      <td>58,116</td>\n",
       "      <td>Ex-showroom, Mumbai</td>\n",
       "      <td>4.2</td>\n",
       "      <td>476 ratings</td>\n",
       "      <td>[]</td>\n",
       "    </tr>\n",
       "    <tr>\n",
       "      <td>34</td>\n",
       "      <td>Honda Grazia</td>\n",
       "      <td>124.9 cc</td>\n",
       "      <td>8.52 bhp</td>\n",
       "      <td>107 kg</td>\n",
       "      <td>60 kmpl</td>\n",
       "      <td>63,269</td>\n",
       "      <td>Ex-showroom, Mumbai</td>\n",
       "      <td>4.3</td>\n",
       "      <td>524 ratings</td>\n",
       "      <td>[]</td>\n",
       "    </tr>\n",
       "    <tr>\n",
       "      <td>35</td>\n",
       "      <td>Honda CBR650R</td>\n",
       "      <td>648.72 cc</td>\n",
       "      <td>85.9 bhp</td>\n",
       "      <td>210 kg</td>\n",
       "      <td>-</td>\n",
       "      <td>7,70,000</td>\n",
       "      <td>Ex-showroom, Mumbai</td>\n",
       "      <td>4.9</td>\n",
       "      <td>16 ratings</td>\n",
       "      <td>[Grand Prix Red, Matte Gunpowder Black Metallic]</td>\n",
       "    </tr>\n",
       "    <tr>\n",
       "      <td>36</td>\n",
       "      <td>Honda Activa i</td>\n",
       "      <td>109.19 cc</td>\n",
       "      <td>8 bhp</td>\n",
       "      <td>103 kg</td>\n",
       "      <td>-</td>\n",
       "      <td>53,900</td>\n",
       "      <td>Ex-showroom, Mumbai</td>\n",
       "      <td>4.5</td>\n",
       "      <td>72 ratings</td>\n",
       "      <td>[Imperial Red Metallic, Lush Magenta Metallic,...</td>\n",
       "    </tr>\n",
       "    <tr>\n",
       "      <td>37</td>\n",
       "      <td>Honda Dream Neo</td>\n",
       "      <td>110 cc</td>\n",
       "      <td>8.25 bhp</td>\n",
       "      <td>105 kg</td>\n",
       "      <td>84 kmpl</td>\n",
       "      <td>53,415</td>\n",
       "      <td>Ex-showroom, Mumbai</td>\n",
       "      <td>4.3</td>\n",
       "      <td>159 ratings</td>\n",
       "      <td>[Black with Blue Stripes, Black with Red Strip...</td>\n",
       "    </tr>\n",
       "    <tr>\n",
       "      <td>38</td>\n",
       "      <td>Honda Aviator</td>\n",
       "      <td>109.19 cc</td>\n",
       "      <td>8 bhp</td>\n",
       "      <td>109 kg</td>\n",
       "      <td>-</td>\n",
       "      <td>59,183</td>\n",
       "      <td>Ex-showroom, Mumbai</td>\n",
       "      <td>4.6</td>\n",
       "      <td>127 ratings</td>\n",
       "      <td>[Pearl Igneous Black, Matte Selene Silver Meta...</td>\n",
       "    </tr>\n",
       "    <tr>\n",
       "      <td>39</td>\n",
       "      <td>Honda Navi</td>\n",
       "      <td>109.19 cc</td>\n",
       "      <td>8 bhp</td>\n",
       "      <td>99 kg</td>\n",
       "      <td>-</td>\n",
       "      <td>49,226</td>\n",
       "      <td>Ex-showroom, Mumbai</td>\n",
       "      <td>4.6</td>\n",
       "      <td>60 ratings</td>\n",
       "      <td>[Patriot Red, Shasta White, Black, Ladakh Brow...</td>\n",
       "    </tr>\n",
       "    <tr>\n",
       "      <td>40</td>\n",
       "      <td>Honda CBR1000RR Fireblade</td>\n",
       "      <td>999 cc</td>\n",
       "      <td>186.3 bhp</td>\n",
       "      <td>195 kg</td>\n",
       "      <td>-</td>\n",
       "      <td>15,19,689</td>\n",
       "      <td>Ex-showroom, Mumbai</td>\n",
       "      <td>5.0</td>\n",
       "      <td>12 ratings</td>\n",
       "      <td>[Grand Prix Red, Matte Ballistic Black, SP]</td>\n",
       "    </tr>\n",
       "    <tr>\n",
       "      <td>41</td>\n",
       "      <td>Honda Cliq</td>\n",
       "      <td>109.19 cc</td>\n",
       "      <td>8 bhp</td>\n",
       "      <td>102 kg</td>\n",
       "      <td>60 kmpl</td>\n",
       "      <td>46,952</td>\n",
       "      <td>Ex-showroom, Mumbai</td>\n",
       "      <td>4.5</td>\n",
       "      <td>97 ratings</td>\n",
       "      <td>[]</td>\n",
       "    </tr>\n",
       "    <tr>\n",
       "      <td>42</td>\n",
       "      <td>Honda Gold Wing</td>\n",
       "      <td>1833 cc</td>\n",
       "      <td>122.5 bhp</td>\n",
       "      <td>379 kg</td>\n",
       "      <td>-</td>\n",
       "      <td>28,29,434</td>\n",
       "      <td>Ex-showroom, Mumbai</td>\n",
       "      <td>-</td>\n",
       "      <td>-</td>\n",
       "      <td>[Candy Ardent Red]</td>\n",
       "    </tr>\n",
       "    <tr>\n",
       "      <td>43</td>\n",
       "      <td>Honda Africa Twin</td>\n",
       "      <td>999.11 cc</td>\n",
       "      <td>86.04 bhp</td>\n",
       "      <td>245 kg</td>\n",
       "      <td>-</td>\n",
       "      <td>13,50,000</td>\n",
       "      <td>Ex-showroom, Mumbai</td>\n",
       "      <td>4.8</td>\n",
       "      <td>4 ratings</td>\n",
       "      <td>[Blue]</td>\n",
       "    </tr>\n",
       "    <tr>\n",
       "      <td>44</td>\n",
       "      <td>Honda CB1000R+</td>\n",
       "      <td>999 cc</td>\n",
       "      <td>141.4 bhp</td>\n",
       "      <td>217 kg</td>\n",
       "      <td>16 kmpl</td>\n",
       "      <td>14,90,407</td>\n",
       "      <td>Ex-showroom, Mumbai</td>\n",
       "      <td>-</td>\n",
       "      <td>-</td>\n",
       "      <td>[]</td>\n",
       "    </tr>\n",
       "  </tbody>\n",
       "</table>\n",
       "</div>"
      ],
      "text/plain": [
       "                                  Names          cc         bhp    weight  \\\n",
       "0             Royal Enfield Classic 350      346 cc    19.1 bhp   195 kg    \n",
       "1              Royal Enfield Bullet 350      346 cc    19.8 bhp   180 kg    \n",
       "2         Royal Enfield Classic Signals      346 cc    19.8 bhp   192 kg    \n",
       "3        Royal Enfield Thunderbird 350X      346 cc    19.8 bhp   195 kg    \n",
       "4               Royal Enfield Himalayan      411 cc    24.5 bhp   182 kg    \n",
       "5   Royal Enfield Classic Stealth Black      499 cc    27.2 bhp   194 kg    \n",
       "6         Royal Enfield Interceptor 650      648 cc      47 bhp   202 kg    \n",
       "7   Royal Enfield Classic Gunmetal Grey      346 cc    19.8 bhp   192 kg    \n",
       "8      Royal Enfield Continental GT 650      648 cc      47 bhp   198 kg    \n",
       "9         Royal Enfield Thunderbird 350      346 cc    19.8 bhp   192 kg    \n",
       "10       Royal Enfield Thunderbird 500X      499 cc    27.2 bhp   197 kg    \n",
       "11             Royal Enfield Bullet 500      499 cc   26.1 bhp    193 kg    \n",
       "12      Royal Enfield Bullet Trials 350      346 cc    19.8 bhp   187 kg    \n",
       "13            Royal Enfield Classic 500      499 cc    27.2 bhp   190 kg    \n",
       "14         Royal Enfield Classic Chrome      499 cc    27.2 bhp   187 kg    \n",
       "15   Royal Enfield Classic Desert Storm      499 cc    27.2 bhp   187 kg    \n",
       "16  Royal Enfield Classic Squadron Blue      499 cc    27.2 bhp   187 kg    \n",
       "17        Royal Enfield Thunderbird 500      499 cc    27.2 bhp   195 kg    \n",
       "18      Royal Enfield Bullet Trials 500      499 cc    27.2 bhp   192 kg    \n",
       "19                      Honda Activa 6G   109.51 cc     7.6 bhp   107 kg    \n",
       "20                         Honda SP 125      124 cc    10.6 bhp   117 kg    \n",
       "21                       Honda CB Shine      125 cc      10 bhp   120 kg    \n",
       "22                            Honda Dio   109.19 cc       8 bhp   105 kg    \n",
       "23                 Honda CB Hornet 160R   162.71 cc   15.04 bhp   140 kg    \n",
       "24                 Honda CB Unicorn 150    149.2 cc   12.73 bhp    146 kg   \n",
       "25                    Honda CB Shine SP   124.73 cc   10.57 bhp   124 kg    \n",
       "26                      Honda Activa 5G   109.19 cc       8 bhp    109 kg   \n",
       "27                        Honda CBR250R    249.6 cc    25.7 bhp   167 kg    \n",
       "28                     Honda Activa 125      124 cc     8.1 bhp   111 kg    \n",
       "29                        Honda X-Blade   162.71 cc   13.93 bhp   140 kg    \n",
       "30                           Honda Livo   109.19 cc     8.2 bhp   111 kg    \n",
       "31                         Honda CB300R   286.01 cc      30 bhp   147 kg    \n",
       "32                   Honda CD 110 Dream   109.19 cc    8.31 bhp    109 kg   \n",
       "33                     Honda Dream Yuga      109 cc       8 bhp    108 kg   \n",
       "34                         Honda Grazia    124.9 cc    8.52 bhp    107 kg   \n",
       "35                        Honda CBR650R   648.72 cc    85.9 bhp   210 kg    \n",
       "36                       Honda Activa i   109.19 cc       8 bhp   103 kg    \n",
       "37                      Honda Dream Neo      110 cc    8.25 bhp    105 kg   \n",
       "38                        Honda Aviator   109.19 cc       8 bhp   109 kg    \n",
       "39                           Honda Navi   109.19 cc       8 bhp    99 kg    \n",
       "40            Honda CBR1000RR Fireblade      999 cc   186.3 bhp   195 kg    \n",
       "41                           Honda Cliq   109.19 cc       8 bhp    102 kg   \n",
       "42                      Honda Gold Wing     1833 cc   122.5 bhp    379 kg   \n",
       "43                    Honda Africa Twin   999.11 cc   86.04 bhp   245 kg    \n",
       "44                       Honda CB1000R+      999 cc   141.4 bhp    217 kg   \n",
       "\n",
       "           km     prices             showroom reviews       ratings  \\\n",
       "0          -    1,65,025  Ex-showroom, Mumbai     4.5  2849 ratings   \n",
       "1          -    1,14,755  Ex-showroom, Mumbai     4.6  2310 ratings   \n",
       "2          -    1,64,095  Ex-showroom, Mumbai     4.7   596 ratings   \n",
       "3          -    1,64,004  Ex-showroom, Mumbai     4.5   573 ratings   \n",
       "4          -    1,80,951  Ex-showroom, Mumbai     4.4   424 ratings   \n",
       "5          -    2,04,977  Ex-showroom, Mumbai     4.7   347 ratings   \n",
       "6          -    2,64,919  Ex-showroom, Mumbai     4.6   129 ratings   \n",
       "7          -    1,55,740  Ex-showroom, Mumbai     4.6   636 ratings   \n",
       "8          -    2,80,677  Ex-showroom, Mumbai     4.8    98 ratings   \n",
       "9          -    1,56,658  Ex-showroom, Mumbai     4.4   589 ratings   \n",
       "10         -    2,15,178  Ex-showroom, Mumbai     4.6   325 ratings   \n",
       "11   30 kmpl    1,88,803  Ex-showroom, Mumbai     4.8   100 ratings   \n",
       "12         -    1,63,003  Ex-showroom, Mumbai     4.7    30 ratings   \n",
       "13         -    2,02,046  Ex-showroom, Mumbai     4.7   310 ratings   \n",
       "14         -    2,12,479  Ex-showroom, Mumbai     4.6    76 ratings   \n",
       "15         -    2,04,977  Ex-showroom, Mumbai     4.4   178 ratings   \n",
       "16         -    2,04,977  Ex-showroom, Mumbai     4.4    37 ratings   \n",
       "17         -    2,07,307  Ex-showroom, Mumbai     4.4   105 ratings   \n",
       "18         -    2,07,766  Ex-showroom, Mumbai     4.4    22 ratings   \n",
       "19         -      65,535  Ex-showroom, Mumbai     4.8    56 ratings   \n",
       "20         -      74,072  Ex-showroom, Mumbai     4.3    83 ratings   \n",
       "21         -      61,665  Ex-showroom, Mumbai     4.4  1941 ratings   \n",
       "22         -      55,864  Ex-showroom, Mumbai     4.6  1249 ratings   \n",
       "23         -      92,661  Ex-showroom, Mumbai     4.5  1730 ratings   \n",
       "24    60 kmpl     82,402  Ex-showroom, Mumbai     4.5  1455 ratings   \n",
       "25         -      67,214  Ex-showroom, Mumbai     4.3  1150 ratings   \n",
       "26    60 kmpl     57,557  Ex-showroom, Mumbai     4.4  2906 ratings   \n",
       "27         -    1,67,070  Ex-showroom, Mumbai     4.7   266 ratings   \n",
       "28         -      69,923  Ex-showroom, Mumbai     4.5   634 ratings   \n",
       "29         -      90,797  Ex-showroom, Mumbai     4.5   572 ratings   \n",
       "30         -      60,728  Ex-showroom, Mumbai     4.4   781 ratings   \n",
       "31         -    2,41,000  Ex-showroom, Mumbai     4.3    23 ratings   \n",
       "32    65 kmpl     52,510  Ex-showroom, Mumbai     4.2   209 ratings   \n",
       "33    84 kmpl     58,116  Ex-showroom, Mumbai     4.2   476 ratings   \n",
       "34    60 kmpl     63,269  Ex-showroom, Mumbai     4.3   524 ratings   \n",
       "35         -    7,70,000  Ex-showroom, Mumbai     4.9    16 ratings   \n",
       "36         -      53,900  Ex-showroom, Mumbai     4.5    72 ratings   \n",
       "37    84 kmpl     53,415  Ex-showroom, Mumbai     4.3   159 ratings   \n",
       "38         -      59,183  Ex-showroom, Mumbai     4.6   127 ratings   \n",
       "39         -      49,226  Ex-showroom, Mumbai     4.6    60 ratings   \n",
       "40         -   15,19,689  Ex-showroom, Mumbai     5.0    12 ratings   \n",
       "41    60 kmpl     46,952  Ex-showroom, Mumbai     4.5    97 ratings   \n",
       "42         -   28,29,434  Ex-showroom, Mumbai       -             -   \n",
       "43         -   13,50,000  Ex-showroom, Mumbai     4.8     4 ratings   \n",
       "44    16 kmpl  14,90,407  Ex-showroom, Mumbai       -             -   \n",
       "\n",
       "                                              colours  \n",
       "0   [Lagoon, Ash, Silver, Redditch Red, Redditch G...  \n",
       "1   [Silver, Maroon, Black ( KS ), Jet Black, Roya...  \n",
       "2                    [Airborne Blue, Stormrider Sand]  \n",
       "3                       [Roving Red, Whimsical White]  \n",
       "4   [Snow, Granite, Limited Edition, Sleet Grey, G...  \n",
       "5                                     [Stealth Black]  \n",
       "6   [Mark Three, Glitter & Dust, Orange Crush, Rav...  \n",
       "7                                     [Gunmetal Grey]  \n",
       "8   [Black Magic, Ventura Blue, Mister Clean, Dr. ...  \n",
       "9                            [Marine, Stone, Flicker]  \n",
       "10                     [Getaway Orange, Drifter Blue]  \n",
       "11                                                 []  \n",
       "12                                              [Red]  \n",
       "13       [Classic Tan, Classic Black, Classic Silver]  \n",
       "14                   [Classic Black, Chrome Graphite]  \n",
       "15                                     [Desert Storm]  \n",
       "16                                    [Squadron Blue]  \n",
       "17                           [Marine, Flicker, Stone]  \n",
       "18                                            [Green]  \n",
       "19  [Glitter Blue Metallic, Pearl Spartan Red, Daz...  \n",
       "20  [Striking Green, Imperial Red Metallic, Pearl ...  \n",
       "21  [Black, Geny Grey Metallic, Rebel Red Metallic...  \n",
       "22  [Sports Red, Sports Yellow, Candy Jazzy Blue, ...  \n",
       "23  [Striking Green, Mars Orange, Athletic Blue Me...  \n",
       "24                                                 []  \n",
       "25  [Athletic Blue Metallic, Geny Grey Metallic, B...  \n",
       "26                                                 []  \n",
       "27  [Matte Axis  Gray Metallic with Mars Orange, M...  \n",
       "28  [Rebel Red Metallic, Midnight Blue Metallic, P...  \n",
       "29  [Pearl Spartan Red, Matte Frozen Silver, Matte...  \n",
       "30  [Athletic Blue Metallic, Black, Sunset Brown M...  \n",
       "31  [Candy Chromosphere Red, Matte Axis Gray Metal...  \n",
       "32                                                 []  \n",
       "33                                                 []  \n",
       "34                                                 []  \n",
       "35   [Grand Prix Red, Matte Gunpowder Black Metallic]  \n",
       "36  [Imperial Red Metallic, Lush Magenta Metallic,...  \n",
       "37  [Black with Blue Stripes, Black with Red Strip...  \n",
       "38  [Pearl Igneous Black, Matte Selene Silver Meta...  \n",
       "39  [Patriot Red, Shasta White, Black, Ladakh Brow...  \n",
       "40        [Grand Prix Red, Matte Ballistic Black, SP]  \n",
       "41                                                 []  \n",
       "42                                 [Candy Ardent Red]  \n",
       "43                                             [Blue]  \n",
       "44                                                 []  "
      ]
     },
     "execution_count": 377,
     "metadata": {},
     "output_type": "execute_result"
    }
   ],
   "source": [
    "import pandas as pd\n",
    "bikes=pd.DataFrame()\n",
    "bikes['Names']=names1\n",
    "bikes['cc']=cc\n",
    "bikes['bhp']=bhp\n",
    "bikes['weight']=weight\n",
    "bikes['km']=km\n",
    "bikes['prices']=prices\n",
    "bikes['showroom']=showroom\n",
    "bikes['reviews']=reviews1\n",
    "bikes['ratings']=ratings\n",
    "bikes['colours']=colours\n",
    "bikes"
   ]
  },
  {
   "cell_type": "code",
   "execution_count": null,
   "metadata": {},
   "outputs": [],
   "source": []
  },
  {
   "cell_type": "code",
   "execution_count": null,
   "metadata": {},
   "outputs": [],
   "source": []
  },
  {
   "cell_type": "code",
   "execution_count": null,
   "metadata": {},
   "outputs": [],
   "source": []
  }
 ],
 "metadata": {
  "kernelspec": {
   "display_name": "Python 3",
   "language": "python",
   "name": "python3"
  },
  "language_info": {
   "codemirror_mode": {
    "name": "ipython",
    "version": 3
   },
   "file_extension": ".py",
   "mimetype": "text/x-python",
   "name": "python",
   "nbconvert_exporter": "python",
   "pygments_lexer": "ipython3",
   "version": "3.7.4"
  }
 },
 "nbformat": 4,
 "nbformat_minor": 2
}
