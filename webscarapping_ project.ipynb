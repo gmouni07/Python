{
 "cells": [
  {
   "cell_type": "code",
   "execution_count": 1,
   "metadata": {},
   "outputs": [],
   "source": [
    "import numpy as np  \n",
    "import pandas as pd\n",
    "import matplotlib.pyplot as plt\n",
    "%matplotlib inline "
   ]
  },
  {
   "cell_type": "code",
   "execution_count": 2,
   "metadata": {},
   "outputs": [],
   "source": [
    "import seaborn as sns\n",
    "import numpy as np\n",
    "\n",
    "import matplotlib.pyplot as plt\n",
    "%matplotlib inline\n",
    "\n",
    "#themes: darkgrid, whitegrid, dark, white, and ticks\n",
    " \n",
    "sns.set_style(\"whitegrid\") "
   ]
  },
  {
   "cell_type": "code",
   "execution_count": 12,
   "metadata": {},
   "outputs": [
    {
     "data": {
      "text/plain": [
       "['.ipynb_checkpoints',\n",
       " 'BIKESFINAL',\n",
       " 'Data visualization_MATPLOTLIB.ipynb',\n",
       " 'df_company.csv',\n",
       " 'file importing.ipynb',\n",
       " 'final webscarapping project.ipynb',\n",
       " 'Handling missing data.ipynb',\n",
       " 'introduction to Jupyter Note book and python .ipynb',\n",
       " 'Mat & Sea - Data Viz.html',\n",
       " 'melbourne.csv',\n",
       " 'Pandas-series.ipynb',\n",
       " 'Pandas_sales_usecase.ipynb',\n",
       " 'practice matplotlib.ipynb',\n",
       " 'practice_webscrapping.ipynb',\n",
       " 'Regular Expressions.ipynb',\n",
       " 'sales.csv',\n",
       " 'salesNA.csv',\n",
       " 'scrapping practice.ipynb',\n",
       " 'seaborn-multivarient analysis.ipynb',\n",
       " 'Seaborn-uni an dbi varient analysis.ipynb',\n",
       " 'Seaborn_Python_Data_Visualization (1).html',\n",
       " 'semicolon_separated.txt',\n",
       " 'sign up .ipynb',\n",
       " 'Student_Excel.xlsx',\n",
       " 'Untitled.ipynb']"
      ]
     },
     "execution_count": 12,
     "metadata": {},
     "output_type": "execute_result"
    }
   ],
   "source": [
    "import os\n",
    "os.listdir() "
   ]
  },
  {
   "cell_type": "code",
   "execution_count": 13,
   "metadata": {},
   "outputs": [
    {
     "data": {
      "text/html": [
       "<div>\n",
       "<style scoped>\n",
       "    .dataframe tbody tr th:only-of-type {\n",
       "        vertical-align: middle;\n",
       "    }\n",
       "\n",
       "    .dataframe tbody tr th {\n",
       "        vertical-align: top;\n",
       "    }\n",
       "\n",
       "    .dataframe thead th {\n",
       "        text-align: right;\n",
       "    }\n",
       "</style>\n",
       "<table border=\"1\" class=\"dataframe\">\n",
       "  <thead>\n",
       "    <tr style=\"text-align: right;\">\n",
       "      <th></th>\n",
       "      <th>Unnamed: 0</th>\n",
       "      <th>NAME</th>\n",
       "      <th>CC</th>\n",
       "      <th>BHP</th>\n",
       "      <th>WEIGHT</th>\n",
       "      <th>PRICE</th>\n",
       "      <th>SHOWROOM</th>\n",
       "      <th>LOCATION</th>\n",
       "    </tr>\n",
       "  </thead>\n",
       "  <tbody>\n",
       "    <tr>\n",
       "      <td>0</td>\n",
       "      <td>0</td>\n",
       "      <td>Vespa Urban Club</td>\n",
       "      <td>125.00</td>\n",
       "      <td>9.50</td>\n",
       "      <td>114.0</td>\n",
       "      <td>74916</td>\n",
       "      <td>Ex-showroom</td>\n",
       "      <td>Hyderabad</td>\n",
       "    </tr>\n",
       "    <tr>\n",
       "      <td>1</td>\n",
       "      <td>1</td>\n",
       "      <td>Vespa SXL 150</td>\n",
       "      <td>150.00</td>\n",
       "      <td>11.40</td>\n",
       "      <td>114.0</td>\n",
       "      <td>107866</td>\n",
       "      <td>Ex-showroom</td>\n",
       "      <td>Hyderabad</td>\n",
       "    </tr>\n",
       "    <tr>\n",
       "      <td>2</td>\n",
       "      <td>2</td>\n",
       "      <td>Vespa SXL 125</td>\n",
       "      <td>125.00</td>\n",
       "      <td>9.90</td>\n",
       "      <td>114.0</td>\n",
       "      <td>96363</td>\n",
       "      <td>Ex-showroom</td>\n",
       "      <td>Hyderabad</td>\n",
       "    </tr>\n",
       "    <tr>\n",
       "      <td>3</td>\n",
       "      <td>3</td>\n",
       "      <td>Vespa ZX 125</td>\n",
       "      <td>125.00</td>\n",
       "      <td>9.76</td>\n",
       "      <td>114.0</td>\n",
       "      <td>83277</td>\n",
       "      <td>Ex-showroom</td>\n",
       "      <td>Hyderabad</td>\n",
       "    </tr>\n",
       "    <tr>\n",
       "      <td>4</td>\n",
       "      <td>4</td>\n",
       "      <td>Vespa VXL 125</td>\n",
       "      <td>125.00</td>\n",
       "      <td>9.90</td>\n",
       "      <td>114.0</td>\n",
       "      <td>93062</td>\n",
       "      <td>Ex-showroom</td>\n",
       "      <td>Hyderabad</td>\n",
       "    </tr>\n",
       "    <tr>\n",
       "      <td>...</td>\n",
       "      <td>...</td>\n",
       "      <td>...</td>\n",
       "      <td>...</td>\n",
       "      <td>...</td>\n",
       "      <td>...</td>\n",
       "      <td>...</td>\n",
       "      <td>...</td>\n",
       "      <td>...</td>\n",
       "    </tr>\n",
       "    <tr>\n",
       "      <td>294</td>\n",
       "      <td>294</td>\n",
       "      <td>Honda Navi</td>\n",
       "      <td>109.19</td>\n",
       "      <td>8.00</td>\n",
       "      <td>99.0</td>\n",
       "      <td>49226</td>\n",
       "      <td>Ex-showroom</td>\n",
       "      <td>Mumbai</td>\n",
       "    </tr>\n",
       "    <tr>\n",
       "      <td>295</td>\n",
       "      <td>295</td>\n",
       "      <td>Honda Cliq</td>\n",
       "      <td>109.19</td>\n",
       "      <td>8.00</td>\n",
       "      <td>102.0</td>\n",
       "      <td>46952</td>\n",
       "      <td>Ex-showroom</td>\n",
       "      <td>Mumbai</td>\n",
       "    </tr>\n",
       "    <tr>\n",
       "      <td>296</td>\n",
       "      <td>296</td>\n",
       "      <td>Honda Gold Wing</td>\n",
       "      <td>1833.00</td>\n",
       "      <td>122.50</td>\n",
       "      <td>379.0</td>\n",
       "      <td>2829434</td>\n",
       "      <td>Ex-showroom</td>\n",
       "      <td>Mumbai</td>\n",
       "    </tr>\n",
       "    <tr>\n",
       "      <td>297</td>\n",
       "      <td>297</td>\n",
       "      <td>Honda Africa Twin</td>\n",
       "      <td>999.11</td>\n",
       "      <td>86.04</td>\n",
       "      <td>245.0</td>\n",
       "      <td>1350000</td>\n",
       "      <td>Ex-showroom</td>\n",
       "      <td>Mumbai</td>\n",
       "    </tr>\n",
       "    <tr>\n",
       "      <td>298</td>\n",
       "      <td>298</td>\n",
       "      <td>Honda CB1000R+</td>\n",
       "      <td>999.00</td>\n",
       "      <td>141.40</td>\n",
       "      <td>217.0</td>\n",
       "      <td>1490407</td>\n",
       "      <td>Ex-showroom</td>\n",
       "      <td>Mumbai</td>\n",
       "    </tr>\n",
       "  </tbody>\n",
       "</table>\n",
       "<p>299 rows × 8 columns</p>\n",
       "</div>"
      ],
      "text/plain": [
       "     Unnamed: 0               NAME       CC     BHP  WEIGHT    PRICE  \\\n",
       "0             0   Vespa Urban Club   125.00    9.50   114.0    74916   \n",
       "1             1      Vespa SXL 150   150.00   11.40   114.0   107866   \n",
       "2             2      Vespa SXL 125   125.00    9.90   114.0    96363   \n",
       "3             3       Vespa ZX 125   125.00    9.76   114.0    83277   \n",
       "4             4      Vespa VXL 125   125.00    9.90   114.0    93062   \n",
       "..          ...                ...      ...     ...     ...      ...   \n",
       "294         294         Honda Navi   109.19    8.00    99.0    49226   \n",
       "295         295         Honda Cliq   109.19    8.00   102.0    46952   \n",
       "296         296    Honda Gold Wing  1833.00  122.50   379.0  2829434   \n",
       "297         297  Honda Africa Twin   999.11   86.04   245.0  1350000   \n",
       "298         298     Honda CB1000R+   999.00  141.40   217.0  1490407   \n",
       "\n",
       "        SHOWROOM    LOCATION  \n",
       "0    Ex-showroom   Hyderabad  \n",
       "1    Ex-showroom   Hyderabad  \n",
       "2    Ex-showroom   Hyderabad  \n",
       "3    Ex-showroom   Hyderabad  \n",
       "4    Ex-showroom   Hyderabad  \n",
       "..           ...         ...  \n",
       "294  Ex-showroom      Mumbai  \n",
       "295  Ex-showroom      Mumbai  \n",
       "296  Ex-showroom      Mumbai  \n",
       "297  Ex-showroom      Mumbai  \n",
       "298  Ex-showroom      Mumbai  \n",
       "\n",
       "[299 rows x 8 columns]"
      ]
     },
     "execution_count": 13,
     "metadata": {},
     "output_type": "execute_result"
    }
   ],
   "source": [
    "p1 = pd.read_csv(\"BIKESFINAL\") \n",
    "p1"
   ]
  },
  {
   "cell_type": "markdown",
   "metadata": {},
   "source": [
    "# Data frame properties"
   ]
  },
  {
   "cell_type": "code",
   "execution_count": 14,
   "metadata": {},
   "outputs": [
    {
     "data": {
      "text/html": [
       "<div>\n",
       "<style scoped>\n",
       "    .dataframe tbody tr th:only-of-type {\n",
       "        vertical-align: middle;\n",
       "    }\n",
       "\n",
       "    .dataframe tbody tr th {\n",
       "        vertical-align: top;\n",
       "    }\n",
       "\n",
       "    .dataframe thead th {\n",
       "        text-align: right;\n",
       "    }\n",
       "</style>\n",
       "<table border=\"1\" class=\"dataframe\">\n",
       "  <thead>\n",
       "    <tr style=\"text-align: right;\">\n",
       "      <th></th>\n",
       "      <th>Unnamed: 0</th>\n",
       "      <th>NAME</th>\n",
       "      <th>CC</th>\n",
       "      <th>BHP</th>\n",
       "      <th>WEIGHT</th>\n",
       "      <th>PRICE</th>\n",
       "      <th>SHOWROOM</th>\n",
       "      <th>LOCATION</th>\n",
       "    </tr>\n",
       "  </thead>\n",
       "  <tbody>\n",
       "    <tr>\n",
       "      <td>0</td>\n",
       "      <td>0</td>\n",
       "      <td>Vespa Urban Club</td>\n",
       "      <td>125.0</td>\n",
       "      <td>9.50</td>\n",
       "      <td>114.0</td>\n",
       "      <td>74916</td>\n",
       "      <td>Ex-showroom</td>\n",
       "      <td>Hyderabad</td>\n",
       "    </tr>\n",
       "    <tr>\n",
       "      <td>1</td>\n",
       "      <td>1</td>\n",
       "      <td>Vespa SXL 150</td>\n",
       "      <td>150.0</td>\n",
       "      <td>11.40</td>\n",
       "      <td>114.0</td>\n",
       "      <td>107866</td>\n",
       "      <td>Ex-showroom</td>\n",
       "      <td>Hyderabad</td>\n",
       "    </tr>\n",
       "    <tr>\n",
       "      <td>2</td>\n",
       "      <td>2</td>\n",
       "      <td>Vespa SXL 125</td>\n",
       "      <td>125.0</td>\n",
       "      <td>9.90</td>\n",
       "      <td>114.0</td>\n",
       "      <td>96363</td>\n",
       "      <td>Ex-showroom</td>\n",
       "      <td>Hyderabad</td>\n",
       "    </tr>\n",
       "    <tr>\n",
       "      <td>3</td>\n",
       "      <td>3</td>\n",
       "      <td>Vespa ZX 125</td>\n",
       "      <td>125.0</td>\n",
       "      <td>9.76</td>\n",
       "      <td>114.0</td>\n",
       "      <td>83277</td>\n",
       "      <td>Ex-showroom</td>\n",
       "      <td>Hyderabad</td>\n",
       "    </tr>\n",
       "    <tr>\n",
       "      <td>4</td>\n",
       "      <td>4</td>\n",
       "      <td>Vespa VXL 125</td>\n",
       "      <td>125.0</td>\n",
       "      <td>9.90</td>\n",
       "      <td>114.0</td>\n",
       "      <td>93062</td>\n",
       "      <td>Ex-showroom</td>\n",
       "      <td>Hyderabad</td>\n",
       "    </tr>\n",
       "  </tbody>\n",
       "</table>\n",
       "</div>"
      ],
      "text/plain": [
       "   Unnamed: 0              NAME     CC    BHP  WEIGHT   PRICE     SHOWROOM  \\\n",
       "0           0  Vespa Urban Club  125.0   9.50   114.0   74916  Ex-showroom   \n",
       "1           1     Vespa SXL 150  150.0  11.40   114.0  107866  Ex-showroom   \n",
       "2           2     Vespa SXL 125  125.0   9.90   114.0   96363  Ex-showroom   \n",
       "3           3      Vespa ZX 125  125.0   9.76   114.0   83277  Ex-showroom   \n",
       "4           4     Vespa VXL 125  125.0   9.90   114.0   93062  Ex-showroom   \n",
       "\n",
       "     LOCATION  \n",
       "0   Hyderabad  \n",
       "1   Hyderabad  \n",
       "2   Hyderabad  \n",
       "3   Hyderabad  \n",
       "4   Hyderabad  "
      ]
     },
     "execution_count": 14,
     "metadata": {},
     "output_type": "execute_result"
    }
   ],
   "source": [
    "p1.head()  # defualt it prints first 5 rows"
   ]
  },
  {
   "cell_type": "code",
   "execution_count": 15,
   "metadata": {},
   "outputs": [
    {
     "data": {
      "text/html": [
       "<div>\n",
       "<style scoped>\n",
       "    .dataframe tbody tr th:only-of-type {\n",
       "        vertical-align: middle;\n",
       "    }\n",
       "\n",
       "    .dataframe tbody tr th {\n",
       "        vertical-align: top;\n",
       "    }\n",
       "\n",
       "    .dataframe thead th {\n",
       "        text-align: right;\n",
       "    }\n",
       "</style>\n",
       "<table border=\"1\" class=\"dataframe\">\n",
       "  <thead>\n",
       "    <tr style=\"text-align: right;\">\n",
       "      <th></th>\n",
       "      <th>Unnamed: 0</th>\n",
       "      <th>NAME</th>\n",
       "      <th>CC</th>\n",
       "      <th>BHP</th>\n",
       "      <th>WEIGHT</th>\n",
       "      <th>PRICE</th>\n",
       "      <th>SHOWROOM</th>\n",
       "      <th>LOCATION</th>\n",
       "    </tr>\n",
       "  </thead>\n",
       "  <tbody>\n",
       "    <tr>\n",
       "      <td>294</td>\n",
       "      <td>294</td>\n",
       "      <td>Honda Navi</td>\n",
       "      <td>109.19</td>\n",
       "      <td>8.00</td>\n",
       "      <td>99.0</td>\n",
       "      <td>49226</td>\n",
       "      <td>Ex-showroom</td>\n",
       "      <td>Mumbai</td>\n",
       "    </tr>\n",
       "    <tr>\n",
       "      <td>295</td>\n",
       "      <td>295</td>\n",
       "      <td>Honda Cliq</td>\n",
       "      <td>109.19</td>\n",
       "      <td>8.00</td>\n",
       "      <td>102.0</td>\n",
       "      <td>46952</td>\n",
       "      <td>Ex-showroom</td>\n",
       "      <td>Mumbai</td>\n",
       "    </tr>\n",
       "    <tr>\n",
       "      <td>296</td>\n",
       "      <td>296</td>\n",
       "      <td>Honda Gold Wing</td>\n",
       "      <td>1833.00</td>\n",
       "      <td>122.50</td>\n",
       "      <td>379.0</td>\n",
       "      <td>2829434</td>\n",
       "      <td>Ex-showroom</td>\n",
       "      <td>Mumbai</td>\n",
       "    </tr>\n",
       "    <tr>\n",
       "      <td>297</td>\n",
       "      <td>297</td>\n",
       "      <td>Honda Africa Twin</td>\n",
       "      <td>999.11</td>\n",
       "      <td>86.04</td>\n",
       "      <td>245.0</td>\n",
       "      <td>1350000</td>\n",
       "      <td>Ex-showroom</td>\n",
       "      <td>Mumbai</td>\n",
       "    </tr>\n",
       "    <tr>\n",
       "      <td>298</td>\n",
       "      <td>298</td>\n",
       "      <td>Honda CB1000R+</td>\n",
       "      <td>999.00</td>\n",
       "      <td>141.40</td>\n",
       "      <td>217.0</td>\n",
       "      <td>1490407</td>\n",
       "      <td>Ex-showroom</td>\n",
       "      <td>Mumbai</td>\n",
       "    </tr>\n",
       "  </tbody>\n",
       "</table>\n",
       "</div>"
      ],
      "text/plain": [
       "     Unnamed: 0               NAME       CC     BHP  WEIGHT    PRICE  \\\n",
       "294         294         Honda Navi   109.19    8.00    99.0    49226   \n",
       "295         295         Honda Cliq   109.19    8.00   102.0    46952   \n",
       "296         296    Honda Gold Wing  1833.00  122.50   379.0  2829434   \n",
       "297         297  Honda Africa Twin   999.11   86.04   245.0  1350000   \n",
       "298         298     Honda CB1000R+   999.00  141.40   217.0  1490407   \n",
       "\n",
       "        SHOWROOM LOCATION  \n",
       "294  Ex-showroom   Mumbai  \n",
       "295  Ex-showroom   Mumbai  \n",
       "296  Ex-showroom   Mumbai  \n",
       "297  Ex-showroom   Mumbai  \n",
       "298  Ex-showroom   Mumbai  "
      ]
     },
     "execution_count": 15,
     "metadata": {},
     "output_type": "execute_result"
    }
   ],
   "source": [
    "p1.tail() "
   ]
  },
  {
   "cell_type": "code",
   "execution_count": 16,
   "metadata": {},
   "outputs": [
    {
     "data": {
      "text/plain": [
       "(299, 8)"
      ]
     },
     "execution_count": 16,
     "metadata": {},
     "output_type": "execute_result"
    }
   ],
   "source": [
    "p1.shape# rows and columns"
   ]
  },
  {
   "cell_type": "code",
   "execution_count": 17,
   "metadata": {},
   "outputs": [
    {
     "data": {
      "text/plain": [
       "2"
      ]
     },
     "execution_count": 17,
     "metadata": {},
     "output_type": "execute_result"
    }
   ],
   "source": [
    "p1.ndim # it shows 2 dimesion"
   ]
  },
  {
   "cell_type": "code",
   "execution_count": 18,
   "metadata": {},
   "outputs": [
    {
     "data": {
      "text/plain": [
       "2392"
      ]
     },
     "execution_count": 18,
     "metadata": {},
     "output_type": "execute_result"
    }
   ],
   "source": [
    "p1.size"
   ]
  },
  {
   "cell_type": "code",
   "execution_count": 19,
   "metadata": {},
   "outputs": [
    {
     "data": {
      "text/plain": [
       "[RangeIndex(start=0, stop=299, step=1),\n",
       " Index(['Unnamed: 0', 'NAME', 'CC', 'BHP', 'WEIGHT', 'PRICE', 'SHOWROOM',\n",
       "        'LOCATION'],\n",
       "       dtype='object')]"
      ]
     },
     "execution_count": 19,
     "metadata": {},
     "output_type": "execute_result"
    }
   ],
   "source": [
    "p1.axes"
   ]
  },
  {
   "cell_type": "code",
   "execution_count": 20,
   "metadata": {},
   "outputs": [
    {
     "data": {
      "text/plain": [
       "pandas.core.frame.DataFrame"
      ]
     },
     "execution_count": 20,
     "metadata": {},
     "output_type": "execute_result"
    }
   ],
   "source": [
    "type(p1)"
   ]
  },
  {
   "cell_type": "code",
   "execution_count": 21,
   "metadata": {},
   "outputs": [
    {
     "data": {
      "text/plain": [
       "Index(['Unnamed: 0', 'NAME', 'CC', 'BHP', 'WEIGHT', 'PRICE', 'SHOWROOM',\n",
       "       'LOCATION'],\n",
       "      dtype='object')"
      ]
     },
     "execution_count": 21,
     "metadata": {},
     "output_type": "execute_result"
    }
   ],
   "source": [
    "p1.columns"
   ]
  },
  {
   "cell_type": "code",
   "execution_count": 22,
   "metadata": {},
   "outputs": [
    {
     "data": {
      "text/plain": [
       "Index(['Unnamed: 0', 'NAME', 'CC', 'BHP', 'WEIGHT', 'PRICE', 'SHOWROOM',\n",
       "       'LOCATION'],\n",
       "      dtype='object')"
      ]
     },
     "execution_count": 22,
     "metadata": {},
     "output_type": "execute_result"
    }
   ],
   "source": [
    "p1.keys() "
   ]
  },
  {
   "cell_type": "code",
   "execution_count": 23,
   "metadata": {},
   "outputs": [
    {
     "data": {
      "text/plain": [
       "RangeIndex(start=0, stop=299, step=1)"
      ]
     },
     "execution_count": 23,
     "metadata": {},
     "output_type": "execute_result"
    }
   ],
   "source": [
    "p1.index"
   ]
  },
  {
   "cell_type": "code",
   "execution_count": 24,
   "metadata": {},
   "outputs": [
    {
     "data": {
      "text/plain": [
       "Unnamed: 0      int64\n",
       "NAME           object\n",
       "CC            float64\n",
       "BHP           float64\n",
       "WEIGHT        float64\n",
       "PRICE           int64\n",
       "SHOWROOM       object\n",
       "LOCATION       object\n",
       "dtype: object"
      ]
     },
     "execution_count": 24,
     "metadata": {},
     "output_type": "execute_result"
    }
   ],
   "source": [
    "p1.dtypes"
   ]
  },
  {
   "cell_type": "code",
   "execution_count": 25,
   "metadata": {},
   "outputs": [
    {
     "name": "stdout",
     "output_type": "stream",
     "text": [
      "<class 'pandas.core.frame.DataFrame'>\n",
      "RangeIndex: 299 entries, 0 to 298\n",
      "Data columns (total 8 columns):\n",
      "Unnamed: 0    299 non-null int64\n",
      "NAME          299 non-null object\n",
      "CC            299 non-null float64\n",
      "BHP           299 non-null float64\n",
      "WEIGHT        299 non-null float64\n",
      "PRICE         299 non-null int64\n",
      "SHOWROOM      299 non-null object\n",
      "LOCATION      299 non-null object\n",
      "dtypes: float64(3), int64(2), object(3)\n",
      "memory usage: 18.8+ KB\n"
     ]
    }
   ],
   "source": [
    "p1.info() "
   ]
  },
  {
   "cell_type": "code",
   "execution_count": 26,
   "metadata": {},
   "outputs": [
    {
     "data": {
      "text/html": [
       "<div>\n",
       "<style scoped>\n",
       "    .dataframe tbody tr th:only-of-type {\n",
       "        vertical-align: middle;\n",
       "    }\n",
       "\n",
       "    .dataframe tbody tr th {\n",
       "        vertical-align: top;\n",
       "    }\n",
       "\n",
       "    .dataframe thead th {\n",
       "        text-align: right;\n",
       "    }\n",
       "</style>\n",
       "<table border=\"1\" class=\"dataframe\">\n",
       "  <thead>\n",
       "    <tr style=\"text-align: right;\">\n",
       "      <th></th>\n",
       "      <th>Unnamed: 0</th>\n",
       "      <th>NAME</th>\n",
       "      <th>CC</th>\n",
       "      <th>BHP</th>\n",
       "      <th>WEIGHT</th>\n",
       "      <th>PRICE</th>\n",
       "      <th>SHOWROOM</th>\n",
       "      <th>LOCATION</th>\n",
       "    </tr>\n",
       "  </thead>\n",
       "  <tbody>\n",
       "    <tr>\n",
       "      <td>0</td>\n",
       "      <td>0</td>\n",
       "      <td>Vespa Urban Club</td>\n",
       "      <td>125.00</td>\n",
       "      <td>9.50</td>\n",
       "      <td>114.0</td>\n",
       "      <td>74916</td>\n",
       "      <td>Ex-showroom</td>\n",
       "      <td>Hyderabad</td>\n",
       "    </tr>\n",
       "    <tr>\n",
       "      <td>1</td>\n",
       "      <td>1</td>\n",
       "      <td>Vespa SXL 150</td>\n",
       "      <td>150.00</td>\n",
       "      <td>11.40</td>\n",
       "      <td>114.0</td>\n",
       "      <td>107866</td>\n",
       "      <td>Ex-showroom</td>\n",
       "      <td>Hyderabad</td>\n",
       "    </tr>\n",
       "    <tr>\n",
       "      <td>2</td>\n",
       "      <td>2</td>\n",
       "      <td>Vespa SXL 125</td>\n",
       "      <td>125.00</td>\n",
       "      <td>9.90</td>\n",
       "      <td>114.0</td>\n",
       "      <td>96363</td>\n",
       "      <td>Ex-showroom</td>\n",
       "      <td>Hyderabad</td>\n",
       "    </tr>\n",
       "    <tr>\n",
       "      <td>3</td>\n",
       "      <td>3</td>\n",
       "      <td>Vespa ZX 125</td>\n",
       "      <td>125.00</td>\n",
       "      <td>9.76</td>\n",
       "      <td>114.0</td>\n",
       "      <td>83277</td>\n",
       "      <td>Ex-showroom</td>\n",
       "      <td>Hyderabad</td>\n",
       "    </tr>\n",
       "    <tr>\n",
       "      <td>4</td>\n",
       "      <td>4</td>\n",
       "      <td>Vespa VXL 125</td>\n",
       "      <td>125.00</td>\n",
       "      <td>9.90</td>\n",
       "      <td>114.0</td>\n",
       "      <td>93062</td>\n",
       "      <td>Ex-showroom</td>\n",
       "      <td>Hyderabad</td>\n",
       "    </tr>\n",
       "    <tr>\n",
       "      <td>...</td>\n",
       "      <td>...</td>\n",
       "      <td>...</td>\n",
       "      <td>...</td>\n",
       "      <td>...</td>\n",
       "      <td>...</td>\n",
       "      <td>...</td>\n",
       "      <td>...</td>\n",
       "      <td>...</td>\n",
       "    </tr>\n",
       "    <tr>\n",
       "      <td>294</td>\n",
       "      <td>294</td>\n",
       "      <td>Honda Navi</td>\n",
       "      <td>109.19</td>\n",
       "      <td>8.00</td>\n",
       "      <td>99.0</td>\n",
       "      <td>49226</td>\n",
       "      <td>Ex-showroom</td>\n",
       "      <td>Mumbai</td>\n",
       "    </tr>\n",
       "    <tr>\n",
       "      <td>295</td>\n",
       "      <td>295</td>\n",
       "      <td>Honda Cliq</td>\n",
       "      <td>109.19</td>\n",
       "      <td>8.00</td>\n",
       "      <td>102.0</td>\n",
       "      <td>46952</td>\n",
       "      <td>Ex-showroom</td>\n",
       "      <td>Mumbai</td>\n",
       "    </tr>\n",
       "    <tr>\n",
       "      <td>296</td>\n",
       "      <td>296</td>\n",
       "      <td>Honda Gold Wing</td>\n",
       "      <td>1833.00</td>\n",
       "      <td>122.50</td>\n",
       "      <td>379.0</td>\n",
       "      <td>2829434</td>\n",
       "      <td>Ex-showroom</td>\n",
       "      <td>Mumbai</td>\n",
       "    </tr>\n",
       "    <tr>\n",
       "      <td>297</td>\n",
       "      <td>297</td>\n",
       "      <td>Honda Africa Twin</td>\n",
       "      <td>999.11</td>\n",
       "      <td>86.04</td>\n",
       "      <td>245.0</td>\n",
       "      <td>1350000</td>\n",
       "      <td>Ex-showroom</td>\n",
       "      <td>Mumbai</td>\n",
       "    </tr>\n",
       "    <tr>\n",
       "      <td>298</td>\n",
       "      <td>298</td>\n",
       "      <td>Honda CB1000R+</td>\n",
       "      <td>999.00</td>\n",
       "      <td>141.40</td>\n",
       "      <td>217.0</td>\n",
       "      <td>1490407</td>\n",
       "      <td>Ex-showroom</td>\n",
       "      <td>Mumbai</td>\n",
       "    </tr>\n",
       "  </tbody>\n",
       "</table>\n",
       "<p>299 rows × 8 columns</p>\n",
       "</div>"
      ],
      "text/plain": [
       "     Unnamed: 0               NAME       CC     BHP  WEIGHT    PRICE  \\\n",
       "0             0   Vespa Urban Club   125.00    9.50   114.0    74916   \n",
       "1             1      Vespa SXL 150   150.00   11.40   114.0   107866   \n",
       "2             2      Vespa SXL 125   125.00    9.90   114.0    96363   \n",
       "3             3       Vespa ZX 125   125.00    9.76   114.0    83277   \n",
       "4             4      Vespa VXL 125   125.00    9.90   114.0    93062   \n",
       "..          ...                ...      ...     ...     ...      ...   \n",
       "294         294         Honda Navi   109.19    8.00    99.0    49226   \n",
       "295         295         Honda Cliq   109.19    8.00   102.0    46952   \n",
       "296         296    Honda Gold Wing  1833.00  122.50   379.0  2829434   \n",
       "297         297  Honda Africa Twin   999.11   86.04   245.0  1350000   \n",
       "298         298     Honda CB1000R+   999.00  141.40   217.0  1490407   \n",
       "\n",
       "        SHOWROOM    LOCATION  \n",
       "0    Ex-showroom   Hyderabad  \n",
       "1    Ex-showroom   Hyderabad  \n",
       "2    Ex-showroom   Hyderabad  \n",
       "3    Ex-showroom   Hyderabad  \n",
       "4    Ex-showroom   Hyderabad  \n",
       "..           ...         ...  \n",
       "294  Ex-showroom      Mumbai  \n",
       "295  Ex-showroom      Mumbai  \n",
       "296  Ex-showroom      Mumbai  \n",
       "297  Ex-showroom      Mumbai  \n",
       "298  Ex-showroom      Mumbai  \n",
       "\n",
       "[299 rows x 8 columns]"
      ]
     },
     "execution_count": 26,
     "metadata": {},
     "output_type": "execute_result"
    }
   ],
   "source": [
    "p1"
   ]
  },
  {
   "cell_type": "markdown",
   "metadata": {},
   "source": [
    "# Data understanding"
   ]
  },
  {
   "cell_type": "code",
   "execution_count": 27,
   "metadata": {},
   "outputs": [
    {
     "data": {
      "text/plain": [
       "0       Hyderabad\n",
       "1       Hyderabad\n",
       "2       Hyderabad\n",
       "3       Hyderabad\n",
       "4       Hyderabad\n",
       "          ...    \n",
       "294        Mumbai\n",
       "295        Mumbai\n",
       "296        Mumbai\n",
       "297        Mumbai\n",
       "298        Mumbai\n",
       "Name: LOCATION, Length: 299, dtype: object"
      ]
     },
     "execution_count": 27,
     "metadata": {},
     "output_type": "execute_result"
    }
   ],
   "source": [
    "p1[\"LOCATION\"]"
   ]
  },
  {
   "cell_type": "code",
   "execution_count": 28,
   "metadata": {},
   "outputs": [
    {
     "data": {
      "text/plain": [
       "array([' Hyderabad', ' Mumbai'], dtype=object)"
      ]
     },
     "execution_count": 28,
     "metadata": {},
     "output_type": "execute_result"
    }
   ],
   "source": [
    "p1[\"LOCATION\"].unique() # to know how many unique names in data"
   ]
  },
  {
   "cell_type": "code",
   "execution_count": 29,
   "metadata": {},
   "outputs": [
    {
     "data": {
      "text/plain": [
       "2"
      ]
     },
     "execution_count": 29,
     "metadata": {},
     "output_type": "execute_result"
    }
   ],
   "source": [
    "p1[\"LOCATION\"].nunique() # it gives number of uniue names observed"
   ]
  },
  {
   "cell_type": "code",
   "execution_count": 30,
   "metadata": {},
   "outputs": [
    {
     "data": {
      "text/plain": [
       " Mumbai       270\n",
       " Hyderabad     29\n",
       "Name: LOCATION, dtype: int64"
      ]
     },
     "execution_count": 30,
     "metadata": {},
     "output_type": "execute_result"
    }
   ],
   "source": [
    "p1[\"LOCATION\"].value_counts() # it prints how many times unique name reapeated"
   ]
  },
  {
   "cell_type": "markdown",
   "metadata": {},
   "source": [
    "# Statistical understanding"
   ]
  },
  {
   "cell_type": "code",
   "execution_count": 31,
   "metadata": {},
   "outputs": [
    {
     "data": {
      "text/plain": [
       "Unnamed: 0       149.000000\n",
       "CC               472.323612\n",
       "BHP               53.398662\n",
       "WEIGHT           148.448829\n",
       "PRICE         762356.826087\n",
       "dtype: float64"
      ]
     },
     "execution_count": 31,
     "metadata": {},
     "output_type": "execute_result"
    }
   ],
   "source": [
    "p1.mean() "
   ]
  },
  {
   "cell_type": "code",
   "execution_count": 32,
   "metadata": {},
   "outputs": [
    {
     "data": {
      "text/plain": [
       "Unnamed: 0        86.458082\n",
       "CC               461.500827\n",
       "BHP               60.091644\n",
       "WEIGHT            74.556385\n",
       "PRICE         995356.999517\n",
       "dtype: float64"
      ]
     },
     "execution_count": 32,
     "metadata": {},
     "output_type": "execute_result"
    }
   ],
   "source": [
    "p1.std() #its always near to zero, mean # standard deviation *refer in stats notes"
   ]
  },
  {
   "cell_type": "code",
   "execution_count": 33,
   "metadata": {},
   "outputs": [
    {
     "data": {
      "text/plain": [
       "Unnamed: 0    299\n",
       "NAME          299\n",
       "CC            299\n",
       "BHP           299\n",
       "WEIGHT        299\n",
       "PRICE         299\n",
       "SHOWROOM      299\n",
       "LOCATION      299\n",
       "dtype: int64"
      ]
     },
     "execution_count": 33,
     "metadata": {},
     "output_type": "execute_result"
    }
   ],
   "source": [
    "p1.count() "
   ]
  },
  {
   "cell_type": "code",
   "execution_count": 34,
   "metadata": {},
   "outputs": [
    {
     "data": {
      "text/html": [
       "<div>\n",
       "<style scoped>\n",
       "    .dataframe tbody tr th:only-of-type {\n",
       "        vertical-align: middle;\n",
       "    }\n",
       "\n",
       "    .dataframe tbody tr th {\n",
       "        vertical-align: top;\n",
       "    }\n",
       "\n",
       "    .dataframe thead th {\n",
       "        text-align: right;\n",
       "    }\n",
       "</style>\n",
       "<table border=\"1\" class=\"dataframe\">\n",
       "  <thead>\n",
       "    <tr style=\"text-align: right;\">\n",
       "      <th></th>\n",
       "      <th>Unnamed: 0</th>\n",
       "      <th>CC</th>\n",
       "      <th>BHP</th>\n",
       "      <th>WEIGHT</th>\n",
       "      <th>PRICE</th>\n",
       "    </tr>\n",
       "  </thead>\n",
       "  <tbody>\n",
       "    <tr>\n",
       "      <td>count</td>\n",
       "      <td>299.000000</td>\n",
       "      <td>299.000000</td>\n",
       "      <td>299.000000</td>\n",
       "      <td>299.000000</td>\n",
       "      <td>2.990000e+02</td>\n",
       "    </tr>\n",
       "    <tr>\n",
       "      <td>mean</td>\n",
       "      <td>149.000000</td>\n",
       "      <td>472.323612</td>\n",
       "      <td>53.398662</td>\n",
       "      <td>148.448829</td>\n",
       "      <td>7.623568e+05</td>\n",
       "    </tr>\n",
       "    <tr>\n",
       "      <td>std</td>\n",
       "      <td>86.458082</td>\n",
       "      <td>461.500827</td>\n",
       "      <td>60.091644</td>\n",
       "      <td>74.556385</td>\n",
       "      <td>9.953570e+05</td>\n",
       "    </tr>\n",
       "    <tr>\n",
       "      <td>min</td>\n",
       "      <td>0.000000</td>\n",
       "      <td>0.000000</td>\n",
       "      <td>0.000000</td>\n",
       "      <td>0.000000</td>\n",
       "      <td>3.049000e+04</td>\n",
       "    </tr>\n",
       "    <tr>\n",
       "      <td>25%</td>\n",
       "      <td>74.500000</td>\n",
       "      <td>124.450000</td>\n",
       "      <td>8.310000</td>\n",
       "      <td>108.000000</td>\n",
       "      <td>6.813100e+04</td>\n",
       "    </tr>\n",
       "    <tr>\n",
       "      <td>50%</td>\n",
       "      <td>149.000000</td>\n",
       "      <td>249.000000</td>\n",
       "      <td>20.700000</td>\n",
       "      <td>137.000000</td>\n",
       "      <td>2.124790e+05</td>\n",
       "    </tr>\n",
       "    <tr>\n",
       "      <td>75%</td>\n",
       "      <td>223.500000</td>\n",
       "      <td>803.000000</td>\n",
       "      <td>94.000000</td>\n",
       "      <td>194.500000</td>\n",
       "      <td>1.289500e+06</td>\n",
       "    </tr>\n",
       "    <tr>\n",
       "      <td>max</td>\n",
       "      <td>298.000000</td>\n",
       "      <td>2458.000000</td>\n",
       "      <td>317.100000</td>\n",
       "      <td>421.000000</td>\n",
       "      <td>7.580000e+06</td>\n",
       "    </tr>\n",
       "  </tbody>\n",
       "</table>\n",
       "</div>"
      ],
      "text/plain": [
       "       Unnamed: 0           CC         BHP      WEIGHT         PRICE\n",
       "count  299.000000   299.000000  299.000000  299.000000  2.990000e+02\n",
       "mean   149.000000   472.323612   53.398662  148.448829  7.623568e+05\n",
       "std     86.458082   461.500827   60.091644   74.556385  9.953570e+05\n",
       "min      0.000000     0.000000    0.000000    0.000000  3.049000e+04\n",
       "25%     74.500000   124.450000    8.310000  108.000000  6.813100e+04\n",
       "50%    149.000000   249.000000   20.700000  137.000000  2.124790e+05\n",
       "75%    223.500000   803.000000   94.000000  194.500000  1.289500e+06\n",
       "max    298.000000  2458.000000  317.100000  421.000000  7.580000e+06"
      ]
     },
     "execution_count": 34,
     "metadata": {},
     "output_type": "execute_result"
    }
   ],
   "source": [
    "p1.describe() "
   ]
  },
  {
   "cell_type": "code",
   "execution_count": 35,
   "metadata": {},
   "outputs": [
    {
     "data": {
      "text/html": [
       "<div>\n",
       "<style scoped>\n",
       "    .dataframe tbody tr th:only-of-type {\n",
       "        vertical-align: middle;\n",
       "    }\n",
       "\n",
       "    .dataframe tbody tr th {\n",
       "        vertical-align: top;\n",
       "    }\n",
       "\n",
       "    .dataframe thead th {\n",
       "        text-align: right;\n",
       "    }\n",
       "</style>\n",
       "<table border=\"1\" class=\"dataframe\">\n",
       "  <thead>\n",
       "    <tr style=\"text-align: right;\">\n",
       "      <th></th>\n",
       "      <th>count</th>\n",
       "      <th>mean</th>\n",
       "      <th>std</th>\n",
       "      <th>min</th>\n",
       "      <th>25%</th>\n",
       "      <th>50%</th>\n",
       "      <th>75%</th>\n",
       "      <th>max</th>\n",
       "    </tr>\n",
       "  </thead>\n",
       "  <tbody>\n",
       "    <tr>\n",
       "      <td>Unnamed: 0</td>\n",
       "      <td>299.0</td>\n",
       "      <td>149.000000</td>\n",
       "      <td>86.458082</td>\n",
       "      <td>0.0</td>\n",
       "      <td>74.50</td>\n",
       "      <td>149.0</td>\n",
       "      <td>223.5</td>\n",
       "      <td>298.0</td>\n",
       "    </tr>\n",
       "    <tr>\n",
       "      <td>CC</td>\n",
       "      <td>299.0</td>\n",
       "      <td>472.323612</td>\n",
       "      <td>461.500827</td>\n",
       "      <td>0.0</td>\n",
       "      <td>124.45</td>\n",
       "      <td>249.0</td>\n",
       "      <td>803.0</td>\n",
       "      <td>2458.0</td>\n",
       "    </tr>\n",
       "    <tr>\n",
       "      <td>BHP</td>\n",
       "      <td>299.0</td>\n",
       "      <td>53.398662</td>\n",
       "      <td>60.091644</td>\n",
       "      <td>0.0</td>\n",
       "      <td>8.31</td>\n",
       "      <td>20.7</td>\n",
       "      <td>94.0</td>\n",
       "      <td>317.1</td>\n",
       "    </tr>\n",
       "    <tr>\n",
       "      <td>WEIGHT</td>\n",
       "      <td>299.0</td>\n",
       "      <td>148.448829</td>\n",
       "      <td>74.556385</td>\n",
       "      <td>0.0</td>\n",
       "      <td>108.00</td>\n",
       "      <td>137.0</td>\n",
       "      <td>194.5</td>\n",
       "      <td>421.0</td>\n",
       "    </tr>\n",
       "    <tr>\n",
       "      <td>PRICE</td>\n",
       "      <td>299.0</td>\n",
       "      <td>762356.826087</td>\n",
       "      <td>995356.999517</td>\n",
       "      <td>30490.0</td>\n",
       "      <td>68131.00</td>\n",
       "      <td>212479.0</td>\n",
       "      <td>1289500.0</td>\n",
       "      <td>7580000.0</td>\n",
       "    </tr>\n",
       "  </tbody>\n",
       "</table>\n",
       "</div>"
      ],
      "text/plain": [
       "            count           mean            std      min       25%       50%  \\\n",
       "Unnamed: 0  299.0     149.000000      86.458082      0.0     74.50     149.0   \n",
       "CC          299.0     472.323612     461.500827      0.0    124.45     249.0   \n",
       "BHP         299.0      53.398662      60.091644      0.0      8.31      20.7   \n",
       "WEIGHT      299.0     148.448829      74.556385      0.0    108.00     137.0   \n",
       "PRICE       299.0  762356.826087  995356.999517  30490.0  68131.00  212479.0   \n",
       "\n",
       "                  75%        max  \n",
       "Unnamed: 0      223.5      298.0  \n",
       "CC              803.0     2458.0  \n",
       "BHP              94.0      317.1  \n",
       "WEIGHT          194.5      421.0  \n",
       "PRICE       1289500.0  7580000.0  "
      ]
     },
     "execution_count": 35,
     "metadata": {},
     "output_type": "execute_result"
    }
   ],
   "source": [
    "p1.describe().T"
   ]
  },
  {
   "cell_type": "code",
   "execution_count": 36,
   "metadata": {},
   "outputs": [
    {
     "data": {
      "text/plain": [
       "0        74916\n",
       "1       107866\n",
       "2        96363\n",
       "3        83277\n",
       "4        93062\n",
       "        ...   \n",
       "294      49226\n",
       "295      46952\n",
       "296    2829434\n",
       "297    1350000\n",
       "298    1490407\n",
       "Name: PRICE, Length: 299, dtype: int64"
      ]
     },
     "execution_count": 36,
     "metadata": {},
     "output_type": "execute_result"
    }
   ],
   "source": [
    "p1['PRICE'].abs() # absolute value"
   ]
  },
  {
   "cell_type": "code",
   "execution_count": 37,
   "metadata": {},
   "outputs": [
    {
     "data": {
      "text/html": [
       "<div>\n",
       "<style scoped>\n",
       "    .dataframe tbody tr th:only-of-type {\n",
       "        vertical-align: middle;\n",
       "    }\n",
       "\n",
       "    .dataframe tbody tr th {\n",
       "        vertical-align: top;\n",
       "    }\n",
       "\n",
       "    .dataframe thead th {\n",
       "        text-align: right;\n",
       "    }\n",
       "</style>\n",
       "<table border=\"1\" class=\"dataframe\">\n",
       "  <thead>\n",
       "    <tr style=\"text-align: right;\">\n",
       "      <th></th>\n",
       "      <th>Unnamed: 0</th>\n",
       "      <th>NAME</th>\n",
       "      <th>CC</th>\n",
       "      <th>BHP</th>\n",
       "      <th>WEIGHT</th>\n",
       "      <th>PRICE</th>\n",
       "      <th>SHOWROOM</th>\n",
       "      <th>LOCATION</th>\n",
       "    </tr>\n",
       "  </thead>\n",
       "  <tbody>\n",
       "    <tr>\n",
       "      <td>0</td>\n",
       "      <td>0</td>\n",
       "      <td>Vespa Urban Club</td>\n",
       "      <td>125.00</td>\n",
       "      <td>9.50</td>\n",
       "      <td>114.0</td>\n",
       "      <td>74916</td>\n",
       "      <td>Ex-showroom</td>\n",
       "      <td>Hyderabad</td>\n",
       "    </tr>\n",
       "    <tr>\n",
       "      <td>1</td>\n",
       "      <td>1</td>\n",
       "      <td>Vespa SXL 150</td>\n",
       "      <td>150.00</td>\n",
       "      <td>11.40</td>\n",
       "      <td>114.0</td>\n",
       "      <td>107866</td>\n",
       "      <td>Ex-showroom</td>\n",
       "      <td>Hyderabad</td>\n",
       "    </tr>\n",
       "    <tr>\n",
       "      <td>2</td>\n",
       "      <td>2</td>\n",
       "      <td>Vespa SXL 125</td>\n",
       "      <td>125.00</td>\n",
       "      <td>9.90</td>\n",
       "      <td>114.0</td>\n",
       "      <td>96363</td>\n",
       "      <td>Ex-showroom</td>\n",
       "      <td>Hyderabad</td>\n",
       "    </tr>\n",
       "    <tr>\n",
       "      <td>3</td>\n",
       "      <td>3</td>\n",
       "      <td>Vespa ZX 125</td>\n",
       "      <td>125.00</td>\n",
       "      <td>9.76</td>\n",
       "      <td>114.0</td>\n",
       "      <td>83277</td>\n",
       "      <td>Ex-showroom</td>\n",
       "      <td>Hyderabad</td>\n",
       "    </tr>\n",
       "    <tr>\n",
       "      <td>4</td>\n",
       "      <td>4</td>\n",
       "      <td>Vespa VXL 125</td>\n",
       "      <td>125.00</td>\n",
       "      <td>9.90</td>\n",
       "      <td>114.0</td>\n",
       "      <td>93062</td>\n",
       "      <td>Ex-showroom</td>\n",
       "      <td>Hyderabad</td>\n",
       "    </tr>\n",
       "    <tr>\n",
       "      <td>...</td>\n",
       "      <td>...</td>\n",
       "      <td>...</td>\n",
       "      <td>...</td>\n",
       "      <td>...</td>\n",
       "      <td>...</td>\n",
       "      <td>...</td>\n",
       "      <td>...</td>\n",
       "      <td>...</td>\n",
       "    </tr>\n",
       "    <tr>\n",
       "      <td>294</td>\n",
       "      <td>294</td>\n",
       "      <td>Honda Navi</td>\n",
       "      <td>109.19</td>\n",
       "      <td>8.00</td>\n",
       "      <td>99.0</td>\n",
       "      <td>49226</td>\n",
       "      <td>Ex-showroom</td>\n",
       "      <td>Mumbai</td>\n",
       "    </tr>\n",
       "    <tr>\n",
       "      <td>295</td>\n",
       "      <td>295</td>\n",
       "      <td>Honda Cliq</td>\n",
       "      <td>109.19</td>\n",
       "      <td>8.00</td>\n",
       "      <td>102.0</td>\n",
       "      <td>46952</td>\n",
       "      <td>Ex-showroom</td>\n",
       "      <td>Mumbai</td>\n",
       "    </tr>\n",
       "    <tr>\n",
       "      <td>296</td>\n",
       "      <td>296</td>\n",
       "      <td>Honda Gold Wing</td>\n",
       "      <td>1833.00</td>\n",
       "      <td>122.50</td>\n",
       "      <td>379.0</td>\n",
       "      <td>2829434</td>\n",
       "      <td>Ex-showroom</td>\n",
       "      <td>Mumbai</td>\n",
       "    </tr>\n",
       "    <tr>\n",
       "      <td>297</td>\n",
       "      <td>297</td>\n",
       "      <td>Honda Africa Twin</td>\n",
       "      <td>999.11</td>\n",
       "      <td>86.04</td>\n",
       "      <td>245.0</td>\n",
       "      <td>1350000</td>\n",
       "      <td>Ex-showroom</td>\n",
       "      <td>Mumbai</td>\n",
       "    </tr>\n",
       "    <tr>\n",
       "      <td>298</td>\n",
       "      <td>298</td>\n",
       "      <td>Honda CB1000R+</td>\n",
       "      <td>999.00</td>\n",
       "      <td>141.40</td>\n",
       "      <td>217.0</td>\n",
       "      <td>1490407</td>\n",
       "      <td>Ex-showroom</td>\n",
       "      <td>Mumbai</td>\n",
       "    </tr>\n",
       "  </tbody>\n",
       "</table>\n",
       "<p>299 rows × 8 columns</p>\n",
       "</div>"
      ],
      "text/plain": [
       "     Unnamed: 0               NAME       CC     BHP  WEIGHT    PRICE  \\\n",
       "0             0   Vespa Urban Club   125.00    9.50   114.0    74916   \n",
       "1             1      Vespa SXL 150   150.00   11.40   114.0   107866   \n",
       "2             2      Vespa SXL 125   125.00    9.90   114.0    96363   \n",
       "3             3       Vespa ZX 125   125.00    9.76   114.0    83277   \n",
       "4             4      Vespa VXL 125   125.00    9.90   114.0    93062   \n",
       "..          ...                ...      ...     ...     ...      ...   \n",
       "294         294         Honda Navi   109.19    8.00    99.0    49226   \n",
       "295         295         Honda Cliq   109.19    8.00   102.0    46952   \n",
       "296         296    Honda Gold Wing  1833.00  122.50   379.0  2829434   \n",
       "297         297  Honda Africa Twin   999.11   86.04   245.0  1350000   \n",
       "298         298     Honda CB1000R+   999.00  141.40   217.0  1490407   \n",
       "\n",
       "        SHOWROOM    LOCATION  \n",
       "0    Ex-showroom   Hyderabad  \n",
       "1    Ex-showroom   Hyderabad  \n",
       "2    Ex-showroom   Hyderabad  \n",
       "3    Ex-showroom   Hyderabad  \n",
       "4    Ex-showroom   Hyderabad  \n",
       "..           ...         ...  \n",
       "294  Ex-showroom      Mumbai  \n",
       "295  Ex-showroom      Mumbai  \n",
       "296  Ex-showroom      Mumbai  \n",
       "297  Ex-showroom      Mumbai  \n",
       "298  Ex-showroom      Mumbai  \n",
       "\n",
       "[299 rows x 8 columns]"
      ]
     },
     "execution_count": 37,
     "metadata": {},
     "output_type": "execute_result"
    }
   ],
   "source": [
    "p1.rename(columns={\"Unnamed:0\":\"S.no\"}) "
   ]
  },
  {
   "cell_type": "code",
   "execution_count": 38,
   "metadata": {},
   "outputs": [],
   "source": [
    "plt.style.use('seaborn-bright') #fivethirtyeight, default, classic, bmh, grayscale"
   ]
  },
  {
   "cell_type": "code",
   "execution_count": 39,
   "metadata": {},
   "outputs": [
    {
     "name": "stderr",
     "output_type": "stream",
     "text": [
      "C:\\Users\\Rahul\\Anaconda3\\lib\\site-packages\\seaborn\\utils.py:376: UserWarning: No parser was explicitly specified, so I'm using the best available HTML parser for this system (\"lxml\"). This usually isn't a problem, but if you run this code on another system, or in a different virtual environment, it may use a different parser and behave differently.\n",
      "\n",
      "The code that caused this warning is on line 376 of the file C:\\Users\\Rahul\\Anaconda3\\lib\\site-packages\\seaborn\\utils.py. To get rid of this warning, pass the additional argument 'features=\"lxml\"' to the BeautifulSoup constructor.\n",
      "\n",
      "  gh_list = BeautifulSoup(http)\n"
     ]
    },
    {
     "data": {
      "text/plain": [
       "['anscombe',\n",
       " 'attention',\n",
       " 'brain_networks',\n",
       " 'car_crashes',\n",
       " 'diamonds',\n",
       " 'dots',\n",
       " 'exercise',\n",
       " 'flights',\n",
       " 'fmri',\n",
       " 'gammas',\n",
       " 'iris',\n",
       " 'mpg',\n",
       " 'planets',\n",
       " 'tips',\n",
       " 'titanic']"
      ]
     },
     "execution_count": 39,
     "metadata": {},
     "output_type": "execute_result"
    }
   ],
   "source": [
    "sns.get_dataset_names()"
   ]
  },
  {
   "cell_type": "markdown",
   "metadata": {},
   "source": [
    "# Univarient analysis"
   ]
  },
  {
   "cell_type": "code",
   "execution_count": 40,
   "metadata": {},
   "outputs": [
    {
     "data": {
      "text/html": [
       "<div>\n",
       "<style scoped>\n",
       "    .dataframe tbody tr th:only-of-type {\n",
       "        vertical-align: middle;\n",
       "    }\n",
       "\n",
       "    .dataframe tbody tr th {\n",
       "        vertical-align: top;\n",
       "    }\n",
       "\n",
       "    .dataframe thead th {\n",
       "        text-align: right;\n",
       "    }\n",
       "</style>\n",
       "<table border=\"1\" class=\"dataframe\">\n",
       "  <thead>\n",
       "    <tr style=\"text-align: right;\">\n",
       "      <th></th>\n",
       "      <th>Unnamed: 0</th>\n",
       "      <th>NAME</th>\n",
       "      <th>CC</th>\n",
       "      <th>BHP</th>\n",
       "      <th>WEIGHT</th>\n",
       "      <th>PRICE</th>\n",
       "      <th>SHOWROOM</th>\n",
       "      <th>LOCATION</th>\n",
       "    </tr>\n",
       "  </thead>\n",
       "  <tbody>\n",
       "    <tr>\n",
       "      <td>0</td>\n",
       "      <td>0</td>\n",
       "      <td>Vespa Urban Club</td>\n",
       "      <td>125.0</td>\n",
       "      <td>9.50</td>\n",
       "      <td>114.0</td>\n",
       "      <td>74916</td>\n",
       "      <td>Ex-showroom</td>\n",
       "      <td>Hyderabad</td>\n",
       "    </tr>\n",
       "    <tr>\n",
       "      <td>1</td>\n",
       "      <td>1</td>\n",
       "      <td>Vespa SXL 150</td>\n",
       "      <td>150.0</td>\n",
       "      <td>11.40</td>\n",
       "      <td>114.0</td>\n",
       "      <td>107866</td>\n",
       "      <td>Ex-showroom</td>\n",
       "      <td>Hyderabad</td>\n",
       "    </tr>\n",
       "    <tr>\n",
       "      <td>2</td>\n",
       "      <td>2</td>\n",
       "      <td>Vespa SXL 125</td>\n",
       "      <td>125.0</td>\n",
       "      <td>9.90</td>\n",
       "      <td>114.0</td>\n",
       "      <td>96363</td>\n",
       "      <td>Ex-showroom</td>\n",
       "      <td>Hyderabad</td>\n",
       "    </tr>\n",
       "    <tr>\n",
       "      <td>3</td>\n",
       "      <td>3</td>\n",
       "      <td>Vespa ZX 125</td>\n",
       "      <td>125.0</td>\n",
       "      <td>9.76</td>\n",
       "      <td>114.0</td>\n",
       "      <td>83277</td>\n",
       "      <td>Ex-showroom</td>\n",
       "      <td>Hyderabad</td>\n",
       "    </tr>\n",
       "    <tr>\n",
       "      <td>4</td>\n",
       "      <td>4</td>\n",
       "      <td>Vespa VXL 125</td>\n",
       "      <td>125.0</td>\n",
       "      <td>9.90</td>\n",
       "      <td>114.0</td>\n",
       "      <td>93062</td>\n",
       "      <td>Ex-showroom</td>\n",
       "      <td>Hyderabad</td>\n",
       "    </tr>\n",
       "  </tbody>\n",
       "</table>\n",
       "</div>"
      ],
      "text/plain": [
       "   Unnamed: 0              NAME     CC    BHP  WEIGHT   PRICE     SHOWROOM  \\\n",
       "0           0  Vespa Urban Club  125.0   9.50   114.0   74916  Ex-showroom   \n",
       "1           1     Vespa SXL 150  150.0  11.40   114.0  107866  Ex-showroom   \n",
       "2           2     Vespa SXL 125  125.0   9.90   114.0   96363  Ex-showroom   \n",
       "3           3      Vespa ZX 125  125.0   9.76   114.0   83277  Ex-showroom   \n",
       "4           4     Vespa VXL 125  125.0   9.90   114.0   93062  Ex-showroom   \n",
       "\n",
       "     LOCATION  \n",
       "0   Hyderabad  \n",
       "1   Hyderabad  \n",
       "2   Hyderabad  \n",
       "3   Hyderabad  \n",
       "4   Hyderabad  "
      ]
     },
     "execution_count": 40,
     "metadata": {},
     "output_type": "execute_result"
    }
   ],
   "source": [
    "p1.head()"
   ]
  },
  {
   "cell_type": "code",
   "execution_count": 41,
   "metadata": {},
   "outputs": [
    {
     "data": {
      "text/plain": [
       "<matplotlib.axes._subplots.AxesSubplot at 0x21cdfe6e6c8>"
      ]
     },
     "execution_count": 41,
     "metadata": {},
     "output_type": "execute_result"
    },
    {
     "data": {
      "image/png": "[encoded data removed]",
      "text/plain": [
       "<Figure size 432x288 with 1 Axes>"
      ]
     },
     "metadata": {},
     "output_type": "display_data"
    }
   ],
   "source": [
    "p1['BHP'].plot(kind=\"box\") # possitive skewness mean is graterthan median"
   ]
  },
  {
   "cell_type": "code",
   "execution_count": 42,
   "metadata": {},
   "outputs": [
    {
     "data": {
      "text/plain": [
       "<matplotlib.axes._subplots.AxesSubplot at 0x21cdfd63208>"
      ]
     },
     "execution_count": 42,
     "metadata": {},
     "output_type": "execute_result"
    },
    {
     "data": {
      "image/png": "[encoded data removed]",
      "text/plain": [
       "<Figure size 432x288 with 1 Axes>"
      ]
     },
     "metadata": {},
     "output_type": "display_data"
    }
   ],
   "source": [
    "p1[\"CC\"].plot(kind=\"box\") "
   ]
  },
  {
   "cell_type": "code",
   "execution_count": 43,
   "metadata": {},
   "outputs": [
    {
     "data": {
      "text/plain": [
       "<matplotlib.axes._subplots.AxesSubplot at 0x21cdfd97808>"
      ]
     },
     "execution_count": 43,
     "metadata": {},
     "output_type": "execute_result"
    },
    {
     "data": {
      "image/png": "[encoded data removed]",
      "text/plain": [
       "<Figure size 432x288 with 1 Axes>"
      ]
     },
     "metadata": {},
     "output_type": "display_data"
    }
   ],
   "source": [
    "p1['PRICE'].plot(kind=\"box\")#red line is near to 25% max bikes near to 1lakh"
   ]
  },
  {
   "cell_type": "code",
   "execution_count": 44,
   "metadata": {},
   "outputs": [
    {
     "data": {
      "text/plain": [
       "<matplotlib.axes._subplots.AxesSubplot at 0x21cdfe23b48>"
      ]
     },
     "execution_count": 44,
     "metadata": {},
     "output_type": "execute_result"
    },
    {
     "data": {
      "image/png": "[encoded data removed]",
      "text/plain": [
       "<Figure size 432x288 with 1 Axes>"
      ]
     },
     "metadata": {},
     "output_type": "display_data"
    }
   ],
   "source": [
    "p1[\"LOCATION\"].value_counts().plot(kind=\"bar\") "
   ]
  },
  {
   "cell_type": "code",
   "execution_count": 45,
   "metadata": {},
   "outputs": [
    {
     "data": {
      "text/plain": [
       "<matplotlib.axes._subplots.AxesSubplot at 0x21cdfd84348>"
      ]
     },
     "execution_count": 45,
     "metadata": {},
     "output_type": "execute_result"
    },
    {
     "data": {
      "image/png": "[encoded data removed]",
      "text/plain": [
       "<Figure size 432x288 with 1 Axes>"
      ]
     },
     "metadata": {},
     "output_type": "display_data"
    }
   ],
   "source": [
    "p1[\"SHOWROOM\"].value_counts().plot(kind=\"bar\")  "
   ]
  },
  {
   "cell_type": "markdown",
   "metadata": {},
   "source": [
    "# Bivarient analysis"
   ]
  },
  {
   "cell_type": "code",
   "execution_count": 46,
   "metadata": {},
   "outputs": [],
   "source": [
    "# group by\n",
    "# the group by method allows you to gruop rows of data together and call aggregate fuctions"
   ]
  },
  {
   "cell_type": "code",
   "execution_count": 47,
   "metadata": {},
   "outputs": [],
   "source": [
    "#*  now you can use the .groupby() method to group rows together based off of a column name. for instance lets gruop based off of comapny\n",
    "#this will create a dataframegroupby object"
   ]
  },
  {
   "cell_type": "code",
   "execution_count": 48,
   "metadata": {},
   "outputs": [
    {
     "data": {
      "text/plain": [
       "<pandas.core.groupby.generic.DataFrameGroupBy object at 0x0000021CDFE652C8>"
      ]
     },
     "execution_count": 48,
     "metadata": {},
     "output_type": "execute_result"
    }
   ],
   "source": [
    "p1.groupby('NAME')"
   ]
  },
  {
   "cell_type": "code",
   "execution_count": 49,
   "metadata": {},
   "outputs": [
    {
     "data": {
      "text/html": [
       "<div>\n",
       "<style scoped>\n",
       "    .dataframe tbody tr th:only-of-type {\n",
       "        vertical-align: middle;\n",
       "    }\n",
       "\n",
       "    .dataframe tbody tr th {\n",
       "        vertical-align: top;\n",
       "    }\n",
       "\n",
       "    .dataframe thead th {\n",
       "        text-align: right;\n",
       "    }\n",
       "</style>\n",
       "<table border=\"1\" class=\"dataframe\">\n",
       "  <thead>\n",
       "    <tr style=\"text-align: right;\">\n",
       "      <th></th>\n",
       "      <th>count</th>\n",
       "      <th>mean</th>\n",
       "      <th>std</th>\n",
       "      <th>min</th>\n",
       "      <th>25%</th>\n",
       "      <th>50%</th>\n",
       "      <th>75%</th>\n",
       "      <th>max</th>\n",
       "    </tr>\n",
       "    <tr>\n",
       "      <th>CC</th>\n",
       "      <th></th>\n",
       "      <th></th>\n",
       "      <th></th>\n",
       "      <th></th>\n",
       "      <th></th>\n",
       "      <th></th>\n",
       "      <th></th>\n",
       "      <th></th>\n",
       "    </tr>\n",
       "  </thead>\n",
       "  <tbody>\n",
       "    <tr>\n",
       "      <td>0.0</td>\n",
       "      <td>17.0</td>\n",
       "      <td>5.338571e+04</td>\n",
       "      <td>16188.649279</td>\n",
       "      <td>34299.0</td>\n",
       "      <td>41770.0</td>\n",
       "      <td>55850.0</td>\n",
       "      <td>61868.0</td>\n",
       "      <td>100000.0</td>\n",
       "    </tr>\n",
       "    <tr>\n",
       "      <td>49.0</td>\n",
       "      <td>1.0</td>\n",
       "      <td>2.609450e+05</td>\n",
       "      <td>NaN</td>\n",
       "      <td>260945.0</td>\n",
       "      <td>260945.0</td>\n",
       "      <td>260945.0</td>\n",
       "      <td>260945.0</td>\n",
       "      <td>260945.0</td>\n",
       "    </tr>\n",
       "    <tr>\n",
       "      <td>79.0</td>\n",
       "      <td>1.0</td>\n",
       "      <td>8.600000e+05</td>\n",
       "      <td>NaN</td>\n",
       "      <td>860000.0</td>\n",
       "      <td>860000.0</td>\n",
       "      <td>860000.0</td>\n",
       "      <td>860000.0</td>\n",
       "      <td>860000.0</td>\n",
       "    </tr>\n",
       "    <tr>\n",
       "      <td>88.0</td>\n",
       "      <td>1.0</td>\n",
       "      <td>4.300700e+04</td>\n",
       "      <td>NaN</td>\n",
       "      <td>43007.0</td>\n",
       "      <td>43007.0</td>\n",
       "      <td>43007.0</td>\n",
       "      <td>43007.0</td>\n",
       "      <td>43007.0</td>\n",
       "    </tr>\n",
       "    <tr>\n",
       "      <td>97.0</td>\n",
       "      <td>1.0</td>\n",
       "      <td>3.999000e+04</td>\n",
       "      <td>NaN</td>\n",
       "      <td>39990.0</td>\n",
       "      <td>39990.0</td>\n",
       "      <td>39990.0</td>\n",
       "      <td>39990.0</td>\n",
       "      <td>39990.0</td>\n",
       "    </tr>\n",
       "    <tr>\n",
       "      <td>...</td>\n",
       "      <td>...</td>\n",
       "      <td>...</td>\n",
       "      <td>...</td>\n",
       "      <td>...</td>\n",
       "      <td>...</td>\n",
       "      <td>...</td>\n",
       "      <td>...</td>\n",
       "      <td>...</td>\n",
       "    </tr>\n",
       "    <tr>\n",
       "      <td>1380.0</td>\n",
       "      <td>4.0</td>\n",
       "      <td>1.853564e+06</td>\n",
       "      <td>665560.149612</td>\n",
       "      <td>1322238.0</td>\n",
       "      <td>1322238.0</td>\n",
       "      <td>1695576.0</td>\n",
       "      <td>2226902.0</td>\n",
       "      <td>2700866.0</td>\n",
       "    </tr>\n",
       "    <tr>\n",
       "      <td>1441.0</td>\n",
       "      <td>1.0</td>\n",
       "      <td>1.970000e+06</td>\n",
       "      <td>NaN</td>\n",
       "      <td>1970000.0</td>\n",
       "      <td>1970000.0</td>\n",
       "      <td>1970000.0</td>\n",
       "      <td>1970000.0</td>\n",
       "      <td>1970000.0</td>\n",
       "    </tr>\n",
       "    <tr>\n",
       "      <td>1811.0</td>\n",
       "      <td>8.0</td>\n",
       "      <td>3.095949e+06</td>\n",
       "      <td>798792.377725</td>\n",
       "      <td>2020000.0</td>\n",
       "      <td>2431750.0</td>\n",
       "      <td>3274999.5</td>\n",
       "      <td>3552647.5</td>\n",
       "      <td>4215000.0</td>\n",
       "    </tr>\n",
       "    <tr>\n",
       "      <td>1833.0</td>\n",
       "      <td>1.0</td>\n",
       "      <td>2.829434e+06</td>\n",
       "      <td>NaN</td>\n",
       "      <td>2829434.0</td>\n",
       "      <td>2829434.0</td>\n",
       "      <td>2829434.0</td>\n",
       "      <td>2829434.0</td>\n",
       "      <td>2829434.0</td>\n",
       "    </tr>\n",
       "    <tr>\n",
       "      <td>2458.0</td>\n",
       "      <td>1.0</td>\n",
       "      <td>1.800000e+06</td>\n",
       "      <td>NaN</td>\n",
       "      <td>1800000.0</td>\n",
       "      <td>1800000.0</td>\n",
       "      <td>1800000.0</td>\n",
       "      <td>1800000.0</td>\n",
       "      <td>1800000.0</td>\n",
       "    </tr>\n",
       "  </tbody>\n",
       "</table>\n",
       "<p>115 rows × 8 columns</p>\n",
       "</div>"
      ],
      "text/plain": [
       "        count          mean            std        min        25%        50%  \\\n",
       "CC                                                                            \n",
       "0.0      17.0  5.338571e+04   16188.649279    34299.0    41770.0    55850.0   \n",
       "49.0      1.0  2.609450e+05            NaN   260945.0   260945.0   260945.0   \n",
       "79.0      1.0  8.600000e+05            NaN   860000.0   860000.0   860000.0   \n",
       "88.0      1.0  4.300700e+04            NaN    43007.0    43007.0    43007.0   \n",
       "97.0      1.0  3.999000e+04            NaN    39990.0    39990.0    39990.0   \n",
       "...       ...           ...            ...        ...        ...        ...   \n",
       "1380.0    4.0  1.853564e+06  665560.149612  1322238.0  1322238.0  1695576.0   \n",
       "1441.0    1.0  1.970000e+06            NaN  1970000.0  1970000.0  1970000.0   \n",
       "1811.0    8.0  3.095949e+06  798792.377725  2020000.0  2431750.0  3274999.5   \n",
       "1833.0    1.0  2.829434e+06            NaN  2829434.0  2829434.0  2829434.0   \n",
       "2458.0    1.0  1.800000e+06            NaN  1800000.0  1800000.0  1800000.0   \n",
       "\n",
       "              75%        max  \n",
       "CC                            \n",
       "0.0       61868.0   100000.0  \n",
       "49.0     260945.0   260945.0  \n",
       "79.0     860000.0   860000.0  \n",
       "88.0      43007.0    43007.0  \n",
       "97.0      39990.0    39990.0  \n",
       "...           ...        ...  \n",
       "1380.0  2226902.0  2700866.0  \n",
       "1441.0  1970000.0  1970000.0  \n",
       "1811.0  3552647.5  4215000.0  \n",
       "1833.0  2829434.0  2829434.0  \n",
       "2458.0  1800000.0  1800000.0  \n",
       "\n",
       "[115 rows x 8 columns]"
      ]
     },
     "execution_count": 49,
     "metadata": {},
     "output_type": "execute_result"
    }
   ],
   "source": [
    "p1.groupby(['CC']).describe()['PRICE'] "
   ]
  },
  {
   "cell_type": "code",
   "execution_count": 50,
   "metadata": {},
   "outputs": [
    {
     "data": {
      "text/plain": [
       "<matplotlib.axes._subplots.AxesSubplot at 0x21ce0217b48>"
      ]
     },
     "execution_count": 50,
     "metadata": {},
     "output_type": "execute_result"
    },
    {
     "data": {
      "image/png": "[encoded data removed]",
      "text/plain": [
       "<Figure size 432x288 with 1 Axes>"
      ]
     },
     "metadata": {},
     "output_type": "display_data"
    }
   ],
   "source": [
    "p1.groupby([\"LOCATION\"]).describe()[\"PRICE\"].transpose().plot(kind=\"box\") # in this LOCATION is on xaxis and PRICES is on y-AXIS"
   ]
  },
  {
   "cell_type": "code",
   "execution_count": 51,
   "metadata": {},
   "outputs": [
    {
     "data": {
      "text/plain": [
       "<matplotlib.axes._subplots.AxesSubplot at 0x21ce0201588>"
      ]
     },
     "execution_count": 51,
     "metadata": {},
     "output_type": "execute_result"
    },
    {
     "data": {
      "image/png": "[encoded data removed]",
      "text/plain": [
       "<Figure size 432x288 with 1 Axes>"
      ]
     },
     "metadata": {},
     "output_type": "display_data"
    }
   ],
   "source": [
    "p1.groupby([\"SHOWROOM\"]).describe()[\"PRICE\"].transpose().plot(kind=\"box\") "
   ]
  },
  {
   "cell_type": "code",
   "execution_count": 52,
   "metadata": {},
   "outputs": [
    {
     "data": {
      "text/html": [
       "<div>\n",
       "<style scoped>\n",
       "    .dataframe tbody tr th:only-of-type {\n",
       "        vertical-align: middle;\n",
       "    }\n",
       "\n",
       "    .dataframe tbody tr th {\n",
       "        vertical-align: top;\n",
       "    }\n",
       "\n",
       "    .dataframe thead th {\n",
       "        text-align: right;\n",
       "    }\n",
       "</style>\n",
       "<table border=\"1\" class=\"dataframe\">\n",
       "  <thead>\n",
       "    <tr style=\"text-align: right;\">\n",
       "      <th></th>\n",
       "      <th>count</th>\n",
       "      <th>mean</th>\n",
       "      <th>std</th>\n",
       "      <th>min</th>\n",
       "      <th>25%</th>\n",
       "      <th>50%</th>\n",
       "      <th>75%</th>\n",
       "      <th>max</th>\n",
       "    </tr>\n",
       "    <tr>\n",
       "      <th>LOCATION</th>\n",
       "      <th></th>\n",
       "      <th></th>\n",
       "      <th></th>\n",
       "      <th></th>\n",
       "      <th></th>\n",
       "      <th></th>\n",
       "      <th></th>\n",
       "      <th></th>\n",
       "    </tr>\n",
       "  </thead>\n",
       "  <tbody>\n",
       "    <tr>\n",
       "      <td>Hyderabad</td>\n",
       "      <td>29.0</td>\n",
       "      <td>1.225006e+06</td>\n",
       "      <td>1.315637e+06</td>\n",
       "      <td>74916.0</td>\n",
       "      <td>114338.00</td>\n",
       "      <td>550000.0</td>\n",
       "      <td>2020000.0</td>\n",
       "      <td>4215000.0</td>\n",
       "    </tr>\n",
       "    <tr>\n",
       "      <td>Mumbai</td>\n",
       "      <td>270.0</td>\n",
       "      <td>7.126649e+05</td>\n",
       "      <td>9.443630e+05</td>\n",
       "      <td>30490.0</td>\n",
       "      <td>65208.75</td>\n",
       "      <td>203511.5</td>\n",
       "      <td>1215600.0</td>\n",
       "      <td>7580000.0</td>\n",
       "    </tr>\n",
       "  </tbody>\n",
       "</table>\n",
       "</div>"
      ],
      "text/plain": [
       "            count          mean           std      min        25%       50%  \\\n",
       "LOCATION                                                                      \n",
       " Hyderabad   29.0  1.225006e+06  1.315637e+06  74916.0  114338.00  550000.0   \n",
       " Mumbai     270.0  7.126649e+05  9.443630e+05  30490.0   65208.75  203511.5   \n",
       "\n",
       "                  75%        max  \n",
       "LOCATION                          \n",
       " Hyderabad  2020000.0  4215000.0  \n",
       " Mumbai     1215600.0  7580000.0  "
      ]
     },
     "execution_count": 52,
     "metadata": {},
     "output_type": "execute_result"
    }
   ],
   "source": [
    "p1.groupby(['LOCATION']).describe()[\"PRICE\"] # though in hyd bike price is less comapre to mumbai"
   ]
  },
  {
   "cell_type": "code",
   "execution_count": 53,
   "metadata": {},
   "outputs": [
    {
     "name": "stderr",
     "output_type": "stream",
     "text": [
      "C:\\Users\\Rahul\\Anaconda3\\lib\\site-packages\\pandas\\core\\ops\\__init__.py:1115: FutureWarning: elementwise comparison failed; returning scalar instead, but in the future will perform elementwise comparison\n",
      "  result = method(y)\n"
     ]
    },
    {
     "data": {
      "text/html": [
       "<div>\n",
       "<style scoped>\n",
       "    .dataframe tbody tr th:only-of-type {\n",
       "        vertical-align: middle;\n",
       "    }\n",
       "\n",
       "    .dataframe tbody tr th {\n",
       "        vertical-align: top;\n",
       "    }\n",
       "\n",
       "    .dataframe thead th {\n",
       "        text-align: right;\n",
       "    }\n",
       "</style>\n",
       "<table border=\"1\" class=\"dataframe\">\n",
       "  <thead>\n",
       "    <tr style=\"text-align: right;\">\n",
       "      <th></th>\n",
       "      <th>Unnamed: 0</th>\n",
       "      <th>CC</th>\n",
       "      <th>BHP</th>\n",
       "      <th>WEIGHT</th>\n",
       "      <th>PRICE</th>\n",
       "    </tr>\n",
       "  </thead>\n",
       "  <tbody>\n",
       "    <tr>\n",
       "      <td>count</td>\n",
       "      <td>0.0</td>\n",
       "      <td>0.0</td>\n",
       "      <td>0.0</td>\n",
       "      <td>0.0</td>\n",
       "      <td>0.0</td>\n",
       "    </tr>\n",
       "    <tr>\n",
       "      <td>mean</td>\n",
       "      <td>NaN</td>\n",
       "      <td>NaN</td>\n",
       "      <td>NaN</td>\n",
       "      <td>NaN</td>\n",
       "      <td>NaN</td>\n",
       "    </tr>\n",
       "    <tr>\n",
       "      <td>std</td>\n",
       "      <td>NaN</td>\n",
       "      <td>NaN</td>\n",
       "      <td>NaN</td>\n",
       "      <td>NaN</td>\n",
       "      <td>NaN</td>\n",
       "    </tr>\n",
       "    <tr>\n",
       "      <td>min</td>\n",
       "      <td>NaN</td>\n",
       "      <td>NaN</td>\n",
       "      <td>NaN</td>\n",
       "      <td>NaN</td>\n",
       "      <td>NaN</td>\n",
       "    </tr>\n",
       "    <tr>\n",
       "      <td>25%</td>\n",
       "      <td>NaN</td>\n",
       "      <td>NaN</td>\n",
       "      <td>NaN</td>\n",
       "      <td>NaN</td>\n",
       "      <td>NaN</td>\n",
       "    </tr>\n",
       "    <tr>\n",
       "      <td>50%</td>\n",
       "      <td>NaN</td>\n",
       "      <td>NaN</td>\n",
       "      <td>NaN</td>\n",
       "      <td>NaN</td>\n",
       "      <td>NaN</td>\n",
       "    </tr>\n",
       "    <tr>\n",
       "      <td>75%</td>\n",
       "      <td>NaN</td>\n",
       "      <td>NaN</td>\n",
       "      <td>NaN</td>\n",
       "      <td>NaN</td>\n",
       "      <td>NaN</td>\n",
       "    </tr>\n",
       "    <tr>\n",
       "      <td>max</td>\n",
       "      <td>NaN</td>\n",
       "      <td>NaN</td>\n",
       "      <td>NaN</td>\n",
       "      <td>NaN</td>\n",
       "      <td>NaN</td>\n",
       "    </tr>\n",
       "  </tbody>\n",
       "</table>\n",
       "</div>"
      ],
      "text/plain": [
       "       Unnamed: 0   CC  BHP  WEIGHT  PRICE\n",
       "count         0.0  0.0  0.0     0.0    0.0\n",
       "mean          NaN  NaN  NaN     NaN    NaN\n",
       "std           NaN  NaN  NaN     NaN    NaN\n",
       "min           NaN  NaN  NaN     NaN    NaN\n",
       "25%           NaN  NaN  NaN     NaN    NaN\n",
       "50%           NaN  NaN  NaN     NaN    NaN\n",
       "75%           NaN  NaN  NaN     NaN    NaN\n",
       "max           NaN  NaN  NaN     NaN    NaN"
      ]
     },
     "execution_count": 53,
     "metadata": {},
     "output_type": "execute_result"
    }
   ],
   "source": [
    "p1[(p1['CC']=='125.0') & (p1['BHP']=='9.76')].describe()  # DOUBT"
   ]
  },
  {
   "cell_type": "code",
   "execution_count": 54,
   "metadata": {},
   "outputs": [
    {
     "data": {
      "text/plain": [
       "204977    3\n",
       "61600     2\n",
       "860000    2\n",
       "45099     2\n",
       "299000    2\n",
       "         ..\n",
       "94012     1\n",
       "67899     1\n",
       "499000    1\n",
       "52700     1\n",
       "102400    1\n",
       "Name: PRICE, Length: 285, dtype: int64"
      ]
     },
     "execution_count": 54,
     "metadata": {},
     "output_type": "execute_result"
    }
   ],
   "source": [
    "p1['PRICE'].value_counts() "
   ]
  },
  {
   "cell_type": "markdown",
   "metadata": {},
   "source": [
    "# multi varient analysis"
   ]
  },
  {
   "cell_type": "code",
   "execution_count": 55,
   "metadata": {},
   "outputs": [
    {
     "data": {
      "text/html": [
       "<div>\n",
       "<style scoped>\n",
       "    .dataframe tbody tr th:only-of-type {\n",
       "        vertical-align: middle;\n",
       "    }\n",
       "\n",
       "    .dataframe tbody tr th {\n",
       "        vertical-align: top;\n",
       "    }\n",
       "\n",
       "    .dataframe thead tr th {\n",
       "        text-align: left;\n",
       "    }\n",
       "\n",
       "    .dataframe thead tr:last-of-type th {\n",
       "        text-align: right;\n",
       "    }\n",
       "</style>\n",
       "<table border=\"1\" class=\"dataframe\">\n",
       "  <thead>\n",
       "    <tr>\n",
       "      <th></th>\n",
       "      <th colspan=\"21\" halign=\"left\">PRICE</th>\n",
       "    </tr>\n",
       "    <tr>\n",
       "      <th>CC</th>\n",
       "      <th>0.0</th>\n",
       "      <th>49.0</th>\n",
       "      <th>79.0</th>\n",
       "      <th>88.0</th>\n",
       "      <th>97.0</th>\n",
       "      <th>97.2</th>\n",
       "      <th>99.0</th>\n",
       "      <th>99.27</th>\n",
       "      <th>99.7</th>\n",
       "      <th>100.0</th>\n",
       "      <th>...</th>\n",
       "      <th>1197.0</th>\n",
       "      <th>1200.0</th>\n",
       "      <th>1203.0</th>\n",
       "      <th>1340.0</th>\n",
       "      <th>1380.0</th>\n",
       "      <th>1441.0</th>\n",
       "      <th>1811.0</th>\n",
       "      <th>1833.0</th>\n",
       "      <th>2458.0</th>\n",
       "      <th>All</th>\n",
       "    </tr>\n",
       "    <tr>\n",
       "      <th>LOCATION</th>\n",
       "      <th></th>\n",
       "      <th></th>\n",
       "      <th></th>\n",
       "      <th></th>\n",
       "      <th></th>\n",
       "      <th></th>\n",
       "      <th></th>\n",
       "      <th></th>\n",
       "      <th></th>\n",
       "      <th></th>\n",
       "      <th></th>\n",
       "      <th></th>\n",
       "      <th></th>\n",
       "      <th></th>\n",
       "      <th></th>\n",
       "      <th></th>\n",
       "      <th></th>\n",
       "      <th></th>\n",
       "      <th></th>\n",
       "      <th></th>\n",
       "      <th></th>\n",
       "    </tr>\n",
       "  </thead>\n",
       "  <tbody>\n",
       "    <tr>\n",
       "      <td>Hyderabad</td>\n",
       "      <td>NaN</td>\n",
       "      <td>NaN</td>\n",
       "      <td>NaN</td>\n",
       "      <td>NaN</td>\n",
       "      <td>NaN</td>\n",
       "      <td>NaN</td>\n",
       "      <td>NaN</td>\n",
       "      <td>NaN</td>\n",
       "      <td>NaN</td>\n",
       "      <td>NaN</td>\n",
       "      <td>...</td>\n",
       "      <td>NaN</td>\n",
       "      <td>NaN</td>\n",
       "      <td>1599000.0</td>\n",
       "      <td>NaN</td>\n",
       "      <td>NaN</td>\n",
       "      <td>NaN</td>\n",
       "      <td>3095948.625</td>\n",
       "      <td>NaN</td>\n",
       "      <td>NaN</td>\n",
       "      <td>1.225006e+06</td>\n",
       "    </tr>\n",
       "    <tr>\n",
       "      <td>Mumbai</td>\n",
       "      <td>53385.705882</td>\n",
       "      <td>260945.0</td>\n",
       "      <td>860000.0</td>\n",
       "      <td>43007.0</td>\n",
       "      <td>39990.0</td>\n",
       "      <td>52271.25</td>\n",
       "      <td>395324.0</td>\n",
       "      <td>107302.0</td>\n",
       "      <td>38530.666667</td>\n",
       "      <td>41957.0</td>\n",
       "      <td>...</td>\n",
       "      <td>1738349.0</td>\n",
       "      <td>1.156329e+06</td>\n",
       "      <td>NaN</td>\n",
       "      <td>1374941.0</td>\n",
       "      <td>1853564.0</td>\n",
       "      <td>1970000.0</td>\n",
       "      <td>NaN</td>\n",
       "      <td>2829434.0</td>\n",
       "      <td>1800000.0</td>\n",
       "      <td>7.126649e+05</td>\n",
       "    </tr>\n",
       "    <tr>\n",
       "      <td>All</td>\n",
       "      <td>53385.705882</td>\n",
       "      <td>260945.0</td>\n",
       "      <td>860000.0</td>\n",
       "      <td>43007.0</td>\n",
       "      <td>39990.0</td>\n",
       "      <td>52271.25</td>\n",
       "      <td>395324.0</td>\n",
       "      <td>107302.0</td>\n",
       "      <td>38530.666667</td>\n",
       "      <td>41957.0</td>\n",
       "      <td>...</td>\n",
       "      <td>1738349.0</td>\n",
       "      <td>1.156329e+06</td>\n",
       "      <td>1599000.0</td>\n",
       "      <td>1374941.0</td>\n",
       "      <td>1853564.0</td>\n",
       "      <td>1970000.0</td>\n",
       "      <td>3095948.625</td>\n",
       "      <td>2829434.0</td>\n",
       "      <td>1800000.0</td>\n",
       "      <td>7.623568e+05</td>\n",
       "    </tr>\n",
       "  </tbody>\n",
       "</table>\n",
       "<p>3 rows × 116 columns</p>\n",
       "</div>"
      ],
      "text/plain": [
       "                   PRICE                                                  \\\n",
       "CC                   0.0      49.0      79.0     88.0     97.0      97.2   \n",
       "LOCATION                                                                   \n",
       " Hyderabad           NaN       NaN       NaN      NaN      NaN       NaN   \n",
       " Mumbai     53385.705882  260945.0  860000.0  43007.0  39990.0  52271.25   \n",
       "All         53385.705882  260945.0  860000.0  43007.0  39990.0  52271.25   \n",
       "\n",
       "                                                       ...             \\\n",
       "CC              99.0     99.27          99.7    100.0  ...     1197.0   \n",
       "LOCATION                                               ...              \n",
       " Hyderabad       NaN       NaN           NaN      NaN  ...        NaN   \n",
       " Mumbai     395324.0  107302.0  38530.666667  41957.0  ...  1738349.0   \n",
       "All         395324.0  107302.0  38530.666667  41957.0  ...  1738349.0   \n",
       "\n",
       "                                                                      \\\n",
       "CC                1200.0     1203.0     1340.0     1380.0     1441.0   \n",
       "LOCATION                                                               \n",
       " Hyderabad           NaN  1599000.0        NaN        NaN        NaN   \n",
       " Mumbai     1.156329e+06        NaN  1374941.0  1853564.0  1970000.0   \n",
       "All         1.156329e+06  1599000.0  1374941.0  1853564.0  1970000.0   \n",
       "\n",
       "                                                             \n",
       "CC               1811.0     1833.0     2458.0           All  \n",
       "LOCATION                                                     \n",
       " Hyderabad  3095948.625        NaN        NaN  1.225006e+06  \n",
       " Mumbai             NaN  2829434.0  1800000.0  7.126649e+05  \n",
       "All         3095948.625  2829434.0  1800000.0  7.623568e+05  \n",
       "\n",
       "[3 rows x 116 columns]"
      ]
     },
     "execution_count": 55,
     "metadata": {},
     "output_type": "execute_result"
    }
   ],
   "source": [
    "p1.pivot_table(values=[\"PRICE\"],index=\"LOCATION\",columns=\"CC\",margins=True)#this analyses ON LOCTAION AND CC , PRICE"
   ]
  },
  {
   "cell_type": "code",
   "execution_count": 56,
   "metadata": {},
   "outputs": [
    {
     "data": {
      "text/html": [
       "<div>\n",
       "<style scoped>\n",
       "    .dataframe tbody tr th:only-of-type {\n",
       "        vertical-align: middle;\n",
       "    }\n",
       "\n",
       "    .dataframe tbody tr th {\n",
       "        vertical-align: top;\n",
       "    }\n",
       "\n",
       "    .dataframe thead tr th {\n",
       "        text-align: left;\n",
       "    }\n",
       "\n",
       "    .dataframe thead tr:last-of-type th {\n",
       "        text-align: right;\n",
       "    }\n",
       "</style>\n",
       "<table border=\"1\" class=\"dataframe\">\n",
       "  <thead>\n",
       "    <tr>\n",
       "      <th></th>\n",
       "      <th colspan=\"21\" halign=\"left\">PRICE</th>\n",
       "    </tr>\n",
       "    <tr>\n",
       "      <th>CC</th>\n",
       "      <th>0.0</th>\n",
       "      <th>49.0</th>\n",
       "      <th>79.0</th>\n",
       "      <th>88.0</th>\n",
       "      <th>97.0</th>\n",
       "      <th>97.2</th>\n",
       "      <th>99.0</th>\n",
       "      <th>99.27</th>\n",
       "      <th>99.7</th>\n",
       "      <th>100.0</th>\n",
       "      <th>...</th>\n",
       "      <th>1197.0</th>\n",
       "      <th>1200.0</th>\n",
       "      <th>1203.0</th>\n",
       "      <th>1340.0</th>\n",
       "      <th>1380.0</th>\n",
       "      <th>1441.0</th>\n",
       "      <th>1811.0</th>\n",
       "      <th>1833.0</th>\n",
       "      <th>2458.0</th>\n",
       "      <th>All</th>\n",
       "    </tr>\n",
       "    <tr>\n",
       "      <th>LOCATION</th>\n",
       "      <th></th>\n",
       "      <th></th>\n",
       "      <th></th>\n",
       "      <th></th>\n",
       "      <th></th>\n",
       "      <th></th>\n",
       "      <th></th>\n",
       "      <th></th>\n",
       "      <th></th>\n",
       "      <th></th>\n",
       "      <th></th>\n",
       "      <th></th>\n",
       "      <th></th>\n",
       "      <th></th>\n",
       "      <th></th>\n",
       "      <th></th>\n",
       "      <th></th>\n",
       "      <th></th>\n",
       "      <th></th>\n",
       "      <th></th>\n",
       "      <th></th>\n",
       "    </tr>\n",
       "  </thead>\n",
       "  <tbody>\n",
       "    <tr>\n",
       "      <td>Hyderabad</td>\n",
       "      <td>NaN</td>\n",
       "      <td>NaN</td>\n",
       "      <td>NaN</td>\n",
       "      <td>NaN</td>\n",
       "      <td>NaN</td>\n",
       "      <td>NaN</td>\n",
       "      <td>NaN</td>\n",
       "      <td>NaN</td>\n",
       "      <td>NaN</td>\n",
       "      <td>NaN</td>\n",
       "      <td>...</td>\n",
       "      <td>NaN</td>\n",
       "      <td>NaN</td>\n",
       "      <td>1.0</td>\n",
       "      <td>NaN</td>\n",
       "      <td>NaN</td>\n",
       "      <td>NaN</td>\n",
       "      <td>8.0</td>\n",
       "      <td>NaN</td>\n",
       "      <td>NaN</td>\n",
       "      <td>29</td>\n",
       "    </tr>\n",
       "    <tr>\n",
       "      <td>Mumbai</td>\n",
       "      <td>17.0</td>\n",
       "      <td>1.0</td>\n",
       "      <td>1.0</td>\n",
       "      <td>1.0</td>\n",
       "      <td>1.0</td>\n",
       "      <td>4.0</td>\n",
       "      <td>2.0</td>\n",
       "      <td>1.0</td>\n",
       "      <td>3.0</td>\n",
       "      <td>1.0</td>\n",
       "      <td>...</td>\n",
       "      <td>1.0</td>\n",
       "      <td>7.0</td>\n",
       "      <td>NaN</td>\n",
       "      <td>1.0</td>\n",
       "      <td>4.0</td>\n",
       "      <td>1.0</td>\n",
       "      <td>NaN</td>\n",
       "      <td>1.0</td>\n",
       "      <td>1.0</td>\n",
       "      <td>270</td>\n",
       "    </tr>\n",
       "    <tr>\n",
       "      <td>All</td>\n",
       "      <td>17.0</td>\n",
       "      <td>1.0</td>\n",
       "      <td>1.0</td>\n",
       "      <td>1.0</td>\n",
       "      <td>1.0</td>\n",
       "      <td>4.0</td>\n",
       "      <td>2.0</td>\n",
       "      <td>1.0</td>\n",
       "      <td>3.0</td>\n",
       "      <td>1.0</td>\n",
       "      <td>...</td>\n",
       "      <td>1.0</td>\n",
       "      <td>7.0</td>\n",
       "      <td>1.0</td>\n",
       "      <td>1.0</td>\n",
       "      <td>4.0</td>\n",
       "      <td>1.0</td>\n",
       "      <td>8.0</td>\n",
       "      <td>1.0</td>\n",
       "      <td>1.0</td>\n",
       "      <td>299</td>\n",
       "    </tr>\n",
       "  </tbody>\n",
       "</table>\n",
       "<p>3 rows × 116 columns</p>\n",
       "</div>"
      ],
      "text/plain": [
       "           PRICE                                                 ...         \\\n",
       "CC           0.0 49.0 79.0 88.0 97.0 97.2 99.0 99.27 99.7 100.0  ... 1197.0   \n",
       "LOCATION                                                         ...          \n",
       " Hyderabad   NaN  NaN  NaN  NaN  NaN  NaN  NaN   NaN  NaN   NaN  ...    NaN   \n",
       " Mumbai     17.0  1.0  1.0  1.0  1.0  4.0  2.0   1.0  3.0   1.0  ...    1.0   \n",
       "All         17.0  1.0  1.0  1.0  1.0  4.0  2.0   1.0  3.0   1.0  ...    1.0   \n",
       "\n",
       "                                                                         \n",
       "CC         1200.0 1203.0 1340.0 1380.0 1441.0 1811.0 1833.0 2458.0  All  \n",
       "LOCATION                                                                 \n",
       " Hyderabad    NaN    1.0    NaN    NaN    NaN    8.0    NaN    NaN   29  \n",
       " Mumbai       7.0    NaN    1.0    4.0    1.0    NaN    1.0    1.0  270  \n",
       "All           7.0    1.0    1.0    4.0    1.0    8.0    1.0    1.0  299  \n",
       "\n",
       "[3 rows x 116 columns]"
      ]
     },
     "execution_count": 56,
     "metadata": {},
     "output_type": "execute_result"
    }
   ],
   "source": [
    "p1.pivot_table(values=[\"PRICE\"],index=\"LOCATION\",columns=\"CC\",margins=True,aggfunc='count') "
   ]
  },
  {
   "cell_type": "code",
   "execution_count": 57,
   "metadata": {},
   "outputs": [
    {
     "data": {
      "text/html": [
       "<div>\n",
       "<style scoped>\n",
       "    .dataframe tbody tr th:only-of-type {\n",
       "        vertical-align: middle;\n",
       "    }\n",
       "\n",
       "    .dataframe tbody tr th {\n",
       "        vertical-align: top;\n",
       "    }\n",
       "\n",
       "    .dataframe thead tr th {\n",
       "        text-align: left;\n",
       "    }\n",
       "\n",
       "    .dataframe thead tr:last-of-type th {\n",
       "        text-align: right;\n",
       "    }\n",
       "</style>\n",
       "<table border=\"1\" class=\"dataframe\">\n",
       "  <thead>\n",
       "    <tr>\n",
       "      <th></th>\n",
       "      <th colspan=\"10\" halign=\"left\">BHP</th>\n",
       "      <th>...</th>\n",
       "      <th colspan=\"10\" halign=\"left\">CC</th>\n",
       "    </tr>\n",
       "    <tr>\n",
       "      <th>PRICE</th>\n",
       "      <th>30490</th>\n",
       "      <th>31437</th>\n",
       "      <th>32722</th>\n",
       "      <th>33786</th>\n",
       "      <th>34299</th>\n",
       "      <th>37078</th>\n",
       "      <th>39899</th>\n",
       "      <th>39990</th>\n",
       "      <th>40288</th>\n",
       "      <th>41770</th>\n",
       "      <th>...</th>\n",
       "      <th>3199999</th>\n",
       "      <th>3350000</th>\n",
       "      <th>3445000</th>\n",
       "      <th>3499000</th>\n",
       "      <th>3875590</th>\n",
       "      <th>4215000</th>\n",
       "      <th>5180000</th>\n",
       "      <th>5187000</th>\n",
       "      <th>7580000</th>\n",
       "      <th>All</th>\n",
       "    </tr>\n",
       "    <tr>\n",
       "      <th>LOCATION</th>\n",
       "      <th></th>\n",
       "      <th></th>\n",
       "      <th></th>\n",
       "      <th></th>\n",
       "      <th></th>\n",
       "      <th></th>\n",
       "      <th></th>\n",
       "      <th></th>\n",
       "      <th></th>\n",
       "      <th></th>\n",
       "      <th></th>\n",
       "      <th></th>\n",
       "      <th></th>\n",
       "      <th></th>\n",
       "      <th></th>\n",
       "      <th></th>\n",
       "      <th></th>\n",
       "      <th></th>\n",
       "      <th></th>\n",
       "      <th></th>\n",
       "      <th></th>\n",
       "    </tr>\n",
       "  </thead>\n",
       "  <tbody>\n",
       "    <tr>\n",
       "      <td>Hyderabad</td>\n",
       "      <td>NaN</td>\n",
       "      <td>NaN</td>\n",
       "      <td>NaN</td>\n",
       "      <td>NaN</td>\n",
       "      <td>NaN</td>\n",
       "      <td>NaN</td>\n",
       "      <td>NaN</td>\n",
       "      <td>NaN</td>\n",
       "      <td>NaN</td>\n",
       "      <td>NaN</td>\n",
       "      <td>...</td>\n",
       "      <td>1811.0</td>\n",
       "      <td>1811.0</td>\n",
       "      <td>1811.0</td>\n",
       "      <td>NaN</td>\n",
       "      <td>1811.0</td>\n",
       "      <td>1811.0</td>\n",
       "      <td>NaN</td>\n",
       "      <td>NaN</td>\n",
       "      <td>NaN</td>\n",
       "      <td>834.644828</td>\n",
       "    </tr>\n",
       "    <tr>\n",
       "      <td>Mumbai</td>\n",
       "      <td>4.3</td>\n",
       "      <td>4.3</td>\n",
       "      <td>4.3</td>\n",
       "      <td>21.0</td>\n",
       "      <td>0.0</td>\n",
       "      <td>0.0</td>\n",
       "      <td>0.0</td>\n",
       "      <td>7.7</td>\n",
       "      <td>8.5</td>\n",
       "      <td>0.0</td>\n",
       "      <td>...</td>\n",
       "      <td>NaN</td>\n",
       "      <td>NaN</td>\n",
       "      <td>NaN</td>\n",
       "      <td>998.0</td>\n",
       "      <td>NaN</td>\n",
       "      <td>NaN</td>\n",
       "      <td>998.0</td>\n",
       "      <td>285.0</td>\n",
       "      <td>998.0</td>\n",
       "      <td>433.407630</td>\n",
       "    </tr>\n",
       "    <tr>\n",
       "      <td>All</td>\n",
       "      <td>4.3</td>\n",
       "      <td>4.3</td>\n",
       "      <td>4.3</td>\n",
       "      <td>21.0</td>\n",
       "      <td>0.0</td>\n",
       "      <td>0.0</td>\n",
       "      <td>0.0</td>\n",
       "      <td>7.7</td>\n",
       "      <td>8.5</td>\n",
       "      <td>0.0</td>\n",
       "      <td>...</td>\n",
       "      <td>1811.0</td>\n",
       "      <td>1811.0</td>\n",
       "      <td>1811.0</td>\n",
       "      <td>998.0</td>\n",
       "      <td>1811.0</td>\n",
       "      <td>1811.0</td>\n",
       "      <td>998.0</td>\n",
       "      <td>285.0</td>\n",
       "      <td>998.0</td>\n",
       "      <td>472.323612</td>\n",
       "    </tr>\n",
       "  </tbody>\n",
       "</table>\n",
       "<p>3 rows × 572 columns</p>\n",
       "</div>"
      ],
      "text/plain": [
       "             BHP                                                        ...  \\\n",
       "PRICE      30490 31437 32722 33786 34299 37078 39899 39990 40288 41770  ...   \n",
       "LOCATION                                                                ...   \n",
       " Hyderabad   NaN   NaN   NaN   NaN   NaN   NaN   NaN   NaN   NaN   NaN  ...   \n",
       " Mumbai      4.3   4.3   4.3  21.0   0.0   0.0   0.0   7.7   8.5   0.0  ...   \n",
       "All          4.3   4.3   4.3  21.0   0.0   0.0   0.0   7.7   8.5   0.0  ...   \n",
       "\n",
       "                CC                                                          \\\n",
       "PRICE      3199999 3350000 3445000 3499000 3875590 4215000 5180000 5187000   \n",
       "LOCATION                                                                     \n",
       " Hyderabad  1811.0  1811.0  1811.0     NaN  1811.0  1811.0     NaN     NaN   \n",
       " Mumbai        NaN     NaN     NaN   998.0     NaN     NaN   998.0   285.0   \n",
       "All         1811.0  1811.0  1811.0   998.0  1811.0  1811.0   998.0   285.0   \n",
       "\n",
       "                                \n",
       "PRICE      7580000         All  \n",
       "LOCATION                        \n",
       " Hyderabad     NaN  834.644828  \n",
       " Mumbai      998.0  433.407630  \n",
       "All          998.0  472.323612  \n",
       "\n",
       "[3 rows x 572 columns]"
      ]
     },
     "execution_count": 57,
     "metadata": {},
     "output_type": "execute_result"
    }
   ],
   "source": [
    "p1.pivot_table(values=[\"CC\",\"BHP\"],index=\"LOCATION\",columns=\"PRICE\",margins=True) # analysis two columns"
   ]
  },
  {
   "cell_type": "code",
   "execution_count": 58,
   "metadata": {},
   "outputs": [
    {
     "data": {
      "text/html": [
       "<div>\n",
       "<style scoped>\n",
       "    .dataframe tbody tr th:only-of-type {\n",
       "        vertical-align: middle;\n",
       "    }\n",
       "\n",
       "    .dataframe tbody tr th {\n",
       "        vertical-align: top;\n",
       "    }\n",
       "\n",
       "    .dataframe thead th {\n",
       "        text-align: right;\n",
       "    }\n",
       "</style>\n",
       "<table border=\"1\" class=\"dataframe\">\n",
       "  <thead>\n",
       "    <tr style=\"text-align: right;\">\n",
       "      <th></th>\n",
       "      <th>Unnamed: 0</th>\n",
       "      <th>CC</th>\n",
       "      <th>BHP</th>\n",
       "      <th>WEIGHT</th>\n",
       "      <th>PRICE</th>\n",
       "    </tr>\n",
       "  </thead>\n",
       "  <tbody>\n",
       "    <tr>\n",
       "      <td>Unnamed: 0</td>\n",
       "      <td>7.475000e+03</td>\n",
       "      <td>-1.041253e+04</td>\n",
       "      <td>2.460014e+02</td>\n",
       "      <td>-1.575185e+03</td>\n",
       "      <td>-1.108289e+07</td>\n",
       "    </tr>\n",
       "    <tr>\n",
       "      <td>CC</td>\n",
       "      <td>-1.041253e+04</td>\n",
       "      <td>2.129830e+05</td>\n",
       "      <td>1.476440e+04</td>\n",
       "      <td>2.106467e+04</td>\n",
       "      <td>3.079868e+08</td>\n",
       "    </tr>\n",
       "    <tr>\n",
       "      <td>BHP</td>\n",
       "      <td>2.460014e+02</td>\n",
       "      <td>1.476440e+04</td>\n",
       "      <td>3.611006e+03</td>\n",
       "      <td>1.197155e+03</td>\n",
       "      <td>4.360079e+07</td>\n",
       "    </tr>\n",
       "    <tr>\n",
       "      <td>WEIGHT</td>\n",
       "      <td>-1.575185e+03</td>\n",
       "      <td>2.106467e+04</td>\n",
       "      <td>1.197155e+03</td>\n",
       "      <td>5.558655e+03</td>\n",
       "      <td>3.609903e+07</td>\n",
       "    </tr>\n",
       "    <tr>\n",
       "      <td>PRICE</td>\n",
       "      <td>-1.108289e+07</td>\n",
       "      <td>3.079868e+08</td>\n",
       "      <td>4.360079e+07</td>\n",
       "      <td>3.609903e+07</td>\n",
       "      <td>9.907356e+11</td>\n",
       "    </tr>\n",
       "  </tbody>\n",
       "</table>\n",
       "</div>"
      ],
      "text/plain": [
       "              Unnamed: 0            CC           BHP        WEIGHT  \\\n",
       "Unnamed: 0  7.475000e+03 -1.041253e+04  2.460014e+02 -1.575185e+03   \n",
       "CC         -1.041253e+04  2.129830e+05  1.476440e+04  2.106467e+04   \n",
       "BHP         2.460014e+02  1.476440e+04  3.611006e+03  1.197155e+03   \n",
       "WEIGHT     -1.575185e+03  2.106467e+04  1.197155e+03  5.558655e+03   \n",
       "PRICE      -1.108289e+07  3.079868e+08  4.360079e+07  3.609903e+07   \n",
       "\n",
       "                   PRICE  \n",
       "Unnamed: 0 -1.108289e+07  \n",
       "CC          3.079868e+08  \n",
       "BHP         4.360079e+07  \n",
       "WEIGHT      3.609903e+07  \n",
       "PRICE       9.907356e+11  "
      ]
     },
     "execution_count": 58,
     "metadata": {},
     "output_type": "execute_result"
    }
   ],
   "source": [
    "p1.cov() # covaraince helps us in understanding the relationship between variables and has limits -infinity to +infinity\n",
    "# correlation is standardised covarainnce and ranges betwwen -1 and +1 and we have positive and negative relation"
   ]
  },
  {
   "cell_type": "code",
   "execution_count": 59,
   "metadata": {},
   "outputs": [
    {
     "data": {
      "text/html": [
       "<div>\n",
       "<style scoped>\n",
       "    .dataframe tbody tr th:only-of-type {\n",
       "        vertical-align: middle;\n",
       "    }\n",
       "\n",
       "    .dataframe tbody tr th {\n",
       "        vertical-align: top;\n",
       "    }\n",
       "\n",
       "    .dataframe thead th {\n",
       "        text-align: right;\n",
       "    }\n",
       "</style>\n",
       "<table border=\"1\" class=\"dataframe\">\n",
       "  <thead>\n",
       "    <tr style=\"text-align: right;\">\n",
       "      <th></th>\n",
       "      <th>Unnamed: 0</th>\n",
       "      <th>CC</th>\n",
       "      <th>BHP</th>\n",
       "      <th>WEIGHT</th>\n",
       "      <th>PRICE</th>\n",
       "    </tr>\n",
       "  </thead>\n",
       "  <tbody>\n",
       "    <tr>\n",
       "      <td>Unnamed: 0</td>\n",
       "      <td>1.000000</td>\n",
       "      <td>-0.260962</td>\n",
       "      <td>0.047350</td>\n",
       "      <td>-0.244366</td>\n",
       "      <td>-0.128786</td>\n",
       "    </tr>\n",
       "    <tr>\n",
       "      <td>CC</td>\n",
       "      <td>-0.260962</td>\n",
       "      <td>1.000000</td>\n",
       "      <td>0.532389</td>\n",
       "      <td>0.612206</td>\n",
       "      <td>0.670472</td>\n",
       "    </tr>\n",
       "    <tr>\n",
       "      <td>BHP</td>\n",
       "      <td>0.047350</td>\n",
       "      <td>0.532389</td>\n",
       "      <td>1.000000</td>\n",
       "      <td>0.267209</td>\n",
       "      <td>0.728956</td>\n",
       "    </tr>\n",
       "    <tr>\n",
       "      <td>WEIGHT</td>\n",
       "      <td>-0.244366</td>\n",
       "      <td>0.612206</td>\n",
       "      <td>0.267209</td>\n",
       "      <td>1.000000</td>\n",
       "      <td>0.486443</td>\n",
       "    </tr>\n",
       "    <tr>\n",
       "      <td>PRICE</td>\n",
       "      <td>-0.128786</td>\n",
       "      <td>0.670472</td>\n",
       "      <td>0.728956</td>\n",
       "      <td>0.486443</td>\n",
       "      <td>1.000000</td>\n",
       "    </tr>\n",
       "  </tbody>\n",
       "</table>\n",
       "</div>"
      ],
      "text/plain": [
       "            Unnamed: 0        CC       BHP    WEIGHT     PRICE\n",
       "Unnamed: 0    1.000000 -0.260962  0.047350 -0.244366 -0.128786\n",
       "CC           -0.260962  1.000000  0.532389  0.612206  0.670472\n",
       "BHP           0.047350  0.532389  1.000000  0.267209  0.728956\n",
       "WEIGHT       -0.244366  0.612206  0.267209  1.000000  0.486443\n",
       "PRICE        -0.128786  0.670472  0.728956  0.486443  1.000000"
      ]
     },
     "execution_count": 59,
     "metadata": {},
     "output_type": "execute_result"
    }
   ],
   "source": [
    "p1.corr() "
   ]
  },
  {
   "cell_type": "markdown",
   "metadata": {},
   "source": [
    "# 1.scatter plot"
   ]
  },
  {
   "cell_type": "code",
   "execution_count": 60,
   "metadata": {},
   "outputs": [
    {
     "data": {
      "text/plain": [
       "<matplotlib.axes._subplots.AxesSubplot at 0x21ce0325048>"
      ]
     },
     "execution_count": 60,
     "metadata": {},
     "output_type": "execute_result"
    },
    {
     "data": {
      "image/png": "[encoded data removed]",
      "text/plain": [
       "<Figure size 432x288 with 1 Axes>"
      ]
     },
     "metadata": {},
     "output_type": "display_data"
    }
   ],
   "source": [
    "sns.scatterplot(x=\"PRICE\",y=\"CC\", data =p1)    "
   ]
  },
  {
   "cell_type": "code",
   "execution_count": 61,
   "metadata": {},
   "outputs": [
    {
     "data": {
      "text/plain": [
       "<matplotlib.axes._subplots.AxesSubplot at 0x21ce01de548>"
      ]
     },
     "execution_count": 61,
     "metadata": {},
     "output_type": "execute_result"
    },
    {
     "data": {
      "image/png": "[encoded data removed]",
      "text/plain": [
       "<Figure size 432x288 with 1 Axes>"
      ]
     },
     "metadata": {},
     "output_type": "display_data"
    }
   ],
   "source": [
    "sns.scatterplot(x=\"PRICE\", y=\"CC\",hue=\"LOCATION\",data=p1) "
   ]
  },
  {
   "cell_type": "code",
   "execution_count": 63,
   "metadata": {},
   "outputs": [
    {
     "data": {
      "text/plain": [
       "<matplotlib.axes._subplots.AxesSubplot at 0x21ce0a66588>"
      ]
     },
     "execution_count": 63,
     "metadata": {},
     "output_type": "execute_result"
    },
    {
     "data": {
      "image/png": "[encoded data removed]",
      "text/plain": [
       "<Figure size 432x288 with 1 Axes>"
      ]
     },
     "metadata": {},
     "output_type": "display_data"
    }
   ],
   "source": [
    "sns.regplot(x=\"PRICE\", y=\"BHP\", data=p1) "
   ]
  },
  {
   "cell_type": "code",
   "execution_count": 66,
   "metadata": {},
   "outputs": [
    {
     "data": {
      "text/plain": [
       "<matplotlib.axes._subplots.AxesSubplot at 0x21ce0bad1c8>"
      ]
     },
     "execution_count": 66,
     "metadata": {},
     "output_type": "execute_result"
    },
    {
     "data": {
      "image/png": "[encoded data removed]",
      "text/plain": [
       "<Figure size 432x288 with 1 Axes>"
      ]
     },
     "metadata": {},
     "output_type": "display_data"
    }
   ],
   "source": [
    "sns.lineplot(x=\"LOCATION\", y=\"PRICE\", data=p1) "
   ]
  },
  {
   "cell_type": "markdown",
   "metadata": {},
   "source": [
    "# barplot:: show point estimates and confidence intervals using bars\n",
    "# catplot::combine a categorical plot and class:FacetGrid"
   ]
  },
  {
   "cell_type": "code",
   "execution_count": 67,
   "metadata": {},
   "outputs": [
    {
     "data": {
      "text/plain": [
       "<matplotlib.axes._subplots.AxesSubplot at 0x21ce0c08ac8>"
      ]
     },
     "execution_count": 67,
     "metadata": {},
     "output_type": "execute_result"
    },
    {
     "data": {
      "image/png": "[encoded data removed]",
      "text/plain": [
       "<Figure size 432x288 with 1 Axes>"
      ]
     },
     "metadata": {},
     "output_type": "display_data"
    }
   ],
   "source": [
    "sns.barplot(x=\"LOCATION\",y=\"PRICE\",data=p1) "
   ]
  },
  {
   "cell_type": "code",
   "execution_count": 70,
   "metadata": {},
   "outputs": [
    {
     "data": {
      "text/plain": [
       "<matplotlib.axes._subplots.AxesSubplot at 0x21ce2ff0708>"
      ]
     },
     "execution_count": 70,
     "metadata": {},
     "output_type": "execute_result"
    },
    {
     "data": {
      "image/png": "[encoded data removed]",
      "text/plain": [
       "<Figure size 432x288 with 1 Axes>"
      ]
     },
     "metadata": {},
     "output_type": "display_data"
    }
   ],
   "source": [
    "sns.boxplot(x=\"LOCATION\",y=\"PRICE\",data=p1)  "
   ]
  },
  {
   "cell_type": "code",
   "execution_count": 71,
   "metadata": {},
   "outputs": [
    {
     "data": {
      "text/plain": [
       "<seaborn.axisgrid.FacetGrid at 0x21ce3134188>"
      ]
     },
     "execution_count": 71,
     "metadata": {},
     "output_type": "execute_result"
    },
    {
     "data": {
      "image/png": "[encoded data removed]",
      "text/plain": [
       "<Figure size 360x360 with 1 Axes>"
      ]
     },
     "metadata": {},
     "output_type": "display_data"
    }
   ],
   "source": [
    "sns.catplot(x=\"CC\",y=\"PRICE\",data=p1)"
   ]
  },
  {
   "cell_type": "code",
   "execution_count": 75,
   "metadata": {},
   "outputs": [
    {
     "data": {
      "text/plain": [
       "<seaborn.axisgrid.FacetGrid at 0x21ce4d2c908>"
      ]
     },
     "execution_count": 75,
     "metadata": {},
     "output_type": "execute_result"
    },
    {
     "data": {
      "image/png": "[encoded data removed]",
      "text/plain": [
       "<Figure size 457.5x360 with 1 Axes>"
      ]
     },
     "metadata": {},
     "output_type": "display_data"
    }
   ],
   "source": [
    "sns.catplot(x=\"LOCATION\",y=\"PRICE\",hue=\"SHOWROOM\",data=p1,kind=\"violin\") "
   ]
  },
  {
   "cell_type": "code",
   "execution_count": 100,
   "metadata": {},
   "outputs": [
    {
     "data": {
      "text/plain": [
       "<matplotlib.axes._subplots.AxesSubplot at 0x1734b0204c8>"
      ]
     },
     "execution_count": 100,
     "metadata": {},
     "output_type": "execute_result"
    },
    {
     "data": {
      "image/png": "[encoded data removed]",
      "text/plain": [
       "<Figure size 432x288 with 1 Axes>"
      ]
     },
     "metadata": {},
     "output_type": "display_data"
    }
   ],
   "source": [
    "sns.distplot(p1['PRICE']) #shows by default we get histogram and curve(probability distribution)"
   ]
  },
  {
   "cell_type": "code",
   "execution_count": 102,
   "metadata": {},
   "outputs": [
    {
     "data": {
      "text/plain": [
       "<matplotlib.axes._subplots.AxesSubplot at 0x1734b6fd0c8>"
      ]
     },
     "execution_count": 102,
     "metadata": {},
     "output_type": "execute_result"
    },
    {
     "data": {
      "image/png": "[encoded data removed]",
      "text/plain": [
       "<Figure size 432x288 with 1 Axes>"
      ]
     },
     "metadata": {},
     "output_type": "display_data"
    }
   ],
   "source": [
    "sns.distplot(p1['PRICE'],hist=False)## no histogram"
   ]
  },
  {
   "cell_type": "code",
   "execution_count": 104,
   "metadata": {},
   "outputs": [
    {
     "data": {
      "text/plain": [
       "<matplotlib.axes._subplots.AxesSubplot at 0x1734b774288>"
      ]
     },
     "execution_count": 104,
     "metadata": {},
     "output_type": "execute_result"
    },
    {
     "data": {
      "image/png": "[encoded data removed]",
      "text/plain": [
       "<Figure size 432x288 with 1 Axes>"
      ]
     },
     "metadata": {},
     "output_type": "display_data"
    }
   ],
   "source": [
    "sns.kdeplot(p1['CC']) # gives probability of getting cc of 500,1000 rupees probability of getting cc is 0.0013"
   ]
  },
  {
   "cell_type": "code",
   "execution_count": 77,
   "metadata": {},
   "outputs": [
    {
     "data": {
      "text/plain": [
       "<seaborn.axisgrid.PairGrid at 0x21ce4d54a48>"
      ]
     },
     "execution_count": 77,
     "metadata": {},
     "output_type": "execute_result"
    },
    {
     "data": {
      "image/png": "[encoded data removed]",
      "text/plain": [
       "<Figure size 900x900 with 30 Axes>"
      ]
     },
     "metadata": {},
     "output_type": "display_data"
    }
   ],
   "source": [
    "sns.pairplot(data=p1) "
   ]
  },
  {
   "cell_type": "code",
   "execution_count": 110,
   "metadata": {},
   "outputs": [
    {
     "data": {
      "text/plain": [
       "<matplotlib.axes._subplots.AxesSubplot at 0x1734b864148>"
      ]
     },
     "execution_count": 110,
     "metadata": {},
     "output_type": "execute_result"
    },
    {
     "data": {
      "image/png": "[encoded data removed]",
      "text/plain": [
       "<Figure size 432x288 with 2 Axes>"
      ]
     },
     "metadata": {},
     "output_type": "display_data"
    }
   ],
   "source": [
    "sns.heatmap(p1.corr(),linecolor='white',linewidths=2,annot=True) "
   ]
  },
  {
   "cell_type": "code",
   "execution_count": null,
   "metadata": {},
   "outputs": [],
   "source": []
  }
 ],
 "metadata": {
  "kernelspec": {
   "display_name": "Python 3",
   "language": "python",
   "name": "python3"
  },
  "language_info": {
   "codemirror_mode": {
    "name": "ipython",
    "version": 3
   },
   "file_extension": ".py",
   "mimetype": "text/x-python",
   "name": "python",
   "nbconvert_exporter": "python",
   "pygments_lexer": "ipython3",
   "version": "3.7.4"
  }
 },
 "nbformat": 4,
 "nbformat_minor": 2
}
